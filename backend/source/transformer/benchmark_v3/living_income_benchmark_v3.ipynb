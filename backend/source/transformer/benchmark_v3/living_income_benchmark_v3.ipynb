{
 "cells": [
  {
   "cell_type": "markdown",
   "id": "fe26bc83-efac-4e44-b345-7b28a02f3e9e",
   "metadata": {},
   "source": [
    "# Regions V2 - Living Income Benchmark V3 - CPI V3"
   ]
  },
  {
   "cell_type": "markdown",
   "id": "696d44d3-4624-4f6b-bd39-8eae4505513b",
   "metadata": {},
   "source": [
    "Here we will map the li_benchmark_data.csv and cpi_data.csv only"
   ]
  },
  {
   "cell_type": "code",
   "execution_count": 1,
   "id": "6a57ae9b-0320-470c-b79c-0abcbeaafef6",
   "metadata": {},
   "outputs": [],
   "source": [
    "import pandas as pd\n",
    "import re"
   ]
  },
  {
   "cell_type": "markdown",
   "id": "9a0a0aec-366e-4e97-9f51-cda7efe04177",
   "metadata": {
    "jp-MarkdownHeadingCollapsed": true
   },
   "source": [
    "## Load files"
   ]
  },
  {
   "cell_type": "code",
   "execution_count": 26,
   "id": "ab8aab25-b79b-405b-a1b5-1c2a5a990052",
   "metadata": {},
   "outputs": [],
   "source": [
    "countries = pd.read_csv(\"../countries_v2/countries.csv\")"
   ]
  },
  {
   "cell_type": "code",
   "execution_count": 37,
   "id": "d6793a00-bfb0-4f6b-b373-386b833dca94",
   "metadata": {},
   "outputs": [],
   "source": [
    "regions = pd.read_csv(\"./regions.csv\")"
   ]
  },
  {
   "cell_type": "code",
   "execution_count": 27,
   "id": "7539e501-7fb4-4433-bd5d-9d42f9b08c07",
   "metadata": {},
   "outputs": [],
   "source": [
    "lib = pd.read_csv(\"./li_benchmark_data.csv\")"
   ]
  },
  {
   "cell_type": "code",
   "execution_count": 28,
   "id": "75c6fd1e-31c3-48a3-aa22-90945ade793a",
   "metadata": {},
   "outputs": [
    {
     "data": {
      "text/html": [
       "<div>\n",
       "<style scoped>\n",
       "    .dataframe tbody tr th:only-of-type {\n",
       "        vertical-align: middle;\n",
       "    }\n",
       "\n",
       "    .dataframe tbody tr th {\n",
       "        vertical-align: top;\n",
       "    }\n",
       "\n",
       "    .dataframe thead th {\n",
       "        text-align: right;\n",
       "    }\n",
       "</style>\n",
       "<table border=\"1\" class=\"dataframe\">\n",
       "  <thead>\n",
       "    <tr style=\"text-align: right;\">\n",
       "      <th></th>\n",
       "      <th>country</th>\n",
       "      <th>region</th>\n",
       "      <th>source</th>\n",
       "      <th>household_size</th>\n",
       "      <th>nr_adults</th>\n",
       "      <th>year</th>\n",
       "      <th>LCU</th>\n",
       "      <th>USD</th>\n",
       "      <th>EUR</th>\n",
       "      <th>household_equiv</th>\n",
       "      <th>links</th>\n",
       "    </tr>\n",
       "  </thead>\n",
       "  <tbody>\n",
       "    <tr>\n",
       "      <th>279</th>\n",
       "      <td>NaN</td>\n",
       "      <td>NaN</td>\n",
       "      <td>NaN</td>\n",
       "      <td>NaN</td>\n",
       "      <td>NaN</td>\n",
       "      <td>NaN</td>\n",
       "      <td>NaN</td>\n",
       "      <td>NaN</td>\n",
       "      <td>NaN</td>\n",
       "      <td>NaN</td>\n",
       "      <td>NaN</td>\n",
       "    </tr>\n",
       "    <tr>\n",
       "      <th>280</th>\n",
       "      <td>NaN</td>\n",
       "      <td>NaN</td>\n",
       "      <td>NaN</td>\n",
       "      <td>NaN</td>\n",
       "      <td>NaN</td>\n",
       "      <td>NaN</td>\n",
       "      <td>NaN</td>\n",
       "      <td>NaN</td>\n",
       "      <td>NaN</td>\n",
       "      <td>NaN</td>\n",
       "      <td>NaN</td>\n",
       "    </tr>\n",
       "    <tr>\n",
       "      <th>281</th>\n",
       "      <td>NaN</td>\n",
       "      <td>NaN</td>\n",
       "      <td>NaN</td>\n",
       "      <td>NaN</td>\n",
       "      <td>NaN</td>\n",
       "      <td>NaN</td>\n",
       "      <td>NaN</td>\n",
       "      <td>NaN</td>\n",
       "      <td>NaN</td>\n",
       "      <td>NaN</td>\n",
       "      <td>NaN</td>\n",
       "    </tr>\n",
       "    <tr>\n",
       "      <th>282</th>\n",
       "      <td>NaN</td>\n",
       "      <td>NaN</td>\n",
       "      <td>NaN</td>\n",
       "      <td>NaN</td>\n",
       "      <td>NaN</td>\n",
       "      <td>NaN</td>\n",
       "      <td>NaN</td>\n",
       "      <td>NaN</td>\n",
       "      <td>NaN</td>\n",
       "      <td>NaN</td>\n",
       "      <td>NaN</td>\n",
       "    </tr>\n",
       "    <tr>\n",
       "      <th>283</th>\n",
       "      <td>NaN</td>\n",
       "      <td>NaN</td>\n",
       "      <td>NaN</td>\n",
       "      <td>NaN</td>\n",
       "      <td>NaN</td>\n",
       "      <td>NaN</td>\n",
       "      <td>NaN</td>\n",
       "      <td>NaN</td>\n",
       "      <td>NaN</td>\n",
       "      <td>NaN</td>\n",
       "      <td>NaN</td>\n",
       "    </tr>\n",
       "  </tbody>\n",
       "</table>\n",
       "</div>"
      ],
      "text/plain": [
       "    country region source  household_size  nr_adults  year  LCU  USD  EUR  \\\n",
       "279     NaN    NaN    NaN             NaN        NaN   NaN  NaN  NaN  NaN   \n",
       "280     NaN    NaN    NaN             NaN        NaN   NaN  NaN  NaN  NaN   \n",
       "281     NaN    NaN    NaN             NaN        NaN   NaN  NaN  NaN  NaN   \n",
       "282     NaN    NaN    NaN             NaN        NaN   NaN  NaN  NaN  NaN   \n",
       "283     NaN    NaN    NaN             NaN        NaN   NaN  NaN  NaN  NaN   \n",
       "\n",
       "     household_equiv links  \n",
       "279              NaN   NaN  \n",
       "280              NaN   NaN  \n",
       "281              NaN   NaN  \n",
       "282              NaN   NaN  \n",
       "283              NaN   NaN  "
      ]
     },
     "execution_count": 28,
     "metadata": {},
     "output_type": "execute_result"
    }
   ],
   "source": [
    "lib.tail()"
   ]
  },
  {
   "cell_type": "code",
   "execution_count": 29,
   "id": "75c24e2e-bb1f-4349-bba2-2284efd77595",
   "metadata": {},
   "outputs": [],
   "source": [
    "lib = lib.dropna(how=\"all\")"
   ]
  },
  {
   "cell_type": "code",
   "execution_count": 30,
   "id": "8538e2bc-2057-47c3-82bc-dc167fa3e868",
   "metadata": {},
   "outputs": [],
   "source": [
    "lib[\"id\"] = lib.reset_index().index + 1"
   ]
  },
  {
   "cell_type": "code",
   "execution_count": 31,
   "id": "c365ccd6-2857-4ec4-b9ab-14b7a4abece8",
   "metadata": {},
   "outputs": [
    {
     "data": {
      "text/plain": [
       "Index(['country', 'region', 'source', 'household_size', 'nr_adults', 'year',\n",
       "       'LCU', 'USD', 'EUR', 'household_equiv', 'links', 'id'],\n",
       "      dtype='object')"
      ]
     },
     "execution_count": 31,
     "metadata": {},
     "output_type": "execute_result"
    }
   ],
   "source": [
    "lib.columns"
   ]
  },
  {
   "cell_type": "code",
   "execution_count": 32,
   "id": "8011aae9-4ea7-400c-afd1-4a4f77c231b6",
   "metadata": {},
   "outputs": [
    {
     "data": {
      "text/html": [
       "<div>\n",
       "<style scoped>\n",
       "    .dataframe tbody tr th:only-of-type {\n",
       "        vertical-align: middle;\n",
       "    }\n",
       "\n",
       "    .dataframe tbody tr th {\n",
       "        vertical-align: top;\n",
       "    }\n",
       "\n",
       "    .dataframe thead th {\n",
       "        text-align: right;\n",
       "    }\n",
       "</style>\n",
       "<table border=\"1\" class=\"dataframe\">\n",
       "  <thead>\n",
       "    <tr style=\"text-align: right;\">\n",
       "      <th></th>\n",
       "      <th>country</th>\n",
       "      <th>region</th>\n",
       "      <th>source</th>\n",
       "      <th>household_size</th>\n",
       "      <th>nr_adults</th>\n",
       "      <th>year</th>\n",
       "      <th>LCU</th>\n",
       "      <th>USD</th>\n",
       "      <th>EUR</th>\n",
       "      <th>household_equiv</th>\n",
       "      <th>links</th>\n",
       "      <th>id</th>\n",
       "    </tr>\n",
       "  </thead>\n",
       "  <tbody>\n",
       "    <tr>\n",
       "      <th>101</th>\n",
       "      <td>Vietnam</td>\n",
       "      <td>Urban /  Minimum Wage Region 2</td>\n",
       "      <td>Calculated from Global Living Wage Coalition</td>\n",
       "      <td>4.0</td>\n",
       "      <td>2.0</td>\n",
       "      <td>2023.0</td>\n",
       "      <td>NaN</td>\n",
       "      <td>NaN</td>\n",
       "      <td>NaN</td>\n",
       "      <td>2.1</td>\n",
       "      <td>NaN</td>\n",
       "      <td>102</td>\n",
       "    </tr>\n",
       "    <tr>\n",
       "      <th>102</th>\n",
       "      <td>Vietnam</td>\n",
       "      <td>Urban /  Minimum Wage Region 3</td>\n",
       "      <td>Calculated from Global Living Wage Coalition</td>\n",
       "      <td>4.0</td>\n",
       "      <td>2.0</td>\n",
       "      <td>2023.0</td>\n",
       "      <td>NaN</td>\n",
       "      <td>NaN</td>\n",
       "      <td>NaN</td>\n",
       "      <td>2.1</td>\n",
       "      <td>NaN</td>\n",
       "      <td>103</td>\n",
       "    </tr>\n",
       "    <tr>\n",
       "      <th>103</th>\n",
       "      <td>Vietnam</td>\n",
       "      <td>Rural /  Minimum Wage Region 4</td>\n",
       "      <td>Calculated from Global Living Wage Coalition</td>\n",
       "      <td>4.0</td>\n",
       "      <td>2.0</td>\n",
       "      <td>2023.0</td>\n",
       "      <td>NaN</td>\n",
       "      <td>NaN</td>\n",
       "      <td>NaN</td>\n",
       "      <td>2.1</td>\n",
       "      <td>NaN</td>\n",
       "      <td>104</td>\n",
       "    </tr>\n",
       "    <tr>\n",
       "      <th>104</th>\n",
       "      <td>Zambia</td>\n",
       "      <td>Rural /  All</td>\n",
       "      <td>Calculated from  Global Living Wage Coalition</td>\n",
       "      <td>6.0</td>\n",
       "      <td>2.0</td>\n",
       "      <td>2023.0</td>\n",
       "      <td>NaN</td>\n",
       "      <td>NaN</td>\n",
       "      <td>NaN</td>\n",
       "      <td>2.7</td>\n",
       "      <td>NaN</td>\n",
       "      <td>105</td>\n",
       "    </tr>\n",
       "    <tr>\n",
       "      <th>105</th>\n",
       "      <td>Zimbabwe</td>\n",
       "      <td>Rural /  All</td>\n",
       "      <td>Calculated from  Global Living Wage Coalition</td>\n",
       "      <td>5.0</td>\n",
       "      <td>2.0</td>\n",
       "      <td>2023.0</td>\n",
       "      <td>NaN</td>\n",
       "      <td>NaN</td>\n",
       "      <td>NaN</td>\n",
       "      <td>2.4</td>\n",
       "      <td>NaN</td>\n",
       "      <td>106</td>\n",
       "    </tr>\n",
       "  </tbody>\n",
       "</table>\n",
       "</div>"
      ],
      "text/plain": [
       "      country                          region  \\\n",
       "101   Vietnam  Urban /  Minimum Wage Region 2   \n",
       "102   Vietnam  Urban /  Minimum Wage Region 3   \n",
       "103   Vietnam  Rural /  Minimum Wage Region 4   \n",
       "104    Zambia                    Rural /  All   \n",
       "105  Zimbabwe                    Rural /  All   \n",
       "\n",
       "                                            source  household_size  nr_adults  \\\n",
       "101   Calculated from Global Living Wage Coalition             4.0        2.0   \n",
       "102   Calculated from Global Living Wage Coalition             4.0        2.0   \n",
       "103   Calculated from Global Living Wage Coalition             4.0        2.0   \n",
       "104  Calculated from  Global Living Wage Coalition             6.0        2.0   \n",
       "105  Calculated from  Global Living Wage Coalition             5.0        2.0   \n",
       "\n",
       "       year  LCU  USD  EUR  household_equiv links   id  \n",
       "101  2023.0  NaN  NaN  NaN              2.1   NaN  102  \n",
       "102  2023.0  NaN  NaN  NaN              2.1   NaN  103  \n",
       "103  2023.0  NaN  NaN  NaN              2.1   NaN  104  \n",
       "104  2023.0  NaN  NaN  NaN              2.7   NaN  105  \n",
       "105  2023.0  NaN  NaN  NaN              2.4   NaN  106  "
      ]
     },
     "execution_count": 32,
     "metadata": {},
     "output_type": "execute_result"
    }
   ],
   "source": [
    "lib.tail()"
   ]
  },
  {
   "cell_type": "markdown",
   "id": "80aa4535-08a3-4b73-9f98-26e9399efc60",
   "metadata": {
    "jp-MarkdownHeadingCollapsed": true
   },
   "source": [
    "## Regions V2 (disabled for this batch)"
   ]
  },
  {
   "cell_type": "code",
   "execution_count": 33,
   "id": "8fd703d7-f648-461b-b74e-1ca705f00d1a",
   "metadata": {},
   "outputs": [],
   "source": [
    "def find_country(val):\n",
    "    # manual match\n",
    "    if val == \"Turkey\":\n",
    "        val = \"Turkiye\"\n",
    "    if val == \"Anguilla\":\n",
    "        print(\"404\", val)\n",
    "        return None\n",
    "    if val == \"Central African Rep.\":\n",
    "        val = \"Central African Republic\"\n",
    "    if val == \"Congo, Dem. Rep. of the\":\n",
    "        val = \"Congo, Dem. Rep.\"\n",
    "    if val == \"Congo, Rep. of\":\n",
    "        val = \"Congo, Rep.\"\n",
    "    if val == \"Côte d'Ivoire\":\n",
    "        val = \"Cote d'Ivoire\"\n",
    "    if val == \"Curaçao, Kingdom of the Netherlands\":\n",
    "        val = \"Curacao\"\n",
    "    if val == \"Czech Rep.\":\n",
    "        val = \"Czech Republic\"\n",
    "    if val == \"Dominican Rep.\":\n",
    "        val = \"Dominican Republic\"\n",
    "    if val == \"Egypt, Arab Rep. of\":\n",
    "        val = \"Egypt, Arab Rep.\"\n",
    "    if val == \"Guadeloupe\":\n",
    "        print(\"404\", val)\n",
    "        return None\n",
    "    if val == \"Iran, Islamic Rep. of\":\n",
    "        val = \"Iran, Islamic Rep.\"\n",
    "    if val == \"Korea, Rep. of\":\n",
    "        val = \"Korea, Rep.\"\n",
    "    if val == \"Kyrgyz Rep.\":\n",
    "        val = \"Kyrgyz Republic\"\n",
    "    if val == \"Lao People's Dem. Rep.\":\n",
    "        val = \"Lao PDR\"\n",
    "    if val == \"Martinique\":\n",
    "        print(\"404\", val)\n",
    "        return None\n",
    "    if val == \"Micronesia, Federated States of\":\n",
    "        val = \"Micronesia, Fed. Sts.\"\n",
    "    if val == \"Montserrat\":\n",
    "        print(\"404\", val)\n",
    "        return None\n",
    "    if val == \"San Marino, Rep. of\":\n",
    "        print(\"404\", val)\n",
    "        return None\n",
    "    if val == \"São Tomé and Príncipe, Dem. Rep. of\":\n",
    "        print(\"404\", val)\n",
    "        return None\n",
    "    if val == \"Sint Maarten, Kingdom of the Netherlands\":\n",
    "        val = \"Sint Maarten (Dutch part)\"\n",
    "    if val == \"Slovak Rep.\":\n",
    "        val = \"Slovak Republic\"\n",
    "    if val == \"Syrian Arab Rep.\":\n",
    "        print(\"404\", val)\n",
    "        return None\n",
    "    if val == \"Venezuela, Rep. Bolivariana de\":\n",
    "        val = \"Venezuela, RB\"\n",
    "    if val == \"Yemen, Rep. of\":\n",
    "        val = \"Yemen, Rep.\"\n",
    "    # EOL manual match\n",
    "    \n",
    "    find_country = countries[countries[\"country\"].str.lower() == str(val).lower()]\n",
    "    if find_country.empty:\n",
    "        # Another custom way\n",
    "        val_lower = str(val).lower()\n",
    "        val_tmp = val_lower.lower().split(',')\n",
    "        for index, row in countries.iterrows():\n",
    "            # Convert the country name in the DataFrame to lowercase\n",
    "            country_name = row['country'].lower()\n",
    "            if val_lower == 'nan':\n",
    "                return None\n",
    "            if country_name not in val_tmp:\n",
    "                continue\n",
    "            return row[\"id\"]\n",
    "        # EOL Another custom way\n",
    "        print(\"404\", val)\n",
    "        return val\n",
    "    return find_country[\"id\"].to_list()[0]"
   ]
  },
  {
   "cell_type": "code",
   "execution_count": 8,
   "id": "fb9ba467-eb67-4cbf-a034-540c335746c2",
   "metadata": {},
   "outputs": [],
   "source": [
    "# df = pd.read_excel(\"../lib_dataset.xlsx\", sheet_name=0, header=4)"
   ]
  },
  {
   "cell_type": "code",
   "execution_count": 9,
   "id": "2ada563c-c27d-4a57-9b06-bda410e41ce4",
   "metadata": {},
   "outputs": [],
   "source": [
    "# df = df.rename(columns={\"Country\": \"country\", \"Region/area.1\": \"region\"})"
   ]
  },
  {
   "cell_type": "code",
   "execution_count": 10,
   "id": "c1354df5-dfa1-4508-82a2-d0c88c590253",
   "metadata": {},
   "outputs": [],
   "source": [
    "# regions = df[[\"country\", \"region\"]]"
   ]
  },
  {
   "cell_type": "code",
   "execution_count": 11,
   "id": "0c971c93-451a-4300-ac27-4730ef0b3d91",
   "metadata": {},
   "outputs": [],
   "source": [
    "# regions = regions[regions[\"region\"].notna()]"
   ]
  },
  {
   "cell_type": "code",
   "execution_count": 12,
   "id": "77f3067b-573e-44ff-b4b9-9c8945832c4f",
   "metadata": {},
   "outputs": [],
   "source": [
    "# regions['country'] = regions['country'].str.replace('\\n', ' ').str.strip()\n",
    "# regions['region'] = regions['region'].str.replace('\\n', ' ').str.strip()\n",
    "# regions['region'] = regions['region'].str.replace(r'^\\s+|\\s+?$', '', regex=True)"
   ]
  },
  {
   "cell_type": "code",
   "execution_count": 13,
   "id": "02095360-2430-45bd-a127-55baa3fc7134",
   "metadata": {},
   "outputs": [],
   "source": [
    "# split_df = regions.assign(region=regions['region'].str.split(' / ')).explode('region')\n",
    "# split_df = regions.assign(region=regions['region'].str.split('/ ')).explode('region')\n",
    "# split_df = regions.assign(region=regions['region'].str.split(' /')).explode('region')\n",
    "# split_df = regions.assign(region=regions['region'].str.split('/')).explode('region')\n",
    "# split_df = split_df.drop_duplicates(subset=['country', 'region'])\n",
    "# split_df.reset_index(drop=True, inplace=True)"
   ]
  },
  {
   "cell_type": "markdown",
   "id": "d8096ae0-c9d4-42c5-9e2f-ff915a183163",
   "metadata": {},
   "source": [
    "### Map regions with countries"
   ]
  },
  {
   "cell_type": "code",
   "execution_count": 14,
   "id": "d06dadd4-14ac-4023-a02b-8cbcf5cf5a14",
   "metadata": {},
   "outputs": [],
   "source": [
    "# split_df[\"country_id\"] = split_df[\"country\"].apply(find_country)"
   ]
  },
  {
   "cell_type": "code",
   "execution_count": 15,
   "id": "6891798f-37a9-41a7-a573-4b592098e26c",
   "metadata": {},
   "outputs": [
    {
     "data": {
      "text/html": [
       "<div>\n",
       "<style scoped>\n",
       "    .dataframe tbody tr th:only-of-type {\n",
       "        vertical-align: middle;\n",
       "    }\n",
       "\n",
       "    .dataframe tbody tr th {\n",
       "        vertical-align: top;\n",
       "    }\n",
       "\n",
       "    .dataframe thead th {\n",
       "        text-align: right;\n",
       "    }\n",
       "</style>\n",
       "<table border=\"1\" class=\"dataframe\">\n",
       "  <thead>\n",
       "    <tr style=\"text-align: right;\">\n",
       "      <th></th>\n",
       "      <th>country</th>\n",
       "      <th>region</th>\n",
       "      <th>country_id</th>\n",
       "    </tr>\n",
       "  </thead>\n",
       "  <tbody>\n",
       "    <tr>\n",
       "      <th>0</th>\n",
       "      <td>Argentina</td>\n",
       "      <td>Non-Metropolitan Urban</td>\n",
       "      <td>7</td>\n",
       "    </tr>\n",
       "    <tr>\n",
       "      <th>1</th>\n",
       "      <td>Argentina</td>\n",
       "      <td>All</td>\n",
       "      <td>7</td>\n",
       "    </tr>\n",
       "    <tr>\n",
       "      <th>2</th>\n",
       "      <td>Argentina</td>\n",
       "      <td>Rural</td>\n",
       "      <td>7</td>\n",
       "    </tr>\n",
       "    <tr>\n",
       "      <th>3</th>\n",
       "      <td>Bangladesh</td>\n",
       "      <td>Urban</td>\n",
       "      <td>15</td>\n",
       "    </tr>\n",
       "    <tr>\n",
       "      <th>4</th>\n",
       "      <td>Bangladesh</td>\n",
       "      <td>Satellite Cities</td>\n",
       "      <td>15</td>\n",
       "    </tr>\n",
       "  </tbody>\n",
       "</table>\n",
       "</div>"
      ],
      "text/plain": [
       "      country                   region  country_id\n",
       "0   Argentina  Non-Metropolitan Urban            7\n",
       "1   Argentina                      All           7\n",
       "2   Argentina                   Rural            7\n",
       "3  Bangladesh                   Urban           15\n",
       "4  Bangladesh         Satellite Cities          15"
      ]
     },
     "execution_count": 15,
     "metadata": {},
     "output_type": "execute_result"
    }
   ],
   "source": [
    "# split_df.head()"
   ]
  },
  {
   "cell_type": "markdown",
   "id": "0d7c748f-30f3-428e-bad3-1f0452f69bc6",
   "metadata": {},
   "source": [
    "### Export Regions to CSV"
   ]
  },
  {
   "cell_type": "code",
   "execution_count": 16,
   "id": "50fb0d4d-ef26-4cef-98a8-793adfbd9890",
   "metadata": {},
   "outputs": [],
   "source": [
    "# group_df = split_df.groupby('region').agg({\n",
    "#     \"country\": \"unique\",\n",
    "#     \"country_id\": \"unique\"\n",
    "# }).reset_index()"
   ]
  },
  {
   "cell_type": "code",
   "execution_count": 17,
   "id": "f0ce7fdd-bcbc-4594-aada-25e2f15fb39a",
   "metadata": {},
   "outputs": [],
   "source": [
    "# group_df = group_df[group_df['region'].str.strip() != '']"
   ]
  },
  {
   "cell_type": "code",
   "execution_count": 18,
   "id": "65f244cb-aab8-4609-8d1f-f5c716de9675",
   "metadata": {},
   "outputs": [],
   "source": [
    "# group_df['region'] = group_df['region'].str.replace(r'^\\s+|\\s+?$', '', regex=True)"
   ]
  },
  {
   "cell_type": "code",
   "execution_count": 19,
   "id": "2ce5b895-5dd2-4229-9bc5-292113b704cf",
   "metadata": {},
   "outputs": [],
   "source": [
    "# group_df['country_id'] = group_df['country_id'].apply(list)\n",
    "# group_df['country'] = group_df['country'].apply(list)"
   ]
  },
  {
   "cell_type": "code",
   "execution_count": 20,
   "id": "a40a67e3-1a67-45f8-8873-4def2ebf74ef",
   "metadata": {},
   "outputs": [],
   "source": [
    "# group_df[\"id\"] = group_df.reset_index().index + 1"
   ]
  },
  {
   "cell_type": "code",
   "execution_count": 21,
   "id": "2b9e9e5c-201c-4936-9e3c-1007add69243",
   "metadata": {},
   "outputs": [],
   "source": [
    "# new_column_order = [\"id\", \"region\", \"country_id\", \"country\"]"
   ]
  },
  {
   "cell_type": "code",
   "execution_count": 22,
   "id": "dd267e3b-4c92-41ce-84cd-20c017ce0313",
   "metadata": {},
   "outputs": [],
   "source": [
    "# group_df = group_df[new_column_order]"
   ]
  },
  {
   "cell_type": "markdown",
   "id": "d0af7c0e-b438-437e-86f3-4f2282cad929",
   "metadata": {},
   "source": [
    "### Export Region to CSV"
   ]
  },
  {
   "cell_type": "code",
   "execution_count": 23,
   "id": "8ba4de83-abca-4d5a-aa55-da16593ca53d",
   "metadata": {},
   "outputs": [
    {
     "data": {
      "text/html": [
       "<div>\n",
       "<style scoped>\n",
       "    .dataframe tbody tr th:only-of-type {\n",
       "        vertical-align: middle;\n",
       "    }\n",
       "\n",
       "    .dataframe tbody tr th {\n",
       "        vertical-align: top;\n",
       "    }\n",
       "\n",
       "    .dataframe thead th {\n",
       "        text-align: right;\n",
       "    }\n",
       "</style>\n",
       "<table border=\"1\" class=\"dataframe\">\n",
       "  <thead>\n",
       "    <tr style=\"text-align: right;\">\n",
       "      <th></th>\n",
       "      <th>id</th>\n",
       "      <th>region</th>\n",
       "      <th>country_id</th>\n",
       "      <th>country</th>\n",
       "    </tr>\n",
       "  </thead>\n",
       "  <tbody>\n",
       "    <tr>\n",
       "      <th>1</th>\n",
       "      <td>1</td>\n",
       "      <td>All</td>\n",
       "      <td>[7, 19, 30, 33, 34, 38, 39, 46, 43, 56, 57, 67...</td>\n",
       "      <td>[Argentina, Belize, Burkina Faso, Cambodia, Ca...</td>\n",
       "    </tr>\n",
       "    <tr>\n",
       "      <th>2</th>\n",
       "      <td>2</td>\n",
       "      <td>All coffee and cocoa growing regions</td>\n",
       "      <td>[145]</td>\n",
       "      <td>[Peru]</td>\n",
       "    </tr>\n",
       "    <tr>\n",
       "      <th>3</th>\n",
       "      <td>3</td>\n",
       "      <td>Andhra Pradesh</td>\n",
       "      <td>[84]</td>\n",
       "      <td>[India]</td>\n",
       "    </tr>\n",
       "    <tr>\n",
       "      <th>4</th>\n",
       "      <td>4</td>\n",
       "      <td>Baja California</td>\n",
       "      <td>[119]</td>\n",
       "      <td>[Mexico]</td>\n",
       "    </tr>\n",
       "    <tr>\n",
       "      <th>5</th>\n",
       "      <td>5</td>\n",
       "      <td>Belém and the metropolitan area</td>\n",
       "      <td>[26]</td>\n",
       "      <td>[Brazil]</td>\n",
       "    </tr>\n",
       "  </tbody>\n",
       "</table>\n",
       "</div>"
      ],
      "text/plain": [
       "   id                                region  \\\n",
       "1   1                                   All   \n",
       "2   2  All coffee and cocoa growing regions   \n",
       "3   3                        Andhra Pradesh   \n",
       "4   4                       Baja California   \n",
       "5   5       Belém and the metropolitan area   \n",
       "\n",
       "                                          country_id  \\\n",
       "1  [7, 19, 30, 33, 34, 38, 39, 46, 43, 56, 57, 67...   \n",
       "2                                              [145]   \n",
       "3                                               [84]   \n",
       "4                                              [119]   \n",
       "5                                               [26]   \n",
       "\n",
       "                                             country  \n",
       "1  [Argentina, Belize, Burkina Faso, Cambodia, Ca...  \n",
       "2                                             [Peru]  \n",
       "3                                            [India]  \n",
       "4                                           [Mexico]  \n",
       "5                                           [Brazil]  "
      ]
     },
     "execution_count": 23,
     "metadata": {},
     "output_type": "execute_result"
    }
   ],
   "source": [
    "group_df.head()"
   ]
  },
  {
   "cell_type": "code",
   "execution_count": 24,
   "id": "2b6e476e-6410-44c8-bbc2-034e601f78ad",
   "metadata": {},
   "outputs": [],
   "source": [
    "regions = group_df"
   ]
  },
  {
   "cell_type": "code",
   "execution_count": 25,
   "id": "06530da0-0221-4405-83e3-24339c4d12be",
   "metadata": {},
   "outputs": [],
   "source": [
    "regions.to_csv('regions.csv', index=False)"
   ]
  },
  {
   "cell_type": "markdown",
   "id": "bfd59960-251a-457c-9faf-31c044dc41eb",
   "metadata": {
    "jp-MarkdownHeadingCollapsed": true
   },
   "source": [
    "## Living Income Benchmark V3"
   ]
  },
  {
   "cell_type": "markdown",
   "id": "ee27ab73-17ea-455c-9bac-97d390cb49fa",
   "metadata": {},
   "source": [
    "### Get country id"
   ]
  },
  {
   "cell_type": "code",
   "execution_count": 34,
   "id": "f1dc9d79-542d-4368-92f0-19086333e6fe",
   "metadata": {},
   "outputs": [
    {
     "data": {
      "text/plain": [
       "Index(['id', 'country', 'currency', 'abbreviation'], dtype='object')"
      ]
     },
     "execution_count": 34,
     "metadata": {},
     "output_type": "execute_result"
    }
   ],
   "source": [
    "countries.columns"
   ]
  },
  {
   "cell_type": "code",
   "execution_count": 35,
   "id": "9fc46d52-fc57-4116-a11e-f78baf2b0275",
   "metadata": {},
   "outputs": [],
   "source": [
    "def find_new_country(val):\n",
    "    if val == \"Turkey\":\n",
    "        val = \"Turkiye\"\n",
    "    country = countries[countries[\"country\"].str.lower() == str(val).lower()]\n",
    "    if country.empty:\n",
    "        print(\"404\", val)\n",
    "        return None\n",
    "    return country[\"id\"].to_list()[0]"
   ]
  },
  {
   "cell_type": "code",
   "execution_count": 36,
   "id": "e5ca42dc-76d7-4354-a827-7554d6a61145",
   "metadata": {},
   "outputs": [],
   "source": [
    "lib[\"country_id\"] = lib[\"country\"].apply(find_new_country)"
   ]
  },
  {
   "cell_type": "markdown",
   "id": "005b3d53-241a-4d1d-bc5d-13ca9dc584dd",
   "metadata": {},
   "source": [
    "### Get region id"
   ]
  },
  {
   "cell_type": "code",
   "execution_count": 38,
   "id": "e8800fdb-8466-4aa1-afdb-7bd04c6cd85a",
   "metadata": {},
   "outputs": [
    {
     "data": {
      "text/plain": [
       "Index(['id', 'region', 'country_id', 'country'], dtype='object')"
      ]
     },
     "execution_count": 38,
     "metadata": {},
     "output_type": "execute_result"
    }
   ],
   "source": [
    "regions.columns"
   ]
  },
  {
   "cell_type": "code",
   "execution_count": 39,
   "id": "5ba8a9e7-8b15-422b-a719-304bb210d5a6",
   "metadata": {},
   "outputs": [],
   "source": [
    "split_lib = lib.assign(region=lib['region'].str.split(' / ')).explode('region')\n",
    "split_lib = lib.assign(region=lib['region'].str.split('/ ')).explode('region')\n",
    "split_lib = lib.assign(region=lib['region'].str.split(' /')).explode('region')\n",
    "split_lib = lib.assign(region=lib['region'].str.split('/')).explode('region')\n",
    "split_lib = split_lib.drop_duplicates(subset=['country', 'region'])\n",
    "split_lib.reset_index(drop=True, inplace=True)"
   ]
  },
  {
   "cell_type": "code",
   "execution_count": 40,
   "id": "aa42c998-9c41-4b00-a6df-6e90193fafc3",
   "metadata": {},
   "outputs": [],
   "source": [
    "lib = split_lib"
   ]
  },
  {
   "cell_type": "code",
   "execution_count": 45,
   "id": "95105e00-d5ea-42f6-b623-7e916973c167",
   "metadata": {},
   "outputs": [],
   "source": [
    "lib['country'] = lib['country'].str.replace('\\n', ' ').str.strip()\n",
    "lib['region'] = lib['region'].str.replace('\\n', ' ').str.strip()\n",
    "lib['region'] = lib['region'].str.replace('\\r', ' ').str.strip()\n",
    "lib['region'] = lib['region'].str.replace(r'^\\s+|\\s+?$', '', regex=True)"
   ]
  },
  {
   "cell_type": "code",
   "execution_count": 49,
   "id": "471b4940-d65e-4f37-922b-7f8519f98f4a",
   "metadata": {},
   "outputs": [],
   "source": [
    "def find_region(val):\n",
    "    region = regions[regions[\"region\"].str.lower() == str(val).lower()]\n",
    "    if region.empty:\n",
    "        print(\"404\", val)\n",
    "        return None\n",
    "    return region[\"id\"].to_list()[0]"
   ]
  },
  {
   "cell_type": "code",
   "execution_count": 50,
   "id": "43ecd574-e6a9-4fce-aa5b-49939a81c728",
   "metadata": {},
   "outputs": [
    {
     "name": "stdout",
     "output_type": "stream",
     "text": [
      "404 coffee-producing households in  Cuanza Sul province\n",
      "404 East  Rondônia\n",
      "404 Southeast  Pará\n",
      "404 Southwest  Pará\n",
      "404 Belém and the  metropolitan  area\n",
      "404 Zona da Mata  mineira\n",
      "404 Santo Domingo\n",
      "404 Urban Guatemala\n",
      "404 Rural coffee-growing regions\n",
      "404 Comayagua, Copán, and El Paraíso\n",
      "404 Rural coffee and cocoa growing regions\n",
      "404 coffee-producing households in  the Western province\n",
      "404 coffee-producing households in  the Wawa prefecture\n",
      "404 Minimum Wage Region 1\n",
      "404 Minimum Wage Region 2\n",
      "404 Minimum Wage Region 3\n",
      "404 Minimum Wage Region 4\n"
     ]
    }
   ],
   "source": [
    "lib[\"region_id\"] = lib[\"region\"].apply(find_region)"
   ]
  },
  {
   "cell_type": "markdown",
   "id": "78d7d412-e813-40f5-8293-3ab9dc4cc8ec",
   "metadata": {},
   "source": [
    "### Export Benchmark to CSV"
   ]
  },
  {
   "cell_type": "code",
   "execution_count": 51,
   "id": "d8e2a23b-a30c-4606-9b3d-fbb52cbf9c99",
   "metadata": {},
   "outputs": [],
   "source": [
    "lib = lib.dropna()"
   ]
  },
  {
   "cell_type": "code",
   "execution_count": 52,
   "id": "7e3e130f-841d-4471-905e-551c46e987da",
   "metadata": {},
   "outputs": [
    {
     "name": "stderr",
     "output_type": "stream",
     "text": [
      "/var/folders/00/btls1cns2d544mn2rkm3v4v40000gn/T/ipykernel_4065/3428018960.py:1: SettingWithCopyWarning: \n",
      "A value is trying to be set on a copy of a slice from a DataFrame.\n",
      "Try using .loc[row_indexer,col_indexer] = value instead\n",
      "\n",
      "See the caveats in the documentation: https://pandas.pydata.org/pandas-docs/stable/user_guide/indexing.html#returning-a-view-versus-a-copy\n",
      "  lib[\"id\"] = lib.reset_index().index + 1\n"
     ]
    }
   ],
   "source": [
    "lib[\"id\"] = lib.reset_index().index + 1"
   ]
  },
  {
   "cell_type": "code",
   "execution_count": 53,
   "id": "393dcf92-759b-4fd4-9c0c-79f1d37daf66",
   "metadata": {},
   "outputs": [
    {
     "data": {
      "text/plain": [
       "Index(['country', 'region', 'source', 'household_size', 'nr_adults', 'year',\n",
       "       'LCU', 'USD', 'EUR', 'household_equiv', 'links', 'id', 'country_id',\n",
       "       'region_id'],\n",
       "      dtype='object')"
      ]
     },
     "execution_count": 53,
     "metadata": {},
     "output_type": "execute_result"
    }
   ],
   "source": [
    "lib.columns"
   ]
  },
  {
   "cell_type": "code",
   "execution_count": 54,
   "id": "858cd308-7c2c-4233-84c9-c287c381d05f",
   "metadata": {},
   "outputs": [],
   "source": [
    "lib = lib[['id', 'country_id',\n",
    "       'region_id', 'country', 'region', 'source', 'household_size', 'nr_adults', 'year',\n",
    "       'LCU', 'USD', 'EUR', 'household_equiv', 'links']]"
   ]
  },
  {
   "cell_type": "code",
   "execution_count": 55,
   "id": "9c07e0a4-a086-4c32-8235-55e7222b2b7c",
   "metadata": {},
   "outputs": [],
   "source": [
    "lib.to_csv(\"./li_benchmark.csv\", index=False)"
   ]
  },
  {
   "cell_type": "markdown",
   "id": "6e3b4bc7-3997-43e1-9451-fef3d59e46bd",
   "metadata": {},
   "source": [
    "## CPI V2"
   ]
  },
  {
   "cell_type": "code",
   "execution_count": 2,
   "id": "deaff3b6-9ff9-4c5a-861a-e0763d86080d",
   "metadata": {},
   "outputs": [],
   "source": [
    "cpi_df = pd.read_csv(\"./cpi_data.csv\")"
   ]
  },
  {
   "cell_type": "code",
   "execution_count": 3,
   "id": "7e4e9b6d-7ddc-4006-b5a5-9b9023f70bce",
   "metadata": {},
   "outputs": [],
   "source": [
    "cpi_df = cpi_df.rename(columns={\"Country Name\": \"country\"})"
   ]
  },
  {
   "cell_type": "code",
   "execution_count": 4,
   "id": "0a1ed950-3fe7-4159-ae4a-9d0d99e703e6",
   "metadata": {},
   "outputs": [],
   "source": [
    "cpi_df = cpi_df.dropna(how=\"all\")"
   ]
  },
  {
   "cell_type": "code",
   "execution_count": 5,
   "id": "38ecebca-a790-48b0-8b2f-ff393fb2e863",
   "metadata": {
    "scrolled": true
   },
   "outputs": [
    {
     "data": {
      "text/html": [
       "<div>\n",
       "<style scoped>\n",
       "    .dataframe tbody tr th:only-of-type {\n",
       "        vertical-align: middle;\n",
       "    }\n",
       "\n",
       "    .dataframe tbody tr th {\n",
       "        vertical-align: top;\n",
       "    }\n",
       "\n",
       "    .dataframe thead th {\n",
       "        text-align: right;\n",
       "    }\n",
       "</style>\n",
       "<table border=\"1\" class=\"dataframe\">\n",
       "  <thead>\n",
       "    <tr style=\"text-align: right;\">\n",
       "      <th></th>\n",
       "      <th>country</th>\n",
       "      <th>2013</th>\n",
       "      <th>2014</th>\n",
       "      <th>2015</th>\n",
       "      <th>2016</th>\n",
       "      <th>2017</th>\n",
       "      <th>2018</th>\n",
       "      <th>2019</th>\n",
       "      <th>2020</th>\n",
       "      <th>2021</th>\n",
       "      <th>2022</th>\n",
       "      <th>2023</th>\n",
       "    </tr>\n",
       "  </thead>\n",
       "  <tbody>\n",
       "    <tr>\n",
       "      <th>0</th>\n",
       "      <td>Afghanistan, Islamic Rep. of</td>\n",
       "      <td>97.417222</td>\n",
       "      <td>101.970499</td>\n",
       "      <td>101.295751</td>\n",
       "      <td>105.736448</td>\n",
       "      <td>110.997842</td>\n",
       "      <td>111.692854</td>\n",
       "      <td>114.264439</td>\n",
       "      <td>NaN</td>\n",
       "      <td>NaN</td>\n",
       "      <td>NaN</td>\n",
       "      <td>NaN</td>\n",
       "    </tr>\n",
       "    <tr>\n",
       "      <th>1</th>\n",
       "      <td>Albania</td>\n",
       "      <td>89.264316</td>\n",
       "      <td>90.715633</td>\n",
       "      <td>92.435759</td>\n",
       "      <td>93.614714</td>\n",
       "      <td>95.474522</td>\n",
       "      <td>97.410802</td>\n",
       "      <td>98.785357</td>\n",
       "      <td>100.386555</td>\n",
       "      <td>102.435919</td>\n",
       "      <td>109.324942</td>\n",
       "      <td>NaN</td>\n",
       "    </tr>\n",
       "    <tr>\n",
       "      <th>2</th>\n",
       "      <td>Algeria</td>\n",
       "      <td>160.100000</td>\n",
       "      <td>164.770000</td>\n",
       "      <td>172.653333</td>\n",
       "      <td>183.699167</td>\n",
       "      <td>193.970000</td>\n",
       "      <td>202.252500</td>\n",
       "      <td>206.200000</td>\n",
       "      <td>211.180000</td>\n",
       "      <td>226.440000</td>\n",
       "      <td>247.420833</td>\n",
       "      <td>270.485833</td>\n",
       "    </tr>\n",
       "    <tr>\n",
       "      <th>3</th>\n",
       "      <td>Angola</td>\n",
       "      <td>26.514746</td>\n",
       "      <td>28.445122</td>\n",
       "      <td>31.106440</td>\n",
       "      <td>40.654380</td>\n",
       "      <td>52.787468</td>\n",
       "      <td>63.149087</td>\n",
       "      <td>73.935554</td>\n",
       "      <td>90.402140</td>\n",
       "      <td>113.684573</td>\n",
       "      <td>137.962244</td>\n",
       "      <td>156.785953</td>\n",
       "    </tr>\n",
       "    <tr>\n",
       "      <th>4</th>\n",
       "      <td>Anguilla</td>\n",
       "      <td>107.442500</td>\n",
       "      <td>107.170000</td>\n",
       "      <td>106.127500</td>\n",
       "      <td>105.573687</td>\n",
       "      <td>106.940000</td>\n",
       "      <td>107.342500</td>\n",
       "      <td>108.217500</td>\n",
       "      <td>107.705000</td>\n",
       "      <td>109.640000</td>\n",
       "      <td>115.730000</td>\n",
       "      <td>119.672500</td>\n",
       "    </tr>\n",
       "  </tbody>\n",
       "</table>\n",
       "</div>"
      ],
      "text/plain": [
       "                        country        2013        2014        2015  \\\n",
       "0  Afghanistan, Islamic Rep. of   97.417222  101.970499  101.295751   \n",
       "1                       Albania   89.264316   90.715633   92.435759   \n",
       "2                       Algeria  160.100000  164.770000  172.653333   \n",
       "3                        Angola   26.514746   28.445122   31.106440   \n",
       "4                      Anguilla  107.442500  107.170000  106.127500   \n",
       "\n",
       "         2016        2017        2018        2019        2020        2021  \\\n",
       "0  105.736448  110.997842  111.692854  114.264439         NaN         NaN   \n",
       "1   93.614714   95.474522   97.410802   98.785357  100.386555  102.435919   \n",
       "2  183.699167  193.970000  202.252500  206.200000  211.180000  226.440000   \n",
       "3   40.654380   52.787468   63.149087   73.935554   90.402140  113.684573   \n",
       "4  105.573687  106.940000  107.342500  108.217500  107.705000  109.640000   \n",
       "\n",
       "         2022        2023  \n",
       "0         NaN         NaN  \n",
       "1  109.324942         NaN  \n",
       "2  247.420833  270.485833  \n",
       "3  137.962244  156.785953  \n",
       "4  115.730000  119.672500  "
      ]
     },
     "execution_count": 5,
     "metadata": {},
     "output_type": "execute_result"
    }
   ],
   "source": [
    "cpi_df.head()"
   ]
  },
  {
   "cell_type": "markdown",
   "id": "d72f8e03-aa55-4770-8042-1d7d30d2dfd3",
   "metadata": {},
   "source": [
    "### Map with Countries"
   ]
  },
  {
   "cell_type": "code",
   "execution_count": 71,
   "id": "be3060a0-4a89-42ea-b20b-055a45869922",
   "metadata": {},
   "outputs": [
    {
     "name": "stdout",
     "output_type": "stream",
     "text": [
      "404 Anguilla\n",
      "404 Guadeloupe\n",
      "404 Martinique\n",
      "404 Montserrat\n",
      "404 San Marino, Rep. of\n",
      "404 São Tomé and Príncipe, Dem. Rep. of\n",
      "404 Syrian Arab Rep.\n"
     ]
    }
   ],
   "source": [
    "cpi_df[\"country_id\"] = cpi_df[\"country\"].apply(find_country)"
   ]
  },
  {
   "cell_type": "markdown",
   "id": "01b7ec3e-86b4-4c30-b276-f396186108f9",
   "metadata": {},
   "source": [
    "### Transform CPI table"
   ]
  },
  {
   "cell_type": "code",
   "execution_count": 73,
   "id": "c20c523e-cac0-462e-ac46-1148ce504420",
   "metadata": {},
   "outputs": [],
   "source": [
    "# transform int country, country_id, year, value format\n",
    "melted_df = pd.melt(cpi_df, id_vars=['country', 'country_id'], var_name='year', value_name='value')\n",
    "melted_df['value'] = melted_df['value'].fillna(0)"
   ]
  },
  {
   "cell_type": "code",
   "execution_count": 74,
   "id": "5a9c6615-43f5-41e0-a372-1f450ec3960c",
   "metadata": {},
   "outputs": [],
   "source": [
    "melted_df.reset_index(drop=True, inplace=True)\n",
    "melted_df[\"id\"] = melted_df.reset_index().index + 1"
   ]
  },
  {
   "cell_type": "code",
   "execution_count": 75,
   "id": "8407ee98-1fc5-40e1-89ce-e8517792e69d",
   "metadata": {},
   "outputs": [],
   "source": [
    "new_column_order = [\"id\", \"country\", \"country_id\", \"year\", \"value\"]"
   ]
  },
  {
   "cell_type": "code",
   "execution_count": 77,
   "id": "5426b663-1467-46cc-b912-72dc49eb4def",
   "metadata": {},
   "outputs": [],
   "source": [
    "cpi_df = melted_df[new_column_order]"
   ]
  },
  {
   "cell_type": "markdown",
   "id": "3fa681be-524d-4247-95a8-38a6daa9ee02",
   "metadata": {},
   "source": [
    "### Export CPI to CSV"
   ]
  },
  {
   "cell_type": "code",
   "execution_count": 78,
   "id": "3c443982-d34c-42fb-bac2-6134c7370738",
   "metadata": {},
   "outputs": [],
   "source": [
    "cpi = cpi_df.dropna()"
   ]
  },
  {
   "cell_type": "code",
   "execution_count": 79,
   "id": "ef740d9b-4344-4191-9cbe-e2d7735c2fb0",
   "metadata": {},
   "outputs": [],
   "source": [
    "cpi = cpi.drop_duplicates(subset=[\"country_id\", \"year\"])"
   ]
  },
  {
   "cell_type": "code",
   "execution_count": 80,
   "id": "c033c67d-8f8a-4ed6-9d5b-a0bfec4178c9",
   "metadata": {},
   "outputs": [
    {
     "data": {
      "text/html": [
       "<div>\n",
       "<style scoped>\n",
       "    .dataframe tbody tr th:only-of-type {\n",
       "        vertical-align: middle;\n",
       "    }\n",
       "\n",
       "    .dataframe tbody tr th {\n",
       "        vertical-align: top;\n",
       "    }\n",
       "\n",
       "    .dataframe thead th {\n",
       "        text-align: right;\n",
       "    }\n",
       "</style>\n",
       "<table border=\"1\" class=\"dataframe\">\n",
       "  <thead>\n",
       "    <tr style=\"text-align: right;\">\n",
       "      <th></th>\n",
       "      <th>id</th>\n",
       "      <th>country</th>\n",
       "      <th>country_id</th>\n",
       "      <th>year</th>\n",
       "      <th>value</th>\n",
       "    </tr>\n",
       "  </thead>\n",
       "  <tbody>\n",
       "    <tr>\n",
       "      <th>0</th>\n",
       "      <td>1</td>\n",
       "      <td>Afghanistan, Islamic Rep. of</td>\n",
       "      <td>1.0</td>\n",
       "      <td>2013</td>\n",
       "      <td>97.417222</td>\n",
       "    </tr>\n",
       "    <tr>\n",
       "      <th>1</th>\n",
       "      <td>2</td>\n",
       "      <td>Albania</td>\n",
       "      <td>2.0</td>\n",
       "      <td>2013</td>\n",
       "      <td>89.264316</td>\n",
       "    </tr>\n",
       "    <tr>\n",
       "      <th>2</th>\n",
       "      <td>3</td>\n",
       "      <td>Algeria</td>\n",
       "      <td>3.0</td>\n",
       "      <td>2013</td>\n",
       "      <td>160.100000</td>\n",
       "    </tr>\n",
       "    <tr>\n",
       "      <th>3</th>\n",
       "      <td>4</td>\n",
       "      <td>Angola</td>\n",
       "      <td>5.0</td>\n",
       "      <td>2013</td>\n",
       "      <td>26.514746</td>\n",
       "    </tr>\n",
       "    <tr>\n",
       "      <th>5</th>\n",
       "      <td>6</td>\n",
       "      <td>Antigua and Barbuda</td>\n",
       "      <td>6.0</td>\n",
       "      <td>2013</td>\n",
       "      <td>94.603924</td>\n",
       "    </tr>\n",
       "  </tbody>\n",
       "</table>\n",
       "</div>"
      ],
      "text/plain": [
       "   id                       country  country_id  year       value\n",
       "0   1  Afghanistan, Islamic Rep. of         1.0  2013   97.417222\n",
       "1   2                       Albania         2.0  2013   89.264316\n",
       "2   3                       Algeria         3.0  2013  160.100000\n",
       "3   4                        Angola         5.0  2013   26.514746\n",
       "5   6           Antigua and Barbuda         6.0  2013   94.603924"
      ]
     },
     "execution_count": 80,
     "metadata": {},
     "output_type": "execute_result"
    }
   ],
   "source": [
    "cpi.head()"
   ]
  },
  {
   "cell_type": "code",
   "execution_count": 81,
   "id": "30816e73-aa63-4548-9e0c-ad01c7b14844",
   "metadata": {},
   "outputs": [],
   "source": [
    "cpi.to_csv('cpi.csv', index=False)"
   ]
  },
  {
   "cell_type": "code",
   "execution_count": null,
   "id": "e18b5939-0355-418b-8cc6-64e56566efe7",
   "metadata": {},
   "outputs": [],
   "source": []
  }
 ],
 "metadata": {
  "kernelspec": {
   "display_name": "Python 3 (ipykernel)",
   "language": "python",
   "name": "python3"
  },
  "language_info": {
   "codemirror_mode": {
    "name": "ipython",
    "version": 3
   },
   "file_extension": ".py",
   "mimetype": "text/x-python",
   "name": "python",
   "nbconvert_exporter": "python",
   "pygments_lexer": "ipython3",
   "version": "3.12.3"
  }
 },
 "nbformat": 4,
 "nbformat_minor": 5
}
