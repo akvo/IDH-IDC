{
 "cells": [
  {
   "cell_type": "code",
   "execution_count": 1,
   "id": "d32f7883-3c13-4a34-acd2-2b34ce73c481",
   "metadata": {},
   "outputs": [],
   "source": [
    "import pandas as pd\n",
    "import re"
   ]
  },
  {
   "cell_type": "markdown",
   "id": "b69c6790-8106-4a77-b6ef-ca1152b5abbf",
   "metadata": {},
   "source": [
    "# Countries"
   ]
  },
  {
   "cell_type": "code",
   "execution_count": 2,
   "id": "338d66af-098c-43c9-89a4-78b7dc6f66b3",
   "metadata": {},
   "outputs": [],
   "source": [
    "countries_df = pd.read_csv(\"./countries.csv\")"
   ]
  },
  {
   "cell_type": "code",
   "execution_count": 3,
   "id": "609e7f44-daa0-4750-ab2f-977bd0cd2fbb",
   "metadata": {},
   "outputs": [],
   "source": [
    "def find_country(val):\n",
    "    # manual match\n",
    "    if val in [\"Australia\"]:\n",
    "        val = \"Australian\"\n",
    "    if val in [\"British Virgin Islands\"]:\n",
    "        val = \"Virgin Islands (British)\"\n",
    "    if val in [\"Cabo Verde\"]:\n",
    "        val = \"Cape Verde\"\n",
    "    if val in [\"Central African Rep.\"]:\n",
    "        val = \"Central African Republic\"\n",
    "    if val in [\"Cote d'Ivoire\", \"Côte d'Ivoire\"]:\n",
    "        val = \"Ivory Coast\"\n",
    "    if val in [\"Congo, Dem. Rep.\", \"Congo, Dem. Rep. of the\"]:\n",
    "        val = \"Congo (Kinshasa)\"\n",
    "    if val in [\"Congo, Rep.\", \"Congo, Rep. of\"]:\n",
    "        val = \"Congo-Brazzaville\"\n",
    "    if val in [\"Egypt, Arab Rep.\"]:\n",
    "        val = \"Egypt\"\n",
    "    if val in [\"Croatia, Rep. of\"]:\n",
    "        val = \"Croatia (Hrvatska)\"\n",
    "    if val in [\"Czech Rep.\"]:\n",
    "        val = \"Czech Republic\"\n",
    "    if val in [\"Dominican Rep.\"]:\n",
    "        val = \"Dominican Republic\"\n",
    "    if val in [\"Iran, Islamic Rep. of\"]:\n",
    "        val = \"Iran (Islamic Republic of)\"\n",
    "    if val in [\"Korea, Rep. of\"]:\n",
    "        val = \"Korea South\"\n",
    "    if val in [\"Kyrgyz Rep.\"]:\n",
    "        val = \"Kyrgyzstan\"\n",
    "    if val in [\"Libya\"]:\n",
    "        val = \"Libyan Arab Jamahiriya\"\n",
    "    if val in [\"Eswatini, Kingdom of\"]:\n",
    "        val = \"Swaziland\"\n",
    "    if val in [\"Lao People's Dem. Rep.\"]:\n",
    "        val = \"Lao PeopleÕs Democratic Republic\"\n",
    "    if val in [\"Micronesia, Federated States of\"]:\n",
    "        val = \"Micronesia Federated States of\"\n",
    "    if val in [\"Moldova, Rep. of\"]:\n",
    "        val = \"Moldova Republic of\"\n",
    "    if val in [\"North Macedonia, Republic of\"]:\n",
    "        val = \"Macedonia\"\n",
    "    if val in [\"São Tomé and Príncipe, Dem. Rep. of\"]:\n",
    "        val = \"Sao Tome and Principe\"\n",
    "    if val in [\"Sint Maarten, Kingdom of the Netherlands\"]:\n",
    "        val = \"Saint Martin (French part)\"\n",
    "    if val in [\"Slovak Rep.\"]:\n",
    "        val = \"Slovakia (Slovak Republic)\"\n",
    "    if val in [\"St. Lucia\"]:\n",
    "        val = \"Saint Lucia\"\n",
    "    if val in [\"St. Kitts and Nevis\"]:\n",
    "        val = \"Saint Kitts\"\n",
    "    if val in [\"St. Vincent and the Grenadines\"]:\n",
    "        val = \"Saint Vincent Grenadines\"\n",
    "    if val in [\"Syrian Arab Rep.\"]:\n",
    "        val = \"Syrian Arab Republic\"\n",
    "    if val in [\"Timor-Leste, Dem. Rep. of\"]:\n",
    "        val = \"East Timor\"\n",
    "    if val in [\"China, P.R.: Hong Kong\"]:\n",
    "        val = \"Hong Kong\"\n",
    "    if val in [\"China, P.R.: Macao\"]:\n",
    "        val = \"Macao S.A.R.\"\n",
    "\n",
    "# Not found on counties.csv\n",
    "# Curaçao, Kingdom of the Netherlands\n",
    "# Kosovo, Rep. of \n",
    "# South Sudan, Rep. of\n",
    "# West Bank and Gaza\n",
    "\n",
    "    # EOL manual match\n",
    "    find_country = countries_df[countries_df[\"country\"].str.lower() == str(val).lower()]\n",
    "    if find_country.empty:\n",
    "        # Another custom way\n",
    "        val_lower = str(val).lower()\n",
    "        val_tmp = val_lower.lower().split(',')\n",
    "        for index, row in countries_df.iterrows():\n",
    "            # Convert the country name in the DataFrame to lowercase\n",
    "            country_name = row['country'].lower()\n",
    "            if val_lower == 'nan':\n",
    "                return None\n",
    "            if country_name not in val_tmp:\n",
    "                continue\n",
    "            return row[\"id\"]\n",
    "        # EOL Another custom way\n",
    "\n",
    "        print(\"404\", val)\n",
    "        return val\n",
    "    return find_country[\"id\"].to_list()[0]"
   ]
  },
  {
   "cell_type": "markdown",
   "id": "1ef29a6f-306d-4ab2-9382-b37e45671924",
   "metadata": {},
   "source": [
    "# CREATE REGIONS"
   ]
  },
  {
   "cell_type": "code",
   "execution_count": 4,
   "id": "fb9ba467-eb67-4cbf-a034-540c335746c2",
   "metadata": {},
   "outputs": [],
   "source": [
    "df = pd.read_excel(\"./lib_dataset.xlsx\", sheet_name=0, header=4)"
   ]
  },
  {
   "cell_type": "code",
   "execution_count": 5,
   "id": "2ada563c-c27d-4a57-9b06-bda410e41ce4",
   "metadata": {},
   "outputs": [],
   "source": [
    "df = df.rename(columns={\"Country\": \"country\", \"Region/area.1\": \"region\"})"
   ]
  },
  {
   "cell_type": "code",
   "execution_count": 6,
   "id": "c1354df5-dfa1-4508-82a2-d0c88c590253",
   "metadata": {},
   "outputs": [],
   "source": [
    "regions = df[[\"country\", \"region\"]]"
   ]
  },
  {
   "cell_type": "code",
   "execution_count": 7,
   "id": "0c971c93-451a-4300-ac27-4730ef0b3d91",
   "metadata": {},
   "outputs": [],
   "source": [
    "regions = regions[regions[\"region\"].notna()]"
   ]
  },
  {
   "cell_type": "code",
   "execution_count": 8,
   "id": "77f3067b-573e-44ff-b4b9-9c8945832c4f",
   "metadata": {},
   "outputs": [],
   "source": [
    "regions['country'] = regions['country'].str.replace('\\n', ' ').str.strip()\n",
    "regions['region'] = regions['region'].str.replace('\\n', ' ').str.strip()\n",
    "regions['region'] = regions['region'].str.replace(r'^\\s+|\\s+?$', '', regex=True)"
   ]
  },
  {
   "cell_type": "code",
   "execution_count": 9,
   "id": "02095360-2430-45bd-a127-55baa3fc7134",
   "metadata": {},
   "outputs": [],
   "source": [
    "split_df = regions.assign(region=regions['region'].str.split(' / ')).explode('region')\n",
    "split_df = regions.assign(region=regions['region'].str.split('/ ')).explode('region')\n",
    "split_df = regions.assign(region=regions['region'].str.split(' /')).explode('region')\n",
    "split_df = regions.assign(region=regions['region'].str.split('/')).explode('region')\n",
    "split_df = split_df.drop_duplicates(subset=['country', 'region'])\n",
    "split_df.reset_index(drop=True, inplace=True)"
   ]
  },
  {
   "cell_type": "markdown",
   "id": "b31fec6d-9e27-4cef-b97d-140443af1f9e",
   "metadata": {},
   "source": [
    "## Map regions with countries"
   ]
  },
  {
   "cell_type": "code",
   "execution_count": 10,
   "id": "d06dadd4-14ac-4023-a02b-8cbcf5cf5a14",
   "metadata": {},
   "outputs": [],
   "source": [
    "split_df[\"country_id\"] = split_df[\"country\"].apply(find_country)"
   ]
  },
  {
   "cell_type": "code",
   "execution_count": 11,
   "id": "6891798f-37a9-41a7-a573-4b592098e26c",
   "metadata": {},
   "outputs": [
    {
     "data": {
      "text/html": [
       "<div>\n",
       "<style scoped>\n",
       "    .dataframe tbody tr th:only-of-type {\n",
       "        vertical-align: middle;\n",
       "    }\n",
       "\n",
       "    .dataframe tbody tr th {\n",
       "        vertical-align: top;\n",
       "    }\n",
       "\n",
       "    .dataframe thead th {\n",
       "        text-align: right;\n",
       "    }\n",
       "</style>\n",
       "<table border=\"1\" class=\"dataframe\">\n",
       "  <thead>\n",
       "    <tr style=\"text-align: right;\">\n",
       "      <th></th>\n",
       "      <th>country</th>\n",
       "      <th>region</th>\n",
       "      <th>country_id</th>\n",
       "    </tr>\n",
       "  </thead>\n",
       "  <tbody>\n",
       "    <tr>\n",
       "      <th>0</th>\n",
       "      <td>Argentina</td>\n",
       "      <td>Non-Metropolitan Urban</td>\n",
       "      <td>11</td>\n",
       "    </tr>\n",
       "    <tr>\n",
       "      <th>1</th>\n",
       "      <td>Argentina</td>\n",
       "      <td>All</td>\n",
       "      <td>11</td>\n",
       "    </tr>\n",
       "    <tr>\n",
       "      <th>2</th>\n",
       "      <td>Argentina</td>\n",
       "      <td>Rural</td>\n",
       "      <td>11</td>\n",
       "    </tr>\n",
       "    <tr>\n",
       "      <th>3</th>\n",
       "      <td>Bangladesh</td>\n",
       "      <td>Urban</td>\n",
       "      <td>19</td>\n",
       "    </tr>\n",
       "    <tr>\n",
       "      <th>4</th>\n",
       "      <td>Bangladesh</td>\n",
       "      <td>Satellite Cities</td>\n",
       "      <td>19</td>\n",
       "    </tr>\n",
       "  </tbody>\n",
       "</table>\n",
       "</div>"
      ],
      "text/plain": [
       "      country                   region  country_id\n",
       "0   Argentina  Non-Metropolitan Urban           11\n",
       "1   Argentina                      All          11\n",
       "2   Argentina                   Rural           11\n",
       "3  Bangladesh                   Urban           19\n",
       "4  Bangladesh         Satellite Cities          19"
      ]
     },
     "execution_count": 11,
     "metadata": {},
     "output_type": "execute_result"
    }
   ],
   "source": [
    "split_df.head()"
   ]
  },
  {
   "cell_type": "markdown",
   "id": "2c22d941-bb75-4280-96a5-2ee5e361e952",
   "metadata": {},
   "source": [
    "## Export Regions to CSV"
   ]
  },
  {
   "cell_type": "code",
   "execution_count": 12,
   "id": "50fb0d4d-ef26-4cef-98a8-793adfbd9890",
   "metadata": {},
   "outputs": [],
   "source": [
    "# group_df = split_df.groupby('region')['country'].apply(lambda x: list(set(x))).reset_index()\n",
    "group_df = split_df.groupby('region').agg({\n",
    "    \"country\": \"unique\",\n",
    "    \"country_id\": \"unique\"\n",
    "}).reset_index()"
   ]
  },
  {
   "cell_type": "code",
   "execution_count": 13,
   "id": "f0ce7fdd-bcbc-4594-aada-25e2f15fb39a",
   "metadata": {},
   "outputs": [],
   "source": [
    "group_df = group_df[group_df['region'].str.strip() != '']"
   ]
  },
  {
   "cell_type": "code",
   "execution_count": 14,
   "id": "65f244cb-aab8-4609-8d1f-f5c716de9675",
   "metadata": {},
   "outputs": [],
   "source": [
    "group_df['region'] = group_df['region'].str.replace(r'^\\s+|\\s+?$', '', regex=True)"
   ]
  },
  {
   "cell_type": "code",
   "execution_count": 15,
   "id": "2ce5b895-5dd2-4229-9bc5-292113b704cf",
   "metadata": {},
   "outputs": [],
   "source": [
    "group_df['country_id'] = group_df['country_id'].apply(list)\n",
    "group_df['country'] = group_df['country'].apply(list)"
   ]
  },
  {
   "cell_type": "code",
   "execution_count": 16,
   "id": "a40a67e3-1a67-45f8-8873-4def2ebf74ef",
   "metadata": {},
   "outputs": [],
   "source": [
    "group_df[\"id\"] = group_df.reset_index().index + 1"
   ]
  },
  {
   "cell_type": "code",
   "execution_count": 17,
   "id": "2b9e9e5c-201c-4936-9e3c-1007add69243",
   "metadata": {},
   "outputs": [],
   "source": [
    "new_column_order = [\"id\", \"region\", \"country_id\", \"country\"]"
   ]
  },
  {
   "cell_type": "code",
   "execution_count": 18,
   "id": "dd267e3b-4c92-41ce-84cd-20c017ce0313",
   "metadata": {},
   "outputs": [],
   "source": [
    "group_df = group_df[new_column_order]"
   ]
  },
  {
   "cell_type": "code",
   "execution_count": 19,
   "id": "8ba4de83-abca-4d5a-aa55-da16593ca53d",
   "metadata": {},
   "outputs": [
    {
     "data": {
      "text/html": [
       "<div>\n",
       "<style scoped>\n",
       "    .dataframe tbody tr th:only-of-type {\n",
       "        vertical-align: middle;\n",
       "    }\n",
       "\n",
       "    .dataframe tbody tr th {\n",
       "        vertical-align: top;\n",
       "    }\n",
       "\n",
       "    .dataframe thead th {\n",
       "        text-align: right;\n",
       "    }\n",
       "</style>\n",
       "<table border=\"1\" class=\"dataframe\">\n",
       "  <thead>\n",
       "    <tr style=\"text-align: right;\">\n",
       "      <th></th>\n",
       "      <th>id</th>\n",
       "      <th>region</th>\n",
       "      <th>country_id</th>\n",
       "      <th>country</th>\n",
       "    </tr>\n",
       "  </thead>\n",
       "  <tbody>\n",
       "    <tr>\n",
       "      <th>1</th>\n",
       "      <td>1</td>\n",
       "      <td>All</td>\n",
       "      <td>[11, 23, 35, 37, 38, 43, 44, 109, 51, 65, 66, ...</td>\n",
       "      <td>[Argentina, Belize, Burkina Faso, Cambodia, Ca...</td>\n",
       "    </tr>\n",
       "    <tr>\n",
       "      <th>2</th>\n",
       "      <td>2</td>\n",
       "      <td>All coffee and cocoa growing regions</td>\n",
       "      <td>[176]</td>\n",
       "      <td>[Peru]</td>\n",
       "    </tr>\n",
       "    <tr>\n",
       "      <th>3</th>\n",
       "      <td>3</td>\n",
       "      <td>Andhra Pradesh</td>\n",
       "      <td>[101]</td>\n",
       "      <td>[India]</td>\n",
       "    </tr>\n",
       "    <tr>\n",
       "      <th>4</th>\n",
       "      <td>4</td>\n",
       "      <td>Baja California</td>\n",
       "      <td>[145]</td>\n",
       "      <td>[Mexico]</td>\n",
       "    </tr>\n",
       "    <tr>\n",
       "      <th>5</th>\n",
       "      <td>5</td>\n",
       "      <td>Belém and the metropolitan area</td>\n",
       "      <td>[31]</td>\n",
       "      <td>[Brazil]</td>\n",
       "    </tr>\n",
       "  </tbody>\n",
       "</table>\n",
       "</div>"
      ],
      "text/plain": [
       "   id                                region  \\\n",
       "1   1                                   All   \n",
       "2   2  All coffee and cocoa growing regions   \n",
       "3   3                        Andhra Pradesh   \n",
       "4   4                       Baja California   \n",
       "5   5       Belém and the metropolitan area   \n",
       "\n",
       "                                          country_id  \\\n",
       "1  [11, 23, 35, 37, 38, 43, 44, 109, 51, 65, 66, ...   \n",
       "2                                              [176]   \n",
       "3                                              [101]   \n",
       "4                                              [145]   \n",
       "5                                               [31]   \n",
       "\n",
       "                                             country  \n",
       "1  [Argentina, Belize, Burkina Faso, Cambodia, Ca...  \n",
       "2                                             [Peru]  \n",
       "3                                            [India]  \n",
       "4                                           [Mexico]  \n",
       "5                                           [Brazil]  "
      ]
     },
     "execution_count": 19,
     "metadata": {},
     "output_type": "execute_result"
    }
   ],
   "source": [
    "group_df.head()"
   ]
  },
  {
   "cell_type": "code",
   "execution_count": 20,
   "id": "06530da0-0221-4405-83e3-24339c4d12be",
   "metadata": {},
   "outputs": [],
   "source": [
    "group_df.to_csv('regions.csv', index=False)"
   ]
  },
  {
   "cell_type": "code",
   "execution_count": 21,
   "id": "b584a537-cc07-4273-98a0-d57e5e871a39",
   "metadata": {},
   "outputs": [],
   "source": [
    "regions = group_df"
   ]
  },
  {
   "cell_type": "markdown",
   "id": "0435b95e-d432-4b6f-a2ce-9ed5683964ac",
   "metadata": {},
   "source": [
    "# CREATE LIVING INCOME BENCHMARK"
   ]
  },
  {
   "cell_type": "markdown",
   "id": "a3ff7a49-c832-406d-9d03-e41bbb337c3b",
   "metadata": {},
   "source": [
    "source (kolom source information (K))\n",
    "region (region)\n",
    "year (source information (L))\n",
    "\n",
    "household_size (kolom Average household Size #people)\n",
    "\n",
    "LCU, USD, EUR"
   ]
  },
  {
   "cell_type": "code",
   "execution_count": 22,
   "id": "cfc63a32-8699-4eda-bc0e-ccaf0ea0c00e",
   "metadata": {},
   "outputs": [],
   "source": [
    "df2 = pd.read_excel(\"./lib_dataset.xlsx\", sheet_name=0, header=6)"
   ]
  },
  {
   "cell_type": "code",
   "execution_count": 23,
   "id": "9be136e0-5b79-4904-9a74-b8c4a140a249",
   "metadata": {},
   "outputs": [],
   "source": [
    "country = df2.iloc[:, 0]\n",
    "region = df2.iloc[:, 3]\n",
    "household_size = df2.iloc[:, 6]\n",
    "source = df2.iloc[:, 11] #10\n",
    "year = df2.iloc[:, 12] #11\n",
    "lcu = df2.iloc[:, 14] #13\n",
    "usd = df2.iloc[:, 15] #14\n",
    "eur = df2.iloc[:, 16] #15"
   ]
  },
  {
   "cell_type": "code",
   "execution_count": 24,
   "id": "f8b9ddde-cc17-4ab9-9630-3e896e512211",
   "metadata": {},
   "outputs": [],
   "source": [
    "lib_tmp = {\n",
    "    'country': country,\n",
    "    'region': region,\n",
    "    'household_size': household_size,\n",
    "    'source': source,\n",
    "    'year': year,\n",
    "    'LCU': lcu,\n",
    "    'USD': usd,\n",
    "    'EUR': eur,\n",
    "}"
   ]
  },
  {
   "cell_type": "code",
   "execution_count": 25,
   "id": "9fe9f8f8-748f-4e21-8074-8813a9538631",
   "metadata": {},
   "outputs": [],
   "source": [
    "lib = pd.DataFrame(lib_tmp)"
   ]
  },
  {
   "cell_type": "code",
   "execution_count": 26,
   "id": "05505558-7698-4819-9056-d75602e0a059",
   "metadata": {},
   "outputs": [],
   "source": [
    "lib['country'] = lib['country'].str.replace('\\n', ' ').str.strip()\n",
    "lib['region'] = lib['region'].str.replace('\\n', ' ').str.strip()\n",
    "lib['region'] = lib['region'].str.replace(r'^\\s+|\\s+?$', '', regex=True)"
   ]
  },
  {
   "cell_type": "code",
   "execution_count": 27,
   "id": "9c3824a7-2f48-40b4-a273-679cc5f50d41",
   "metadata": {},
   "outputs": [],
   "source": [
    "lib_split = lib.assign(region=lib['region'].str.split(' / ')).explode('region')\n",
    "lib_split = lib.assign(region=lib['region'].str.split('/ ')).explode('region')\n",
    "lib_split = lib.assign(region=lib['region'].str.split(' /')).explode('region')\n",
    "lib_split = lib.assign(region=lib['region'].str.split('/')).explode('region')\n",
    "lib_split = lib_split.drop_duplicates(subset=['country', 'region'])\n",
    "lib_split.reset_index(drop=True, inplace=True)"
   ]
  },
  {
   "cell_type": "markdown",
   "id": "cd5c3b82-fb67-4588-8bfc-1fadbdfac7e5",
   "metadata": {},
   "source": [
    "## Map benchmark with countries and regions"
   ]
  },
  {
   "cell_type": "code",
   "execution_count": 28,
   "id": "1c41228d-bca5-41c4-9eac-ac7f0ac02f89",
   "metadata": {},
   "outputs": [],
   "source": [
    "def find_region(val):\n",
    "    find_region = regions[regions[\"region\"].str.lower() == str(val).lower()]\n",
    "    if find_region.empty:\n",
    "        print(\"404\", val)\n",
    "        return val\n",
    "    return int(find_region[\"id\"].to_list()[0])"
   ]
  },
  {
   "cell_type": "code",
   "execution_count": 29,
   "id": "ac60d627-bfec-4699-b21f-a079e0f1cc29",
   "metadata": {
    "scrolled": true
   },
   "outputs": [],
   "source": [
    "lib_split[\"country_id\"] = lib_split[\"country\"].apply(find_country)"
   ]
  },
  {
   "cell_type": "code",
   "execution_count": 30,
   "id": "f8ac1443-4791-4bf9-8571-4c70c6eef268",
   "metadata": {},
   "outputs": [],
   "source": [
    "lib_split['region'] = lib_split['region'].str.replace(r'^\\s+|\\s+?$', '', regex=True)"
   ]
  },
  {
   "cell_type": "code",
   "execution_count": 31,
   "id": "9909ba21-97b5-44c2-a1b3-df3ec1f6a858",
   "metadata": {},
   "outputs": [
    {
     "name": "stdout",
     "output_type": "stream",
     "text": [
      "404 \n",
      "404 nan\n"
     ]
    }
   ],
   "source": [
    "lib_split[\"region_id\"] = lib_split[\"region\"].apply(find_region)"
   ]
  },
  {
   "cell_type": "markdown",
   "id": "0f2ce9a5-c2bc-43e1-88de-88c1b1feb7fb",
   "metadata": {},
   "source": [
    "## Export benchmark to CSV"
   ]
  },
  {
   "cell_type": "code",
   "execution_count": 32,
   "id": "ac357725-61e5-4640-a7cf-e1b1a90bcf31",
   "metadata": {},
   "outputs": [],
   "source": [
    "lib_split = lib_split[lib_split[\"region\"].notna()]"
   ]
  },
  {
   "cell_type": "code",
   "execution_count": 33,
   "id": "c90fae2e-ec62-4eaf-aaa1-3daca454c42a",
   "metadata": {},
   "outputs": [],
   "source": [
    "lib_split['region_id'] = pd.to_numeric(lib_split['region_id'], errors='coerce')\n",
    "lib_split['region_id'] = lib_split['region_id'].fillna(0).astype(int)"
   ]
  },
  {
   "cell_type": "code",
   "execution_count": 34,
   "id": "67caf479-8404-4125-837a-75b02de7e8c5",
   "metadata": {},
   "outputs": [],
   "source": [
    "lib_split['year'] = lib_split['year'].fillna(0).astype(int)"
   ]
  },
  {
   "cell_type": "code",
   "execution_count": 35,
   "id": "226d8fb4-ad31-4bc7-93c2-ec03e534f168",
   "metadata": {},
   "outputs": [],
   "source": [
    "lib_split['household_size'] = lib_split['household_size'].fillna(0).astype(int)"
   ]
  },
  {
   "cell_type": "code",
   "execution_count": 36,
   "id": "b6ea4357-7039-4df8-a5d1-5e1e0c7d60df",
   "metadata": {},
   "outputs": [],
   "source": [
    "lib_split = lib_split[lib_split['region'].str.strip() != '']"
   ]
  },
  {
   "cell_type": "code",
   "execution_count": 37,
   "id": "8b8021c5-5544-4dc6-954c-9030808764f1",
   "metadata": {},
   "outputs": [],
   "source": [
    "lib_split[\"id\"] = lib_split.reset_index().index + 1"
   ]
  },
  {
   "cell_type": "code",
   "execution_count": 38,
   "id": "bfecc7f5-0bf6-4391-9ac1-3c2d2f40c224",
   "metadata": {},
   "outputs": [],
   "source": [
    "new_column_order = ['id', 'country_id', 'region_id', 'country', 'region', 'household_size', 'source', 'year', 'LCU', 'USD', 'EUR']"
   ]
  },
  {
   "cell_type": "code",
   "execution_count": 39,
   "id": "700fcfd7-3aed-400c-a0b6-5e0babe71ae7",
   "metadata": {},
   "outputs": [],
   "source": [
    "lib_split = lib_split[new_column_order]"
   ]
  },
  {
   "cell_type": "code",
   "execution_count": 40,
   "id": "00853a31-370f-41a7-96da-d9fd5c3f7158",
   "metadata": {},
   "outputs": [
    {
     "data": {
      "text/html": [
       "<div>\n",
       "<style scoped>\n",
       "    .dataframe tbody tr th:only-of-type {\n",
       "        vertical-align: middle;\n",
       "    }\n",
       "\n",
       "    .dataframe tbody tr th {\n",
       "        vertical-align: top;\n",
       "    }\n",
       "\n",
       "    .dataframe thead th {\n",
       "        text-align: right;\n",
       "    }\n",
       "</style>\n",
       "<table border=\"1\" class=\"dataframe\">\n",
       "  <thead>\n",
       "    <tr style=\"text-align: right;\">\n",
       "      <th></th>\n",
       "      <th>id</th>\n",
       "      <th>country_id</th>\n",
       "      <th>region_id</th>\n",
       "      <th>country</th>\n",
       "      <th>region</th>\n",
       "      <th>household_size</th>\n",
       "      <th>source</th>\n",
       "      <th>year</th>\n",
       "      <th>LCU</th>\n",
       "      <th>USD</th>\n",
       "      <th>EUR</th>\n",
       "    </tr>\n",
       "  </thead>\n",
       "  <tbody>\n",
       "    <tr>\n",
       "      <th>0</th>\n",
       "      <td>1</td>\n",
       "      <td>11.0</td>\n",
       "      <td>68</td>\n",
       "      <td>Argentina</td>\n",
       "      <td>Non-Metropolitan Urban</td>\n",
       "      <td>4</td>\n",
       "      <td>https://www.globallivingwage.org/living-wage-r...</td>\n",
       "      <td>2022</td>\n",
       "      <td>37180.68</td>\n",
       "      <td>284.655199</td>\n",
       "      <td>270.315338</td>\n",
       "    </tr>\n",
       "    <tr>\n",
       "      <th>1</th>\n",
       "      <td>2</td>\n",
       "      <td>11.0</td>\n",
       "      <td>1</td>\n",
       "      <td>Argentina</td>\n",
       "      <td>All</td>\n",
       "      <td>4</td>\n",
       "      <td>https://www.globallivingwage.org/living-wage-r...</td>\n",
       "      <td>2022</td>\n",
       "      <td>37180.68</td>\n",
       "      <td>284.655199</td>\n",
       "      <td>270.315338</td>\n",
       "    </tr>\n",
       "    <tr>\n",
       "      <th>2</th>\n",
       "      <td>3</td>\n",
       "      <td>11.0</td>\n",
       "      <td>74</td>\n",
       "      <td>Argentina</td>\n",
       "      <td>Rural</td>\n",
       "      <td>4</td>\n",
       "      <td>https://globallivingwage.org/living-income-ref...</td>\n",
       "      <td>2022</td>\n",
       "      <td>30800.75</td>\n",
       "      <td>235.810470</td>\n",
       "      <td>223.931223</td>\n",
       "    </tr>\n",
       "    <tr>\n",
       "      <th>3</th>\n",
       "      <td>4</td>\n",
       "      <td>19.0</td>\n",
       "      <td>79</td>\n",
       "      <td>Bangladesh</td>\n",
       "      <td>Urban</td>\n",
       "      <td>4</td>\n",
       "      <td>https://www.globallivingwage.org/living-wage-b...</td>\n",
       "      <td>2022</td>\n",
       "      <td>7602.00</td>\n",
       "      <td>82.859691</td>\n",
       "      <td>78.685531</td>\n",
       "    </tr>\n",
       "    <tr>\n",
       "      <th>4</th>\n",
       "      <td>5</td>\n",
       "      <td>19.0</td>\n",
       "      <td>43</td>\n",
       "      <td>Bangladesh</td>\n",
       "      <td>Satellite Cities</td>\n",
       "      <td>4</td>\n",
       "      <td>https://www.globallivingwage.org/living-wage-b...</td>\n",
       "      <td>2022</td>\n",
       "      <td>7602.00</td>\n",
       "      <td>82.859691</td>\n",
       "      <td>78.685531</td>\n",
       "    </tr>\n",
       "  </tbody>\n",
       "</table>\n",
       "</div>"
      ],
      "text/plain": [
       "   id  country_id  region_id     country                  region  \\\n",
       "0   1        11.0         68   Argentina  Non-Metropolitan Urban   \n",
       "1   2        11.0          1   Argentina                     All   \n",
       "2   3        11.0         74   Argentina                   Rural   \n",
       "3   4        19.0         79  Bangladesh                   Urban   \n",
       "4   5        19.0         43  Bangladesh        Satellite Cities   \n",
       "\n",
       "   household_size                                             source  year  \\\n",
       "0               4  https://www.globallivingwage.org/living-wage-r...  2022   \n",
       "1               4  https://www.globallivingwage.org/living-wage-r...  2022   \n",
       "2               4  https://globallivingwage.org/living-income-ref...  2022   \n",
       "3               4  https://www.globallivingwage.org/living-wage-b...  2022   \n",
       "4               4  https://www.globallivingwage.org/living-wage-b...  2022   \n",
       "\n",
       "        LCU         USD         EUR  \n",
       "0  37180.68  284.655199  270.315338  \n",
       "1  37180.68  284.655199  270.315338  \n",
       "2  30800.75  235.810470  223.931223  \n",
       "3   7602.00   82.859691   78.685531  \n",
       "4   7602.00   82.859691   78.685531  "
      ]
     },
     "execution_count": 40,
     "metadata": {},
     "output_type": "execute_result"
    }
   ],
   "source": [
    "lib_split.head()"
   ]
  },
  {
   "cell_type": "code",
   "execution_count": 41,
   "id": "62de063b-1093-4100-a162-02fe14d03469",
   "metadata": {},
   "outputs": [],
   "source": [
    "lib_split.to_csv('li_benchmark.csv', index=False)"
   ]
  },
  {
   "cell_type": "markdown",
   "id": "0988c773-0adf-45de-b64a-d3b490a55850",
   "metadata": {},
   "source": [
    "# CPI"
   ]
  },
  {
   "cell_type": "code",
   "execution_count": 42,
   "id": "af0e9432-1493-4488-bff2-bc8d16a947b4",
   "metadata": {},
   "outputs": [],
   "source": [
    "df3 = pd.read_excel(\"./lib_dataset.xlsx\", sheet_name=3, header=2)"
   ]
  },
  {
   "cell_type": "code",
   "execution_count": 43,
   "id": "6b62c61c-e69e-45c6-ad85-e49041a24535",
   "metadata": {},
   "outputs": [],
   "source": [
    "# remove unnmaed column\n",
    "df3 = df3.drop(columns=[\"Unnamed: 11\"])"
   ]
  },
  {
   "cell_type": "code",
   "execution_count": 44,
   "id": "7554e8ae-55d5-47da-975b-228131dbd9d3",
   "metadata": {},
   "outputs": [],
   "source": [
    "df3 = df3.rename(columns={\"Country Name\": \"country\"})"
   ]
  },
  {
   "cell_type": "markdown",
   "id": "8f5396dd-ac13-4d1d-99cd-4f00cd92d62c",
   "metadata": {},
   "source": [
    "## Map with Countries"
   ]
  },
  {
   "cell_type": "code",
   "execution_count": 45,
   "id": "be3060a0-4a89-42ea-b20b-055a45869922",
   "metadata": {},
   "outputs": [
    {
     "name": "stdout",
     "output_type": "stream",
     "text": [
      "404 Curaçao, Kingdom of the Netherlands\n",
      "404 Kosovo, Rep. of\n",
      "404 South Sudan, Rep. of\n",
      "404 West Bank and Gaza\n"
     ]
    }
   ],
   "source": [
    "df3[\"country_id\"] = df3[\"country\"].apply(find_country)"
   ]
  },
  {
   "cell_type": "markdown",
   "id": "09573317-f24e-463d-996d-325e357f131b",
   "metadata": {},
   "source": [
    "## Transform CPI table"
   ]
  },
  {
   "cell_type": "code",
   "execution_count": 46,
   "id": "c20c523e-cac0-462e-ac46-1148ce504420",
   "metadata": {},
   "outputs": [],
   "source": [
    "# transform int country, country_id, year, value format\n",
    "melted_df = pd.melt(df3, id_vars=['country', 'country_id'], var_name='year', value_name='value')\n",
    "melted_df['value'] = melted_df['value'].fillna(0)"
   ]
  },
  {
   "cell_type": "code",
   "execution_count": 47,
   "id": "5a9c6615-43f5-41e0-a372-1f450ec3960c",
   "metadata": {},
   "outputs": [],
   "source": [
    "melted_df.reset_index(drop=True, inplace=True)\n",
    "melted_df[\"id\"] = melted_df.reset_index().index + 1"
   ]
  },
  {
   "cell_type": "code",
   "execution_count": 48,
   "id": "8407ee98-1fc5-40e1-89ce-e8517792e69d",
   "metadata": {},
   "outputs": [],
   "source": [
    "new_column_order = [\"id\", \"country\", \"country_id\", \"year\", \"value\"]"
   ]
  },
  {
   "cell_type": "code",
   "execution_count": 49,
   "id": "5426b663-1467-46cc-b912-72dc49eb4def",
   "metadata": {},
   "outputs": [],
   "source": [
    "cpi_df = melted_df[new_column_order]"
   ]
  },
  {
   "cell_type": "markdown",
   "id": "fe3dce4c-8978-41ea-a59f-42f16d054b44",
   "metadata": {},
   "source": [
    "## Export CPI to CSV"
   ]
  },
  {
   "cell_type": "code",
   "execution_count": 50,
   "id": "c033c67d-8f8a-4ed6-9d5b-a0bfec4178c9",
   "metadata": {},
   "outputs": [
    {
     "data": {
      "text/html": [
       "<div>\n",
       "<style scoped>\n",
       "    .dataframe tbody tr th:only-of-type {\n",
       "        vertical-align: middle;\n",
       "    }\n",
       "\n",
       "    .dataframe tbody tr th {\n",
       "        vertical-align: top;\n",
       "    }\n",
       "\n",
       "    .dataframe thead th {\n",
       "        text-align: right;\n",
       "    }\n",
       "</style>\n",
       "<table border=\"1\" class=\"dataframe\">\n",
       "  <thead>\n",
       "    <tr style=\"text-align: right;\">\n",
       "      <th></th>\n",
       "      <th>id</th>\n",
       "      <th>country</th>\n",
       "      <th>country_id</th>\n",
       "      <th>year</th>\n",
       "      <th>value</th>\n",
       "    </tr>\n",
       "  </thead>\n",
       "  <tbody>\n",
       "    <tr>\n",
       "      <th>0</th>\n",
       "      <td>1</td>\n",
       "      <td>Afghanistan, Islamic Rep. of</td>\n",
       "      <td>1</td>\n",
       "      <td>2012</td>\n",
       "      <td>90.717067</td>\n",
       "    </tr>\n",
       "    <tr>\n",
       "      <th>1</th>\n",
       "      <td>2</td>\n",
       "      <td>Albania</td>\n",
       "      <td>3</td>\n",
       "      <td>2012</td>\n",
       "      <td>87.567588</td>\n",
       "    </tr>\n",
       "    <tr>\n",
       "      <th>2</th>\n",
       "      <td>3</td>\n",
       "      <td>Algeria</td>\n",
       "      <td>4</td>\n",
       "      <td>2012</td>\n",
       "      <td>155.054167</td>\n",
       "    </tr>\n",
       "    <tr>\n",
       "      <th>3</th>\n",
       "      <td>4</td>\n",
       "      <td>Angola</td>\n",
       "      <td>7</td>\n",
       "      <td>2012</td>\n",
       "      <td>24.375141</td>\n",
       "    </tr>\n",
       "    <tr>\n",
       "      <th>4</th>\n",
       "      <td>5</td>\n",
       "      <td>Anguilla</td>\n",
       "      <td>8</td>\n",
       "      <td>2012</td>\n",
       "      <td>107.285000</td>\n",
       "    </tr>\n",
       "  </tbody>\n",
       "</table>\n",
       "</div>"
      ],
      "text/plain": [
       "   id                       country country_id  year       value\n",
       "0   1  Afghanistan, Islamic Rep. of          1  2012   90.717067\n",
       "1   2                       Albania          3  2012   87.567588\n",
       "2   3                       Algeria          4  2012  155.054167\n",
       "3   4                        Angola          7  2012   24.375141\n",
       "4   5                      Anguilla          8  2012  107.285000"
      ]
     },
     "execution_count": 50,
     "metadata": {},
     "output_type": "execute_result"
    }
   ],
   "source": [
    "cpi_df.head()"
   ]
  },
  {
   "cell_type": "code",
   "execution_count": 51,
   "id": "30816e73-aa63-4548-9e0c-ad01c7b14844",
   "metadata": {},
   "outputs": [],
   "source": [
    "cpi_df.to_csv('cpi.csv', index=False)"
   ]
  },
  {
   "cell_type": "code",
   "execution_count": null,
   "id": "6d8799dc-74c3-4bd9-88c3-31693b653cfc",
   "metadata": {},
   "outputs": [],
   "source": []
  }
 ],
 "metadata": {
  "kernelspec": {
   "display_name": "Python 3 (ipykernel)",
   "language": "python",
   "name": "python3"
  },
  "language_info": {
   "codemirror_mode": {
    "name": "ipython",
    "version": 3
   },
   "file_extension": ".py",
   "mimetype": "text/x-python",
   "name": "python",
   "nbconvert_exporter": "python",
   "pygments_lexer": "ipython3",
   "version": "3.10.12"
  }
 },
 "nbformat": 4,
 "nbformat_minor": 5
}
