{
 "cells": [
  {
   "cell_type": "markdown",
   "id": "fe26bc83-efac-4e44-b345-7b28a02f3e9e",
   "metadata": {},
   "source": [
    "# Regions V2 - Living Income Benchmark V2 - CPI V2"
   ]
  },
  {
   "cell_type": "markdown",
   "id": "696d44d3-4624-4f6b-bd39-8eae4505513b",
   "metadata": {},
   "source": [
    "Here we will map the li_benchmark_data.csv with countries.csv v2 and region.csv v1"
   ]
  },
  {
   "cell_type": "code",
   "execution_count": 1,
   "id": "6a57ae9b-0320-470c-b79c-0abcbeaafef6",
   "metadata": {},
   "outputs": [],
   "source": [
    "import pandas as pd\n",
    "import re"
   ]
  },
  {
   "cell_type": "markdown",
   "id": "9a0a0aec-366e-4e97-9f51-cda7efe04177",
   "metadata": {},
   "source": [
    "## Load files"
   ]
  },
  {
   "cell_type": "code",
   "execution_count": 2,
   "id": "ab8aab25-b79b-405b-a1b5-1c2a5a990052",
   "metadata": {},
   "outputs": [],
   "source": [
    "countries = pd.read_csv(\"../countries_v2/countries.csv\")"
   ]
  },
  {
   "cell_type": "code",
   "execution_count": 3,
   "id": "02eb8d32-342d-4bb0-9fe8-80f915468ce0",
   "metadata": {},
   "outputs": [],
   "source": [
    "lib = pd.read_csv(\"./li_benchmark_data.csv\")"
   ]
  },
  {
   "cell_type": "code",
   "execution_count": 4,
   "id": "75c24e2e-bb1f-4349-bba2-2284efd77595",
   "metadata": {},
   "outputs": [],
   "source": [
    "lib = lib.dropna(how=\"all\")"
   ]
  },
  {
   "cell_type": "code",
   "execution_count": 5,
   "id": "8538e2bc-2057-47c3-82bc-dc167fa3e868",
   "metadata": {},
   "outputs": [],
   "source": [
    "lib[\"id\"] = lib.reset_index().index + 1"
   ]
  },
  {
   "cell_type": "code",
   "execution_count": 6,
   "id": "c365ccd6-2857-4ec4-b9ab-14b7a4abece8",
   "metadata": {},
   "outputs": [
    {
     "data": {
      "text/plain": [
       "Index(['country', 'region', 'source', 'household_size', 'nr_adults', 'year',\n",
       "       'LCU', 'USD', 'EUR', 'household_equiv', 'links', 'id'],\n",
       "      dtype='object')"
      ]
     },
     "execution_count": 6,
     "metadata": {},
     "output_type": "execute_result"
    }
   ],
   "source": [
    "lib.columns"
   ]
  },
  {
   "cell_type": "markdown",
   "id": "94bc5588-7579-4763-b740-7c0c3ce412b6",
   "metadata": {},
   "source": [
    "## FN"
   ]
  },
  {
   "cell_type": "markdown",
   "id": "80aa4535-08a3-4b73-9f98-26e9399efc60",
   "metadata": {},
   "source": [
    "## Regions V2"
   ]
  },
  {
   "cell_type": "code",
   "execution_count": 7,
   "id": "8fd703d7-f648-461b-b74e-1ca705f00d1a",
   "metadata": {},
   "outputs": [],
   "source": [
    "def find_country(val):\n",
    "    # manual match\n",
    "    if val == \"Turkey\":\n",
    "        val = \"Turkiye\"\n",
    "    # EOL manual match\n",
    "    find_country = countries[countries[\"country\"].str.lower() == str(val).lower()]\n",
    "    if find_country.empty:\n",
    "        # Another custom way\n",
    "        val_lower = str(val).lower()\n",
    "        val_tmp = val_lower.lower().split(',')\n",
    "        for index, row in countries.iterrows():\n",
    "            # Convert the country name in the DataFrame to lowercase\n",
    "            country_name = row['country'].lower()\n",
    "            if val_lower == 'nan':\n",
    "                return None\n",
    "            if country_name not in val_tmp:\n",
    "                continue\n",
    "            return row[\"id\"]\n",
    "        # EOL Another custom way\n",
    "        print(\"404\", val)\n",
    "        return val\n",
    "    return find_country[\"id\"].to_list()[0]"
   ]
  },
  {
   "cell_type": "code",
   "execution_count": 8,
   "id": "fb9ba467-eb67-4cbf-a034-540c335746c2",
   "metadata": {},
   "outputs": [],
   "source": [
    "df = pd.read_excel(\"../lib_dataset.xlsx\", sheet_name=0, header=4)"
   ]
  },
  {
   "cell_type": "code",
   "execution_count": 9,
   "id": "2ada563c-c27d-4a57-9b06-bda410e41ce4",
   "metadata": {},
   "outputs": [],
   "source": [
    "df = df.rename(columns={\"Country\": \"country\", \"Region/area.1\": \"region\"})"
   ]
  },
  {
   "cell_type": "code",
   "execution_count": 10,
   "id": "c1354df5-dfa1-4508-82a2-d0c88c590253",
   "metadata": {},
   "outputs": [],
   "source": [
    "regions = df[[\"country\", \"region\"]]"
   ]
  },
  {
   "cell_type": "code",
   "execution_count": 11,
   "id": "0c971c93-451a-4300-ac27-4730ef0b3d91",
   "metadata": {},
   "outputs": [],
   "source": [
    "regions = regions[regions[\"region\"].notna()]"
   ]
  },
  {
   "cell_type": "code",
   "execution_count": 12,
   "id": "77f3067b-573e-44ff-b4b9-9c8945832c4f",
   "metadata": {},
   "outputs": [],
   "source": [
    "regions['country'] = regions['country'].str.replace('\\n', ' ').str.strip()\n",
    "regions['region'] = regions['region'].str.replace('\\n', ' ').str.strip()\n",
    "regions['region'] = regions['region'].str.replace(r'^\\s+|\\s+?$', '', regex=True)"
   ]
  },
  {
   "cell_type": "code",
   "execution_count": 13,
   "id": "02095360-2430-45bd-a127-55baa3fc7134",
   "metadata": {},
   "outputs": [],
   "source": [
    "split_df = regions.assign(region=regions['region'].str.split(' / ')).explode('region')\n",
    "split_df = regions.assign(region=regions['region'].str.split('/ ')).explode('region')\n",
    "split_df = regions.assign(region=regions['region'].str.split(' /')).explode('region')\n",
    "split_df = regions.assign(region=regions['region'].str.split('/')).explode('region')\n",
    "split_df = split_df.drop_duplicates(subset=['country', 'region'])\n",
    "split_df.reset_index(drop=True, inplace=True)"
   ]
  },
  {
   "cell_type": "markdown",
   "id": "d8096ae0-c9d4-42c5-9e2f-ff915a183163",
   "metadata": {},
   "source": [
    "### Map regions with countries"
   ]
  },
  {
   "cell_type": "code",
   "execution_count": 14,
   "id": "d06dadd4-14ac-4023-a02b-8cbcf5cf5a14",
   "metadata": {},
   "outputs": [],
   "source": [
    "split_df[\"country_id\"] = split_df[\"country\"].apply(find_country)"
   ]
  },
  {
   "cell_type": "code",
   "execution_count": 15,
   "id": "6891798f-37a9-41a7-a573-4b592098e26c",
   "metadata": {},
   "outputs": [
    {
     "data": {
      "text/html": [
       "<div>\n",
       "<style scoped>\n",
       "    .dataframe tbody tr th:only-of-type {\n",
       "        vertical-align: middle;\n",
       "    }\n",
       "\n",
       "    .dataframe tbody tr th {\n",
       "        vertical-align: top;\n",
       "    }\n",
       "\n",
       "    .dataframe thead th {\n",
       "        text-align: right;\n",
       "    }\n",
       "</style>\n",
       "<table border=\"1\" class=\"dataframe\">\n",
       "  <thead>\n",
       "    <tr style=\"text-align: right;\">\n",
       "      <th></th>\n",
       "      <th>country</th>\n",
       "      <th>region</th>\n",
       "      <th>country_id</th>\n",
       "    </tr>\n",
       "  </thead>\n",
       "  <tbody>\n",
       "    <tr>\n",
       "      <th>0</th>\n",
       "      <td>Argentina</td>\n",
       "      <td>Non-Metropolitan Urban</td>\n",
       "      <td>7</td>\n",
       "    </tr>\n",
       "    <tr>\n",
       "      <th>1</th>\n",
       "      <td>Argentina</td>\n",
       "      <td>All</td>\n",
       "      <td>7</td>\n",
       "    </tr>\n",
       "    <tr>\n",
       "      <th>2</th>\n",
       "      <td>Argentina</td>\n",
       "      <td>Rural</td>\n",
       "      <td>7</td>\n",
       "    </tr>\n",
       "    <tr>\n",
       "      <th>3</th>\n",
       "      <td>Bangladesh</td>\n",
       "      <td>Urban</td>\n",
       "      <td>15</td>\n",
       "    </tr>\n",
       "    <tr>\n",
       "      <th>4</th>\n",
       "      <td>Bangladesh</td>\n",
       "      <td>Satellite Cities</td>\n",
       "      <td>15</td>\n",
       "    </tr>\n",
       "  </tbody>\n",
       "</table>\n",
       "</div>"
      ],
      "text/plain": [
       "      country                   region  country_id\n",
       "0   Argentina  Non-Metropolitan Urban            7\n",
       "1   Argentina                      All           7\n",
       "2   Argentina                   Rural            7\n",
       "3  Bangladesh                   Urban           15\n",
       "4  Bangladesh         Satellite Cities          15"
      ]
     },
     "execution_count": 15,
     "metadata": {},
     "output_type": "execute_result"
    }
   ],
   "source": [
    "split_df.head()"
   ]
  },
  {
   "cell_type": "markdown",
   "id": "0d7c748f-30f3-428e-bad3-1f0452f69bc6",
   "metadata": {},
   "source": [
    "### Export Regions to CSV"
   ]
  },
  {
   "cell_type": "code",
   "execution_count": 16,
   "id": "50fb0d4d-ef26-4cef-98a8-793adfbd9890",
   "metadata": {},
   "outputs": [],
   "source": [
    "group_df = split_df.groupby('region').agg({\n",
    "    \"country\": \"unique\",\n",
    "    \"country_id\": \"unique\"\n",
    "}).reset_index()"
   ]
  },
  {
   "cell_type": "code",
   "execution_count": 17,
   "id": "f0ce7fdd-bcbc-4594-aada-25e2f15fb39a",
   "metadata": {},
   "outputs": [],
   "source": [
    "group_df = group_df[group_df['region'].str.strip() != '']"
   ]
  },
  {
   "cell_type": "code",
   "execution_count": 18,
   "id": "65f244cb-aab8-4609-8d1f-f5c716de9675",
   "metadata": {},
   "outputs": [],
   "source": [
    "group_df['region'] = group_df['region'].str.replace(r'^\\s+|\\s+?$', '', regex=True)"
   ]
  },
  {
   "cell_type": "code",
   "execution_count": 19,
   "id": "2ce5b895-5dd2-4229-9bc5-292113b704cf",
   "metadata": {},
   "outputs": [],
   "source": [
    "group_df['country_id'] = group_df['country_id'].apply(list)\n",
    "group_df['country'] = group_df['country'].apply(list)"
   ]
  },
  {
   "cell_type": "code",
   "execution_count": 20,
   "id": "a40a67e3-1a67-45f8-8873-4def2ebf74ef",
   "metadata": {},
   "outputs": [],
   "source": [
    "group_df[\"id\"] = group_df.reset_index().index + 1"
   ]
  },
  {
   "cell_type": "code",
   "execution_count": 21,
   "id": "2b9e9e5c-201c-4936-9e3c-1007add69243",
   "metadata": {},
   "outputs": [],
   "source": [
    "new_column_order = [\"id\", \"region\", \"country_id\", \"country\"]"
   ]
  },
  {
   "cell_type": "code",
   "execution_count": 22,
   "id": "dd267e3b-4c92-41ce-84cd-20c017ce0313",
   "metadata": {},
   "outputs": [],
   "source": [
    "group_df = group_df[new_column_order]"
   ]
  },
  {
   "cell_type": "code",
   "execution_count": 23,
   "id": "8ba4de83-abca-4d5a-aa55-da16593ca53d",
   "metadata": {},
   "outputs": [
    {
     "data": {
      "text/html": [
       "<div>\n",
       "<style scoped>\n",
       "    .dataframe tbody tr th:only-of-type {\n",
       "        vertical-align: middle;\n",
       "    }\n",
       "\n",
       "    .dataframe tbody tr th {\n",
       "        vertical-align: top;\n",
       "    }\n",
       "\n",
       "    .dataframe thead th {\n",
       "        text-align: right;\n",
       "    }\n",
       "</style>\n",
       "<table border=\"1\" class=\"dataframe\">\n",
       "  <thead>\n",
       "    <tr style=\"text-align: right;\">\n",
       "      <th></th>\n",
       "      <th>id</th>\n",
       "      <th>region</th>\n",
       "      <th>country_id</th>\n",
       "      <th>country</th>\n",
       "    </tr>\n",
       "  </thead>\n",
       "  <tbody>\n",
       "    <tr>\n",
       "      <th>1</th>\n",
       "      <td>1</td>\n",
       "      <td>All</td>\n",
       "      <td>[7, 19, 30, 33, 34, 38, 39, 46, 43, 56, 57, 67...</td>\n",
       "      <td>[Argentina, Belize, Burkina Faso, Cambodia, Ca...</td>\n",
       "    </tr>\n",
       "    <tr>\n",
       "      <th>2</th>\n",
       "      <td>2</td>\n",
       "      <td>All coffee and cocoa growing regions</td>\n",
       "      <td>[145]</td>\n",
       "      <td>[Peru]</td>\n",
       "    </tr>\n",
       "    <tr>\n",
       "      <th>3</th>\n",
       "      <td>3</td>\n",
       "      <td>Andhra Pradesh</td>\n",
       "      <td>[84]</td>\n",
       "      <td>[India]</td>\n",
       "    </tr>\n",
       "    <tr>\n",
       "      <th>4</th>\n",
       "      <td>4</td>\n",
       "      <td>Baja California</td>\n",
       "      <td>[119]</td>\n",
       "      <td>[Mexico]</td>\n",
       "    </tr>\n",
       "    <tr>\n",
       "      <th>5</th>\n",
       "      <td>5</td>\n",
       "      <td>Belém and the metropolitan area</td>\n",
       "      <td>[26]</td>\n",
       "      <td>[Brazil]</td>\n",
       "    </tr>\n",
       "  </tbody>\n",
       "</table>\n",
       "</div>"
      ],
      "text/plain": [
       "   id                                region  \\\n",
       "1   1                                   All   \n",
       "2   2  All coffee and cocoa growing regions   \n",
       "3   3                        Andhra Pradesh   \n",
       "4   4                       Baja California   \n",
       "5   5       Belém and the metropolitan area   \n",
       "\n",
       "                                          country_id  \\\n",
       "1  [7, 19, 30, 33, 34, 38, 39, 46, 43, 56, 57, 67...   \n",
       "2                                              [145]   \n",
       "3                                               [84]   \n",
       "4                                              [119]   \n",
       "5                                               [26]   \n",
       "\n",
       "                                             country  \n",
       "1  [Argentina, Belize, Burkina Faso, Cambodia, Ca...  \n",
       "2                                             [Peru]  \n",
       "3                                            [India]  \n",
       "4                                           [Mexico]  \n",
       "5                                           [Brazil]  "
      ]
     },
     "execution_count": 23,
     "metadata": {},
     "output_type": "execute_result"
    }
   ],
   "source": [
    "group_df.head()"
   ]
  },
  {
   "cell_type": "code",
   "execution_count": 24,
   "id": "2b6e476e-6410-44c8-bbc2-034e601f78ad",
   "metadata": {},
   "outputs": [],
   "source": [
    "regions = group_df"
   ]
  },
  {
   "cell_type": "code",
   "execution_count": 25,
   "id": "06530da0-0221-4405-83e3-24339c4d12be",
   "metadata": {},
   "outputs": [],
   "source": [
    "regions.to_csv('regions.csv', index=False)"
   ]
  },
  {
   "cell_type": "markdown",
   "id": "bfd59960-251a-457c-9faf-31c044dc41eb",
   "metadata": {},
   "source": [
    "## Living Income Benchmark V2"
   ]
  },
  {
   "cell_type": "markdown",
   "id": "ee27ab73-17ea-455c-9bac-97d390cb49fa",
   "metadata": {},
   "source": [
    "### Get country id"
   ]
  },
  {
   "cell_type": "code",
   "execution_count": 26,
   "id": "f1dc9d79-542d-4368-92f0-19086333e6fe",
   "metadata": {},
   "outputs": [
    {
     "data": {
      "text/plain": [
       "Index(['id', 'country', 'currency', 'abbreviation'], dtype='object')"
      ]
     },
     "execution_count": 26,
     "metadata": {},
     "output_type": "execute_result"
    }
   ],
   "source": [
    "countries.columns"
   ]
  },
  {
   "cell_type": "code",
   "execution_count": 27,
   "id": "9fc46d52-fc57-4116-a11e-f78baf2b0275",
   "metadata": {},
   "outputs": [],
   "source": [
    "def find_country(val):\n",
    "    if val == \"Turkey\":\n",
    "        val = \"Turkiye\"\n",
    "    country = countries[countries[\"country\"].str.lower() == str(val).lower()]\n",
    "    if country.empty:\n",
    "        print(\"404\", val)\n",
    "        return None\n",
    "    return country[\"id\"].to_list()[0]"
   ]
  },
  {
   "cell_type": "code",
   "execution_count": 28,
   "id": "e5ca42dc-76d7-4354-a827-7554d6a61145",
   "metadata": {},
   "outputs": [],
   "source": [
    "lib[\"country_id\"] = lib[\"country\"].apply(find_country)"
   ]
  },
  {
   "cell_type": "markdown",
   "id": "005b3d53-241a-4d1d-bc5d-13ca9dc584dd",
   "metadata": {},
   "source": [
    "### Get region id"
   ]
  },
  {
   "cell_type": "code",
   "execution_count": 29,
   "id": "e8800fdb-8466-4aa1-afdb-7bd04c6cd85a",
   "metadata": {},
   "outputs": [
    {
     "data": {
      "text/plain": [
       "Index(['id', 'region', 'country_id', 'country'], dtype='object')"
      ]
     },
     "execution_count": 29,
     "metadata": {},
     "output_type": "execute_result"
    }
   ],
   "source": [
    "regions.columns"
   ]
  },
  {
   "cell_type": "code",
   "execution_count": 30,
   "id": "5ba8a9e7-8b15-422b-a719-304bb210d5a6",
   "metadata": {},
   "outputs": [],
   "source": [
    "split_lib = lib.assign(region=lib['region'].str.split(' / ')).explode('region')\n",
    "split_lib = lib.assign(region=lib['region'].str.split('/ ')).explode('region')\n",
    "split_lib = lib.assign(region=lib['region'].str.split(' /')).explode('region')\n",
    "split_lib = lib.assign(region=lib['region'].str.split('/')).explode('region')\n",
    "split_lib = split_lib.drop_duplicates(subset=['country', 'region'])\n",
    "split_lib.reset_index(drop=True, inplace=True)"
   ]
  },
  {
   "cell_type": "code",
   "execution_count": 31,
   "id": "aa42c998-9c41-4b00-a6df-6e90193fafc3",
   "metadata": {},
   "outputs": [],
   "source": [
    "lib = split_lib"
   ]
  },
  {
   "cell_type": "code",
   "execution_count": 32,
   "id": "95105e00-d5ea-42f6-b623-7e916973c167",
   "metadata": {},
   "outputs": [],
   "source": [
    "lib['country'] = lib['country'].str.replace('\\n', ' ').str.strip()\n",
    "lib['region'] = lib['region'].str.replace('\\n', ' ').str.strip()\n",
    "lib['region'] = lib['region'].str.replace(r'^\\s+|\\s+?$', '', regex=True)"
   ]
  },
  {
   "cell_type": "code",
   "execution_count": 33,
   "id": "471b4940-d65e-4f37-922b-7f8519f98f4a",
   "metadata": {},
   "outputs": [],
   "source": [
    "def find_region(val):\n",
    "    region = regions[regions[\"region\"].str.lower() == str(val).lower()]\n",
    "    if region.empty:\n",
    "        print(\"404\", val, \"*\")\n",
    "        return None\n",
    "    return region[\"id\"].to_list()[0]"
   ]
  },
  {
   "cell_type": "code",
   "execution_count": 34,
   "id": "43ecd574-e6a9-4fce-aa5b-49939a81c728",
   "metadata": {},
   "outputs": [
    {
     "name": "stdout",
     "output_type": "stream",
     "text": [
      " Rondônia *\n",
      " Pará *theast\n",
      " Pará *thwest\n",
      " area *olitan the\n",
      " mineira *a Mata\n",
      "404  *\n"
     ]
    }
   ],
   "source": [
    "lib[\"region_id\"] = lib[\"region\"].apply(find_region)"
   ]
  },
  {
   "cell_type": "code",
   "execution_count": 39,
   "id": "d8e2a23b-a30c-4606-9b3d-fbb52cbf9c99",
   "metadata": {},
   "outputs": [],
   "source": [
    "lib = lib.dropna()"
   ]
  },
  {
   "cell_type": "code",
   "execution_count": 40,
   "id": "7e3e130f-841d-4471-905e-551c46e987da",
   "metadata": {},
   "outputs": [],
   "source": [
    "lib[\"id\"] = lib.reset_index().index + 1"
   ]
  },
  {
   "cell_type": "code",
   "execution_count": 41,
   "id": "393dcf92-759b-4fd4-9c0c-79f1d37daf66",
   "metadata": {},
   "outputs": [
    {
     "data": {
      "text/plain": [
       "Index(['id', 'country_id', 'region_id', 'country', 'region', 'source',\n",
       "       'household_size', 'nr_adults', 'year', 'LCU', 'USD', 'EUR',\n",
       "       'household_equiv', 'links'],\n",
       "      dtype='object')"
      ]
     },
     "execution_count": 41,
     "metadata": {},
     "output_type": "execute_result"
    }
   ],
   "source": [
    "lib.columns"
   ]
  },
  {
   "cell_type": "code",
   "execution_count": 42,
   "id": "858cd308-7c2c-4233-84c9-c287c381d05f",
   "metadata": {},
   "outputs": [],
   "source": [
    "lib = lib[['id', 'country_id',\n",
    "       'region_id', 'country', 'region', 'source', 'household_size', 'nr_adults', 'year',\n",
    "       'LCU', 'USD', 'EUR', 'household_equiv', 'links']]"
   ]
  },
  {
   "cell_type": "code",
   "execution_count": 43,
   "id": "9c07e0a4-a086-4c32-8235-55e7222b2b7c",
   "metadata": {},
   "outputs": [],
   "source": [
    "lib.to_csv(\"./li_benchmark.csv\", index=False)"
   ]
  },
  {
   "cell_type": "markdown",
   "id": "6e3b4bc7-3997-43e1-9451-fef3d59e46bd",
   "metadata": {},
   "source": [
    "## CPI V2"
   ]
  },
  {
   "cell_type": "code",
   "execution_count": null,
   "id": "0606ffcd-7d93-495d-acb1-ebf67add1846",
   "metadata": {},
   "outputs": [],
   "source": []
  }
 ],
 "metadata": {
  "kernelspec": {
   "display_name": "Python 3 (ipykernel)",
   "language": "python",
   "name": "python3"
  },
  "language_info": {
   "codemirror_mode": {
    "name": "ipython",
    "version": 3
   },
   "file_extension": ".py",
   "mimetype": "text/x-python",
   "name": "python",
   "nbconvert_exporter": "python",
   "pygments_lexer": "ipython3",
   "version": "3.10.12"
  }
 },
 "nbformat": 4,
 "nbformat_minor": 5
}
