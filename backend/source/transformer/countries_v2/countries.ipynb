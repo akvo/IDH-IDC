{
 "cells": [
  {
   "cell_type": "markdown",
   "id": "ce7812c1-6e29-4235-9f55-a2a3460ab68b",
   "metadata": {},
   "source": [
    "# Countries"
   ]
  },
  {
   "cell_type": "markdown",
   "id": "270dd41d-8c68-49b5-81fe-172239824d80",
   "metadata": {},
   "source": [
    "Create a new master country data from lib_dataset.xlsx sheetname: PPP private conversion factor"
   ]
  },
  {
   "cell_type": "code",
   "execution_count": 1,
   "id": "a0131976-9530-4884-be35-258a4f9cc80b",
   "metadata": {},
   "outputs": [],
   "source": [
    "import pandas as pd"
   ]
  },
  {
   "cell_type": "code",
   "execution_count": 2,
   "id": "78f56e2b-be8b-4223-91c9-5970c34a302a",
   "metadata": {},
   "outputs": [],
   "source": [
    "df = pd.read_excel(\"./countries_LI.xlsx\")"
   ]
  },
  {
   "cell_type": "code",
   "execution_count": 3,
   "id": "c5e4f3f5-b2be-4014-a041-195c81d90a57",
   "metadata": {},
   "outputs": [],
   "source": [
    "df = df.dropna()"
   ]
  },
  {
   "cell_type": "code",
   "execution_count": 4,
   "id": "ea040084-a3bf-40b3-a6ce-d5134064dea2",
   "metadata": {},
   "outputs": [],
   "source": [
    "countries = df[[\"County_LI\"]]"
   ]
  },
  {
   "cell_type": "code",
   "execution_count": 5,
   "id": "5c4f07cc-7619-4729-9bc0-399cb8f9ffe1",
   "metadata": {},
   "outputs": [],
   "source": [
    "countries[\"id\"] = countries.reset_index().index + 1"
   ]
  },
  {
   "cell_type": "code",
   "execution_count": 6,
   "id": "8a75d001-4a30-4f2c-b7ca-6dff9712f9f2",
   "metadata": {},
   "outputs": [],
   "source": [
    "countries = countries.rename(columns={\"County_LI\": \"country\"})"
   ]
  },
  {
   "cell_type": "code",
   "execution_count": 7,
   "id": "766b9685-8833-4ff9-85d7-feff7db03141",
   "metadata": {},
   "outputs": [],
   "source": [
    "countries = countries[[\"id\", \"country\"]]"
   ]
  },
  {
   "cell_type": "code",
   "execution_count": 8,
   "id": "139d50ae-01e6-4eed-9fba-80a7790eb52a",
   "metadata": {},
   "outputs": [
    {
     "data": {
      "text/html": [
       "<div>\n",
       "<style scoped>\n",
       "    .dataframe tbody tr th:only-of-type {\n",
       "        vertical-align: middle;\n",
       "    }\n",
       "\n",
       "    .dataframe tbody tr th {\n",
       "        vertical-align: top;\n",
       "    }\n",
       "\n",
       "    .dataframe thead th {\n",
       "        text-align: right;\n",
       "    }\n",
       "</style>\n",
       "<table border=\"1\" class=\"dataframe\">\n",
       "  <thead>\n",
       "    <tr style=\"text-align: right;\">\n",
       "      <th></th>\n",
       "      <th>id</th>\n",
       "      <th>country</th>\n",
       "    </tr>\n",
       "  </thead>\n",
       "  <tbody>\n",
       "    <tr>\n",
       "      <th>198</th>\n",
       "      <td>199</td>\n",
       "      <td>Vietnam</td>\n",
       "    </tr>\n",
       "    <tr>\n",
       "      <th>199</th>\n",
       "      <td>200</td>\n",
       "      <td>West Bank and Gaza</td>\n",
       "    </tr>\n",
       "    <tr>\n",
       "      <th>200</th>\n",
       "      <td>201</td>\n",
       "      <td>Yemen, Rep.</td>\n",
       "    </tr>\n",
       "    <tr>\n",
       "      <th>201</th>\n",
       "      <td>202</td>\n",
       "      <td>Zambia</td>\n",
       "    </tr>\n",
       "    <tr>\n",
       "      <th>202</th>\n",
       "      <td>203</td>\n",
       "      <td>Zimbabwe</td>\n",
       "    </tr>\n",
       "  </tbody>\n",
       "</table>\n",
       "</div>"
      ],
      "text/plain": [
       "      id             country\n",
       "198  199             Vietnam\n",
       "199  200  West Bank and Gaza\n",
       "200  201         Yemen, Rep.\n",
       "201  202              Zambia\n",
       "202  203            Zimbabwe"
      ]
     },
     "execution_count": 8,
     "metadata": {},
     "output_type": "execute_result"
    }
   ],
   "source": [
    "countries.tail()"
   ]
  },
  {
   "cell_type": "markdown",
   "id": "0cd437a2-9d7b-490b-937e-e7d7e9b4960f",
   "metadata": {},
   "source": [
    "## Map to Master V1 countries.csv to get the currency"
   ]
  },
  {
   "cell_type": "code",
   "execution_count": 9,
   "id": "2c21a318-9d49-419c-92a4-77d610aae910",
   "metadata": {},
   "outputs": [],
   "source": [
    "prev_countries = pd.read_csv(\"../master_v1/countries.csv\")"
   ]
  },
  {
   "cell_type": "code",
   "execution_count": 10,
   "id": "b03bae9a-1230-42f2-9a89-20fb91d8d278",
   "metadata": {},
   "outputs": [
    {
     "data": {
      "text/plain": [
       "Index(['id', 'country', 'country_code', 'currency', 'abbreviation'], dtype='object')"
      ]
     },
     "execution_count": 10,
     "metadata": {},
     "output_type": "execute_result"
    }
   ],
   "source": [
    "prev_countries.columns"
   ]
  },
  {
   "cell_type": "code",
   "execution_count": 11,
   "id": "04087f8f-5840-48d5-8d16-80362ded2966",
   "metadata": {},
   "outputs": [],
   "source": [
    "def remap_prev_countries(val, column_name):\n",
    "    find_curr = prev_countries[prev_countries[\"country\"].str.lower() == str(val).lower()]\n",
    "    if find_curr.empty:\n",
    "        return None\n",
    "    return find_curr[column_name].to_list()[0]"
   ]
  },
  {
   "cell_type": "code",
   "execution_count": 12,
   "id": "e55923fb-25a3-4ac9-b5fa-3f9e42415f6d",
   "metadata": {},
   "outputs": [],
   "source": [
    "def get_currency(val):\n",
    "    return remap_prev_countries(val, \"currency\")"
   ]
  },
  {
   "cell_type": "code",
   "execution_count": 13,
   "id": "9d8f5f8d-32a9-4212-9fa1-d9b0bf46cb10",
   "metadata": {},
   "outputs": [],
   "source": [
    "def get_abbreviation(val):\n",
    "    return remap_prev_countries(val, \"abbreviation\")"
   ]
  },
  {
   "cell_type": "code",
   "execution_count": 14,
   "id": "836f154f-3391-4645-8708-4d969a369389",
   "metadata": {},
   "outputs": [],
   "source": [
    "countries[\"currency\"] = countries[\"country\"].apply(get_currency)"
   ]
  },
  {
   "cell_type": "code",
   "execution_count": 15,
   "id": "120c7b93-6adb-4b80-a95a-4d039fc527f1",
   "metadata": {},
   "outputs": [],
   "source": [
    "countries[\"abbreviation\"] = countries[\"country\"].apply(get_abbreviation)"
   ]
  },
  {
   "cell_type": "code",
   "execution_count": 16,
   "id": "e7cc5cf4-dc6a-40e0-b6b8-2d71f38f4249",
   "metadata": {},
   "outputs": [
    {
     "data": {
      "text/html": [
       "<div>\n",
       "<style scoped>\n",
       "    .dataframe tbody tr th:only-of-type {\n",
       "        vertical-align: middle;\n",
       "    }\n",
       "\n",
       "    .dataframe tbody tr th {\n",
       "        vertical-align: top;\n",
       "    }\n",
       "\n",
       "    .dataframe thead th {\n",
       "        text-align: right;\n",
       "    }\n",
       "</style>\n",
       "<table border=\"1\" class=\"dataframe\">\n",
       "  <thead>\n",
       "    <tr style=\"text-align: right;\">\n",
       "      <th></th>\n",
       "      <th>id</th>\n",
       "      <th>country</th>\n",
       "      <th>currency</th>\n",
       "      <th>abbreviation</th>\n",
       "    </tr>\n",
       "  </thead>\n",
       "  <tbody>\n",
       "    <tr>\n",
       "      <th>0</th>\n",
       "      <td>1</td>\n",
       "      <td>Afghanistan</td>\n",
       "      <td>Afghani</td>\n",
       "      <td>AFN</td>\n",
       "    </tr>\n",
       "    <tr>\n",
       "      <th>1</th>\n",
       "      <td>2</td>\n",
       "      <td>Albania</td>\n",
       "      <td>Lek</td>\n",
       "      <td>ALL</td>\n",
       "    </tr>\n",
       "    <tr>\n",
       "      <th>2</th>\n",
       "      <td>3</td>\n",
       "      <td>Algeria</td>\n",
       "      <td>Algerian Dinar</td>\n",
       "      <td>DZD</td>\n",
       "    </tr>\n",
       "    <tr>\n",
       "      <th>3</th>\n",
       "      <td>4</td>\n",
       "      <td>American Samoa</td>\n",
       "      <td>Euros</td>\n",
       "      <td>EUR</td>\n",
       "    </tr>\n",
       "    <tr>\n",
       "      <th>4</th>\n",
       "      <td>5</td>\n",
       "      <td>Angola</td>\n",
       "      <td>Angolan kwanza</td>\n",
       "      <td>AOA</td>\n",
       "    </tr>\n",
       "  </tbody>\n",
       "</table>\n",
       "</div>"
      ],
      "text/plain": [
       "   id         country        currency abbreviation\n",
       "0   1     Afghanistan         Afghani          AFN\n",
       "1   2         Albania             Lek          ALL\n",
       "2   3         Algeria  Algerian Dinar          DZD\n",
       "3   4  American Samoa           Euros          EUR\n",
       "4   5          Angola  Angolan kwanza          AOA"
      ]
     },
     "execution_count": 16,
     "metadata": {},
     "output_type": "execute_result"
    }
   ],
   "source": [
    "countries.head()"
   ]
  },
  {
   "cell_type": "markdown",
   "id": "0856a27f-b7cc-4897-a5db-f8567cb3be7a",
   "metadata": {},
   "source": [
    "## Map to updated_country_currencies.csv to get the currency"
   ]
  },
  {
   "cell_type": "code",
   "execution_count": 17,
   "id": "0b0d0603-73b5-4815-8976-7dffc69069e2",
   "metadata": {},
   "outputs": [],
   "source": [
    "updated_curr = pd.read_csv(\"./updated_country_currencies_with_names.csv\")"
   ]
  },
  {
   "cell_type": "code",
   "execution_count": 18,
   "id": "62bb2071-994b-4ff0-b7bf-04f1aa216bea",
   "metadata": {},
   "outputs": [
    {
     "data": {
      "text/plain": [
       "Index(['LI', 'Currency', 'Score', 'ISO Currency Code', 'Currency Long Name'], dtype='object')"
      ]
     },
     "execution_count": 18,
     "metadata": {},
     "output_type": "execute_result"
    }
   ],
   "source": [
    "updated_curr.columns"
   ]
  },
  {
   "cell_type": "code",
   "execution_count": 19,
   "id": "817566d3-c01a-4dc1-8497-1d75ecd012fe",
   "metadata": {},
   "outputs": [],
   "source": [
    "def remap_updated_curr(val, column_name):\n",
    "    # Manual\n",
    "    if val == \"British Virgin Islands\":\n",
    "        return \"USD\"\n",
    "    if val == \"Cote d'Ivoire\":\n",
    "        if \"ISO\" in column_name:\n",
    "            return \"XOF\"\n",
    "        return \"CFA Franc BCEAO\"\n",
    "    if val == \"Eswatini\":\n",
    "        if \"ISO\" in column_name:\n",
    "            return \"SZL\"\n",
    "        return \"Lilangeni\"\n",
    "    if val == \"Korea, Rep.\":\n",
    "        if \"ISO\" in column_name:\n",
    "            return \"KRW\"\n",
    "        return \"Won\"\n",
    "    if val == \"Sint Maarten (Dutch part)\":\n",
    "        if \"ISO\" in column_name:\n",
    "            return \"ANG\"\n",
    "        return \"Netherlands Antillean guilder\"\n",
    "    if val == \"Turkiye\":\n",
    "        if \"ISO\" in column_name:\n",
    "            return \"TRY\"\n",
    "        return \"Lira\"\n",
    "    #\n",
    "    find_curr = updated_curr[updated_curr[\"LI\"].str.lower() == str(val).lower()]\n",
    "    if find_curr.empty:\n",
    "        prev = countries[countries[\"country\"].str.lower() == str(val).lower()]\n",
    "        prev_column = \"currency\"\n",
    "        if \"ISO\" in column_name:\n",
    "            prev_column = \"abbreviation\"\n",
    "        return prev[prev_column].to_list()[0]\n",
    "    return find_curr[column_name].to_list()[0]"
   ]
  },
  {
   "cell_type": "code",
   "execution_count": 20,
   "id": "41b3e691-44bc-4b0b-aaa8-a1c2e0660080",
   "metadata": {},
   "outputs": [],
   "source": [
    "def get_updated_currency(val):\n",
    "    return remap_updated_curr(val, \"Currency Long Name\")"
   ]
  },
  {
   "cell_type": "code",
   "execution_count": 21,
   "id": "31a87569-8bb8-4337-95fe-c1f5d761158d",
   "metadata": {},
   "outputs": [],
   "source": [
    "def get_updated_abbreviation(val):\n",
    "    return remap_updated_curr(val, \"ISO Currency Code\")"
   ]
  },
  {
   "cell_type": "code",
   "execution_count": 22,
   "id": "5b831aef-c4e7-499b-8375-e4d82ce9176a",
   "metadata": {},
   "outputs": [],
   "source": [
    "countries[\"currency\"] = countries[\"country\"].apply(get_updated_currency)"
   ]
  },
  {
   "cell_type": "code",
   "execution_count": 23,
   "id": "48919e60-64e6-4541-9063-ffb947e92c6a",
   "metadata": {},
   "outputs": [],
   "source": [
    "countries[\"abbreviation\"] = countries[\"country\"].apply(get_updated_abbreviation)"
   ]
  },
  {
   "cell_type": "code",
   "execution_count": 24,
   "id": "af784231-90fb-4a18-a2c8-cf7e680f6e98",
   "metadata": {},
   "outputs": [],
   "source": [
    "countries.reset_index(drop=True, inplace=True)"
   ]
  },
  {
   "cell_type": "code",
   "execution_count": 25,
   "id": "3d45ad7d-735d-45c6-a53e-a56671c4aa30",
   "metadata": {},
   "outputs": [],
   "source": [
    "countries.to_csv(\"./countries.csv\", index=False)"
   ]
  }
 ],
 "metadata": {
  "kernelspec": {
   "display_name": "Python 3 (ipykernel)",
   "language": "python",
   "name": "python3"
  },
  "language_info": {
   "codemirror_mode": {
    "name": "ipython",
    "version": 3
   },
   "file_extension": ".py",
   "mimetype": "text/x-python",
   "name": "python",
   "nbconvert_exporter": "python",
   "pygments_lexer": "ipython3",
   "version": "3.10.12"
  }
 },
 "nbformat": 4,
 "nbformat_minor": 5
}
