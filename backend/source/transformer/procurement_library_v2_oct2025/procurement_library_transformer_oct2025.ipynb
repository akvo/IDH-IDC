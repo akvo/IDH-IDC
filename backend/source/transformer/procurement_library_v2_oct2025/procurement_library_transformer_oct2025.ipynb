{
 "cells": [
  {
   "cell_type": "markdown",
   "id": "b741f143-5fb4-4ff3-8938-0a9357cd6cbd",
   "metadata": {},
   "source": [
    "```\n",
    "Notebook: prepare_pl_seed_data.ipynb\n",
    "Purpose: Transform the Sustainable Procurement Practices Excel file\n",
    "         into normalized CSVs ready for seeding into the PL database.\n",
    "```"
   ]
  },
  {
   "cell_type": "code",
   "execution_count": 1,
   "id": "74cd4dee-35e6-4f2d-9567-a9fb0b2046dc",
   "metadata": {},
   "outputs": [
    {
     "name": "stdout",
     "output_type": "stream",
     "text": [
      "Requirement already satisfied: pandas in /Users/galihpratama/Library/Python/3.13/lib/python/site-packages (2.3.3)\n",
      "Requirement already satisfied: openpyxl in /Users/galihpratama/Library/Python/3.13/lib/python/site-packages (3.1.5)\n",
      "Requirement already satisfied: numpy>=1.26.0 in /Users/galihpratama/Library/Python/3.13/lib/python/site-packages (from pandas) (2.3.4)\n",
      "Requirement already satisfied: python-dateutil>=2.8.2 in /opt/homebrew/Cellar/jupyterlab/4.4.2_1/libexec/lib/python3.13/site-packages (from pandas) (2.9.0.post0)\n",
      "Requirement already satisfied: pytz>=2020.1 in /Users/galihpratama/Library/Python/3.13/lib/python/site-packages (from pandas) (2025.2)\n",
      "Requirement already satisfied: tzdata>=2022.7 in /Users/galihpratama/Library/Python/3.13/lib/python/site-packages (from pandas) (2025.2)\n",
      "Requirement already satisfied: et-xmlfile in /Users/galihpratama/Library/Python/3.13/lib/python/site-packages (from openpyxl) (2.0.0)\n",
      "Requirement already satisfied: six>=1.5 in /opt/homebrew/Cellar/jupyterlab/4.4.2_1/libexec/lib/python3.13/site-packages (from python-dateutil>=2.8.2->pandas) (1.17.0)\n",
      "Note: you may need to restart the kernel to use updated packages.\n"
     ]
    }
   ],
   "source": [
    "pip install pandas openpyxl"
   ]
  },
  {
   "cell_type": "markdown",
   "id": "2dda94f9-4cb0-4b22-b6f3-f17cfccdafe5",
   "metadata": {},
   "source": [
    "# 1. Configuration"
   ]
  },
  {
   "cell_type": "code",
   "execution_count": 25,
   "id": "60c57018-f381-4782-9c46-7e3b13ba79ed",
   "metadata": {},
   "outputs": [],
   "source": [
    "import pandas as pd\n",
    "import os\n",
    "from pathlib import Path\n",
    "import re\n",
    "import requests\n",
    "from concurrent.futures import ThreadPoolExecutor, as_completed"
   ]
  },
  {
   "cell_type": "code",
   "execution_count": 3,
   "id": "b7f85246-3c2b-47df-95a1-74062d5d7423",
   "metadata": {},
   "outputs": [],
   "source": [
    "# Input and output setup\n",
    "BASE_DIR = Path(\".\")\n",
    "INPUT_FILE = BASE_DIR / \"USE-THIS _Sustainable Procurement Practices Library_Updated Changes_October 2025_1 to 5 ranking.xlsx\"\n",
    "SHEET_NAME = \"Procurement Practices\"\n",
    "OUTPUT_DIR = BASE_DIR / \"output\"\n",
    "OUTPUT_DIR.mkdir(exist_ok=True)"
   ]
  },
  {
   "cell_type": "code",
   "execution_count": 4,
   "id": "5af153cb-3a84-4418-bb69-888a01f4fd8e",
   "metadata": {},
   "outputs": [
    {
     "name": "stdout",
     "output_type": "stream",
     "text": [
      "📘 Loading file: USE-THIS _Sustainable Procurement Practices Library_Updated Changes_October 2025_1 to 5 ranking.xlsx\n",
      "📄 Sheet: Procurement Practices\n",
      "📂 Output dir: /Users/galihpratama/Sites/IDH-IDC/backend/source/transformer/procurement_library_v2_oct2025/output\n",
      "\n"
     ]
    }
   ],
   "source": [
    "print(f\"📘 Loading file: {INPUT_FILE.name}\")\n",
    "print(f\"📄 Sheet: {SHEET_NAME}\")\n",
    "print(f\"📂 Output dir: {OUTPUT_DIR.resolve()}\\n\")"
   ]
  },
  {
   "cell_type": "markdown",
   "id": "23df25ef-c2ce-4c5f-a0b1-026e415d8ef7",
   "metadata": {},
   "source": [
    "# 2. Load the Excel sheet (with multi-row header)"
   ]
  },
  {
   "cell_type": "code",
   "execution_count": 5,
   "id": "76687597-4875-4164-b632-2dca9f153019",
   "metadata": {},
   "outputs": [
    {
     "name": "stdout",
     "output_type": "stream",
     "text": [
      "🔹 Loading Excel sheet with multi-row header...\n"
     ]
    }
   ],
   "source": [
    "print(\"🔹 Loading Excel sheet with multi-row header...\")\n",
    "df_raw = pd.read_excel(INPUT_FILE, sheet_name=SHEET_NAME, header=[0, 1])"
   ]
  },
  {
   "cell_type": "code",
   "execution_count": 6,
   "id": "2dcfdc95-30b4-4bad-9e6c-9c4aaa1c3c78",
   "metadata": {},
   "outputs": [],
   "source": [
    "# Define groups we want to keep\n",
    "GROUP_HEADERS = [\n",
    "    \"Mapping to Sourcing Strategy Cycle\",\n",
    "    \"Mapping to Sustainable Procurement Principles\",\n",
    "    \"Mapping to Value Chain Actors\",\n",
    "]"
   ]
  },
  {
   "cell_type": "code",
   "execution_count": 7,
   "id": "1daf1058-99fc-4a40-852b-b9f66e11c1f6",
   "metadata": {},
   "outputs": [],
   "source": [
    "# Define the list of plain (non-grouped) columns that mark the start of practice data\n",
    "PRACTICE_COLUMNS = [\n",
    "    \"Practice Intervention\",\n",
    "    \"Intervention Definition\",\n",
    "    \"Enabling Conditions\",\n",
    "    \"Practical Application for Sustainable Procurement Cost, Revenue, Risk\",\n",
    "    \"Farmer Rationale Income & Environement\",\n",
    "    \"Risks & Trade Offs\",\n",
    "    \"Intervention Impact Income\",\n",
    "    \"Intervention Impact Environment\",\n",
    "    \"Source / Evidence\",\n",
    "    \"Implementation Time\",\n",
    "    \"Implementation Cost / Effort\",\n",
    "    \"Income Impact\",\n",
    "    \"Environmental Impact\",\n",
    "]"
   ]
  },
  {
   "cell_type": "code",
   "execution_count": 8,
   "id": "fe304e2e-772b-4290-b573-0fb125ce68b5",
   "metadata": {},
   "outputs": [],
   "source": [
    "def clean_header_text(s: str) -> str:\n",
    "    \"\"\"Normalize header text by removing newlines, double spaces, etc.\"\"\"\n",
    "    if pd.isna(s):\n",
    "        return \"\"\n",
    "    s = re.sub(r\"[\\r\\n]+\", \" \", str(s))\n",
    "    s = re.sub(r\"\\s+\", \" \", s).strip()\n",
    "    return s"
   ]
  },
  {
   "cell_type": "code",
   "execution_count": 9,
   "id": "ea3c21e6-a84a-4be2-9b03-0674504f903a",
   "metadata": {},
   "outputs": [],
   "source": [
    "# Smarter flattening logic\n",
    "clean_cols = []\n",
    "current_group = None\n",
    "\n",
    "for top, bottom in df_raw.columns:\n",
    "    top, bottom = clean_header_text(top), clean_header_text(bottom)\n",
    "\n",
    "    # Detect start of group\n",
    "    if top in GROUP_HEADERS:\n",
    "        current_group = top\n",
    "\n",
    "    # If this column belongs to the plain practice section, stop grouping\n",
    "    if bottom in PRACTICE_COLUMNS:\n",
    "        current_group = None\n",
    "\n",
    "    # Handle Unnamed (empty) top header\n",
    "    if top.startswith(\"Unnamed\") or top == \"\":\n",
    "        if current_group:\n",
    "            clean_cols.append(f\"{current_group}|{bottom}\")\n",
    "        else:\n",
    "            clean_cols.append(bottom)\n",
    "    else:\n",
    "        # Normal grouped column\n",
    "        if current_group and (top in GROUP_HEADERS):\n",
    "            clean_cols.append(f\"{current_group}|{bottom}\")\n",
    "        else:\n",
    "            clean_cols.append(bottom)"
   ]
  },
  {
   "cell_type": "code",
   "execution_count": 10,
   "id": "00f7e25a-8daa-4d10-805f-cababa65cb84",
   "metadata": {},
   "outputs": [],
   "source": [
    "# Final cleanup pass\n",
    "df_raw.columns = [c.strip().replace(\"  \", \" \") for c in clean_cols]"
   ]
  },
  {
   "cell_type": "code",
   "execution_count": 11,
   "id": "e2a330ef-2af0-4c09-a161-d5d2798750c6",
   "metadata": {},
   "outputs": [],
   "source": [
    "# Drop any columns that start with 'Unnamed' (extra empty Excel columns)\n",
    "df_raw = df_raw.loc[:, ~df_raw.columns.str.contains(\"^Unnamed\")]\n",
    "\n",
    "# Optional: trim spaces again just in case\n",
    "df_raw.columns = df_raw.columns.str.strip()"
   ]
  },
  {
   "cell_type": "code",
   "execution_count": 12,
   "id": "a42af9ec-b13a-4ccb-a198-b369095d90c4",
   "metadata": {},
   "outputs": [
    {
     "name": "stdout",
     "output_type": "stream",
     "text": [
      "✅ Final Cleaned Columns:\n",
      "['Area', 'Mapping to Sourcing Strategy Cycle|Step 1 of Sourcing Strategy Cycle', 'Mapping to Sourcing Strategy Cycle|Step 2 of Sourcing Strategy Cycle2', 'Mapping to Sourcing Strategy Cycle|Step 3 of Sourcing Strategy Cycle3', 'Mapping to Sourcing Strategy Cycle|Step 4 of Sourcing Strategy Cycle4', 'Mapping to Sustainable Procurement Principles|1. Longer-term purchasing agreements', 'Mapping to Sustainable Procurement Principles|2. Improved payment terms and higher (farmgate) prices)', 'Mapping to Sustainable Procurement Principles|3. Develop and deepen equitable supply chain relationships', 'Mapping to Sustainable Procurement Principles|4. Improve efficiency and enhance transparency', 'Mapping to Sustainable Procurement Principles|5. Reduce volatility and risk for farmers', 'Mapping to Value Chain Actors|Farmer', 'Mapping to Value Chain Actors|Primary/ Secondary Processor', 'Mapping to Value Chain Actors|Trader', 'Mapping to Value Chain Actors|Manufacturer/ Processor', 'Mapping to Value Chain Actors|Retailer', 'Practice Intervention', 'Intervention Definition', 'Enabling Conditions', 'Practical Application for Sustainable Procurement Cost, Revenue, Risk', 'Farmer Rationale Income & Environement', 'Risks & Trade Offs', 'Intervention Impact Income', 'Intervention Impact Environment', 'Source / Evidence', 'Implementation Time', 'Implementation Cost / Effort', 'Income Impact', 'Environmental Impact']\n",
      "✅ Loaded 52 rows.\n",
      "\n"
     ]
    },
    {
     "data": {
      "text/html": [
       "<div>\n",
       "<style scoped>\n",
       "    .dataframe tbody tr th:only-of-type {\n",
       "        vertical-align: middle;\n",
       "    }\n",
       "\n",
       "    .dataframe tbody tr th {\n",
       "        vertical-align: top;\n",
       "    }\n",
       "\n",
       "    .dataframe thead th {\n",
       "        text-align: right;\n",
       "    }\n",
       "</style>\n",
       "<table border=\"1\" class=\"dataframe\">\n",
       "  <thead>\n",
       "    <tr style=\"text-align: right;\">\n",
       "      <th></th>\n",
       "      <th>Area</th>\n",
       "      <th>Mapping to Sourcing Strategy Cycle|Step 1 of Sourcing Strategy Cycle</th>\n",
       "      <th>Mapping to Sourcing Strategy Cycle|Step 2 of Sourcing Strategy Cycle2</th>\n",
       "      <th>Mapping to Sourcing Strategy Cycle|Step 3 of Sourcing Strategy Cycle3</th>\n",
       "      <th>Mapping to Sourcing Strategy Cycle|Step 4 of Sourcing Strategy Cycle4</th>\n",
       "      <th>Mapping to Sustainable Procurement Principles|1. Longer-term purchasing agreements</th>\n",
       "      <th>Mapping to Sustainable Procurement Principles|2. Improved payment terms and higher (farmgate) prices)</th>\n",
       "      <th>Mapping to Sustainable Procurement Principles|3. Develop and deepen equitable supply chain relationships</th>\n",
       "      <th>Mapping to Sustainable Procurement Principles|4. Improve efficiency and enhance transparency</th>\n",
       "      <th>Mapping to Sustainable Procurement Principles|5. Reduce volatility and risk for farmers</th>\n",
       "      <th>...</th>\n",
       "      <th>Practical Application for Sustainable Procurement Cost, Revenue, Risk</th>\n",
       "      <th>Farmer Rationale Income &amp; Environement</th>\n",
       "      <th>Risks &amp; Trade Offs</th>\n",
       "      <th>Intervention Impact Income</th>\n",
       "      <th>Intervention Impact Environment</th>\n",
       "      <th>Source / Evidence</th>\n",
       "      <th>Implementation Time</th>\n",
       "      <th>Implementation Cost / Effort</th>\n",
       "      <th>Income Impact</th>\n",
       "      <th>Environmental Impact</th>\n",
       "    </tr>\n",
       "  </thead>\n",
       "  <tbody>\n",
       "    <tr>\n",
       "      <th>0</th>\n",
       "      <td>Environment</td>\n",
       "      <td>NaN</td>\n",
       "      <td>NaN</td>\n",
       "      <td>NaN</td>\n",
       "      <td>X</td>\n",
       "      <td>NaN</td>\n",
       "      <td>NaN</td>\n",
       "      <td>NaN</td>\n",
       "      <td>x</td>\n",
       "      <td>x</td>\n",
       "      <td>...</td>\n",
       "      <td>Agroecological Practices are most likely to em...</td>\n",
       "      <td>Environmental Perspective:\\nSoil Health: A mix...</td>\n",
       "      <td>1. Buyer Perspective:\\nRisks:\\nSupply Chain Co...</td>\n",
       "      <td>Direct</td>\n",
       "      <td>Direct</td>\n",
       "      <td>1. https://environmentalevidencejournal.biomed...</td>\n",
       "      <td>5</td>\n",
       "      <td>3.0</td>\n",
       "      <td>5.0</td>\n",
       "      <td>5.0</td>\n",
       "    </tr>\n",
       "    <tr>\n",
       "      <th>1</th>\n",
       "      <td>Income</td>\n",
       "      <td>X</td>\n",
       "      <td>NaN</td>\n",
       "      <td>NaN</td>\n",
       "      <td>NaN</td>\n",
       "      <td>NaN</td>\n",
       "      <td>x</td>\n",
       "      <td>NaN</td>\n",
       "      <td>x</td>\n",
       "      <td>NaN</td>\n",
       "      <td>...</td>\n",
       "      <td>Corporate or brand sustainability commitments ...</td>\n",
       "      <td>Income Perspective\\nMarket Access and Fair Pri...</td>\n",
       "      <td>1. Buyer Perspective:\\n\\nRisks:\\nMisalignment ...</td>\n",
       "      <td>Indirect</td>\n",
       "      <td>Indirect</td>\n",
       "      <td>Based on old procurement framework of IDH and ...</td>\n",
       "      <td>1</td>\n",
       "      <td>1.0</td>\n",
       "      <td>5.0</td>\n",
       "      <td>5.0</td>\n",
       "    </tr>\n",
       "  </tbody>\n",
       "</table>\n",
       "<p>2 rows × 28 columns</p>\n",
       "</div>"
      ],
      "text/plain": [
       "          Area  \\\n",
       "0  Environment   \n",
       "1       Income   \n",
       "\n",
       "  Mapping to Sourcing Strategy Cycle|Step 1 of Sourcing Strategy Cycle  \\\n",
       "0                                                NaN                     \n",
       "1                                                  X                     \n",
       "\n",
       "  Mapping to Sourcing Strategy Cycle|Step 2 of Sourcing Strategy Cycle2  \\\n",
       "0                                                NaN                      \n",
       "1                                                NaN                      \n",
       "\n",
       "  Mapping to Sourcing Strategy Cycle|Step 3 of Sourcing Strategy Cycle3  \\\n",
       "0                                                NaN                      \n",
       "1                                                NaN                      \n",
       "\n",
       "  Mapping to Sourcing Strategy Cycle|Step 4 of Sourcing Strategy Cycle4  \\\n",
       "0                                                  X                      \n",
       "1                                                NaN                      \n",
       "\n",
       "  Mapping to Sustainable Procurement Principles|1. Longer-term purchasing agreements  \\\n",
       "0                                                NaN                                   \n",
       "1                                                NaN                                   \n",
       "\n",
       "  Mapping to Sustainable Procurement Principles|2. Improved payment terms and higher (farmgate) prices)  \\\n",
       "0                                                NaN                                                      \n",
       "1                                                  x                                                      \n",
       "\n",
       "  Mapping to Sustainable Procurement Principles|3. Develop and deepen equitable supply chain relationships  \\\n",
       "0                                                NaN                                                         \n",
       "1                                                NaN                                                         \n",
       "\n",
       "  Mapping to Sustainable Procurement Principles|4. Improve efficiency and enhance transparency  \\\n",
       "0                                                  x                                             \n",
       "1                                                  x                                             \n",
       "\n",
       "  Mapping to Sustainable Procurement Principles|5. Reduce volatility and risk for farmers  \\\n",
       "0                                                  x                                        \n",
       "1                                                NaN                                        \n",
       "\n",
       "   ... Practical Application for Sustainable Procurement Cost, Revenue, Risk  \\\n",
       "0  ...  Agroecological Practices are most likely to em...                      \n",
       "1  ...  Corporate or brand sustainability commitments ...                      \n",
       "\n",
       "              Farmer Rationale Income & Environement  \\\n",
       "0  Environmental Perspective:\\nSoil Health: A mix...   \n",
       "1  Income Perspective\\nMarket Access and Fair Pri...   \n",
       "\n",
       "                                  Risks & Trade Offs  \\\n",
       "0  1. Buyer Perspective:\\nRisks:\\nSupply Chain Co...   \n",
       "1  1. Buyer Perspective:\\n\\nRisks:\\nMisalignment ...   \n",
       "\n",
       "  Intervention Impact Income Intervention Impact Environment  \\\n",
       "0                     Direct                          Direct   \n",
       "1                   Indirect                        Indirect   \n",
       "\n",
       "                                   Source / Evidence Implementation Time  \\\n",
       "0  1. https://environmentalevidencejournal.biomed...                   5   \n",
       "1  Based on old procurement framework of IDH and ...                   1   \n",
       "\n",
       "  Implementation Cost / Effort Income Impact Environmental Impact  \n",
       "0                          3.0           5.0                  5.0  \n",
       "1                          1.0           5.0                  5.0  \n",
       "\n",
       "[2 rows x 28 columns]"
      ]
     },
     "metadata": {},
     "output_type": "display_data"
    }
   ],
   "source": [
    "print(\"✅ Final Cleaned Columns:\")\n",
    "print(df_raw.columns.tolist())\n",
    "print(f\"✅ Loaded {len(df_raw)} rows.\\n\")\n",
    "\n",
    "display(df_raw.head(2))"
   ]
  },
  {
   "cell_type": "markdown",
   "id": "7167fb5c-2f29-4893-b79c-3b7c90c49a52",
   "metadata": {},
   "source": [
    "# 3. Define category mappings"
   ]
  },
  {
   "cell_type": "code",
   "execution_count": 13,
   "id": "8ba5afc8-2ed2-4ed7-bd56-32e98c5ce9a5",
   "metadata": {},
   "outputs": [],
   "source": [
    "CATEGORY_MAP = {\n",
    "    # Sourcing Strategy Cycle\n",
    "    \"Mapping to Sourcing Strategy Cycle|Step 1 of Sourcing Strategy Cycle\": \"Sourcing Strategy Cycle - Step 1\",\n",
    "    \"Mapping to Sourcing Strategy Cycle|Step 2 of Sourcing Strategy Cycle2\": \"Sourcing Strategy Cycle - Step 2\",\n",
    "    \"Mapping to Sourcing Strategy Cycle|Step 3 of Sourcing Strategy Cycle3\": \"Sourcing Strategy Cycle - Step 3\",\n",
    "    \"Mapping to Sourcing Strategy Cycle|Step 4 of Sourcing Strategy Cycle4\": \"Sourcing Strategy Cycle - Step 4\",\n",
    "\n",
    "    # Sustainable Procurement Principles\n",
    "    \"Mapping to Sustainable Procurement Principles|1. Longer-term purchasing agreements\": \"Sustainable Procurement Principle - 1. Longer-term purchasing agreements\",\n",
    "    \"Mapping to Sustainable Procurement Principles|2. Improved payment terms and higher (farmgate) prices)\": \"Sustainable Procurement Principle - 2. Improved payment terms and higher (farmgate) prices)\",\n",
    "    \"Mapping to Sustainable Procurement Principles|3. Develop and deepen equitable supply chain relationships\": \"Sustainable Procurement Principle - 3. Develop and deepen equitable supply chain relationships\",\n",
    "    \"Mapping to Sustainable Procurement Principles|4. Improve efficiency and enhance transparency\": \"Sustainable Procurement Principle - 4. Improve efficiency and enhance transparency\",\n",
    "    \"Mapping to Sustainable Procurement Principles|5. Reduce volatility and risk for farmers\": \"Sustainable Procurement Principle - 5. Reduce volatility and risk for farmers\",\n",
    "\n",
    "    # Value Chain Actors\n",
    "    \"Mapping to Value Chain Actors|Farmer\": \"Value Chain Actor - Farmer\",\n",
    "    \"Mapping to Value Chain Actors|Primary/ Secondary Processor\": \"Value Chain Actor - Primary/ Secondary Processor\",\n",
    "    \"Mapping to Value Chain Actors|Trader\": \"Value Chain Actor - Trader\",\n",
    "    \"Mapping to Value Chain Actors|Manufacturer/ Processor\": \"Value Chain Actor - Manufacturer/ Processor\",\n",
    "    \"Mapping to Value Chain Actors|Retailer\": \"Value Chain Actor - Retailer\",\n",
    "}"
   ]
  },
  {
   "cell_type": "markdown",
   "id": "cdbc6a8b-6011-403c-8a1c-2fea840918dd",
   "metadata": {},
   "source": [
    "# 4. Normalize: extract categories, attributes, and practices"
   ]
  },
  {
   "cell_type": "code",
   "execution_count": 14,
   "id": "472011b3-268d-4d48-9a3c-17b4e1558b46",
   "metadata": {},
   "outputs": [
    {
     "name": "stdout",
     "output_type": "stream",
     "text": [
      "🔹 Normalizing categories, attributes, and practices...\n"
     ]
    }
   ],
   "source": [
    "print(\"🔹 Normalizing categories, attributes, and practices...\")"
   ]
  },
  {
   "cell_type": "code",
   "execution_count": 15,
   "id": "e351dc1c-00d8-4be1-b66a-29ef37bdff72",
   "metadata": {},
   "outputs": [],
   "source": [
    "def clean_indicator_name(label: str) -> str:\n",
    "    # Lowercase\n",
    "    name = label.lower()\n",
    "    # Replace special connectors\n",
    "    name = name.replace(\"&\", \"_and_\").replace(\"%\", \"_percent_\")\n",
    "    # Replace slashes and spaces\n",
    "    name = re.sub(r\"[\\/\\s]+\", \"_\", name)\n",
    "    # Remove punctuation and parentheses\n",
    "    name = re.sub(r\"[()\\\"',.:;!?]\", \"\", name)\n",
    "    # Collapse multiple underscores\n",
    "    name = re.sub(r\"_+\", \"_\", name)\n",
    "    # Trim trailing/leading underscores\n",
    "    name = name.strip(\"_\")\n",
    "    return name"
   ]
  },
  {
   "cell_type": "code",
   "execution_count": 16,
   "id": "2715639d-b2e2-4dda-9215-fc80e39d96d5",
   "metadata": {},
   "outputs": [],
   "source": [
    "# Prepare lookup containers\n",
    "categories, attributes, practices, practice_tags, indicators, scores = [], [], [], [], [], []"
   ]
  },
  {
   "cell_type": "code",
   "execution_count": 17,
   "id": "6c594917-bedb-4dc7-9341-7e9389ef484b",
   "metadata": {},
   "outputs": [],
   "source": [
    "# Pre-create categories from CATEGORY_MAP (unique by prefix)\n",
    "for cat_label in sorted(set(CATEGORY_MAP.values())):\n",
    "    prefix = cat_label.split(\" - \")[0].strip()\n",
    "    if not any(c[\"name\"] == prefix for c in categories):\n",
    "        categories.append({\"id\": len(categories) + 1, \"name\": prefix, \"description\": None})"
   ]
  },
  {
   "cell_type": "code",
   "execution_count": 18,
   "id": "fec6d91a-30b6-45f3-9d76-ad771991e441",
   "metadata": {},
   "outputs": [],
   "source": [
    "# Build attributes (linked to categories)\n",
    "for full_label in sorted(CATEGORY_MAP.values()):\n",
    "    prefix = full_label.split(\" - \")[0].strip()\n",
    "    cat_id = next(c[\"id\"] for c in categories if c[\"name\"] == prefix)\n",
    "    attributes.append({\n",
    "        \"id\": len(attributes) + 1,\n",
    "        \"category_id\": cat_id,\n",
    "        \"label\": full_label,\n",
    "        \"description\": None,\n",
    "    })"
   ]
  },
  {
   "cell_type": "code",
   "execution_count": 19,
   "id": "99fb8918-a757-45a4-87ec-a2997882a18d",
   "metadata": {},
   "outputs": [],
   "source": [
    "def text_to_html(text):\n",
    "    \"\"\"Convert structured text into readable HTML with headings, links, and paragraphs.\"\"\"\n",
    "    if pd.isna(text) or str(text).strip() == \"\":\n",
    "        return \"\"\n",
    "    \n",
    "    lines = str(text).split(\"\\n\")\n",
    "    formatted_lines = []\n",
    "\n",
    "    for line in lines:\n",
    "        line = line.strip()\n",
    "        if not line:\n",
    "            continue\n",
    "        \n",
    "        # Handle numbered/bullet lists\n",
    "        if re.match(r\"^\\d+\\.\\s\", line):\n",
    "            if \"http\" in line:\n",
    "                formatted_lines.append(f'<a href=\"{line[3:].strip()}\" target=\"_blank\">{line}</a><br/>')\n",
    "            else:\n",
    "                formatted_lines.append(f\"<h3>{line}</h3>\")\n",
    "\n",
    "        # Convert titles to headings\n",
    "        elif any(keyword.lower() in line.lower() for keyword in [\n",
    "            \"definition:\", \"enabling conditions\", \"business rationale\",\n",
    "            \"farmer rationale\", \"risks:\", \"trade-offs:\"\n",
    "        ]):\n",
    "            if len(line) < 90:\n",
    "                formatted_lines.append(f\"<h4>{line.replace(':', '')}</h4>\")\n",
    "            else:\n",
    "                formatted_lines.append(f\"<p>{line}</p>\")\n",
    "\n",
    "        # Convert URLs\n",
    "        elif re.search(r\"https?://\\S+\", line):\n",
    "            line = re.sub(r\"(https?://\\S+)\", r'<a href=\"\\1\" target=\"_blank\">\\1</a>', line)\n",
    "            formatted_lines.append(f\"<p>{line}</p>\")\n",
    "\n",
    "        # Bold label-value pairs\n",
    "        elif \":\" in line and not re.match(r\"^\\d+\\.\\s\", line):\n",
    "            parts = line.split(\":\", 1)\n",
    "            if len(parts) == 2 and parts[1].strip():\n",
    "                formatted_lines.append(f\"<p><b>{parts[0]}:</b> {parts[1]}</p>\")\n",
    "            else:\n",
    "                formatted_lines.append(f\"<h3>{line}</h3>\")\n",
    "        else:\n",
    "            formatted_lines.append(f\"<p>{line}</p>\")\n",
    "    \n",
    "    return \"\\n\".join(formatted_lines)"
   ]
  },
  {
   "cell_type": "code",
   "execution_count": 20,
   "id": "a102c4d5-e427-4b32-9be6-bc0128cb85a7",
   "metadata": {},
   "outputs": [],
   "source": [
    "# Build practice interventions\n",
    "for _, row in df_raw.iterrows():\n",
    "    label = str(row.get(\"Practice Intervention\", \"\")).strip()\n",
    "    if not label or label.lower() == \"nan\":\n",
    "        continue\n",
    "\n",
    "    practice = {\n",
    "        \"id\": len(practices) + 1,\n",
    "        \"label\": label,\n",
    "        \"intervention_definition\": text_to_html(row.get(\"Intervention Definition\")),\n",
    "        \"enabling_conditions\": text_to_html(row.get(\"Enabling Conditions\")),\n",
    "        \"business_rationale\": text_to_html(row.get(\"Practical Application for Sustainable Procurement Cost, Revenue, Risk\")),\n",
    "        \"farmer_rationale\": text_to_html(row.get(\"Farmer Rationale Income & Environement\")),\n",
    "        \"risks_n_trade_offs\": text_to_html(row.get(\"Risks & Trade Offs\")),\n",
    "        \"intervention_impact_income\": text_to_html(row.get(\"Intervention Impact Income\")),\n",
    "        \"intervention_impact_env\": text_to_html(row.get(\"Intervention Impact Environment\")),\n",
    "        \"source_or_evidence\": text_to_html(row.get(\"Source / Evidence\")),\n",
    "    }\n",
    "    practices.append(practice)\n",
    "\n",
    "    # Handle tag links (X markers)\n",
    "    for col, full_label in CATEGORY_MAP.items():\n",
    "        val = str(row.get(col, \"\")).strip().lower()\n",
    "        if val in (\"x\", \"✓\"):\n",
    "            attr_id = next(a[\"id\"] for a in attributes if a[\"label\"] == full_label)\n",
    "            practice_tags.append({\n",
    "                \"practice_intervention_id\": practice[\"id\"],\n",
    "                \"attribute_id\": attr_id\n",
    "            })\n",
    "\n",
    "    # Handle indicator scores\n",
    "    for indicator_name in [\n",
    "        \"Implementation Time\",\n",
    "        \"Implementation Cost / Effort\",\n",
    "        \"Income Impact\",\n",
    "        \"Environmental Impact\",\n",
    "    ]:\n",
    "        if pd.notna(row.get(indicator_name)):\n",
    "            # Create indicator if not exists\n",
    "            if not any(i[\"label\"] == indicator_name for i in indicators):\n",
    "                indicators.append({\n",
    "                    \"id\": len(indicators) + 1,\n",
    "                    \"name\": clean_indicator_name(indicator_name),\n",
    "                    \"label\": indicator_name,\n",
    "                    \"description\": None,\n",
    "                })\n",
    "            ind_id = next(i[\"id\"] for i in indicators if i[\"label\"] == indicator_name)\n",
    "            scores.append({\n",
    "                \"id\": len(scores) + 1,\n",
    "                \"practice_intervention_id\": practice[\"id\"],\n",
    "                \"indicator_id\": ind_id,\n",
    "                \"score\": float(row.get(indicator_name)),\n",
    "            })"
   ]
  },
  {
   "cell_type": "code",
   "execution_count": 26,
   "id": "6b4b7de0-6b88-4113-86f8-2d0a09ee3403",
   "metadata": {},
   "outputs": [],
   "source": [
    "# -----------------------------------------------\n",
    "# 1️⃣ Extract URLs from the source_or_evidence text\n",
    "# -----------------------------------------------\n",
    "def extract_urls_from_html(text):\n",
    "    \"\"\"Extract and clean URLs from text or HTML.\"\"\"\n",
    "    if pd.isna(text) or not text:\n",
    "        return []\n",
    "    urls = re.findall(r'(https?://\\S+|www\\.\\S+|\\S+\\.(?:com|org|net))', str(text))\n",
    "    clean_urls = []\n",
    "    for u in urls:\n",
    "        url = (\n",
    "            u.replace(\"href=\", \"\")\n",
    "            .replace('\"', \"\")\n",
    "            .replace(\"'\", \"\")\n",
    "            .replace(\"(\", \"\")\n",
    "            .replace(\")\", \"\")\n",
    "            .replace(\"</strong>\", \"\")\n",
    "            .split(\">\")[0]\n",
    "        )\n",
    "        if url.startswith(\"www.\"):\n",
    "            url = f\"http://{url}\"\n",
    "        clean_urls.append(url.strip())\n",
    "    return clean_urls"
   ]
  },
  {
   "cell_type": "code",
   "execution_count": 27,
   "id": "6b1cad13-2a23-4ada-bd99-864e2545b883",
   "metadata": {},
   "outputs": [],
   "source": [
    "# -----------------------------------------------\n",
    "# 2️⃣ Validate URLs (HTTP HEAD -> fallback GET)\n",
    "# -----------------------------------------------\n",
    "def get_status_code(url, timeout=5):\n",
    "    \"\"\"Return HTTP status code or None if unreachable.\"\"\"\n",
    "    try:\n",
    "        response = requests.head(url, allow_redirects=True, timeout=timeout)\n",
    "        return int(response.status_code)\n",
    "    except requests.RequestException:\n",
    "        try:\n",
    "            response = requests.get(url, allow_redirects=True, timeout=timeout)\n",
    "            return int(response.status_code)\n",
    "        except:\n",
    "            return None"
   ]
  },
  {
   "cell_type": "code",
   "execution_count": 28,
   "id": "c8ade7a1-2d2c-47ab-b9da-bcf8f7535cff",
   "metadata": {},
   "outputs": [],
   "source": [
    "# -----------------------------------------------\n",
    "# 3️⃣ Build dataframe from practices list\n",
    "# -----------------------------------------------\n",
    "df_practices = pd.DataFrame(practices)\n",
    "\n",
    "# Extract URLs per practice\n",
    "df_practices[\"source_urls\"] = df_practices[\"source_or_evidence\"].apply(extract_urls_from_html)\n",
    "\n",
    "# Flatten all URLs for validation\n",
    "urls_to_check = df_practices[\"source_urls\"].explode().dropna().unique().tolist()"
   ]
  },
  {
   "cell_type": "code",
   "execution_count": 29,
   "id": "1270ea7f-c793-4537-a2a3-4286931888a4",
   "metadata": {},
   "outputs": [
    {
     "name": "stdout",
     "output_type": "stream",
     "text": [
      "🔍 Validating 91 unique URLs...\n"
     ]
    }
   ],
   "source": [
    "# -----------------------------------------------\n",
    "# 4️⃣ Validate all unique URLs in parallel\n",
    "# -----------------------------------------------\n",
    "print(f\"🔍 Validating {len(urls_to_check)} unique URLs...\")\n",
    "\n",
    "url_status_map = {}\n",
    "\n",
    "with ThreadPoolExecutor(max_workers=10) as executor:\n",
    "    future_to_url = {\n",
    "        executor.submit(get_status_code, url): url for url in urls_to_check\n",
    "    }\n",
    "    for future in as_completed(future_to_url):\n",
    "        url = future_to_url[future]\n",
    "        url_status_map[url] = future.result()"
   ]
  },
  {
   "cell_type": "code",
   "execution_count": 30,
   "id": "54c92ebb-4946-4abf-a6e1-2d94179ca717",
   "metadata": {},
   "outputs": [],
   "source": [
    "# -----------------------------------------------\n",
    "# 5️⃣ Attach validation results to df_practices\n",
    "# -----------------------------------------------\n",
    "def map_status_list(url_list):\n",
    "    if not isinstance(url_list, list):\n",
    "        return []\n",
    "    return [url_status_map.get(u, None) for u in url_list]\n",
    "\n",
    "df_practices[\"source_urls_status\"] = df_practices[\"source_urls\"].apply(map_status_list)"
   ]
  },
  {
   "cell_type": "code",
   "execution_count": 32,
   "id": "de369903-9a48-4812-a820-13fba4d028b5",
   "metadata": {},
   "outputs": [],
   "source": [
    "# -----------------------------------------------\n",
    "# 6️⃣ Create readable summary columns\n",
    "# -----------------------------------------------\n",
    "def summarize_valid_urls(urls, statuses):\n",
    "    if not urls or not statuses:\n",
    "        return \"\"\n",
    "    return \", \".join(\n",
    "        [f\"{u} ({s})\" for u, s in zip(urls, statuses) if s and s < 400]\n",
    "    )\n",
    "\n",
    "df_practices[\"valid_source_urls\"] = df_practices.apply(\n",
    "    lambda r: summarize_valid_urls(r[\"source_urls\"], r[\"source_urls_status\"]),\n",
    "    axis=1\n",
    ")"
   ]
  },
  {
   "cell_type": "code",
   "execution_count": 33,
   "id": "516c427c-e732-4540-bb83-13c766faa976",
   "metadata": {},
   "outputs": [
    {
     "name": "stdout",
     "output_type": "stream",
     "text": [
      "✅ Validation complete — saved to ./output/practices_with_validated_sources.csv\n"
     ]
    },
    {
     "data": {
      "text/html": [
       "<div>\n",
       "<style scoped>\n",
       "    .dataframe tbody tr th:only-of-type {\n",
       "        vertical-align: middle;\n",
       "    }\n",
       "\n",
       "    .dataframe tbody tr th {\n",
       "        vertical-align: top;\n",
       "    }\n",
       "\n",
       "    .dataframe thead th {\n",
       "        text-align: right;\n",
       "    }\n",
       "</style>\n",
       "<table border=\"1\" class=\"dataframe\">\n",
       "  <thead>\n",
       "    <tr style=\"text-align: right;\">\n",
       "      <th></th>\n",
       "      <th>label</th>\n",
       "      <th>source_or_evidence</th>\n",
       "      <th>valid_source_urls</th>\n",
       "    </tr>\n",
       "  </thead>\n",
       "  <tbody>\n",
       "    <tr>\n",
       "      <th>0</th>\n",
       "      <td>Agroecological Practices</td>\n",
       "      <td>&lt;a href=\"https://environmentalevidencejournal....</td>\n",
       "      <td>https://environmentalevidencejournal.biomedcen...</td>\n",
       "    </tr>\n",
       "    <tr>\n",
       "      <th>1</th>\n",
       "      <td>Incorporate Business Strategy Needs</td>\n",
       "      <td>&lt;p&gt;Based on old procurement framework of IDH a...</td>\n",
       "      <td></td>\n",
       "    </tr>\n",
       "    <tr>\n",
       "      <th>2</th>\n",
       "      <td>Buyer Sustainability Targets</td>\n",
       "      <td>&lt;p&gt;IDH Based Interviews (Frank Joosten)&lt;/p&gt;\\n&lt;...</td>\n",
       "      <td></td>\n",
       "    </tr>\n",
       "    <tr>\n",
       "      <th>3</th>\n",
       "      <td>Decarbonisation levers</td>\n",
       "      <td>&lt;a href=\"https://www.greenbiz.com/article/why-...</td>\n",
       "      <td>https://www.greenbiz.com (200), https://www.gr...</td>\n",
       "    </tr>\n",
       "    <tr>\n",
       "      <th>4</th>\n",
       "      <td>Comprehensive Value Chain Risk Assessment</td>\n",
       "      <td>&lt;a href=\"https://consult.defra.gov.uk/water/ru...</td>\n",
       "      <td>https://consult.defra.gov.uk/water/rules-for-d...</td>\n",
       "    </tr>\n",
       "  </tbody>\n",
       "</table>\n",
       "</div>"
      ],
      "text/plain": [
       "                                       label  \\\n",
       "0                   Agroecological Practices   \n",
       "1        Incorporate Business Strategy Needs   \n",
       "2               Buyer Sustainability Targets   \n",
       "3                     Decarbonisation levers   \n",
       "4  Comprehensive Value Chain Risk Assessment   \n",
       "\n",
       "                                  source_or_evidence  \\\n",
       "0  <a href=\"https://environmentalevidencejournal....   \n",
       "1  <p>Based on old procurement framework of IDH a...   \n",
       "2  <p>IDH Based Interviews (Frank Joosten)</p>\\n<...   \n",
       "3  <a href=\"https://www.greenbiz.com/article/why-...   \n",
       "4  <a href=\"https://consult.defra.gov.uk/water/ru...   \n",
       "\n",
       "                                   valid_source_urls  \n",
       "0  https://environmentalevidencejournal.biomedcen...  \n",
       "1                                                     \n",
       "2                                                     \n",
       "3  https://www.greenbiz.com (200), https://www.gr...  \n",
       "4  https://consult.defra.gov.uk/water/rules-for-d...  "
      ]
     },
     "metadata": {},
     "output_type": "display_data"
    }
   ],
   "source": [
    "# -----------------------------------------------\n",
    "# 7️⃣ Save back to CSV (includes all fields)\n",
    "# -----------------------------------------------\n",
    "output_file = \"./output/practices_with_validated_sources.csv\"\n",
    "df_practices.to_csv(output_file, index=False)\n",
    "\n",
    "print(f\"✅ Validation complete — saved to {output_file}\")\n",
    "display(df_practices[[\"label\", \"source_or_evidence\", \"valid_source_urls\"]].head(5))"
   ]
  },
  {
   "cell_type": "code",
   "execution_count": 34,
   "id": "fb99f225-e22a-4f69-a225-151d5a5ab895",
   "metadata": {},
   "outputs": [
    {
     "name": "stdout",
     "output_type": "stream",
     "text": [
      "✅ 3 categories\n",
      "✅ 14 attributes\n",
      "✅ 27 practices\n",
      "✅ 96 practice-attribute links\n",
      "✅ 4 indicators\n",
      "✅ 108 indicator scores\n",
      "\n"
     ]
    }
   ],
   "source": [
    "print(f\"✅ {len(categories)} categories\")\n",
    "print(f\"✅ {len(attributes)} attributes\")\n",
    "print(f\"✅ {len(practices)} practices\")\n",
    "print(f\"✅ {len(practice_tags)} practice-attribute links\")\n",
    "print(f\"✅ {len(indicators)} indicators\")\n",
    "print(f\"✅ {len(scores)} indicator scores\\n\")"
   ]
  },
  {
   "cell_type": "markdown",
   "id": "011a4cb1-3df4-4d40-9b42-76fe2d0bd359",
   "metadata": {},
   "source": [
    "# 5. Save normalized data into CSV files"
   ]
  },
  {
   "cell_type": "code",
   "execution_count": 35,
   "id": "cda8e690-6506-43f7-9d74-b0f55f56a946",
   "metadata": {},
   "outputs": [
    {
     "name": "stdout",
     "output_type": "stream",
     "text": [
      "💾 Saving normalized CSVs to output/ ...\n"
     ]
    }
   ],
   "source": [
    "print(\"💾 Saving normalized CSVs to output/ ...\")"
   ]
  },
  {
   "cell_type": "code",
   "execution_count": 36,
   "id": "5964abf4-8903-42c5-8165-98611974dcb8",
   "metadata": {},
   "outputs": [],
   "source": [
    "def save_csv(data, name):\n",
    "    df = pd.DataFrame(data)\n",
    "    path = OUTPUT_DIR / f\"{name}.csv\"\n",
    "    df.to_csv(path, index=False)\n",
    "    print(f\" - {name}.csv ({len(df)} rows)\")\n",
    "    return path"
   ]
  },
  {
   "cell_type": "code",
   "execution_count": 37,
   "id": "006d52d8-d02c-4b8d-a3c5-45de7fc2e81f",
   "metadata": {},
   "outputs": [
    {
     "name": "stdout",
     "output_type": "stream",
     "text": [
      " - pl_category.csv (3 rows)\n",
      " - pl_attribute.csv (14 rows)\n",
      " - pl_practice_intervention.csv (27 rows)\n",
      " - pl_practice_intervention_tag.csv (96 rows)\n",
      " - pl_indicator.csv (4 rows)\n",
      " - pl_practice_indicator_score.csv (108 rows)\n",
      "\n",
      "✅ All CSVs successfully generated!\n"
     ]
    }
   ],
   "source": [
    "save_csv(categories, \"pl_category\")\n",
    "save_csv(attributes, \"pl_attribute\")\n",
    "save_csv(practices, \"pl_practice_intervention\")\n",
    "save_csv(practice_tags, \"pl_practice_intervention_tag\")\n",
    "save_csv(indicators, \"pl_indicator\")\n",
    "save_csv(scores, \"pl_practice_indicator_score\")\n",
    "\n",
    "print(\"\\n✅ All CSVs successfully generated!\")"
   ]
  },
  {
   "cell_type": "code",
   "execution_count": null,
   "id": "31854dee-f3fe-4195-9409-a3ac98c6c5e5",
   "metadata": {},
   "outputs": [],
   "source": []
  }
 ],
 "metadata": {
  "kernelspec": {
   "display_name": "Python 3 (ipykernel)",
   "language": "python",
   "name": "python3"
  },
  "language_info": {
   "codemirror_mode": {
    "name": "ipython",
    "version": 3
   },
   "file_extension": ".py",
   "mimetype": "text/x-python",
   "name": "python",
   "nbconvert_exporter": "python",
   "pygments_lexer": "ipython3",
   "version": "3.13.7"
  }
 },
 "nbformat": 4,
 "nbformat_minor": 5
}
