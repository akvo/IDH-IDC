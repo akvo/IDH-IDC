{
 "cells": [
  {
   "cell_type": "code",
   "execution_count": 7,
   "id": "b1e07fc6-826b-41f7-9971-58254cfb6918",
   "metadata": {},
   "outputs": [],
   "source": [
    "import pandas as pd\n",
    "import numpy as np"
   ]
  },
  {
   "cell_type": "code",
   "execution_count": 8,
   "id": "15e39559-fd6d-450a-bca9-acb67c6ee934",
   "metadata": {},
   "outputs": [],
   "source": [
    "df = pd.read_csv(\"./reference_data_final.csv\")"
   ]
  },
  {
   "cell_type": "code",
   "execution_count": 9,
   "id": "1c49beae-0508-458c-aca5-e3c4c47e24bf",
   "metadata": {},
   "outputs": [],
   "source": [
    "df.columns = map(str.lower, df.columns)"
   ]
  },
  {
   "cell_type": "code",
   "execution_count": 10,
   "id": "c0140f3a-649d-4d9b-b5dd-ba334f25b10d",
   "metadata": {},
   "outputs": [],
   "source": [
    "df.replace({np.nan: None}, inplace=True)"
   ]
  },
  {
   "cell_type": "code",
   "execution_count": 12,
   "id": "89ac0f9f-f238-4f18-af09-6fbb99823c67",
   "metadata": {},
   "outputs": [],
   "source": [
    "df.to_csv(\"./reference_data.csv\")"
   ]
  },
  {
   "cell_type": "code",
   "execution_count": null,
   "id": "0c6e7951-5557-4a5d-b0a4-d0c94081a318",
   "metadata": {},
   "outputs": [],
   "source": []
  }
 ],
 "metadata": {
  "kernelspec": {
   "display_name": "Python 3 (ipykernel)",
   "language": "python",
   "name": "python3"
  },
  "language_info": {
   "codemirror_mode": {
    "name": "ipython",
    "version": 3
   },
   "file_extension": ".py",
   "mimetype": "text/x-python",
   "name": "python",
   "nbconvert_exporter": "python",
   "pygments_lexer": "ipython3",
   "version": "3.10.12"
  }
 },
 "nbformat": 4,
 "nbformat_minor": 5
}
