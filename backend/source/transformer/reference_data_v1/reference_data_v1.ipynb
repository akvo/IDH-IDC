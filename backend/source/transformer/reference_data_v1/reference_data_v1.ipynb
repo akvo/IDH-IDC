{
 "cells": [
  {
   "cell_type": "code",
   "execution_count": 1,
   "id": "b1e07fc6-826b-41f7-9971-58254cfb6918",
   "metadata": {},
   "outputs": [],
   "source": [
    "import pandas as pd\n",
    "import numpy as np"
   ]
  },
  {
   "cell_type": "code",
   "execution_count": 2,
   "id": "15e39559-fd6d-450a-bca9-acb67c6ee934",
   "metadata": {},
   "outputs": [],
   "source": [
    "df = pd.read_csv(\"./reference_data_final.csv\")"
   ]
  },
  {
   "cell_type": "code",
   "execution_count": 3,
   "id": "1c49beae-0508-458c-aca5-e3c4c47e24bf",
   "metadata": {},
   "outputs": [],
   "source": [
    "df.columns = map(str.lower, df.columns)"
   ]
  },
  {
   "cell_type": "code",
   "execution_count": 4,
   "id": "ece4e192-4215-497c-8a9b-759d0c01b75a",
   "metadata": {},
   "outputs": [],
   "source": [
    "# df = df.astype({\n",
    "#     'area': float,\n",
    "#     'volume': float,\n",
    "#     'price': float,\n",
    "#     'cost_of_production': float,\n",
    "#     'diversified_income': float,\n",
    "# })"
   ]
  },
  {
   "cell_type": "code",
   "execution_count": 5,
   "id": "c0140f3a-649d-4d9b-b5dd-ba334f25b10d",
   "metadata": {},
   "outputs": [],
   "source": [
    "df.replace({np.nan: None}, inplace=True)"
   ]
  },
  {
   "cell_type": "code",
   "execution_count": 6,
   "id": "89ac0f9f-f238-4f18-af09-6fbb99823c67",
   "metadata": {},
   "outputs": [],
   "source": [
    "df.to_csv(\"./reference_data.csv\")"
   ]
  }
 ],
 "metadata": {
  "kernelspec": {
   "display_name": "Python 3 (ipykernel)",
   "language": "python",
   "name": "python3"
  },
  "language_info": {
   "codemirror_mode": {
    "name": "ipython",
    "version": 3
   },
   "file_extension": ".py",
   "mimetype": "text/x-python",
   "name": "python",
   "nbconvert_exporter": "python",
   "pygments_lexer": "ipython3",
   "version": "3.10.12"
  }
 },
 "nbformat": 4,
 "nbformat_minor": 5
}
