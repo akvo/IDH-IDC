{
 "cells": [
  {
   "cell_type": "code",
   "execution_count": 1,
   "id": "0094d9e0-d871-4420-8a15-9176f4395c21",
   "metadata": {},
   "outputs": [],
   "source": [
    "import pandas as pd\n",
    "import re"
   ]
  },
  {
   "cell_type": "markdown",
   "id": "afd5eb61-7ab1-4435-9792-3b8f9d984826",
   "metadata": {},
   "source": [
    "# Function"
   ]
  },
  {
   "cell_type": "code",
   "execution_count": 2,
   "id": "3961848f-6754-4822-82b0-c8ff40dd3079",
   "metadata": {},
   "outputs": [],
   "source": [
    "# Function to clean and convert to float\n",
    "def convert_to_float(value):\n",
    "    if isinstance(value, str):  # Check if it's a string\n",
    "        value = value.replace(\" \", \"\").replace(\",\", \".\")  # Remove spaces and replace \",\" with \".\"\n",
    "        return float(value)\n",
    "    return value  # Return original if it's not a string"
   ]
  },
  {
   "cell_type": "code",
   "execution_count": 3,
   "id": "96b71293-cef1-485d-8d25-bf0625e730d8",
   "metadata": {},
   "outputs": [],
   "source": [
    "def remove_extra_whitespace(val):\n",
    "    temp = val.split()\n",
    "    return ' '.join(temp)"
   ]
  },
  {
   "cell_type": "code",
   "execution_count": 4,
   "id": "0c642fd2-5d9e-4e84-acef-9d4be92efc78",
   "metadata": {},
   "outputs": [],
   "source": [
    "def find_country(val):\n",
    "    # manual match\n",
    "    if val == \"Turkey\":\n",
    "        val = \"Turkiye\"\n",
    "    # if val == \"Anguilla\":\n",
    "    #     print(\"404\", val)\n",
    "    #     return None\n",
    "    if val == \"Central African Rep.\":\n",
    "        val = \"Central African Republic\"\n",
    "    if val == \"Congo, Dem. Rep. of the\":\n",
    "        val = \"Congo, Dem. Rep.\"\n",
    "    if val == \"Congo, Rep. of\":\n",
    "        val = \"Congo, Rep.\"\n",
    "    if val == \"Côte d'Ivoire\":\n",
    "        val = \"Cote d'Ivoire\"\n",
    "    if val == \"Curaçao, Kingdom of the Netherlands\":\n",
    "        val = \"Curacao\"\n",
    "    if val == \"Czech Rep.\":\n",
    "        val = \"Czech Republic\"\n",
    "    if val == \"Dominican Rep.\":\n",
    "        val = \"Dominican Republic\"\n",
    "    if val == \"Egypt, Arab Rep. of\":\n",
    "        val = \"Egypt, Arab Rep.\"\n",
    "    # if val == \"Guadeloupe\":\n",
    "    #     print(\"404\", val)\n",
    "    #     return None\n",
    "    if val == \"Iran, Islamic Rep. of\":\n",
    "        val = \"Iran, Islamic Rep.\"\n",
    "    if val == \"Korea, Rep. of\":\n",
    "        val = \"Korea, Rep.\"\n",
    "    if val == \"Kyrgyz Rep.\":\n",
    "        val = \"Kyrgyz Republic\"\n",
    "    if val == \"Lao People's Dem. Rep.\":\n",
    "        val = \"Lao PDR\"\n",
    "    # if val == \"Martinique\":\n",
    "    #     print(\"404\", val)\n",
    "    #     return None\n",
    "    if val == \"Micronesia, Federated States of\":\n",
    "        val = \"Micronesia, Fed. Sts.\"\n",
    "    # if val == \"Montserrat\":\n",
    "    #     print(\"404\", val)\n",
    "    #     return None\n",
    "    # if val == \"San Marino, Rep. of\":\n",
    "    #     print(\"404\", val)\n",
    "    #     return None\n",
    "    # if val == \"São Tomé and Príncipe, Dem. Rep. of\":\n",
    "    #     print(\"404\", val)\n",
    "    #     return None\n",
    "    if val == \"Sint Maarten, Kingdom of the Netherlands\":\n",
    "        val = \"Sint Maarten (Dutch part)\"\n",
    "    if val == \"Slovak Rep.\":\n",
    "        val = \"Slovak Republic\"\n",
    "    # if val == \"Syrian Arab Rep.\":\n",
    "    #     print(\"404\", val)\n",
    "    #     return None\n",
    "    if val == \"Venezuela, Rep. Bolivariana de\":\n",
    "        val = \"Venezuela, RB\"\n",
    "    if val == \"Yemen, Rep. of\":\n",
    "        val = \"Yemen, Rep.\"\n",
    "    # EOL manual match\n",
    "    \n",
    "    find_country = countries[countries[\"country\"].str.lower() == str(val).lower()]\n",
    "    if find_country.empty:\n",
    "        # Another custom way\n",
    "        val_lower = str(val).lower()\n",
    "        val_tmp = val_lower.lower().split(',')\n",
    "        for index, row in countries.iterrows():\n",
    "            # Convert the country name in the DataFrame to lowercase\n",
    "            country_name = row['country'].lower()\n",
    "            if val_lower == 'nan':\n",
    "                return None\n",
    "            if country_name not in val_tmp:\n",
    "                continue\n",
    "            return row[\"id\"]\n",
    "        # EOL Another custom way\n",
    "        print(\"404\", val)\n",
    "        return val\n",
    "    return find_country[\"id\"].to_list()[0]"
   ]
  },
  {
   "cell_type": "code",
   "execution_count": 5,
   "id": "4710d00d-4ca8-43f6-b7e5-c790def8ea97",
   "metadata": {},
   "outputs": [],
   "source": [
    "# Function to melt data and adjust the year\n",
    "def melt_conversion_data(df, currency_name):\n",
    "    # Melt the data: 'Country Name' stays, everything else is melted\n",
    "    melted_df = pd.melt(df, id_vars=['Country Name'], var_name='year', value_name='value')\n",
    "    \n",
    "    # Convert Year to integer by removing the decimal part\n",
    "    melted_df['year'] = melted_df['year'].astype(float).astype(int)\n",
    "\n",
    "    # Filter out rows where Year is before 2020\n",
    "    melted_df = melted_df[melted_df['year'] >= 2020]\n",
    "    \n",
    "    # Add a new column 'currency' to identify whether it's USD or EUR\n",
    "    melted_df['currency'] = currency_name\n",
    "    \n",
    "    # Rename 'Country Name' to 'country_name' for consistency\n",
    "    melted_df.rename(columns={'Country Name': 'country'}, inplace=True)\n",
    "    \n",
    "    return melted_df"
   ]
  },
  {
   "cell_type": "markdown",
   "id": "c5811db2-bd94-49f3-a56e-a63d34c059f1",
   "metadata": {},
   "source": [
    "# Load Countries & Regions source"
   ]
  },
  {
   "cell_type": "code",
   "execution_count": 6,
   "id": "649c8e05-a6f7-46d0-8da9-50670c957f0d",
   "metadata": {},
   "outputs": [],
   "source": [
    "countries = pd.read_csv(\"./countries.csv\")"
   ]
  },
  {
   "cell_type": "code",
   "execution_count": 7,
   "id": "b3635661-a676-4611-a313-f0bbb9e85f34",
   "metadata": {},
   "outputs": [
    {
     "data": {
      "text/html": [
       "<div>\n",
       "<style scoped>\n",
       "    .dataframe tbody tr th:only-of-type {\n",
       "        vertical-align: middle;\n",
       "    }\n",
       "\n",
       "    .dataframe tbody tr th {\n",
       "        vertical-align: top;\n",
       "    }\n",
       "\n",
       "    .dataframe thead th {\n",
       "        text-align: right;\n",
       "    }\n",
       "</style>\n",
       "<table border=\"1\" class=\"dataframe\">\n",
       "  <thead>\n",
       "    <tr style=\"text-align: right;\">\n",
       "      <th></th>\n",
       "      <th>id</th>\n",
       "      <th>country</th>\n",
       "      <th>currency</th>\n",
       "      <th>abbreviation</th>\n",
       "    </tr>\n",
       "  </thead>\n",
       "  <tbody>\n",
       "    <tr>\n",
       "      <th>205</th>\n",
       "      <td>206</td>\n",
       "      <td>Martinique</td>\n",
       "      <td>Euro</td>\n",
       "      <td>EUR</td>\n",
       "    </tr>\n",
       "    <tr>\n",
       "      <th>206</th>\n",
       "      <td>207</td>\n",
       "      <td>Montserrat</td>\n",
       "      <td>East Caribbean Dollar</td>\n",
       "      <td>XCD</td>\n",
       "    </tr>\n",
       "    <tr>\n",
       "      <th>207</th>\n",
       "      <td>208</td>\n",
       "      <td>San Marino, Rep. Of</td>\n",
       "      <td>Euro</td>\n",
       "      <td>EUR</td>\n",
       "    </tr>\n",
       "    <tr>\n",
       "      <th>208</th>\n",
       "      <td>209</td>\n",
       "      <td>São Tomé and Príncipe, Dem. Rep. of</td>\n",
       "      <td>Dobra</td>\n",
       "      <td>STN</td>\n",
       "    </tr>\n",
       "    <tr>\n",
       "      <th>209</th>\n",
       "      <td>210</td>\n",
       "      <td>Syrian Arab Rep.</td>\n",
       "      <td>Syrian Pound</td>\n",
       "      <td>SYP</td>\n",
       "    </tr>\n",
       "  </tbody>\n",
       "</table>\n",
       "</div>"
      ],
      "text/plain": [
       "      id                              country               currency  \\\n",
       "205  206                           Martinique                   Euro   \n",
       "206  207                           Montserrat  East Caribbean Dollar   \n",
       "207  208                  San Marino, Rep. Of                   Euro   \n",
       "208  209  São Tomé and Príncipe, Dem. Rep. of                  Dobra   \n",
       "209  210                     Syrian Arab Rep.           Syrian Pound   \n",
       "\n",
       "    abbreviation  \n",
       "205          EUR  \n",
       "206          XCD  \n",
       "207          EUR  \n",
       "208          STN  \n",
       "209          SYP  "
      ]
     },
     "execution_count": 7,
     "metadata": {},
     "output_type": "execute_result"
    }
   ],
   "source": [
    "countries.tail()"
   ]
  },
  {
   "cell_type": "code",
   "execution_count": 8,
   "id": "dc0e0bf1-4d02-4f8b-9e34-81a1b12e60d0",
   "metadata": {},
   "outputs": [],
   "source": [
    "regions = pd.read_csv('./regions.csv')"
   ]
  },
  {
   "cell_type": "code",
   "execution_count": 9,
   "id": "83583c40-91b8-49dd-9a4d-5a6b7e703022",
   "metadata": {},
   "outputs": [
    {
     "data": {
      "text/html": [
       "<div>\n",
       "<style scoped>\n",
       "    .dataframe tbody tr th:only-of-type {\n",
       "        vertical-align: middle;\n",
       "    }\n",
       "\n",
       "    .dataframe tbody tr th {\n",
       "        vertical-align: top;\n",
       "    }\n",
       "\n",
       "    .dataframe thead th {\n",
       "        text-align: right;\n",
       "    }\n",
       "</style>\n",
       "<table border=\"1\" class=\"dataframe\">\n",
       "  <thead>\n",
       "    <tr style=\"text-align: right;\">\n",
       "      <th></th>\n",
       "      <th>id</th>\n",
       "      <th>region</th>\n",
       "      <th>country_id</th>\n",
       "      <th>country</th>\n",
       "    </tr>\n",
       "  </thead>\n",
       "  <tbody>\n",
       "    <tr>\n",
       "      <th>74</th>\n",
       "      <td>75</td>\n",
       "      <td>Urban / Urban Guatemala</td>\n",
       "      <td>[75]</td>\n",
       "      <td>['Guatemala']</td>\n",
       "    </tr>\n",
       "    <tr>\n",
       "      <th>75</th>\n",
       "      <td>76</td>\n",
       "      <td>Urban / Urban West Java Province (SUBANG AND G...</td>\n",
       "      <td>[85]</td>\n",
       "      <td>['Indonesia']</td>\n",
       "    </tr>\n",
       "    <tr>\n",
       "      <th>76</th>\n",
       "      <td>77</td>\n",
       "      <td>Urban / Zhengzhou</td>\n",
       "      <td>[40]</td>\n",
       "      <td>['China']</td>\n",
       "    </tr>\n",
       "    <tr>\n",
       "      <th>77</th>\n",
       "      <td>78</td>\n",
       "      <td>Urban-Rural / Caribbean coast</td>\n",
       "      <td>[41]</td>\n",
       "      <td>['Colombia']</td>\n",
       "    </tr>\n",
       "    <tr>\n",
       "      <th>78</th>\n",
       "      <td>79</td>\n",
       "      <td>Yucatán / Rural Areas and Small Towns in Yucatan</td>\n",
       "      <td>[119]</td>\n",
       "      <td>['Mexico']</td>\n",
       "    </tr>\n",
       "  </tbody>\n",
       "</table>\n",
       "</div>"
      ],
      "text/plain": [
       "    id                                             region country_id  \\\n",
       "74  75                            Urban / Urban Guatemala       [75]   \n",
       "75  76  Urban / Urban West Java Province (SUBANG AND G...       [85]   \n",
       "76  77                                  Urban / Zhengzhou       [40]   \n",
       "77  78                      Urban-Rural / Caribbean coast       [41]   \n",
       "78  79   Yucatán / Rural Areas and Small Towns in Yucatan      [119]   \n",
       "\n",
       "          country  \n",
       "74  ['Guatemala']  \n",
       "75  ['Indonesia']  \n",
       "76      ['China']  \n",
       "77   ['Colombia']  \n",
       "78     ['Mexico']  "
      ]
     },
     "execution_count": 9,
     "metadata": {},
     "output_type": "execute_result"
    }
   ],
   "source": [
    "regions.tail(5)"
   ]
  },
  {
   "cell_type": "markdown",
   "id": "e8bc95af-e4ae-431b-a1f0-acfe7416901b",
   "metadata": {},
   "source": [
    "# Conversion Rate V1"
   ]
  },
  {
   "cell_type": "code",
   "execution_count": 10,
   "id": "d1a05131-092b-477d-a3c0-6e2f196e0e1f",
   "metadata": {},
   "outputs": [],
   "source": [
    "# Load excel file\n",
    "file_path = \"./conversion_rates.xlsx\"\n",
    "xls = pd.ExcelFile(file_path)"
   ]
  },
  {
   "cell_type": "code",
   "execution_count": 11,
   "id": "7e39d981-6bb2-4ef3-b48a-663a0a984486",
   "metadata": {},
   "outputs": [],
   "source": [
    "# Load two sheets for usd and eur into dataframe\n",
    "usd_df = pd.read_excel(xls, sheet_name=\"USD conversion\")\n",
    "eur_df = pd.read_excel(xls, sheet_name=\"EUR conversion\")"
   ]
  },
  {
   "cell_type": "code",
   "execution_count": 12,
   "id": "e21b63f3-e2fb-4103-bc44-cc6d08355869",
   "metadata": {},
   "outputs": [],
   "source": [
    "# Apply the function to both dataframes\n",
    "usd_long = melt_conversion_data(usd_df, 'USD')\n",
    "eur_long = melt_conversion_data(eur_df, 'EUR')"
   ]
  },
  {
   "cell_type": "code",
   "execution_count": 13,
   "id": "637c0dca-52d8-4e53-85f0-3204c7581dbe",
   "metadata": {},
   "outputs": [],
   "source": [
    "# Combine the two dataframes if you want them in one\n",
    "combined_df = pd.concat([usd_long, eur_long], ignore_index=True)"
   ]
  },
  {
   "cell_type": "code",
   "execution_count": 14,
   "id": "732de8d0-b08b-49c2-97e9-6a3016d5ad0f",
   "metadata": {},
   "outputs": [],
   "source": [
    "# fill NA with 0\n",
    "combined_df.fillna(0, inplace=True)"
   ]
  },
  {
   "cell_type": "code",
   "execution_count": 15,
   "id": "d712ff43-e969-481d-a1a7-ea46d6645180",
   "metadata": {},
   "outputs": [
    {
     "name": "stdout",
     "output_type": "stream",
     "text": [
      "404 Democratic Republic of Congo\n",
      "404 Congo\n",
      "404 Egypt\n",
      "404 EUR\n",
      "404 East Timor\n",
      "404 Democratic Republic of Congo\n",
      "404 Congo\n",
      "404 Egypt\n",
      "404 EUR\n",
      "404 East Timor\n",
      "404 Democratic Republic of Congo\n",
      "404 Congo\n",
      "404 Egypt\n",
      "404 EUR\n",
      "404 East Timor\n",
      "404 Democratic Republic of Congo\n",
      "404 Congo\n",
      "404 Egypt\n",
      "404 EUR\n",
      "404 East Timor\n",
      "404 Democratic Republic of Congo\n",
      "404 Congo\n",
      "404 Egypt\n",
      "404 EUR\n",
      "404 East Timor\n",
      "404 Democratic Republic of Congo\n",
      "404 Congo\n",
      "404 Egypt\n",
      "404 East Timor\n",
      "404 Democratic Republic of Congo\n",
      "404 Congo\n",
      "404 Egypt\n",
      "404 East Timor\n",
      "404 Democratic Republic of Congo\n",
      "404 Congo\n",
      "404 Egypt\n",
      "404 East Timor\n",
      "404 Democratic Republic of Congo\n",
      "404 Congo\n",
      "404 Egypt\n",
      "404 East Timor\n",
      "404 Democratic Republic of Congo\n",
      "404 Congo\n",
      "404 Egypt\n",
      "404 East Timor\n"
     ]
    }
   ],
   "source": [
    "combined_df['country_id'] = combined_df[\"country\"].apply(find_country)"
   ]
  },
  {
   "cell_type": "code",
   "execution_count": 16,
   "id": "064b74a3-3e4b-45df-acd3-18ac97b8b004",
   "metadata": {},
   "outputs": [],
   "source": [
    "# sort add id and so on\n",
    "combined_df = combined_df.sort_values(by=['country', 'year'], ascending=[True, True])\n",
    "combined_df['id'] = combined_df.reset_index().index + 1\n",
    "combined_df = combined_df.reindex(columns=['id', 'country', 'country_id', 'year', 'value', 'currency'])"
   ]
  },
  {
   "cell_type": "code",
   "execution_count": 17,
   "id": "911ee018-6825-4b2a-95ea-3c0242e768a9",
   "metadata": {},
   "outputs": [
    {
     "data": {
      "text/html": [
       "<div>\n",
       "<style scoped>\n",
       "    .dataframe tbody tr th:only-of-type {\n",
       "        vertical-align: middle;\n",
       "    }\n",
       "\n",
       "    .dataframe tbody tr th {\n",
       "        vertical-align: top;\n",
       "    }\n",
       "\n",
       "    .dataframe thead th {\n",
       "        text-align: right;\n",
       "    }\n",
       "</style>\n",
       "<table border=\"1\" class=\"dataframe\">\n",
       "  <thead>\n",
       "    <tr style=\"text-align: right;\">\n",
       "      <th></th>\n",
       "      <th>id</th>\n",
       "      <th>country</th>\n",
       "      <th>country_id</th>\n",
       "      <th>year</th>\n",
       "      <th>value</th>\n",
       "      <th>currency</th>\n",
       "    </tr>\n",
       "  </thead>\n",
       "  <tbody>\n",
       "    <tr>\n",
       "      <th>0</th>\n",
       "      <td>1</td>\n",
       "      <td>Angola</td>\n",
       "      <td>5</td>\n",
       "      <td>2020</td>\n",
       "      <td>364.825805</td>\n",
       "      <td>USD</td>\n",
       "    </tr>\n",
       "    <tr>\n",
       "      <th>290</th>\n",
       "      <td>2</td>\n",
       "      <td>Angola</td>\n",
       "      <td>5</td>\n",
       "      <td>2020</td>\n",
       "      <td>408.413189</td>\n",
       "      <td>EUR</td>\n",
       "    </tr>\n",
       "    <tr>\n",
       "      <th>58</th>\n",
       "      <td>3</td>\n",
       "      <td>Angola</td>\n",
       "      <td>5</td>\n",
       "      <td>2021</td>\n",
       "      <td>578.258780</td>\n",
       "      <td>USD</td>\n",
       "    </tr>\n",
       "    <tr>\n",
       "      <th>347</th>\n",
       "      <td>4</td>\n",
       "      <td>Angola</td>\n",
       "      <td>5</td>\n",
       "      <td>2021</td>\n",
       "      <td>660.484929</td>\n",
       "      <td>EUR</td>\n",
       "    </tr>\n",
       "    <tr>\n",
       "      <th>116</th>\n",
       "      <td>5</td>\n",
       "      <td>Angola</td>\n",
       "      <td>5</td>\n",
       "      <td>2022</td>\n",
       "      <td>631.441956</td>\n",
       "      <td>USD</td>\n",
       "    </tr>\n",
       "    <tr>\n",
       "      <th>...</th>\n",
       "      <td>...</td>\n",
       "      <td>...</td>\n",
       "      <td>...</td>\n",
       "      <td>...</td>\n",
       "      <td>...</td>\n",
       "      <td>...</td>\n",
       "    </tr>\n",
       "    <tr>\n",
       "      <th>460</th>\n",
       "      <td>571</td>\n",
       "      <td>Zimbabwe</td>\n",
       "      <td>203</td>\n",
       "      <td>2022</td>\n",
       "      <td>104.734549</td>\n",
       "      <td>EUR</td>\n",
       "    </tr>\n",
       "    <tr>\n",
       "      <th>231</th>\n",
       "      <td>572</td>\n",
       "      <td>Zimbabwe</td>\n",
       "      <td>203</td>\n",
       "      <td>2023</td>\n",
       "      <td>374.954363</td>\n",
       "      <td>USD</td>\n",
       "    </tr>\n",
       "    <tr>\n",
       "      <th>517</th>\n",
       "      <td>573</td>\n",
       "      <td>Zimbabwe</td>\n",
       "      <td>203</td>\n",
       "      <td>2023</td>\n",
       "      <td>394.845181</td>\n",
       "      <td>EUR</td>\n",
       "    </tr>\n",
       "    <tr>\n",
       "      <th>289</th>\n",
       "      <td>574</td>\n",
       "      <td>Zimbabwe</td>\n",
       "      <td>203</td>\n",
       "      <td>2024</td>\n",
       "      <td>3509.172220</td>\n",
       "      <td>USD</td>\n",
       "    </tr>\n",
       "    <tr>\n",
       "      <th>574</th>\n",
       "      <td>575</td>\n",
       "      <td>Zimbabwe</td>\n",
       "      <td>203</td>\n",
       "      <td>2024</td>\n",
       "      <td>3794.357830</td>\n",
       "      <td>EUR</td>\n",
       "    </tr>\n",
       "  </tbody>\n",
       "</table>\n",
       "<p>575 rows × 6 columns</p>\n",
       "</div>"
      ],
      "text/plain": [
       "      id   country country_id  year        value currency\n",
       "0      1    Angola          5  2020   364.825805      USD\n",
       "290    2    Angola          5  2020   408.413189      EUR\n",
       "58     3    Angola          5  2021   578.258780      USD\n",
       "347    4    Angola          5  2021   660.484929      EUR\n",
       "116    5    Angola          5  2022   631.441956      USD\n",
       "..   ...       ...        ...   ...          ...      ...\n",
       "460  571  Zimbabwe        203  2022   104.734549      EUR\n",
       "231  572  Zimbabwe        203  2023   374.954363      USD\n",
       "517  573  Zimbabwe        203  2023   394.845181      EUR\n",
       "289  574  Zimbabwe        203  2024  3509.172220      USD\n",
       "574  575  Zimbabwe        203  2024  3794.357830      EUR\n",
       "\n",
       "[575 rows x 6 columns]"
      ]
     },
     "execution_count": 17,
     "metadata": {},
     "output_type": "execute_result"
    }
   ],
   "source": [
    "combined_df"
   ]
  },
  {
   "cell_type": "code",
   "execution_count": 18,
   "id": "dfe14545-a46c-4616-9b9d-103d760ce4f6",
   "metadata": {},
   "outputs": [],
   "source": [
    "conversion_rate = combined_df"
   ]
  },
  {
   "cell_type": "code",
   "execution_count": 19,
   "id": "287d10de-9277-4e71-bd53-98b0de7351f8",
   "metadata": {},
   "outputs": [],
   "source": [
    "conversion_rate.to_csv('./conversion_rate.csv', index=False)"
   ]
  },
  {
   "cell_type": "markdown",
   "id": "fe26bc83-efac-4e44-b345-7b28a02f3e9e",
   "metadata": {},
   "source": [
    "# Regions V4 - Living Income Benchmark V6 - CPI V6"
   ]
  },
  {
   "cell_type": "markdown",
   "id": "696d44d3-4624-4f6b-bd39-8eae4505513b",
   "metadata": {},
   "source": [
    "Here we will map the li_benchmark_data.csv and cpi_data.csv only"
   ]
  },
  {
   "cell_type": "markdown",
   "id": "9a0a0aec-366e-4e97-9f51-cda7efe04177",
   "metadata": {},
   "source": [
    "## Load files"
   ]
  },
  {
   "cell_type": "code",
   "execution_count": 20,
   "id": "7539e501-7fb4-4433-bd5d-9d42f9b08c07",
   "metadata": {},
   "outputs": [],
   "source": [
    "lib = pd.read_csv(\"./li_benchmark_data.csv\")"
   ]
  },
  {
   "cell_type": "code",
   "execution_count": 21,
   "id": "75c6fd1e-31c3-48a3-aa22-90945ade793a",
   "metadata": {},
   "outputs": [
    {
     "data": {
      "text/html": [
       "<div>\n",
       "<style scoped>\n",
       "    .dataframe tbody tr th:only-of-type {\n",
       "        vertical-align: middle;\n",
       "    }\n",
       "\n",
       "    .dataframe tbody tr th {\n",
       "        vertical-align: top;\n",
       "    }\n",
       "\n",
       "    .dataframe thead th {\n",
       "        text-align: right;\n",
       "    }\n",
       "</style>\n",
       "<table border=\"1\" class=\"dataframe\">\n",
       "  <thead>\n",
       "    <tr style=\"text-align: right;\">\n",
       "      <th></th>\n",
       "      <th>country</th>\n",
       "      <th>region</th>\n",
       "      <th>source</th>\n",
       "      <th>household_size</th>\n",
       "      <th>nr_adults</th>\n",
       "      <th>year</th>\n",
       "      <th>LCU</th>\n",
       "      <th>household_equiv</th>\n",
       "      <th>links</th>\n",
       "    </tr>\n",
       "  </thead>\n",
       "  <tbody>\n",
       "    <tr>\n",
       "      <th>279</th>\n",
       "      <td>NaN</td>\n",
       "      <td>NaN</td>\n",
       "      <td>NaN</td>\n",
       "      <td>NaN</td>\n",
       "      <td>NaN</td>\n",
       "      <td>NaN</td>\n",
       "      <td>NaN</td>\n",
       "      <td>NaN</td>\n",
       "      <td>NaN</td>\n",
       "    </tr>\n",
       "    <tr>\n",
       "      <th>280</th>\n",
       "      <td>NaN</td>\n",
       "      <td>NaN</td>\n",
       "      <td>NaN</td>\n",
       "      <td>NaN</td>\n",
       "      <td>NaN</td>\n",
       "      <td>NaN</td>\n",
       "      <td>NaN</td>\n",
       "      <td>NaN</td>\n",
       "      <td>NaN</td>\n",
       "    </tr>\n",
       "    <tr>\n",
       "      <th>281</th>\n",
       "      <td>NaN</td>\n",
       "      <td>NaN</td>\n",
       "      <td>NaN</td>\n",
       "      <td>NaN</td>\n",
       "      <td>NaN</td>\n",
       "      <td>NaN</td>\n",
       "      <td>NaN</td>\n",
       "      <td>NaN</td>\n",
       "      <td>NaN</td>\n",
       "    </tr>\n",
       "    <tr>\n",
       "      <th>282</th>\n",
       "      <td>NaN</td>\n",
       "      <td>NaN</td>\n",
       "      <td>NaN</td>\n",
       "      <td>NaN</td>\n",
       "      <td>NaN</td>\n",
       "      <td>NaN</td>\n",
       "      <td>NaN</td>\n",
       "      <td>NaN</td>\n",
       "      <td>NaN</td>\n",
       "    </tr>\n",
       "    <tr>\n",
       "      <th>283</th>\n",
       "      <td>NaN</td>\n",
       "      <td>NaN</td>\n",
       "      <td>NaN</td>\n",
       "      <td>NaN</td>\n",
       "      <td>NaN</td>\n",
       "      <td>NaN</td>\n",
       "      <td>NaN</td>\n",
       "      <td>NaN</td>\n",
       "      <td>NaN</td>\n",
       "    </tr>\n",
       "  </tbody>\n",
       "</table>\n",
       "</div>"
      ],
      "text/plain": [
       "    country region source  household_size  nr_adults  year  LCU  \\\n",
       "279     NaN    NaN    NaN             NaN        NaN   NaN  NaN   \n",
       "280     NaN    NaN    NaN             NaN        NaN   NaN  NaN   \n",
       "281     NaN    NaN    NaN             NaN        NaN   NaN  NaN   \n",
       "282     NaN    NaN    NaN             NaN        NaN   NaN  NaN   \n",
       "283     NaN    NaN    NaN             NaN        NaN   NaN  NaN   \n",
       "\n",
       "     household_equiv links  \n",
       "279              NaN   NaN  \n",
       "280              NaN   NaN  \n",
       "281              NaN   NaN  \n",
       "282              NaN   NaN  \n",
       "283              NaN   NaN  "
      ]
     },
     "execution_count": 21,
     "metadata": {},
     "output_type": "execute_result"
    }
   ],
   "source": [
    "lib.tail()"
   ]
  },
  {
   "cell_type": "code",
   "execution_count": 22,
   "id": "75c24e2e-bb1f-4349-bba2-2284efd77595",
   "metadata": {},
   "outputs": [],
   "source": [
    "lib = lib.dropna(how=\"all\")"
   ]
  },
  {
   "cell_type": "code",
   "execution_count": 23,
   "id": "8538e2bc-2057-47c3-82bc-dc167fa3e868",
   "metadata": {},
   "outputs": [],
   "source": [
    "lib[\"id\"] = lib.reset_index().index + 1"
   ]
  },
  {
   "cell_type": "code",
   "execution_count": 24,
   "id": "c365ccd6-2857-4ec4-b9ab-14b7a4abece8",
   "metadata": {},
   "outputs": [
    {
     "data": {
      "text/plain": [
       "Index(['country', 'region', 'source', 'household_size', 'nr_adults', 'year',\n",
       "       'LCU', 'household_equiv', 'links', 'id'],\n",
       "      dtype='object')"
      ]
     },
     "execution_count": 24,
     "metadata": {},
     "output_type": "execute_result"
    }
   ],
   "source": [
    "lib.columns"
   ]
  },
  {
   "cell_type": "code",
   "execution_count": 25,
   "id": "8011aae9-4ea7-400c-afd1-4a4f77c231b6",
   "metadata": {},
   "outputs": [
    {
     "data": {
      "text/html": [
       "<div>\n",
       "<style scoped>\n",
       "    .dataframe tbody tr th:only-of-type {\n",
       "        vertical-align: middle;\n",
       "    }\n",
       "\n",
       "    .dataframe tbody tr th {\n",
       "        vertical-align: top;\n",
       "    }\n",
       "\n",
       "    .dataframe thead th {\n",
       "        text-align: right;\n",
       "    }\n",
       "</style>\n",
       "<table border=\"1\" class=\"dataframe\">\n",
       "  <thead>\n",
       "    <tr style=\"text-align: right;\">\n",
       "      <th></th>\n",
       "      <th>country</th>\n",
       "      <th>region</th>\n",
       "      <th>source</th>\n",
       "      <th>household_size</th>\n",
       "      <th>nr_adults</th>\n",
       "      <th>year</th>\n",
       "      <th>LCU</th>\n",
       "      <th>household_equiv</th>\n",
       "      <th>links</th>\n",
       "      <th>id</th>\n",
       "    </tr>\n",
       "  </thead>\n",
       "  <tbody>\n",
       "    <tr>\n",
       "      <th>66</th>\n",
       "      <td>Kenya</td>\n",
       "      <td>Rural /  Kericho</td>\n",
       "      <td>Calculated from  Global Living Wage Coalition</td>\n",
       "      <td>5.0</td>\n",
       "      <td>2.0</td>\n",
       "      <td>2024.0</td>\n",
       "      <td>570492.0</td>\n",
       "      <td>2.4</td>\n",
       "      <td>https://www.globallivingwage.org/living-wage-b...</td>\n",
       "      <td>67</td>\n",
       "    </tr>\n",
       "    <tr>\n",
       "      <th>67</th>\n",
       "      <td>Kenya</td>\n",
       "      <td>Non-metropolitan Urban /  Lake Naivasha</td>\n",
       "      <td>Calculated from  Global Living Wage Coalition</td>\n",
       "      <td>5.0</td>\n",
       "      <td>2.0</td>\n",
       "      <td>2024.0</td>\n",
       "      <td>627012.0</td>\n",
       "      <td>2.4</td>\n",
       "      <td>https://www.globallivingwage.org/living-wage-b...</td>\n",
       "      <td>68</td>\n",
       "    </tr>\n",
       "  </tbody>\n",
       "</table>\n",
       "</div>"
      ],
      "text/plain": [
       "   country                                   region  \\\n",
       "66   Kenya                         Rural /  Kericho   \n",
       "67   Kenya  Non-metropolitan Urban /  Lake Naivasha   \n",
       "\n",
       "                                           source  household_size  nr_adults  \\\n",
       "66  Calculated from  Global Living Wage Coalition             5.0        2.0   \n",
       "67  Calculated from  Global Living Wage Coalition             5.0        2.0   \n",
       "\n",
       "      year       LCU  household_equiv  \\\n",
       "66  2024.0  570492.0              2.4   \n",
       "67  2024.0  627012.0              2.4   \n",
       "\n",
       "                                                links  id  \n",
       "66  https://www.globallivingwage.org/living-wage-b...  67  \n",
       "67  https://www.globallivingwage.org/living-wage-b...  68  "
      ]
     },
     "execution_count": 25,
     "metadata": {},
     "output_type": "execute_result"
    }
   ],
   "source": [
    "lib[lib['country'] == \"Kenya\"]"
   ]
  },
  {
   "cell_type": "code",
   "execution_count": 26,
   "id": "fb9ba467-eb67-4cbf-a034-540c335746c2",
   "metadata": {},
   "outputs": [],
   "source": [
    "df = pd.read_csv(\"./li_benchmark_data.csv\")"
   ]
  },
  {
   "cell_type": "code",
   "execution_count": 27,
   "id": "5e8d05d4-b864-42f1-9ff2-5b4b796cb5c6",
   "metadata": {},
   "outputs": [
    {
     "data": {
      "text/plain": [
       "Index(['country', 'region', 'source', 'household_size', 'nr_adults', 'year',\n",
       "       'LCU', 'household_equiv', 'links'],\n",
       "      dtype='object')"
      ]
     },
     "execution_count": 27,
     "metadata": {},
     "output_type": "execute_result"
    }
   ],
   "source": [
    "df.columns"
   ]
  },
  {
   "cell_type": "markdown",
   "id": "8b10328e-6a54-4a85-94e0-887b550a2bd9",
   "metadata": {},
   "source": [
    "## Recreate region"
   ]
  },
  {
   "cell_type": "code",
   "execution_count": 28,
   "id": "c1354df5-dfa1-4508-82a2-d0c88c590253",
   "metadata": {},
   "outputs": [],
   "source": [
    "region_source = df[[\"country\", \"region\"]]"
   ]
  },
  {
   "cell_type": "code",
   "execution_count": 29,
   "id": "147217f3-ce8a-48ee-b0b0-8cf95439c847",
   "metadata": {},
   "outputs": [],
   "source": [
    "region_temp = region_source"
   ]
  },
  {
   "cell_type": "code",
   "execution_count": 30,
   "id": "0c971c93-451a-4300-ac27-4730ef0b3d91",
   "metadata": {},
   "outputs": [],
   "source": [
    "region_temp = region_temp[region_temp[\"region\"].notna()]"
   ]
  },
  {
   "cell_type": "code",
   "execution_count": 31,
   "id": "77f3067b-573e-44ff-b4b9-9c8945832c4f",
   "metadata": {},
   "outputs": [
    {
     "name": "stderr",
     "output_type": "stream",
     "text": [
      "/var/folders/00/btls1cns2d544mn2rkm3v4v40000gn/T/ipykernel_22839/1365577662.py:1: SettingWithCopyWarning: \n",
      "A value is trying to be set on a copy of a slice from a DataFrame.\n",
      "Try using .loc[row_indexer,col_indexer] = value instead\n",
      "\n",
      "See the caveats in the documentation: https://pandas.pydata.org/pandas-docs/stable/user_guide/indexing.html#returning-a-view-versus-a-copy\n",
      "  region_temp['country'] = region_temp['country'].str.replace('\\n', ' ').str.strip()\n",
      "/var/folders/00/btls1cns2d544mn2rkm3v4v40000gn/T/ipykernel_22839/1365577662.py:2: SettingWithCopyWarning: \n",
      "A value is trying to be set on a copy of a slice from a DataFrame.\n",
      "Try using .loc[row_indexer,col_indexer] = value instead\n",
      "\n",
      "See the caveats in the documentation: https://pandas.pydata.org/pandas-docs/stable/user_guide/indexing.html#returning-a-view-versus-a-copy\n",
      "  region_temp['region'] = region_temp['region'].str.replace('\\n', ' ').str.strip()\n",
      "/var/folders/00/btls1cns2d544mn2rkm3v4v40000gn/T/ipykernel_22839/1365577662.py:3: SettingWithCopyWarning: \n",
      "A value is trying to be set on a copy of a slice from a DataFrame.\n",
      "Try using .loc[row_indexer,col_indexer] = value instead\n",
      "\n",
      "See the caveats in the documentation: https://pandas.pydata.org/pandas-docs/stable/user_guide/indexing.html#returning-a-view-versus-a-copy\n",
      "  region_temp['region'] = region_temp['region'].str.replace('\\r', ' ').str.strip()\n",
      "/var/folders/00/btls1cns2d544mn2rkm3v4v40000gn/T/ipykernel_22839/1365577662.py:4: SettingWithCopyWarning: \n",
      "A value is trying to be set on a copy of a slice from a DataFrame.\n",
      "Try using .loc[row_indexer,col_indexer] = value instead\n",
      "\n",
      "See the caveats in the documentation: https://pandas.pydata.org/pandas-docs/stable/user_guide/indexing.html#returning-a-view-versus-a-copy\n",
      "  region_temp['region'] = region_temp['region'].str.replace(r'^\\s+|\\s+?$', '', regex=True)\n",
      "/var/folders/00/btls1cns2d544mn2rkm3v4v40000gn/T/ipykernel_22839/1365577662.py:5: SettingWithCopyWarning: \n",
      "A value is trying to be set on a copy of a slice from a DataFrame.\n",
      "Try using .loc[row_indexer,col_indexer] = value instead\n",
      "\n",
      "See the caveats in the documentation: https://pandas.pydata.org/pandas-docs/stable/user_guide/indexing.html#returning-a-view-versus-a-copy\n",
      "  region_temp['region'] = region_temp['region'].apply(remove_extra_whitespace)\n"
     ]
    }
   ],
   "source": [
    "region_temp['country'] = region_temp['country'].str.replace('\\n', ' ').str.strip()\n",
    "region_temp['region'] = region_temp['region'].str.replace('\\n', ' ').str.strip()\n",
    "region_temp['region'] = region_temp['region'].str.replace('\\r', ' ').str.strip()\n",
    "region_temp['region'] = region_temp['region'].str.replace(r'^\\s+|\\s+?$', '', regex=True)\n",
    "region_temp['region'] = region_temp['region'].apply(remove_extra_whitespace)"
   ]
  },
  {
   "cell_type": "code",
   "execution_count": 32,
   "id": "d3bbfb9c-5c45-4807-9b5a-48162f73fa8c",
   "metadata": {},
   "outputs": [
    {
     "data": {
      "text/html": [
       "<div>\n",
       "<style scoped>\n",
       "    .dataframe tbody tr th:only-of-type {\n",
       "        vertical-align: middle;\n",
       "    }\n",
       "\n",
       "    .dataframe tbody tr th {\n",
       "        vertical-align: top;\n",
       "    }\n",
       "\n",
       "    .dataframe thead th {\n",
       "        text-align: right;\n",
       "    }\n",
       "</style>\n",
       "<table border=\"1\" class=\"dataframe\">\n",
       "  <thead>\n",
       "    <tr style=\"text-align: right;\">\n",
       "      <th></th>\n",
       "      <th>country</th>\n",
       "      <th>region</th>\n",
       "    </tr>\n",
       "  </thead>\n",
       "  <tbody>\n",
       "    <tr>\n",
       "      <th>104</th>\n",
       "      <td>Togo</td>\n",
       "      <td>Urban / All</td>\n",
       "    </tr>\n",
       "    <tr>\n",
       "      <th>105</th>\n",
       "      <td>Togo</td>\n",
       "      <td>Rural / coffee-producing households in the Waw...</td>\n",
       "    </tr>\n",
       "    <tr>\n",
       "      <th>106</th>\n",
       "      <td>Tunisia</td>\n",
       "      <td>Rural / All</td>\n",
       "    </tr>\n",
       "    <tr>\n",
       "      <th>107</th>\n",
       "      <td>Uganda</td>\n",
       "      <td>Rural / Lake Victoria Basin</td>\n",
       "    </tr>\n",
       "    <tr>\n",
       "      <th>108</th>\n",
       "      <td>Vietnam</td>\n",
       "      <td>Urban / Minimum Wage Region 1</td>\n",
       "    </tr>\n",
       "    <tr>\n",
       "      <th>109</th>\n",
       "      <td>Vietnam</td>\n",
       "      <td>Urban / Minimum Wage Region 2</td>\n",
       "    </tr>\n",
       "    <tr>\n",
       "      <th>110</th>\n",
       "      <td>Vietnam</td>\n",
       "      <td>Urban / Minimum Wage Region 3</td>\n",
       "    </tr>\n",
       "    <tr>\n",
       "      <th>111</th>\n",
       "      <td>Vietnam</td>\n",
       "      <td>Rural / Minimum Wage Region 4</td>\n",
       "    </tr>\n",
       "    <tr>\n",
       "      <th>112</th>\n",
       "      <td>Zambia</td>\n",
       "      <td>Rural / All</td>\n",
       "    </tr>\n",
       "    <tr>\n",
       "      <th>113</th>\n",
       "      <td>Zimbabwe</td>\n",
       "      <td>Rural / All</td>\n",
       "    </tr>\n",
       "  </tbody>\n",
       "</table>\n",
       "</div>"
      ],
      "text/plain": [
       "      country                                             region\n",
       "104      Togo                                        Urban / All\n",
       "105      Togo  Rural / coffee-producing households in the Waw...\n",
       "106   Tunisia                                        Rural / All\n",
       "107    Uganda                        Rural / Lake Victoria Basin\n",
       "108   Vietnam                      Urban / Minimum Wage Region 1\n",
       "109   Vietnam                      Urban / Minimum Wage Region 2\n",
       "110   Vietnam                      Urban / Minimum Wage Region 3\n",
       "111   Vietnam                      Rural / Minimum Wage Region 4\n",
       "112    Zambia                                        Rural / All\n",
       "113  Zimbabwe                                        Rural / All"
      ]
     },
     "execution_count": 32,
     "metadata": {},
     "output_type": "execute_result"
    }
   ],
   "source": [
    "region_temp.tail(10)"
   ]
  },
  {
   "cell_type": "markdown",
   "id": "d8096ae0-c9d4-42c5-9e2f-ff915a183163",
   "metadata": {},
   "source": [
    "### Map regions with countries"
   ]
  },
  {
   "cell_type": "code",
   "execution_count": 33,
   "id": "d06dadd4-14ac-4023-a02b-8cbcf5cf5a14",
   "metadata": {},
   "outputs": [
    {
     "name": "stdout",
     "output_type": "stream",
     "text": [
      "404 East Timor\n"
     ]
    },
    {
     "name": "stderr",
     "output_type": "stream",
     "text": [
      "/var/folders/00/btls1cns2d544mn2rkm3v4v40000gn/T/ipykernel_22839/2572481390.py:1: SettingWithCopyWarning: \n",
      "A value is trying to be set on a copy of a slice from a DataFrame.\n",
      "Try using .loc[row_indexer,col_indexer] = value instead\n",
      "\n",
      "See the caveats in the documentation: https://pandas.pydata.org/pandas-docs/stable/user_guide/indexing.html#returning-a-view-versus-a-copy\n",
      "  region_temp[\"country_id\"] = region_temp[\"country\"].apply(find_country)\n"
     ]
    }
   ],
   "source": [
    "region_temp[\"country_id\"] = region_temp[\"country\"].apply(find_country)"
   ]
  },
  {
   "cell_type": "code",
   "execution_count": 34,
   "id": "6891798f-37a9-41a7-a573-4b592098e26c",
   "metadata": {},
   "outputs": [
    {
     "data": {
      "text/html": [
       "<div>\n",
       "<style scoped>\n",
       "    .dataframe tbody tr th:only-of-type {\n",
       "        vertical-align: middle;\n",
       "    }\n",
       "\n",
       "    .dataframe tbody tr th {\n",
       "        vertical-align: top;\n",
       "    }\n",
       "\n",
       "    .dataframe thead th {\n",
       "        text-align: right;\n",
       "    }\n",
       "</style>\n",
       "<table border=\"1\" class=\"dataframe\">\n",
       "  <thead>\n",
       "    <tr style=\"text-align: right;\">\n",
       "      <th></th>\n",
       "      <th>country</th>\n",
       "      <th>region</th>\n",
       "      <th>country_id</th>\n",
       "    </tr>\n",
       "  </thead>\n",
       "  <tbody>\n",
       "    <tr>\n",
       "      <th>104</th>\n",
       "      <td>Togo</td>\n",
       "      <td>Urban / All</td>\n",
       "      <td>182</td>\n",
       "    </tr>\n",
       "    <tr>\n",
       "      <th>105</th>\n",
       "      <td>Togo</td>\n",
       "      <td>Rural / coffee-producing households in the Waw...</td>\n",
       "      <td>182</td>\n",
       "    </tr>\n",
       "    <tr>\n",
       "      <th>106</th>\n",
       "      <td>Tunisia</td>\n",
       "      <td>Rural / All</td>\n",
       "      <td>185</td>\n",
       "    </tr>\n",
       "    <tr>\n",
       "      <th>107</th>\n",
       "      <td>Uganda</td>\n",
       "      <td>Rural / Lake Victoria Basin</td>\n",
       "      <td>190</td>\n",
       "    </tr>\n",
       "    <tr>\n",
       "      <th>108</th>\n",
       "      <td>Vietnam</td>\n",
       "      <td>Urban / Minimum Wage Region 1</td>\n",
       "      <td>199</td>\n",
       "    </tr>\n",
       "    <tr>\n",
       "      <th>109</th>\n",
       "      <td>Vietnam</td>\n",
       "      <td>Urban / Minimum Wage Region 2</td>\n",
       "      <td>199</td>\n",
       "    </tr>\n",
       "    <tr>\n",
       "      <th>110</th>\n",
       "      <td>Vietnam</td>\n",
       "      <td>Urban / Minimum Wage Region 3</td>\n",
       "      <td>199</td>\n",
       "    </tr>\n",
       "    <tr>\n",
       "      <th>111</th>\n",
       "      <td>Vietnam</td>\n",
       "      <td>Rural / Minimum Wage Region 4</td>\n",
       "      <td>199</td>\n",
       "    </tr>\n",
       "    <tr>\n",
       "      <th>112</th>\n",
       "      <td>Zambia</td>\n",
       "      <td>Rural / All</td>\n",
       "      <td>202</td>\n",
       "    </tr>\n",
       "    <tr>\n",
       "      <th>113</th>\n",
       "      <td>Zimbabwe</td>\n",
       "      <td>Rural / All</td>\n",
       "      <td>203</td>\n",
       "    </tr>\n",
       "  </tbody>\n",
       "</table>\n",
       "</div>"
      ],
      "text/plain": [
       "      country                                             region country_id\n",
       "104      Togo                                        Urban / All        182\n",
       "105      Togo  Rural / coffee-producing households in the Waw...        182\n",
       "106   Tunisia                                        Rural / All        185\n",
       "107    Uganda                        Rural / Lake Victoria Basin        190\n",
       "108   Vietnam                      Urban / Minimum Wage Region 1        199\n",
       "109   Vietnam                      Urban / Minimum Wage Region 2        199\n",
       "110   Vietnam                      Urban / Minimum Wage Region 3        199\n",
       "111   Vietnam                      Rural / Minimum Wage Region 4        199\n",
       "112    Zambia                                        Rural / All        202\n",
       "113  Zimbabwe                                        Rural / All        203"
      ]
     },
     "execution_count": 34,
     "metadata": {},
     "output_type": "execute_result"
    }
   ],
   "source": [
    "region_temp.tail(10)"
   ]
  },
  {
   "cell_type": "markdown",
   "id": "0d7c748f-30f3-428e-bad3-1f0452f69bc6",
   "metadata": {},
   "source": [
    "### Group region with same name"
   ]
  },
  {
   "cell_type": "code",
   "execution_count": 35,
   "id": "50fb0d4d-ef26-4cef-98a8-793adfbd9890",
   "metadata": {},
   "outputs": [],
   "source": [
    "group_df = region_temp.groupby('region').agg({\n",
    "    'country': lambda x: list(x),\n",
    "    'country_id': lambda x: list(x)\n",
    "}).reset_index()"
   ]
  },
  {
   "cell_type": "code",
   "execution_count": 36,
   "id": "f0ce7fdd-bcbc-4594-aada-25e2f15fb39a",
   "metadata": {},
   "outputs": [],
   "source": [
    "group_df = group_df[group_df['region'].str.strip() != '']"
   ]
  },
  {
   "cell_type": "code",
   "execution_count": 37,
   "id": "65f244cb-aab8-4609-8d1f-f5c716de9675",
   "metadata": {},
   "outputs": [],
   "source": [
    "group_df['region'] = group_df['region'].str.replace(r'^\\s+|\\s+?$', '', regex=True)"
   ]
  },
  {
   "cell_type": "code",
   "execution_count": 38,
   "id": "2ce5b895-5dd2-4229-9bc5-292113b704cf",
   "metadata": {},
   "outputs": [],
   "source": [
    "group_df['country_id'] = group_df['country_id'].apply(list)\n",
    "group_df['country'] = group_df['country'].apply(list)"
   ]
  },
  {
   "cell_type": "code",
   "execution_count": 39,
   "id": "a40a67e3-1a67-45f8-8873-4def2ebf74ef",
   "metadata": {},
   "outputs": [],
   "source": [
    "group_df[\"id\"] = group_df.reset_index().index + 1"
   ]
  },
  {
   "cell_type": "code",
   "execution_count": 40,
   "id": "2b9e9e5c-201c-4936-9e3c-1007add69243",
   "metadata": {},
   "outputs": [],
   "source": [
    "new_column_order = [\"id\", \"region\", \"country_id\", \"country\"]"
   ]
  },
  {
   "cell_type": "code",
   "execution_count": 41,
   "id": "dd267e3b-4c92-41ce-84cd-20c017ce0313",
   "metadata": {},
   "outputs": [],
   "source": [
    "regions = group_df[new_column_order]"
   ]
  },
  {
   "cell_type": "markdown",
   "id": "d0af7c0e-b438-437e-86f3-4f2282cad929",
   "metadata": {},
   "source": [
    "### Export Region to CSV"
   ]
  },
  {
   "cell_type": "code",
   "execution_count": 42,
   "id": "8ba4de83-abca-4d5a-aa55-da16593ca53d",
   "metadata": {},
   "outputs": [
    {
     "data": {
      "text/html": [
       "<div>\n",
       "<style scoped>\n",
       "    .dataframe tbody tr th:only-of-type {\n",
       "        vertical-align: middle;\n",
       "    }\n",
       "\n",
       "    .dataframe tbody tr th {\n",
       "        vertical-align: top;\n",
       "    }\n",
       "\n",
       "    .dataframe thead th {\n",
       "        text-align: right;\n",
       "    }\n",
       "</style>\n",
       "<table border=\"1\" class=\"dataframe\">\n",
       "  <thead>\n",
       "    <tr style=\"text-align: right;\">\n",
       "      <th></th>\n",
       "      <th>id</th>\n",
       "      <th>region</th>\n",
       "      <th>country_id</th>\n",
       "      <th>country</th>\n",
       "    </tr>\n",
       "  </thead>\n",
       "  <tbody>\n",
       "    <tr>\n",
       "      <th>45</th>\n",
       "      <td>46</td>\n",
       "      <td>Rural / coffee-producing households in Cuanza ...</td>\n",
       "      <td>[5]</td>\n",
       "      <td>[Angola]</td>\n",
       "    </tr>\n",
       "  </tbody>\n",
       "</table>\n",
       "</div>"
      ],
      "text/plain": [
       "    id                                             region country_id   country\n",
       "45  46  Rural / coffee-producing households in Cuanza ...        [5]  [Angola]"
      ]
     },
     "execution_count": 42,
     "metadata": {},
     "output_type": "execute_result"
    }
   ],
   "source": [
    "regions[regions['region'].str.contains(\"coffee-producing households in Cuanza Sul province\")]"
   ]
  },
  {
   "cell_type": "code",
   "execution_count": 43,
   "id": "c7150746-9027-4904-ae97-9864c85010a9",
   "metadata": {},
   "outputs": [
    {
     "data": {
      "text/html": [
       "<div>\n",
       "<style scoped>\n",
       "    .dataframe tbody tr th:only-of-type {\n",
       "        vertical-align: middle;\n",
       "    }\n",
       "\n",
       "    .dataframe tbody tr th {\n",
       "        vertical-align: top;\n",
       "    }\n",
       "\n",
       "    .dataframe thead th {\n",
       "        text-align: right;\n",
       "    }\n",
       "</style>\n",
       "<table border=\"1\" class=\"dataframe\">\n",
       "  <thead>\n",
       "    <tr style=\"text-align: right;\">\n",
       "      <th></th>\n",
       "      <th>id</th>\n",
       "      <th>region</th>\n",
       "      <th>country_id</th>\n",
       "      <th>country</th>\n",
       "    </tr>\n",
       "  </thead>\n",
       "  <tbody>\n",
       "    <tr>\n",
       "      <th>74</th>\n",
       "      <td>75</td>\n",
       "      <td>Urban / Urban Guatemala</td>\n",
       "      <td>[75]</td>\n",
       "      <td>[Guatemala]</td>\n",
       "    </tr>\n",
       "    <tr>\n",
       "      <th>75</th>\n",
       "      <td>76</td>\n",
       "      <td>Urban / Urban West Java Province (SUBANG AND G...</td>\n",
       "      <td>[85]</td>\n",
       "      <td>[Indonesia]</td>\n",
       "    </tr>\n",
       "    <tr>\n",
       "      <th>76</th>\n",
       "      <td>77</td>\n",
       "      <td>Urban / Zhengzhou</td>\n",
       "      <td>[40]</td>\n",
       "      <td>[China]</td>\n",
       "    </tr>\n",
       "    <tr>\n",
       "      <th>77</th>\n",
       "      <td>78</td>\n",
       "      <td>Urban-Rural / Caribbean coast</td>\n",
       "      <td>[41]</td>\n",
       "      <td>[Colombia]</td>\n",
       "    </tr>\n",
       "    <tr>\n",
       "      <th>78</th>\n",
       "      <td>79</td>\n",
       "      <td>Yucatán / Rural Areas and Small Towns in Yucatan</td>\n",
       "      <td>[119]</td>\n",
       "      <td>[Mexico]</td>\n",
       "    </tr>\n",
       "  </tbody>\n",
       "</table>\n",
       "</div>"
      ],
      "text/plain": [
       "    id                                             region country_id  \\\n",
       "74  75                            Urban / Urban Guatemala       [75]   \n",
       "75  76  Urban / Urban West Java Province (SUBANG AND G...       [85]   \n",
       "76  77                                  Urban / Zhengzhou       [40]   \n",
       "77  78                      Urban-Rural / Caribbean coast       [41]   \n",
       "78  79   Yucatán / Rural Areas and Small Towns in Yucatan      [119]   \n",
       "\n",
       "        country  \n",
       "74  [Guatemala]  \n",
       "75  [Indonesia]  \n",
       "76      [China]  \n",
       "77   [Colombia]  \n",
       "78     [Mexico]  "
      ]
     },
     "execution_count": 43,
     "metadata": {},
     "output_type": "execute_result"
    }
   ],
   "source": [
    "regions.tail(5)"
   ]
  },
  {
   "cell_type": "code",
   "execution_count": 44,
   "id": "4f1a2a8f-b601-4f19-a4fc-0ce5c6bd3d5b",
   "metadata": {},
   "outputs": [],
   "source": [
    "regions.to_csv('./regions.csv', index=False)"
   ]
  },
  {
   "cell_type": "markdown",
   "id": "bfd59960-251a-457c-9faf-31c044dc41eb",
   "metadata": {},
   "source": [
    "## Living Income Benchmark V6"
   ]
  },
  {
   "cell_type": "markdown",
   "id": "ee27ab73-17ea-455c-9bac-97d390cb49fa",
   "metadata": {},
   "source": [
    "### Get country id"
   ]
  },
  {
   "cell_type": "code",
   "execution_count": 45,
   "id": "f1dc9d79-542d-4368-92f0-19086333e6fe",
   "metadata": {},
   "outputs": [
    {
     "data": {
      "text/plain": [
       "Index(['id', 'country', 'currency', 'abbreviation'], dtype='object')"
      ]
     },
     "execution_count": 45,
     "metadata": {},
     "output_type": "execute_result"
    }
   ],
   "source": [
    "countries.columns"
   ]
  },
  {
   "cell_type": "code",
   "execution_count": 46,
   "id": "9fc46d52-fc57-4116-a11e-f78baf2b0275",
   "metadata": {},
   "outputs": [],
   "source": [
    "def find_new_country(val):\n",
    "    if val == \"Turkey\":\n",
    "        val = \"Turkiye\"\n",
    "    country = countries[countries[\"country\"].str.lower() == str(val).lower()]\n",
    "    if country.empty:\n",
    "        print(\"404\", val)\n",
    "        return None\n",
    "    return country[\"id\"].to_list()[0]"
   ]
  },
  {
   "cell_type": "code",
   "execution_count": 47,
   "id": "e5ca42dc-76d7-4354-a827-7554d6a61145",
   "metadata": {},
   "outputs": [
    {
     "name": "stdout",
     "output_type": "stream",
     "text": [
      "404 East Timor\n"
     ]
    }
   ],
   "source": [
    "lib[\"country_id\"] = lib[\"country\"].apply(find_new_country)"
   ]
  },
  {
   "cell_type": "code",
   "execution_count": 48,
   "id": "170f6849-b49f-4a61-9abe-a1e9fc2a98f1",
   "metadata": {},
   "outputs": [
    {
     "data": {
      "text/html": [
       "<div>\n",
       "<style scoped>\n",
       "    .dataframe tbody tr th:only-of-type {\n",
       "        vertical-align: middle;\n",
       "    }\n",
       "\n",
       "    .dataframe tbody tr th {\n",
       "        vertical-align: top;\n",
       "    }\n",
       "\n",
       "    .dataframe thead th {\n",
       "        text-align: right;\n",
       "    }\n",
       "</style>\n",
       "<table border=\"1\" class=\"dataframe\">\n",
       "  <thead>\n",
       "    <tr style=\"text-align: right;\">\n",
       "      <th></th>\n",
       "      <th>country</th>\n",
       "      <th>region</th>\n",
       "      <th>source</th>\n",
       "      <th>household_size</th>\n",
       "      <th>nr_adults</th>\n",
       "      <th>year</th>\n",
       "      <th>LCU</th>\n",
       "      <th>household_equiv</th>\n",
       "      <th>links</th>\n",
       "      <th>id</th>\n",
       "      <th>country_id</th>\n",
       "    </tr>\n",
       "  </thead>\n",
       "  <tbody>\n",
       "    <tr>\n",
       "      <th>109</th>\n",
       "      <td>Vietnam</td>\n",
       "      <td>Urban /  Minimum Wage Region 2</td>\n",
       "      <td>Calculated from Global Living Wage Coalition</td>\n",
       "      <td>4.0</td>\n",
       "      <td>2.0</td>\n",
       "      <td>2024.0</td>\n",
       "      <td>1.536004e+08</td>\n",
       "      <td>2.1</td>\n",
       "      <td>NaN</td>\n",
       "      <td>110</td>\n",
       "      <td>199.0</td>\n",
       "    </tr>\n",
       "    <tr>\n",
       "      <th>110</th>\n",
       "      <td>Vietnam</td>\n",
       "      <td>Urban /  Minimum Wage Region 3</td>\n",
       "      <td>Calculated from Global Living Wage Coalition</td>\n",
       "      <td>4.0</td>\n",
       "      <td>2.0</td>\n",
       "      <td>2024.0</td>\n",
       "      <td>1.491690e+08</td>\n",
       "      <td>2.1</td>\n",
       "      <td>NaN</td>\n",
       "      <td>111</td>\n",
       "      <td>199.0</td>\n",
       "    </tr>\n",
       "    <tr>\n",
       "      <th>111</th>\n",
       "      <td>Vietnam</td>\n",
       "      <td>Rural /  Minimum Wage Region 4</td>\n",
       "      <td>Calculated from Global Living Wage Coalition</td>\n",
       "      <td>4.0</td>\n",
       "      <td>2.0</td>\n",
       "      <td>2024.0</td>\n",
       "      <td>1.272902e+08</td>\n",
       "      <td>2.1</td>\n",
       "      <td>NaN</td>\n",
       "      <td>112</td>\n",
       "      <td>199.0</td>\n",
       "    </tr>\n",
       "    <tr>\n",
       "      <th>112</th>\n",
       "      <td>Zambia</td>\n",
       "      <td>Rural /  All</td>\n",
       "      <td>Calculated from  Global Living Wage Coalition</td>\n",
       "      <td>6.0</td>\n",
       "      <td>2.0</td>\n",
       "      <td>2024.0</td>\n",
       "      <td>6.234624e+04</td>\n",
       "      <td>2.7</td>\n",
       "      <td>NaN</td>\n",
       "      <td>113</td>\n",
       "      <td>202.0</td>\n",
       "    </tr>\n",
       "    <tr>\n",
       "      <th>113</th>\n",
       "      <td>Zimbabwe</td>\n",
       "      <td>Rural /  All</td>\n",
       "      <td>Calculated from  Global Living Wage Coalition</td>\n",
       "      <td>5.0</td>\n",
       "      <td>2.0</td>\n",
       "      <td>2024.0</td>\n",
       "      <td>4.536000e+03</td>\n",
       "      <td>2.4</td>\n",
       "      <td>NaN</td>\n",
       "      <td>114</td>\n",
       "      <td>203.0</td>\n",
       "    </tr>\n",
       "  </tbody>\n",
       "</table>\n",
       "</div>"
      ],
      "text/plain": [
       "      country                          region  \\\n",
       "109   Vietnam  Urban /  Minimum Wage Region 2   \n",
       "110   Vietnam  Urban /  Minimum Wage Region 3   \n",
       "111   Vietnam  Rural /  Minimum Wage Region 4   \n",
       "112    Zambia                    Rural /  All   \n",
       "113  Zimbabwe                    Rural /  All   \n",
       "\n",
       "                                            source  household_size  nr_adults  \\\n",
       "109   Calculated from Global Living Wage Coalition             4.0        2.0   \n",
       "110   Calculated from Global Living Wage Coalition             4.0        2.0   \n",
       "111   Calculated from Global Living Wage Coalition             4.0        2.0   \n",
       "112  Calculated from  Global Living Wage Coalition             6.0        2.0   \n",
       "113  Calculated from  Global Living Wage Coalition             5.0        2.0   \n",
       "\n",
       "       year           LCU  household_equiv links   id  country_id  \n",
       "109  2024.0  1.536004e+08              2.1   NaN  110       199.0  \n",
       "110  2024.0  1.491690e+08              2.1   NaN  111       199.0  \n",
       "111  2024.0  1.272902e+08              2.1   NaN  112       199.0  \n",
       "112  2024.0  6.234624e+04              2.7   NaN  113       202.0  \n",
       "113  2024.0  4.536000e+03              2.4   NaN  114       203.0  "
      ]
     },
     "execution_count": 48,
     "metadata": {},
     "output_type": "execute_result"
    }
   ],
   "source": [
    "lib.tail()"
   ]
  },
  {
   "cell_type": "markdown",
   "id": "005b3d53-241a-4d1d-bc5d-13ca9dc584dd",
   "metadata": {},
   "source": [
    "### Get region id"
   ]
  },
  {
   "cell_type": "code",
   "execution_count": 49,
   "id": "5e3c8629-fcf5-4a66-a2ef-5f41dd9e1584",
   "metadata": {},
   "outputs": [
    {
     "data": {
      "text/html": [
       "<div>\n",
       "<style scoped>\n",
       "    .dataframe tbody tr th:only-of-type {\n",
       "        vertical-align: middle;\n",
       "    }\n",
       "\n",
       "    .dataframe tbody tr th {\n",
       "        vertical-align: top;\n",
       "    }\n",
       "\n",
       "    .dataframe thead th {\n",
       "        text-align: right;\n",
       "    }\n",
       "</style>\n",
       "<table border=\"1\" class=\"dataframe\">\n",
       "  <thead>\n",
       "    <tr style=\"text-align: right;\">\n",
       "      <th></th>\n",
       "      <th>id</th>\n",
       "      <th>region</th>\n",
       "      <th>country_id</th>\n",
       "      <th>country</th>\n",
       "    </tr>\n",
       "  </thead>\n",
       "  <tbody>\n",
       "    <tr>\n",
       "      <th>74</th>\n",
       "      <td>75</td>\n",
       "      <td>Urban / Urban Guatemala</td>\n",
       "      <td>[75]</td>\n",
       "      <td>[Guatemala]</td>\n",
       "    </tr>\n",
       "    <tr>\n",
       "      <th>75</th>\n",
       "      <td>76</td>\n",
       "      <td>Urban / Urban West Java Province (SUBANG AND G...</td>\n",
       "      <td>[85]</td>\n",
       "      <td>[Indonesia]</td>\n",
       "    </tr>\n",
       "    <tr>\n",
       "      <th>76</th>\n",
       "      <td>77</td>\n",
       "      <td>Urban / Zhengzhou</td>\n",
       "      <td>[40]</td>\n",
       "      <td>[China]</td>\n",
       "    </tr>\n",
       "    <tr>\n",
       "      <th>77</th>\n",
       "      <td>78</td>\n",
       "      <td>Urban-Rural / Caribbean coast</td>\n",
       "      <td>[41]</td>\n",
       "      <td>[Colombia]</td>\n",
       "    </tr>\n",
       "    <tr>\n",
       "      <th>78</th>\n",
       "      <td>79</td>\n",
       "      <td>Yucatán / Rural Areas and Small Towns in Yucatan</td>\n",
       "      <td>[119]</td>\n",
       "      <td>[Mexico]</td>\n",
       "    </tr>\n",
       "  </tbody>\n",
       "</table>\n",
       "</div>"
      ],
      "text/plain": [
       "    id                                             region country_id  \\\n",
       "74  75                            Urban / Urban Guatemala       [75]   \n",
       "75  76  Urban / Urban West Java Province (SUBANG AND G...       [85]   \n",
       "76  77                                  Urban / Zhengzhou       [40]   \n",
       "77  78                      Urban-Rural / Caribbean coast       [41]   \n",
       "78  79   Yucatán / Rural Areas and Small Towns in Yucatan      [119]   \n",
       "\n",
       "        country  \n",
       "74  [Guatemala]  \n",
       "75  [Indonesia]  \n",
       "76      [China]  \n",
       "77   [Colombia]  \n",
       "78     [Mexico]  "
      ]
     },
     "execution_count": 49,
     "metadata": {},
     "output_type": "execute_result"
    }
   ],
   "source": [
    "regions.tail()"
   ]
  },
  {
   "cell_type": "code",
   "execution_count": 50,
   "id": "e8800fdb-8466-4aa1-afdb-7bd04c6cd85a",
   "metadata": {},
   "outputs": [
    {
     "data": {
      "text/plain": [
       "Index(['id', 'region', 'country_id', 'country'], dtype='object')"
      ]
     },
     "execution_count": 50,
     "metadata": {},
     "output_type": "execute_result"
    }
   ],
   "source": [
    "regions.columns"
   ]
  },
  {
   "cell_type": "code",
   "execution_count": 51,
   "id": "95105e00-d5ea-42f6-b623-7e916973c167",
   "metadata": {},
   "outputs": [],
   "source": [
    "lib['country'] = lib['country'].str.replace('\\n', ' ').str.strip()\n",
    "lib['region'] = lib['region'].str.replace('\\n', ' ').str.strip()\n",
    "lib['region'] = lib['region'].str.replace('\\r', ' ').str.strip()\n",
    "lib['region'] = lib['region'].str.replace(r'^\\s+|\\s+?$', '', regex=True)\n",
    "lib['region'] = lib['region'].apply(remove_extra_whitespace)"
   ]
  },
  {
   "cell_type": "code",
   "execution_count": 52,
   "id": "0e8cc6d8-5d81-48ba-b4d0-d65d991ecdc9",
   "metadata": {},
   "outputs": [
    {
     "data": {
      "text/html": [
       "<div>\n",
       "<style scoped>\n",
       "    .dataframe tbody tr th:only-of-type {\n",
       "        vertical-align: middle;\n",
       "    }\n",
       "\n",
       "    .dataframe tbody tr th {\n",
       "        vertical-align: top;\n",
       "    }\n",
       "\n",
       "    .dataframe thead th {\n",
       "        text-align: right;\n",
       "    }\n",
       "</style>\n",
       "<table border=\"1\" class=\"dataframe\">\n",
       "  <thead>\n",
       "    <tr style=\"text-align: right;\">\n",
       "      <th></th>\n",
       "      <th>country</th>\n",
       "      <th>region</th>\n",
       "      <th>source</th>\n",
       "      <th>household_size</th>\n",
       "      <th>nr_adults</th>\n",
       "      <th>year</th>\n",
       "      <th>LCU</th>\n",
       "      <th>household_equiv</th>\n",
       "      <th>links</th>\n",
       "      <th>id</th>\n",
       "      <th>country_id</th>\n",
       "    </tr>\n",
       "  </thead>\n",
       "  <tbody>\n",
       "    <tr>\n",
       "      <th>109</th>\n",
       "      <td>Vietnam</td>\n",
       "      <td>Urban / Minimum Wage Region 2</td>\n",
       "      <td>Calculated from Global Living Wage Coalition</td>\n",
       "      <td>4.0</td>\n",
       "      <td>2.0</td>\n",
       "      <td>2024.0</td>\n",
       "      <td>1.536004e+08</td>\n",
       "      <td>2.1</td>\n",
       "      <td>NaN</td>\n",
       "      <td>110</td>\n",
       "      <td>199.0</td>\n",
       "    </tr>\n",
       "    <tr>\n",
       "      <th>110</th>\n",
       "      <td>Vietnam</td>\n",
       "      <td>Urban / Minimum Wage Region 3</td>\n",
       "      <td>Calculated from Global Living Wage Coalition</td>\n",
       "      <td>4.0</td>\n",
       "      <td>2.0</td>\n",
       "      <td>2024.0</td>\n",
       "      <td>1.491690e+08</td>\n",
       "      <td>2.1</td>\n",
       "      <td>NaN</td>\n",
       "      <td>111</td>\n",
       "      <td>199.0</td>\n",
       "    </tr>\n",
       "    <tr>\n",
       "      <th>111</th>\n",
       "      <td>Vietnam</td>\n",
       "      <td>Rural / Minimum Wage Region 4</td>\n",
       "      <td>Calculated from Global Living Wage Coalition</td>\n",
       "      <td>4.0</td>\n",
       "      <td>2.0</td>\n",
       "      <td>2024.0</td>\n",
       "      <td>1.272902e+08</td>\n",
       "      <td>2.1</td>\n",
       "      <td>NaN</td>\n",
       "      <td>112</td>\n",
       "      <td>199.0</td>\n",
       "    </tr>\n",
       "    <tr>\n",
       "      <th>112</th>\n",
       "      <td>Zambia</td>\n",
       "      <td>Rural / All</td>\n",
       "      <td>Calculated from  Global Living Wage Coalition</td>\n",
       "      <td>6.0</td>\n",
       "      <td>2.0</td>\n",
       "      <td>2024.0</td>\n",
       "      <td>6.234624e+04</td>\n",
       "      <td>2.7</td>\n",
       "      <td>NaN</td>\n",
       "      <td>113</td>\n",
       "      <td>202.0</td>\n",
       "    </tr>\n",
       "    <tr>\n",
       "      <th>113</th>\n",
       "      <td>Zimbabwe</td>\n",
       "      <td>Rural / All</td>\n",
       "      <td>Calculated from  Global Living Wage Coalition</td>\n",
       "      <td>5.0</td>\n",
       "      <td>2.0</td>\n",
       "      <td>2024.0</td>\n",
       "      <td>4.536000e+03</td>\n",
       "      <td>2.4</td>\n",
       "      <td>NaN</td>\n",
       "      <td>114</td>\n",
       "      <td>203.0</td>\n",
       "    </tr>\n",
       "  </tbody>\n",
       "</table>\n",
       "</div>"
      ],
      "text/plain": [
       "      country                         region  \\\n",
       "109   Vietnam  Urban / Minimum Wage Region 2   \n",
       "110   Vietnam  Urban / Minimum Wage Region 3   \n",
       "111   Vietnam  Rural / Minimum Wage Region 4   \n",
       "112    Zambia                    Rural / All   \n",
       "113  Zimbabwe                    Rural / All   \n",
       "\n",
       "                                            source  household_size  nr_adults  \\\n",
       "109   Calculated from Global Living Wage Coalition             4.0        2.0   \n",
       "110   Calculated from Global Living Wage Coalition             4.0        2.0   \n",
       "111   Calculated from Global Living Wage Coalition             4.0        2.0   \n",
       "112  Calculated from  Global Living Wage Coalition             6.0        2.0   \n",
       "113  Calculated from  Global Living Wage Coalition             5.0        2.0   \n",
       "\n",
       "       year           LCU  household_equiv links   id  country_id  \n",
       "109  2024.0  1.536004e+08              2.1   NaN  110       199.0  \n",
       "110  2024.0  1.491690e+08              2.1   NaN  111       199.0  \n",
       "111  2024.0  1.272902e+08              2.1   NaN  112       199.0  \n",
       "112  2024.0  6.234624e+04              2.7   NaN  113       202.0  \n",
       "113  2024.0  4.536000e+03              2.4   NaN  114       203.0  "
      ]
     },
     "execution_count": 52,
     "metadata": {},
     "output_type": "execute_result"
    }
   ],
   "source": [
    "lib.tail()"
   ]
  },
  {
   "cell_type": "code",
   "execution_count": 53,
   "id": "471b4940-d65e-4f37-922b-7f8519f98f4a",
   "metadata": {},
   "outputs": [],
   "source": [
    "def find_region(val):\n",
    "    region = regions[regions[\"region\"].str.lower() == str(val).lower()]\n",
    "    if region.empty:\n",
    "        print(\"404\", val)\n",
    "        return None\n",
    "    return region[\"id\"].to_list()[0]"
   ]
  },
  {
   "cell_type": "code",
   "execution_count": 54,
   "id": "43ecd574-e6a9-4fce-aa5b-49939a81c728",
   "metadata": {},
   "outputs": [],
   "source": [
    "lib[\"region_id\"] = lib[\"region\"].apply(find_region)"
   ]
  },
  {
   "cell_type": "markdown",
   "id": "78d7d412-e813-40f5-8293-3ab9dc4cc8ec",
   "metadata": {},
   "source": [
    "### Export Benchmark to CSV"
   ]
  },
  {
   "cell_type": "code",
   "execution_count": 55,
   "id": "d8e2a23b-a30c-4606-9b3d-fbb52cbf9c99",
   "metadata": {},
   "outputs": [],
   "source": [
    "lib = lib.dropna(subset=['region_id']) # remove row when region_id column is None"
   ]
  },
  {
   "cell_type": "code",
   "execution_count": 56,
   "id": "7e3e130f-841d-4471-905e-551c46e987da",
   "metadata": {},
   "outputs": [],
   "source": [
    "lib[\"id\"] = lib.reset_index().index + 1"
   ]
  },
  {
   "cell_type": "code",
   "execution_count": 57,
   "id": "393dcf92-759b-4fd4-9c0c-79f1d37daf66",
   "metadata": {},
   "outputs": [
    {
     "data": {
      "text/plain": [
       "Index(['country', 'region', 'source', 'household_size', 'nr_adults', 'year',\n",
       "       'LCU', 'household_equiv', 'links', 'id', 'country_id', 'region_id'],\n",
       "      dtype='object')"
      ]
     },
     "execution_count": 57,
     "metadata": {},
     "output_type": "execute_result"
    }
   ],
   "source": [
    "lib.columns"
   ]
  },
  {
   "cell_type": "markdown",
   "id": "13778c0a-59d8-48c8-a56f-ce2392490e72",
   "metadata": {},
   "source": [
    "#### Calculate USD and EUR if this columns doesn't exist in df lib data columns\n",
    "- Calculation using the conversion rate data"
   ]
  },
  {
   "cell_type": "code",
   "execution_count": 58,
   "id": "6a4fdafa-7328-4aeb-a90b-2092ad6578ad",
   "metadata": {},
   "outputs": [
    {
     "data": {
      "text/html": [
       "<div>\n",
       "<style scoped>\n",
       "    .dataframe tbody tr th:only-of-type {\n",
       "        vertical-align: middle;\n",
       "    }\n",
       "\n",
       "    .dataframe tbody tr th {\n",
       "        vertical-align: top;\n",
       "    }\n",
       "\n",
       "    .dataframe thead th {\n",
       "        text-align: right;\n",
       "    }\n",
       "</style>\n",
       "<table border=\"1\" class=\"dataframe\">\n",
       "  <thead>\n",
       "    <tr style=\"text-align: right;\">\n",
       "      <th></th>\n",
       "      <th>country</th>\n",
       "      <th>region</th>\n",
       "      <th>source</th>\n",
       "      <th>household_size</th>\n",
       "      <th>nr_adults</th>\n",
       "      <th>year</th>\n",
       "      <th>LCU</th>\n",
       "      <th>household_equiv</th>\n",
       "      <th>links</th>\n",
       "      <th>id</th>\n",
       "      <th>country_id</th>\n",
       "      <th>region_id</th>\n",
       "    </tr>\n",
       "  </thead>\n",
       "  <tbody>\n",
       "    <tr>\n",
       "      <th>0</th>\n",
       "      <td>Angola</td>\n",
       "      <td>Rural / coffee-producing households in Cuanza ...</td>\n",
       "      <td>New Foresight</td>\n",
       "      <td>7.5</td>\n",
       "      <td>2.0</td>\n",
       "      <td>2023.0</td>\n",
       "      <td>4474488.0</td>\n",
       "      <td>3.15</td>\n",
       "      <td>NaN</td>\n",
       "      <td>1</td>\n",
       "      <td>5.0</td>\n",
       "      <td>46</td>\n",
       "    </tr>\n",
       "  </tbody>\n",
       "</table>\n",
       "</div>"
      ],
      "text/plain": [
       "  country                                             region         source  \\\n",
       "0  Angola  Rural / coffee-producing households in Cuanza ...  New Foresight   \n",
       "\n",
       "   household_size  nr_adults    year        LCU  household_equiv links  id  \\\n",
       "0             7.5        2.0  2023.0  4474488.0             3.15   NaN   1   \n",
       "\n",
       "   country_id  region_id  \n",
       "0         5.0         46  "
      ]
     },
     "execution_count": 58,
     "metadata": {},
     "output_type": "execute_result"
    }
   ],
   "source": [
    "lib.head(1)"
   ]
  },
  {
   "cell_type": "code",
   "execution_count": 59,
   "id": "2e130522-c0ed-45df-9b99-995801099393",
   "metadata": {},
   "outputs": [],
   "source": [
    "# find conversion rate and calculate the conversion into USD/EUR\n",
    "def find_conversion_rate(row, currency):\n",
    "    country_id = row['country_id']\n",
    "    country_id = int(country_id) if not pd.isna(country_id) else 0\n",
    "    year = row['year']\n",
    "    year = int(year) if not pd.isna(year) else 0\n",
    "    \n",
    "    rate = conversion_rate.loc[\n",
    "        (conversion_rate[\"year\"] == year) & \n",
    "        (conversion_rate[\"country_id\"] == country_id) & \n",
    "        (conversion_rate[\"currency\"] == currency),\n",
    "        \"value\"\n",
    "    ]\n",
    "    # Extract scalar value if needed\n",
    "    rate = rate.iloc[0] if not rate.empty else None\n",
    "    if not rate:\n",
    "        return 0\n",
    "    lcu = row['LCU']\n",
    "    target_value = lcu / rate\n",
    "    return target_value\n",
    "    \n",
    "\n",
    "new_lib = lib.copy()\n",
    "if \"USD\" not in lib.columns or \"EUR\" not in lib.columns:\n",
    "    new_lib[\"USD\"] = new_lib.apply(lambda row: find_conversion_rate(row, currency=\"USD\"), axis=1)\n",
    "    new_lib[\"EUR\"] = new_lib.apply(lambda row: find_conversion_rate(row, currency=\"EUR\"), axis=1)\n",
    "    "
   ]
  },
  {
   "cell_type": "code",
   "execution_count": 60,
   "id": "858cd308-7c2c-4233-84c9-c287c381d05f",
   "metadata": {},
   "outputs": [],
   "source": [
    "new_lib = new_lib[['id', 'country_id',\n",
    "       'region_id', 'country', 'region', 'source', 'household_size', 'nr_adults', 'year',\n",
    "       'LCU', 'USD', 'EUR', 'household_equiv', 'links']]"
   ]
  },
  {
   "cell_type": "code",
   "execution_count": 61,
   "id": "1f224213-f555-44a9-abb2-201be7d4e241",
   "metadata": {},
   "outputs": [],
   "source": [
    "# dropna by column country_id is none\n",
    "new_lib = new_lib.dropna(subset=\"country_id\")"
   ]
  },
  {
   "cell_type": "code",
   "execution_count": 62,
   "id": "e3d49abd-104b-433c-9e84-82ff6c7e2fe1",
   "metadata": {},
   "outputs": [
    {
     "data": {
      "text/html": [
       "<div>\n",
       "<style scoped>\n",
       "    .dataframe tbody tr th:only-of-type {\n",
       "        vertical-align: middle;\n",
       "    }\n",
       "\n",
       "    .dataframe tbody tr th {\n",
       "        vertical-align: top;\n",
       "    }\n",
       "\n",
       "    .dataframe thead th {\n",
       "        text-align: right;\n",
       "    }\n",
       "</style>\n",
       "<table border=\"1\" class=\"dataframe\">\n",
       "  <thead>\n",
       "    <tr style=\"text-align: right;\">\n",
       "      <th></th>\n",
       "      <th>id</th>\n",
       "      <th>country_id</th>\n",
       "      <th>region_id</th>\n",
       "      <th>country</th>\n",
       "      <th>region</th>\n",
       "      <th>source</th>\n",
       "      <th>household_size</th>\n",
       "      <th>nr_adults</th>\n",
       "      <th>year</th>\n",
       "      <th>LCU</th>\n",
       "      <th>USD</th>\n",
       "      <th>EUR</th>\n",
       "      <th>household_equiv</th>\n",
       "      <th>links</th>\n",
       "    </tr>\n",
       "  </thead>\n",
       "  <tbody>\n",
       "    <tr>\n",
       "      <th>109</th>\n",
       "      <td>110</td>\n",
       "      <td>199.0</td>\n",
       "      <td>65</td>\n",
       "      <td>Vietnam</td>\n",
       "      <td>Urban / Minimum Wage Region 2</td>\n",
       "      <td>Calculated from Global Living Wage Coalition</td>\n",
       "      <td>4.0</td>\n",
       "      <td>2.0</td>\n",
       "      <td>2024.0</td>\n",
       "      <td>1.536004e+08</td>\n",
       "      <td>6457.238620</td>\n",
       "      <td>5971.909715</td>\n",
       "      <td>2.1</td>\n",
       "      <td>NaN</td>\n",
       "    </tr>\n",
       "    <tr>\n",
       "      <th>110</th>\n",
       "      <td>111</td>\n",
       "      <td>199.0</td>\n",
       "      <td>66</td>\n",
       "      <td>Vietnam</td>\n",
       "      <td>Urban / Minimum Wage Region 3</td>\n",
       "      <td>Calculated from Global Living Wage Coalition</td>\n",
       "      <td>4.0</td>\n",
       "      <td>2.0</td>\n",
       "      <td>2024.0</td>\n",
       "      <td>1.491690e+08</td>\n",
       "      <td>6270.945749</td>\n",
       "      <td>5799.618697</td>\n",
       "      <td>2.1</td>\n",
       "      <td>NaN</td>\n",
       "    </tr>\n",
       "    <tr>\n",
       "      <th>111</th>\n",
       "      <td>112</td>\n",
       "      <td>199.0</td>\n",
       "      <td>35</td>\n",
       "      <td>Vietnam</td>\n",
       "      <td>Rural / Minimum Wage Region 4</td>\n",
       "      <td>Calculated from Global Living Wage Coalition</td>\n",
       "      <td>4.0</td>\n",
       "      <td>2.0</td>\n",
       "      <td>2024.0</td>\n",
       "      <td>1.272902e+08</td>\n",
       "      <td>5351.178546</td>\n",
       "      <td>4948.981604</td>\n",
       "      <td>2.1</td>\n",
       "      <td>NaN</td>\n",
       "    </tr>\n",
       "    <tr>\n",
       "      <th>112</th>\n",
       "      <td>113</td>\n",
       "      <td>202.0</td>\n",
       "      <td>18</td>\n",
       "      <td>Zambia</td>\n",
       "      <td>Rural / All</td>\n",
       "      <td>Calculated from  Global Living Wage Coalition</td>\n",
       "      <td>6.0</td>\n",
       "      <td>2.0</td>\n",
       "      <td>2024.0</td>\n",
       "      <td>6.234624e+04</td>\n",
       "      <td>3084.612354</td>\n",
       "      <td>2852.771527</td>\n",
       "      <td>2.7</td>\n",
       "      <td>NaN</td>\n",
       "    </tr>\n",
       "    <tr>\n",
       "      <th>113</th>\n",
       "      <td>114</td>\n",
       "      <td>203.0</td>\n",
       "      <td>18</td>\n",
       "      <td>Zimbabwe</td>\n",
       "      <td>Rural / All</td>\n",
       "      <td>Calculated from  Global Living Wage Coalition</td>\n",
       "      <td>5.0</td>\n",
       "      <td>2.0</td>\n",
       "      <td>2024.0</td>\n",
       "      <td>4.536000e+03</td>\n",
       "      <td>1.292613</td>\n",
       "      <td>1.195459</td>\n",
       "      <td>2.4</td>\n",
       "      <td>NaN</td>\n",
       "    </tr>\n",
       "  </tbody>\n",
       "</table>\n",
       "</div>"
      ],
      "text/plain": [
       "      id  country_id  region_id   country                         region  \\\n",
       "109  110       199.0         65   Vietnam  Urban / Minimum Wage Region 2   \n",
       "110  111       199.0         66   Vietnam  Urban / Minimum Wage Region 3   \n",
       "111  112       199.0         35   Vietnam  Rural / Minimum Wage Region 4   \n",
       "112  113       202.0         18    Zambia                    Rural / All   \n",
       "113  114       203.0         18  Zimbabwe                    Rural / All   \n",
       "\n",
       "                                            source  household_size  nr_adults  \\\n",
       "109   Calculated from Global Living Wage Coalition             4.0        2.0   \n",
       "110   Calculated from Global Living Wage Coalition             4.0        2.0   \n",
       "111   Calculated from Global Living Wage Coalition             4.0        2.0   \n",
       "112  Calculated from  Global Living Wage Coalition             6.0        2.0   \n",
       "113  Calculated from  Global Living Wage Coalition             5.0        2.0   \n",
       "\n",
       "       year           LCU          USD          EUR  household_equiv links  \n",
       "109  2024.0  1.536004e+08  6457.238620  5971.909715              2.1   NaN  \n",
       "110  2024.0  1.491690e+08  6270.945749  5799.618697              2.1   NaN  \n",
       "111  2024.0  1.272902e+08  5351.178546  4948.981604              2.1   NaN  \n",
       "112  2024.0  6.234624e+04  3084.612354  2852.771527              2.7   NaN  \n",
       "113  2024.0  4.536000e+03     1.292613     1.195459              2.4   NaN  "
      ]
     },
     "execution_count": 62,
     "metadata": {},
     "output_type": "execute_result"
    }
   ],
   "source": [
    "new_lib.tail(5)"
   ]
  },
  {
   "cell_type": "code",
   "execution_count": 63,
   "id": "9c07e0a4-a086-4c32-8235-55e7222b2b7c",
   "metadata": {},
   "outputs": [],
   "source": [
    "new_lib.to_csv(\"./li_benchmark.csv\", index=False)"
   ]
  },
  {
   "cell_type": "markdown",
   "id": "6e3b4bc7-3997-43e1-9451-fef3d59e46bd",
   "metadata": {},
   "source": [
    "## CPI V6"
   ]
  },
  {
   "cell_type": "code",
   "execution_count": 64,
   "id": "deaff3b6-9ff9-4c5a-861a-e0763d86080d",
   "metadata": {},
   "outputs": [],
   "source": [
    "cpi_df = pd.read_csv(\"./cpi_data.csv\")"
   ]
  },
  {
   "cell_type": "code",
   "execution_count": 65,
   "id": "7e4e9b6d-7ddc-4006-b5a5-9b9023f70bce",
   "metadata": {},
   "outputs": [],
   "source": [
    "cpi_df = cpi_df.rename(columns={\"Country Name\": \"country\"})"
   ]
  },
  {
   "cell_type": "code",
   "execution_count": 66,
   "id": "0a1ed950-3fe7-4159-ae4a-9d0d99e703e6",
   "metadata": {},
   "outputs": [],
   "source": [
    "cpi_df = cpi_df.dropna(how=\"all\")"
   ]
  },
  {
   "cell_type": "code",
   "execution_count": 67,
   "id": "d9aa36a2-9d95-423e-93d2-4fc361efc970",
   "metadata": {},
   "outputs": [
    {
     "data": {
      "text/plain": [
       "Index(['country', '2014', '2015', '2016', '2017', '2018', '2019', '2020',\n",
       "       '2021', '2022', '2023', '2024', '2025', 'links'],\n",
       "      dtype='object')"
      ]
     },
     "execution_count": 67,
     "metadata": {},
     "output_type": "execute_result"
    }
   ],
   "source": [
    "cpi_df.columns"
   ]
  },
  {
   "cell_type": "code",
   "execution_count": 68,
   "id": "cf7de4fe-d6d5-4587-9eb5-45c7659dafc3",
   "metadata": {},
   "outputs": [],
   "source": [
    "if \"links\" in cpi_df.columns:\n",
    "    cpi_df = cpi_df.copy()\n",
    "    cpi_df.drop(columns=\"links\", inplace=True)"
   ]
  },
  {
   "cell_type": "code",
   "execution_count": 69,
   "id": "38ecebca-a790-48b0-8b2f-ff393fb2e863",
   "metadata": {
    "scrolled": true
   },
   "outputs": [
    {
     "data": {
      "text/html": [
       "<div>\n",
       "<style scoped>\n",
       "    .dataframe tbody tr th:only-of-type {\n",
       "        vertical-align: middle;\n",
       "    }\n",
       "\n",
       "    .dataframe tbody tr th {\n",
       "        vertical-align: top;\n",
       "    }\n",
       "\n",
       "    .dataframe thead th {\n",
       "        text-align: right;\n",
       "    }\n",
       "</style>\n",
       "<table border=\"1\" class=\"dataframe\">\n",
       "  <thead>\n",
       "    <tr style=\"text-align: right;\">\n",
       "      <th></th>\n",
       "      <th>country</th>\n",
       "      <th>2014</th>\n",
       "      <th>2015</th>\n",
       "      <th>2016</th>\n",
       "      <th>2017</th>\n",
       "      <th>2018</th>\n",
       "      <th>2019</th>\n",
       "      <th>2020</th>\n",
       "      <th>2021</th>\n",
       "      <th>2022</th>\n",
       "      <th>2023</th>\n",
       "      <th>2024</th>\n",
       "      <th>2025</th>\n",
       "    </tr>\n",
       "  </thead>\n",
       "  <tbody>\n",
       "    <tr>\n",
       "      <th>0</th>\n",
       "      <td>Afghanistan</td>\n",
       "      <td>101.97</td>\n",
       "      <td>101.295751</td>\n",
       "      <td>105.736448</td>\n",
       "      <td>110.997842</td>\n",
       "      <td>111.692854</td>\n",
       "      <td>114.264439</td>\n",
       "      <td>120.660000</td>\n",
       "      <td>126.85</td>\n",
       "      <td>144.250000</td>\n",
       "      <td>137.550000</td>\n",
       "      <td>128.47</td>\n",
       "      <td>NaN</td>\n",
       "    </tr>\n",
       "    <tr>\n",
       "      <th>1</th>\n",
       "      <td>Albania</td>\n",
       "      <td>90.72</td>\n",
       "      <td>92.435759</td>\n",
       "      <td>93.614714</td>\n",
       "      <td>95.474522</td>\n",
       "      <td>97.410802</td>\n",
       "      <td>98.785357</td>\n",
       "      <td>100.386555</td>\n",
       "      <td>102.435918526012</td>\n",
       "      <td>109.324942</td>\n",
       "      <td>114.528551</td>\n",
       "      <td>108.23</td>\n",
       "      <td>NaN</td>\n",
       "    </tr>\n",
       "    <tr>\n",
       "      <th>2</th>\n",
       "      <td>Algeria</td>\n",
       "      <td>164.77</td>\n",
       "      <td>172.653333</td>\n",
       "      <td>183.699167</td>\n",
       "      <td>193.970000</td>\n",
       "      <td>202.252500</td>\n",
       "      <td>206.200000</td>\n",
       "      <td>211.180000</td>\n",
       "      <td>226.44</td>\n",
       "      <td>247.420833</td>\n",
       "      <td>270.485833</td>\n",
       "      <td>281.43</td>\n",
       "      <td>NaN</td>\n",
       "    </tr>\n",
       "    <tr>\n",
       "      <th>3</th>\n",
       "      <td>Angola</td>\n",
       "      <td>28.45</td>\n",
       "      <td>31.106440</td>\n",
       "      <td>40.654380</td>\n",
       "      <td>52.787468</td>\n",
       "      <td>63.149087</td>\n",
       "      <td>73.935554</td>\n",
       "      <td>90.402140</td>\n",
       "      <td>113.684573330823</td>\n",
       "      <td>137.962244</td>\n",
       "      <td>156.785953</td>\n",
       "      <td>201.06308173832301</td>\n",
       "      <td>228.58</td>\n",
       "    </tr>\n",
       "    <tr>\n",
       "      <th>4</th>\n",
       "      <td>Anguilla</td>\n",
       "      <td>107.17</td>\n",
       "      <td>106.127500</td>\n",
       "      <td>105.573687</td>\n",
       "      <td>106.940000</td>\n",
       "      <td>107.342500</td>\n",
       "      <td>108.217500</td>\n",
       "      <td>107.705000</td>\n",
       "      <td>109.64</td>\n",
       "      <td>115.730000</td>\n",
       "      <td>119.672500</td>\n",
       "      <td>NaN</td>\n",
       "      <td>NaN</td>\n",
       "    </tr>\n",
       "  </tbody>\n",
       "</table>\n",
       "</div>"
      ],
      "text/plain": [
       "       country    2014        2015        2016        2017        2018  \\\n",
       "0  Afghanistan  101.97  101.295751  105.736448  110.997842  111.692854   \n",
       "1      Albania   90.72   92.435759   93.614714   95.474522   97.410802   \n",
       "2      Algeria  164.77  172.653333  183.699167  193.970000  202.252500   \n",
       "3       Angola   28.45   31.106440   40.654380   52.787468   63.149087   \n",
       "4     Anguilla  107.17  106.127500  105.573687  106.940000  107.342500   \n",
       "\n",
       "         2019        2020              2021        2022        2023  \\\n",
       "0  114.264439  120.660000            126.85  144.250000  137.550000   \n",
       "1   98.785357  100.386555  102.435918526012  109.324942  114.528551   \n",
       "2  206.200000  211.180000            226.44  247.420833  270.485833   \n",
       "3   73.935554   90.402140  113.684573330823  137.962244  156.785953   \n",
       "4  108.217500  107.705000            109.64  115.730000  119.672500   \n",
       "\n",
       "                 2024    2025  \n",
       "0              128.47     NaN  \n",
       "1              108.23     NaN  \n",
       "2              281.43     NaN  \n",
       "3  201.06308173832301  228.58  \n",
       "4                 NaN     NaN  "
      ]
     },
     "execution_count": 69,
     "metadata": {},
     "output_type": "execute_result"
    }
   ],
   "source": [
    "cpi_df.head(5)"
   ]
  },
  {
   "cell_type": "markdown",
   "id": "d72f8e03-aa55-4770-8042-1d7d30d2dfd3",
   "metadata": {},
   "source": [
    "### Map with Countries"
   ]
  },
  {
   "cell_type": "code",
   "execution_count": 70,
   "id": "be3060a0-4a89-42ea-b20b-055a45869922",
   "metadata": {},
   "outputs": [
    {
     "name": "stdout",
     "output_type": "stream",
     "text": [
      "404 Democratic Republic of Congo\n",
      "404 Congo\n",
      "404 Egypt\n",
      "404 East Timor\n"
     ]
    }
   ],
   "source": [
    "cpi_df[\"country_id\"] = cpi_df[\"country\"].apply(find_country)"
   ]
  },
  {
   "cell_type": "markdown",
   "id": "01b7ec3e-86b4-4c30-b276-f396186108f9",
   "metadata": {},
   "source": [
    "### Transform CPI table"
   ]
  },
  {
   "cell_type": "code",
   "execution_count": 71,
   "id": "c20c523e-cac0-462e-ac46-1148ce504420",
   "metadata": {},
   "outputs": [],
   "source": [
    "# transform int country, country_id, year, value format\n",
    "melted_df = pd.melt(cpi_df, id_vars=['country', 'country_id'], var_name='year', value_name='value')\n",
    "melted_df['value'] = melted_df['value'].fillna(0)"
   ]
  },
  {
   "cell_type": "code",
   "execution_count": 72,
   "id": "5a9c6615-43f5-41e0-a372-1f450ec3960c",
   "metadata": {},
   "outputs": [],
   "source": [
    "melted_df.reset_index(drop=True, inplace=True)\n",
    "melted_df[\"id\"] = melted_df.reset_index().index + 1"
   ]
  },
  {
   "cell_type": "code",
   "execution_count": 73,
   "id": "8407ee98-1fc5-40e1-89ce-e8517792e69d",
   "metadata": {},
   "outputs": [],
   "source": [
    "new_column_order = [\"id\", \"country\", \"country_id\", \"year\", \"value\"]"
   ]
  },
  {
   "cell_type": "code",
   "execution_count": 74,
   "id": "5426b663-1467-46cc-b912-72dc49eb4def",
   "metadata": {},
   "outputs": [],
   "source": [
    "cpi_df = melted_df[new_column_order]"
   ]
  },
  {
   "cell_type": "code",
   "execution_count": 75,
   "id": "c34e1818-4a4b-4abc-8141-22ad8dd64aee",
   "metadata": {
    "scrolled": true
   },
   "outputs": [],
   "source": [
    "cpi_df['value'] = cpi_df['value'].apply(convert_to_float)"
   ]
  },
  {
   "cell_type": "markdown",
   "id": "3fa681be-524d-4247-95a8-38a6daa9ee02",
   "metadata": {},
   "source": [
    "### Export CPI to CSV"
   ]
  },
  {
   "cell_type": "code",
   "execution_count": 76,
   "id": "3c443982-d34c-42fb-bac2-6134c7370738",
   "metadata": {},
   "outputs": [],
   "source": [
    "cpi = cpi_df.dropna()"
   ]
  },
  {
   "cell_type": "code",
   "execution_count": 77,
   "id": "ef740d9b-4344-4191-9cbe-e2d7735c2fb0",
   "metadata": {},
   "outputs": [],
   "source": [
    "cpi = cpi.drop_duplicates(subset=[\"country_id\", \"year\"])"
   ]
  },
  {
   "cell_type": "code",
   "execution_count": 78,
   "id": "c033c67d-8f8a-4ed6-9d5b-a0bfec4178c9",
   "metadata": {},
   "outputs": [
    {
     "data": {
      "text/html": [
       "<div>\n",
       "<style scoped>\n",
       "    .dataframe tbody tr th:only-of-type {\n",
       "        vertical-align: middle;\n",
       "    }\n",
       "\n",
       "    .dataframe tbody tr th {\n",
       "        vertical-align: top;\n",
       "    }\n",
       "\n",
       "    .dataframe thead th {\n",
       "        text-align: right;\n",
       "    }\n",
       "</style>\n",
       "<table border=\"1\" class=\"dataframe\">\n",
       "  <thead>\n",
       "    <tr style=\"text-align: right;\">\n",
       "      <th></th>\n",
       "      <th>id</th>\n",
       "      <th>country</th>\n",
       "      <th>country_id</th>\n",
       "      <th>year</th>\n",
       "      <th>value</th>\n",
       "    </tr>\n",
       "  </thead>\n",
       "  <tbody>\n",
       "    <tr>\n",
       "      <th>0</th>\n",
       "      <td>1</td>\n",
       "      <td>Afghanistan</td>\n",
       "      <td>1</td>\n",
       "      <td>2014</td>\n",
       "      <td>101.97</td>\n",
       "    </tr>\n",
       "    <tr>\n",
       "      <th>1</th>\n",
       "      <td>2</td>\n",
       "      <td>Albania</td>\n",
       "      <td>2</td>\n",
       "      <td>2014</td>\n",
       "      <td>90.72</td>\n",
       "    </tr>\n",
       "    <tr>\n",
       "      <th>2</th>\n",
       "      <td>3</td>\n",
       "      <td>Algeria</td>\n",
       "      <td>3</td>\n",
       "      <td>2014</td>\n",
       "      <td>164.77</td>\n",
       "    </tr>\n",
       "    <tr>\n",
       "      <th>3</th>\n",
       "      <td>4</td>\n",
       "      <td>Angola</td>\n",
       "      <td>5</td>\n",
       "      <td>2014</td>\n",
       "      <td>28.45</td>\n",
       "    </tr>\n",
       "    <tr>\n",
       "      <th>4</th>\n",
       "      <td>5</td>\n",
       "      <td>Anguilla</td>\n",
       "      <td>204</td>\n",
       "      <td>2014</td>\n",
       "      <td>107.17</td>\n",
       "    </tr>\n",
       "  </tbody>\n",
       "</table>\n",
       "</div>"
      ],
      "text/plain": [
       "   id      country country_id  year   value\n",
       "0   1  Afghanistan          1  2014  101.97\n",
       "1   2      Albania          2  2014   90.72\n",
       "2   3      Algeria          3  2014  164.77\n",
       "3   4       Angola          5  2014   28.45\n",
       "4   5     Anguilla        204  2014  107.17"
      ]
     },
     "execution_count": 78,
     "metadata": {},
     "output_type": "execute_result"
    }
   ],
   "source": [
    "cpi.head()"
   ]
  },
  {
   "cell_type": "code",
   "execution_count": 79,
   "id": "30816e73-aa63-4548-9e0c-ad01c7b14844",
   "metadata": {},
   "outputs": [],
   "source": [
    "cpi.to_csv('cpi.csv', index=False)"
   ]
  }
 ],
 "metadata": {
  "kernelspec": {
   "display_name": "Python 3 (ipykernel)",
   "language": "python",
   "name": "python3"
  },
  "language_info": {
   "codemirror_mode": {
    "name": "ipython",
    "version": 3
   },
   "file_extension": ".py",
   "mimetype": "text/x-python",
   "name": "python",
   "nbconvert_exporter": "python",
   "pygments_lexer": "ipython3",
   "version": "3.12.5"
  }
 },
 "nbformat": 4,
 "nbformat_minor": 5
}
