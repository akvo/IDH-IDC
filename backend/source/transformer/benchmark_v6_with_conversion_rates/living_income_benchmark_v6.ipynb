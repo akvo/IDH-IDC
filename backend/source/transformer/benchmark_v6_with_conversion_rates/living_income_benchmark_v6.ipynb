{
 "cells": [
  {
   "cell_type": "markdown",
   "id": "709a8ba6-742e-4fe7-89ee-b50ffeb235d9",
   "metadata": {},
   "source": [
    "# HOW TO USE"
   ]
  },
  {
   "cell_type": "markdown",
   "id": "213be026-3185-49a9-a4a9-fe16bed4476b",
   "metadata": {},
   "source": [
    "**Notes**:\n",
    "\n",
    "- To use this script please put the new benchmark data file (li_benchmark_data.csv) inside ./prev_lib_data\n",
    "- Rename the file with version (please continue the file version li_benchmark_data_v[int].csv. The purpose of the versioning is we want to keep the prev benchmark value"
   ]
  },
  {
   "cell_type": "code",
   "execution_count": 1,
   "id": "0094d9e0-d871-4420-8a15-9176f4395c21",
   "metadata": {},
   "outputs": [],
   "source": [
    "import pandas as pd\n",
    "import re\n",
    "import json\n",
    "import glob\n",
    "import re"
   ]
  },
  {
   "cell_type": "markdown",
   "id": "afd5eb61-7ab1-4435-9792-3b8f9d984826",
   "metadata": {},
   "source": [
    "# Function"
   ]
  },
  {
   "cell_type": "code",
   "execution_count": 2,
   "id": "3961848f-6754-4822-82b0-c8ff40dd3079",
   "metadata": {},
   "outputs": [],
   "source": [
    "# Function to clean and convert to float\n",
    "def convert_to_float(value):\n",
    "    if isinstance(value, str):  # Check if it's a string\n",
    "        value = value.replace(\" \", \"\").replace(\",\", \".\")  # Remove spaces and replace \",\" with \".\"\n",
    "        return float(value)\n",
    "    return value  # Return original if it's not a string"
   ]
  },
  {
   "cell_type": "code",
   "execution_count": 3,
   "id": "96b71293-cef1-485d-8d25-bf0625e730d8",
   "metadata": {},
   "outputs": [],
   "source": [
    "def remove_extra_whitespace(val):\n",
    "    temp = val.split()\n",
    "    return ' '.join(temp)"
   ]
  },
  {
   "cell_type": "code",
   "execution_count": 4,
   "id": "0c642fd2-5d9e-4e84-acef-9d4be92efc78",
   "metadata": {},
   "outputs": [],
   "source": [
    "def find_country(val):\n",
    "    # manual match\n",
    "    if val == \"Turkey\":\n",
    "        val = \"Turkiye\"\n",
    "    # if val == \"Anguilla\":\n",
    "    #     print(\"404\", val)\n",
    "    #     return None\n",
    "    if val == \"Central African Rep.\":\n",
    "        val = \"Central African Republic\"\n",
    "    if val == \"Congo, Dem. Rep. of the\":\n",
    "        val = \"Congo, Dem. Rep.\"\n",
    "    if val == \"Congo, Rep. of\":\n",
    "        val = \"Congo, Rep.\"\n",
    "    if val == \"Côte d'Ivoire\":\n",
    "        val = \"Cote d'Ivoire\"\n",
    "    if val == \"Curaçao, Kingdom of the Netherlands\":\n",
    "        val = \"Curacao\"\n",
    "    if val == \"Czech Rep.\":\n",
    "        val = \"Czech Republic\"\n",
    "    if val == \"Dominican Rep.\":\n",
    "        val = \"Dominican Republic\"\n",
    "    if val == \"Egypt, Arab Rep. of\":\n",
    "        val = \"Egypt, Arab Rep.\"\n",
    "    # if val == \"Guadeloupe\":\n",
    "    #     print(\"404\", val)\n",
    "    #     return None\n",
    "    if val == \"Iran, Islamic Rep. of\":\n",
    "        val = \"Iran, Islamic Rep.\"\n",
    "    if val == \"Korea, Rep. of\":\n",
    "        val = \"Korea, Rep.\"\n",
    "    if val == \"Kyrgyz Rep.\":\n",
    "        val = \"Kyrgyz Republic\"\n",
    "    if val == \"Lao People's Dem. Rep.\":\n",
    "        val = \"Lao PDR\"\n",
    "    # if val == \"Martinique\":\n",
    "    #     print(\"404\", val)\n",
    "    #     return None\n",
    "    if val == \"Micronesia, Federated States of\":\n",
    "        val = \"Micronesia, Fed. Sts.\"\n",
    "    # if val == \"Montserrat\":\n",
    "    #     print(\"404\", val)\n",
    "    #     return None\n",
    "    # if val == \"San Marino, Rep. of\":\n",
    "    #     print(\"404\", val)\n",
    "    #     return None\n",
    "    # if val == \"São Tomé and Príncipe, Dem. Rep. of\":\n",
    "    #     print(\"404\", val)\n",
    "    #     return None\n",
    "    if val == \"Sint Maarten, Kingdom of the Netherlands\":\n",
    "        val = \"Sint Maarten (Dutch part)\"\n",
    "    if val == \"Slovak Rep.\":\n",
    "        val = \"Slovak Republic\"\n",
    "    # if val == \"Syrian Arab Rep.\":\n",
    "    #     print(\"404\", val)\n",
    "    #     return None\n",
    "    if val == \"Venezuela, Rep. Bolivariana de\":\n",
    "        val = \"Venezuela, RB\"\n",
    "    if val == \"Yemen, Rep. of\":\n",
    "        val = \"Yemen, Rep.\"\n",
    "    # EOL manual match\n",
    "    \n",
    "    find_country = countries[countries[\"country\"].str.lower() == str(val).lower()]\n",
    "    if find_country.empty:\n",
    "        # Another custom way\n",
    "        val_lower = str(val).lower()\n",
    "        val_tmp = val_lower.lower().split(',')\n",
    "        for index, row in countries.iterrows():\n",
    "            # Convert the country name in the DataFrame to lowercase\n",
    "            country_name = row['country'].lower()\n",
    "            if val_lower == 'nan':\n",
    "                return None\n",
    "            if country_name not in val_tmp:\n",
    "                continue\n",
    "            return row[\"id\"]\n",
    "        # EOL Another custom way\n",
    "        print(\"404\", val)\n",
    "        return val\n",
    "    return find_country[\"id\"].to_list()[0]"
   ]
  },
  {
   "cell_type": "code",
   "execution_count": 5,
   "id": "4710d00d-4ca8-43f6-b7e5-c790def8ea97",
   "metadata": {},
   "outputs": [],
   "source": [
    "# Function to melt data and adjust the year\n",
    "def melt_conversion_data(df, currency_name):\n",
    "    # Melt the data: 'Country Name' stays, everything else is melted\n",
    "    melted_df = pd.melt(df, id_vars=['Country Name'], var_name='year', value_name='value')\n",
    "    \n",
    "    # Convert Year to integer by removing the decimal part\n",
    "    melted_df['year'] = melted_df['year'].astype(float).astype(int)\n",
    "\n",
    "    # Filter out rows where Year is before 2020\n",
    "    melted_df = melted_df[melted_df['year'] >= 2020]\n",
    "    \n",
    "    # Add a new column 'currency' to identify whether it's USD or EUR\n",
    "    melted_df['currency'] = currency_name\n",
    "    \n",
    "    # Rename 'Country Name' to 'country_name' for consistency\n",
    "    melted_df.rename(columns={'Country Name': 'country'}, inplace=True)\n",
    "    \n",
    "    return melted_df"
   ]
  },
  {
   "cell_type": "markdown",
   "id": "c5811db2-bd94-49f3-a56e-a63d34c059f1",
   "metadata": {},
   "source": [
    "# Load source"
   ]
  },
  {
   "cell_type": "markdown",
   "id": "25ba8eb1-be5c-4e01-848f-9c68e26a9e61",
   "metadata": {},
   "source": [
    "## Country mapping JSON"
   ]
  },
  {
   "cell_type": "code",
   "execution_count": 6,
   "id": "df45b229-f499-4545-ac2d-75703e260c77",
   "metadata": {},
   "outputs": [],
   "source": [
    "country_mapping = {}\n",
    "with open(\"./country_names_matched.json\", \"r\") as file:\n",
    "    json_data = json.load(file)\n",
    "\n",
    "country_mapping = {entry[\"benchmark name\"]: entry[\"tool name\"] for entry in json_data}"
   ]
  },
  {
   "cell_type": "markdown",
   "id": "008620cc-a471-4cc1-a2c6-c69143fd07e2",
   "metadata": {},
   "source": [
    "## Country"
   ]
  },
  {
   "cell_type": "code",
   "execution_count": 7,
   "id": "649c8e05-a6f7-46d0-8da9-50670c957f0d",
   "metadata": {},
   "outputs": [],
   "source": [
    "countries = pd.read_csv(\"./countries.csv\")"
   ]
  },
  {
   "cell_type": "code",
   "execution_count": 8,
   "id": "b3635661-a676-4611-a313-f0bbb9e85f34",
   "metadata": {},
   "outputs": [
    {
     "data": {
      "text/html": [
       "<div>\n",
       "<style scoped>\n",
       "    .dataframe tbody tr th:only-of-type {\n",
       "        vertical-align: middle;\n",
       "    }\n",
       "\n",
       "    .dataframe tbody tr th {\n",
       "        vertical-align: top;\n",
       "    }\n",
       "\n",
       "    .dataframe thead th {\n",
       "        text-align: right;\n",
       "    }\n",
       "</style>\n",
       "<table border=\"1\" class=\"dataframe\">\n",
       "  <thead>\n",
       "    <tr style=\"text-align: right;\">\n",
       "      <th></th>\n",
       "      <th>id</th>\n",
       "      <th>country</th>\n",
       "      <th>currency</th>\n",
       "      <th>abbreviation</th>\n",
       "    </tr>\n",
       "  </thead>\n",
       "  <tbody>\n",
       "    <tr>\n",
       "      <th>205</th>\n",
       "      <td>206</td>\n",
       "      <td>Martinique</td>\n",
       "      <td>Euro</td>\n",
       "      <td>EUR</td>\n",
       "    </tr>\n",
       "    <tr>\n",
       "      <th>206</th>\n",
       "      <td>207</td>\n",
       "      <td>Montserrat</td>\n",
       "      <td>East Caribbean Dollar</td>\n",
       "      <td>XCD</td>\n",
       "    </tr>\n",
       "    <tr>\n",
       "      <th>207</th>\n",
       "      <td>208</td>\n",
       "      <td>San Marino, Rep. Of</td>\n",
       "      <td>Euro</td>\n",
       "      <td>EUR</td>\n",
       "    </tr>\n",
       "    <tr>\n",
       "      <th>208</th>\n",
       "      <td>209</td>\n",
       "      <td>São Tomé and Príncipe, Dem. Rep. of</td>\n",
       "      <td>Dobra</td>\n",
       "      <td>STN</td>\n",
       "    </tr>\n",
       "    <tr>\n",
       "      <th>209</th>\n",
       "      <td>210</td>\n",
       "      <td>Syrian Arab Rep.</td>\n",
       "      <td>Syrian Pound</td>\n",
       "      <td>SYP</td>\n",
       "    </tr>\n",
       "  </tbody>\n",
       "</table>\n",
       "</div>"
      ],
      "text/plain": [
       "      id                              country               currency  \\\n",
       "205  206                           Martinique                   Euro   \n",
       "206  207                           Montserrat  East Caribbean Dollar   \n",
       "207  208                  San Marino, Rep. Of                   Euro   \n",
       "208  209  São Tomé and Príncipe, Dem. Rep. of                  Dobra   \n",
       "209  210                     Syrian Arab Rep.           Syrian Pound   \n",
       "\n",
       "    abbreviation  \n",
       "205          EUR  \n",
       "206          XCD  \n",
       "207          EUR  \n",
       "208          STN  \n",
       "209          SYP  "
      ]
     },
     "execution_count": 8,
     "metadata": {},
     "output_type": "execute_result"
    }
   ],
   "source": [
    "countries.tail()"
   ]
  },
  {
   "cell_type": "markdown",
   "id": "44622ef2-0dda-468d-b463-e381132183e5",
   "metadata": {},
   "source": [
    "## Region"
   ]
  },
  {
   "cell_type": "code",
   "execution_count": 9,
   "id": "dc0e0bf1-4d02-4f8b-9e34-81a1b12e60d0",
   "metadata": {},
   "outputs": [],
   "source": [
    "regions = pd.read_csv('./regions.csv')"
   ]
  },
  {
   "cell_type": "code",
   "execution_count": 10,
   "id": "83583c40-91b8-49dd-9a4d-5a6b7e703022",
   "metadata": {},
   "outputs": [
    {
     "data": {
      "text/html": [
       "<div>\n",
       "<style scoped>\n",
       "    .dataframe tbody tr th:only-of-type {\n",
       "        vertical-align: middle;\n",
       "    }\n",
       "\n",
       "    .dataframe tbody tr th {\n",
       "        vertical-align: top;\n",
       "    }\n",
       "\n",
       "    .dataframe thead th {\n",
       "        text-align: right;\n",
       "    }\n",
       "</style>\n",
       "<table border=\"1\" class=\"dataframe\">\n",
       "  <thead>\n",
       "    <tr style=\"text-align: right;\">\n",
       "      <th></th>\n",
       "      <th>id</th>\n",
       "      <th>region</th>\n",
       "      <th>country_id</th>\n",
       "      <th>country</th>\n",
       "    </tr>\n",
       "  </thead>\n",
       "  <tbody>\n",
       "    <tr>\n",
       "      <th>78</th>\n",
       "      <td>79</td>\n",
       "      <td>Rural Areas and Small Towns / All coffee and c...</td>\n",
       "      <td>[145]</td>\n",
       "      <td>['Peru']</td>\n",
       "    </tr>\n",
       "    <tr>\n",
       "      <th>79</th>\n",
       "      <td>80</td>\n",
       "      <td>Urban /</td>\n",
       "      <td>[75]</td>\n",
       "      <td>['Guatemala']</td>\n",
       "    </tr>\n",
       "    <tr>\n",
       "      <th>80</th>\n",
       "      <td>81</td>\n",
       "      <td>Urban / Ho Chi Minh City</td>\n",
       "      <td>[199]</td>\n",
       "      <td>['Vietnam']</td>\n",
       "    </tr>\n",
       "    <tr>\n",
       "      <th>81</th>\n",
       "      <td>82</td>\n",
       "      <td>Urban / Urban Banten Province</td>\n",
       "      <td>[85]</td>\n",
       "      <td>['Indonesia']</td>\n",
       "    </tr>\n",
       "    <tr>\n",
       "      <th>82</th>\n",
       "      <td>83</td>\n",
       "      <td>Urban / Urban West Java Province (SUBANG AND G...</td>\n",
       "      <td>[85]</td>\n",
       "      <td>['Indonesia']</td>\n",
       "    </tr>\n",
       "  </tbody>\n",
       "</table>\n",
       "</div>"
      ],
      "text/plain": [
       "    id                                             region country_id  \\\n",
       "78  79  Rural Areas and Small Towns / All coffee and c...      [145]   \n",
       "79  80                                            Urban /       [75]   \n",
       "80  81                           Urban / Ho Chi Minh City      [199]   \n",
       "81  82                      Urban / Urban Banten Province       [85]   \n",
       "82  83  Urban / Urban West Java Province (SUBANG AND G...       [85]   \n",
       "\n",
       "          country  \n",
       "78       ['Peru']  \n",
       "79  ['Guatemala']  \n",
       "80    ['Vietnam']  \n",
       "81  ['Indonesia']  \n",
       "82  ['Indonesia']  "
      ]
     },
     "execution_count": 10,
     "metadata": {},
     "output_type": "execute_result"
    }
   ],
   "source": [
    "regions.tail(5)"
   ]
  },
  {
   "cell_type": "markdown",
   "id": "32a7f113-83aa-429a-9e23-e57c3034354b",
   "metadata": {},
   "source": [
    "# Merge prev LIB data"
   ]
  },
  {
   "cell_type": "code",
   "execution_count": 11,
   "id": "a462662f-d5b2-44c7-955a-9c3cbff4f3fc",
   "metadata": {},
   "outputs": [],
   "source": [
    "# Match files like li_benchmark_data_v2.csv, li_benchmark_data_v3.csv, etc.\n",
    "files = glob.glob('./prev_lib_data/li_benchmark_data_v*.csv')\n",
    "\n",
    "libs = {}\n",
    "for file in files:\n",
    "    match = re.search(r'v(\\d+)', file)\n",
    "    if match:\n",
    "        version = match.group(1)\n",
    "        libs[f'lib_v{version}'] = pd.read_csv(file)\n",
    "\n",
    "# Now libs contains all versioned files, e.g., libs['lib_v2'], libs['lib_v3'], etc."
   ]
  },
  {
   "cell_type": "code",
   "execution_count": 12,
   "id": "48764f9f-3279-4049-8e6e-de340bd6f210",
   "metadata": {},
   "outputs": [
    {
     "data": {
      "text/html": [
       "<div>\n",
       "<style scoped>\n",
       "    .dataframe tbody tr th:only-of-type {\n",
       "        vertical-align: middle;\n",
       "    }\n",
       "\n",
       "    .dataframe tbody tr th {\n",
       "        vertical-align: top;\n",
       "    }\n",
       "\n",
       "    .dataframe thead th {\n",
       "        text-align: right;\n",
       "    }\n",
       "</style>\n",
       "<table border=\"1\" class=\"dataframe\">\n",
       "  <thead>\n",
       "    <tr style=\"text-align: right;\">\n",
       "      <th></th>\n",
       "      <th>country</th>\n",
       "      <th>region</th>\n",
       "      <th>source</th>\n",
       "      <th>household_size</th>\n",
       "      <th>nr_adults</th>\n",
       "      <th>year</th>\n",
       "      <th>LCU</th>\n",
       "      <th>household_equiv</th>\n",
       "      <th>links</th>\n",
       "    </tr>\n",
       "  </thead>\n",
       "  <tbody>\n",
       "    <tr>\n",
       "      <th>0</th>\n",
       "      <td>Angola</td>\n",
       "      <td>Rural /  coffee-producing households in\\r\\nCua...</td>\n",
       "      <td>New Foresight</td>\n",
       "      <td>7.5</td>\n",
       "      <td>2</td>\n",
       "      <td>2023.0</td>\n",
       "      <td>4474488.00</td>\n",
       "      <td>3.15</td>\n",
       "      <td>NaN</td>\n",
       "    </tr>\n",
       "    <tr>\n",
       "      <th>1</th>\n",
       "      <td>Argentina</td>\n",
       "      <td>Non-Metropolitan Urban /  All</td>\n",
       "      <td>Calculated from Global Living Wage Coalition</td>\n",
       "      <td>4.0</td>\n",
       "      <td>2</td>\n",
       "      <td>2024.0</td>\n",
       "      <td>3847528.08</td>\n",
       "      <td>2.10</td>\n",
       "      <td>https://www.globallivingwage.org/reference-val...</td>\n",
       "    </tr>\n",
       "    <tr>\n",
       "      <th>2</th>\n",
       "      <td>Argentina</td>\n",
       "      <td>Rural /  All</td>\n",
       "      <td>Global Living Wage Coalition</td>\n",
       "      <td>4.0</td>\n",
       "      <td>2</td>\n",
       "      <td>2024.0</td>\n",
       "      <td>11841900.00</td>\n",
       "      <td>2.10</td>\n",
       "      <td>https://www.globallivingwage.org/reference-val...</td>\n",
       "    </tr>\n",
       "    <tr>\n",
       "      <th>3</th>\n",
       "      <td>Bangladesh</td>\n",
       "      <td>Urban /  Satellite Cities</td>\n",
       "      <td>Calculated from Global Living Wage Coalition</td>\n",
       "      <td>4.0</td>\n",
       "      <td>2</td>\n",
       "      <td>2024.0</td>\n",
       "      <td>437988.00</td>\n",
       "      <td>2.10</td>\n",
       "      <td>https://www.globallivingwage.org/living-wage-b...</td>\n",
       "    </tr>\n",
       "    <tr>\n",
       "      <th>4</th>\n",
       "      <td>Bangladesh</td>\n",
       "      <td>Urban /  Dhaka City</td>\n",
       "      <td>Calculated from Global Living Wage Coalition</td>\n",
       "      <td>4.0</td>\n",
       "      <td>2</td>\n",
       "      <td>2024.0</td>\n",
       "      <td>528972.00</td>\n",
       "      <td>2.10</td>\n",
       "      <td>https://www.globallivingwage.org/living-wage-b...</td>\n",
       "    </tr>\n",
       "  </tbody>\n",
       "</table>\n",
       "</div>"
      ],
      "text/plain": [
       "      country                                             region  \\\n",
       "0      Angola  Rural /  coffee-producing households in\\r\\nCua...   \n",
       "1   Argentina                      Non-Metropolitan Urban /  All   \n",
       "2   Argentina                                       Rural /  All   \n",
       "3  Bangladesh                          Urban /  Satellite Cities   \n",
       "4  Bangladesh                                Urban /  Dhaka City   \n",
       "\n",
       "                                         source  household_size  nr_adults  \\\n",
       "0                                 New Foresight             7.5          2   \n",
       "1  Calculated from Global Living Wage Coalition             4.0          2   \n",
       "2                  Global Living Wage Coalition             4.0          2   \n",
       "3  Calculated from Global Living Wage Coalition             4.0          2   \n",
       "4  Calculated from Global Living Wage Coalition             4.0          2   \n",
       "\n",
       "     year          LCU  household_equiv  \\\n",
       "0  2023.0   4474488.00             3.15   \n",
       "1  2024.0   3847528.08             2.10   \n",
       "2  2024.0  11841900.00             2.10   \n",
       "3  2024.0    437988.00             2.10   \n",
       "4  2024.0    528972.00             2.10   \n",
       "\n",
       "                                               links  \n",
       "0                                                NaN  \n",
       "1  https://www.globallivingwage.org/reference-val...  \n",
       "2  https://www.globallivingwage.org/reference-val...  \n",
       "3  https://www.globallivingwage.org/living-wage-b...  \n",
       "4  https://www.globallivingwage.org/living-wage-b...  "
      ]
     },
     "execution_count": 12,
     "metadata": {},
     "output_type": "execute_result"
    }
   ],
   "source": [
    "libs['lib_v6'].head()"
   ]
  },
  {
   "cell_type": "code",
   "execution_count": 13,
   "id": "9e915a29-5ee5-4629-bc07-086d24ccddb3",
   "metadata": {},
   "outputs": [
    {
     "name": "stdout",
     "output_type": "stream",
     "text": [
      "1101\n"
     ]
    }
   ],
   "source": [
    "# Merge all DataFrames in the dictionary\n",
    "merged_lib = pd.concat(libs.values(), ignore_index=True)\n",
    "\n",
    "# Check the total number of rows\n",
    "print(len(merged_lib))"
   ]
  },
  {
   "cell_type": "code",
   "execution_count": 14,
   "id": "70d36c10-f99d-4513-9c92-be3b54e01df7",
   "metadata": {},
   "outputs": [
    {
     "data": {
      "text/plain": [
       "298"
      ]
     },
     "execution_count": 14,
     "metadata": {},
     "output_type": "execute_result"
    }
   ],
   "source": [
    "final_lib = merged_lib.drop_duplicates(subset=['country', 'region', 'year'], keep='last')\n",
    "len(final_lib)"
   ]
  },
  {
   "cell_type": "markdown",
   "id": "627d8ca8-5d68-4ef5-aa28-cce52a871105",
   "metadata": {},
   "source": [
    "## Write to lib data"
   ]
  },
  {
   "cell_type": "code",
   "execution_count": 15,
   "id": "77aeb0fd-5ae7-4b46-9977-f7b1e5d79bd0",
   "metadata": {},
   "outputs": [
    {
     "data": {
      "text/html": [
       "<div>\n",
       "<style scoped>\n",
       "    .dataframe tbody tr th:only-of-type {\n",
       "        vertical-align: middle;\n",
       "    }\n",
       "\n",
       "    .dataframe tbody tr th {\n",
       "        vertical-align: top;\n",
       "    }\n",
       "\n",
       "    .dataframe thead th {\n",
       "        text-align: right;\n",
       "    }\n",
       "</style>\n",
       "<table border=\"1\" class=\"dataframe\">\n",
       "  <thead>\n",
       "    <tr style=\"text-align: right;\">\n",
       "      <th></th>\n",
       "      <th>country</th>\n",
       "      <th>region</th>\n",
       "      <th>source</th>\n",
       "      <th>household_size</th>\n",
       "      <th>nr_adults</th>\n",
       "      <th>year</th>\n",
       "      <th>LCU</th>\n",
       "      <th>household_equiv</th>\n",
       "      <th>links</th>\n",
       "      <th>USD</th>\n",
       "      <th>EUR</th>\n",
       "    </tr>\n",
       "  </thead>\n",
       "  <tbody>\n",
       "    <tr>\n",
       "      <th>1</th>\n",
       "      <td>Argentina</td>\n",
       "      <td>Non-Metropolitan Urban /  All</td>\n",
       "      <td>Calculated from Global Living Wage Coalition</td>\n",
       "      <td>4.0</td>\n",
       "      <td>2.0</td>\n",
       "      <td>2024.0</td>\n",
       "      <td>3847528.08</td>\n",
       "      <td>2.1</td>\n",
       "      <td>https://www.globallivingwage.org/reference-val...</td>\n",
       "      <td>NaN</td>\n",
       "      <td>NaN</td>\n",
       "    </tr>\n",
       "    <tr>\n",
       "      <th>2</th>\n",
       "      <td>Argentina</td>\n",
       "      <td>Rural /  All</td>\n",
       "      <td>Global Living Wage Coalition</td>\n",
       "      <td>4.0</td>\n",
       "      <td>2.0</td>\n",
       "      <td>2024.0</td>\n",
       "      <td>11841900.00</td>\n",
       "      <td>2.1</td>\n",
       "      <td>https://www.globallivingwage.org/reference-val...</td>\n",
       "      <td>NaN</td>\n",
       "      <td>NaN</td>\n",
       "    </tr>\n",
       "    <tr>\n",
       "      <th>3</th>\n",
       "      <td>Bangladesh</td>\n",
       "      <td>Urban /  Satellite Cities</td>\n",
       "      <td>Calculated from Global Living Wage Coalition</td>\n",
       "      <td>4.0</td>\n",
       "      <td>2.0</td>\n",
       "      <td>2024.0</td>\n",
       "      <td>437988.00</td>\n",
       "      <td>2.1</td>\n",
       "      <td>https://www.globallivingwage.org/living-wage-b...</td>\n",
       "      <td>NaN</td>\n",
       "      <td>NaN</td>\n",
       "    </tr>\n",
       "    <tr>\n",
       "      <th>4</th>\n",
       "      <td>Bangladesh</td>\n",
       "      <td>Urban /  Dhaka City</td>\n",
       "      <td>Calculated from Global Living Wage Coalition</td>\n",
       "      <td>4.0</td>\n",
       "      <td>2.0</td>\n",
       "      <td>2024.0</td>\n",
       "      <td>528972.00</td>\n",
       "      <td>2.1</td>\n",
       "      <td>https://www.globallivingwage.org/living-wage-b...</td>\n",
       "      <td>NaN</td>\n",
       "      <td>NaN</td>\n",
       "    </tr>\n",
       "    <tr>\n",
       "      <th>5</th>\n",
       "      <td>Belize</td>\n",
       "      <td>Rural /  All</td>\n",
       "      <td>Calculated from Global Living Wage Coalition</td>\n",
       "      <td>4.0</td>\n",
       "      <td>2.0</td>\n",
       "      <td>2024.0</td>\n",
       "      <td>19656.00</td>\n",
       "      <td>2.1</td>\n",
       "      <td>https://www.globallivingwage.org/living-wage-b...</td>\n",
       "      <td>NaN</td>\n",
       "      <td>NaN</td>\n",
       "    </tr>\n",
       "  </tbody>\n",
       "</table>\n",
       "</div>"
      ],
      "text/plain": [
       "      country                         region  \\\n",
       "1   Argentina  Non-Metropolitan Urban /  All   \n",
       "2   Argentina                   Rural /  All   \n",
       "3  Bangladesh      Urban /  Satellite Cities   \n",
       "4  Bangladesh            Urban /  Dhaka City   \n",
       "5      Belize                   Rural /  All   \n",
       "\n",
       "                                         source  household_size  nr_adults  \\\n",
       "1  Calculated from Global Living Wage Coalition             4.0        2.0   \n",
       "2                  Global Living Wage Coalition             4.0        2.0   \n",
       "3  Calculated from Global Living Wage Coalition             4.0        2.0   \n",
       "4  Calculated from Global Living Wage Coalition             4.0        2.0   \n",
       "5  Calculated from Global Living Wage Coalition             4.0        2.0   \n",
       "\n",
       "     year          LCU  household_equiv  \\\n",
       "1  2024.0   3847528.08              2.1   \n",
       "2  2024.0  11841900.00              2.1   \n",
       "3  2024.0    437988.00              2.1   \n",
       "4  2024.0    528972.00              2.1   \n",
       "5  2024.0     19656.00              2.1   \n",
       "\n",
       "                                               links  USD  EUR  \n",
       "1  https://www.globallivingwage.org/reference-val...  NaN  NaN  \n",
       "2  https://www.globallivingwage.org/reference-val...  NaN  NaN  \n",
       "3  https://www.globallivingwage.org/living-wage-b...  NaN  NaN  \n",
       "4  https://www.globallivingwage.org/living-wage-b...  NaN  NaN  \n",
       "5  https://www.globallivingwage.org/living-wage-b...  NaN  NaN  "
      ]
     },
     "execution_count": 15,
     "metadata": {},
     "output_type": "execute_result"
    }
   ],
   "source": [
    "final_lib.head()"
   ]
  },
  {
   "cell_type": "code",
   "execution_count": 16,
   "id": "7d3472e9-88ef-4c0b-b093-54a43de30490",
   "metadata": {},
   "outputs": [],
   "source": [
    "benchmark_filename = \"merged_li_benchmark_data.csv\""
   ]
  },
  {
   "cell_type": "code",
   "execution_count": 17,
   "id": "4cda7b62-b1bf-4560-809c-c7fc1d6ebfea",
   "metadata": {},
   "outputs": [],
   "source": [
    "final_lib.to_csv(f'./{benchmark_filename}', index=False)"
   ]
  },
  {
   "cell_type": "markdown",
   "id": "e8bc95af-e4ae-431b-a1f0-acfe7416901b",
   "metadata": {},
   "source": [
    "# Conversion Rate V1"
   ]
  },
  {
   "cell_type": "code",
   "execution_count": 18,
   "id": "d1a05131-092b-477d-a3c0-6e2f196e0e1f",
   "metadata": {},
   "outputs": [],
   "source": [
    "# Load excel file\n",
    "file_path = \"./conversion_rates.xlsx\"\n",
    "xls = pd.ExcelFile(file_path)"
   ]
  },
  {
   "cell_type": "code",
   "execution_count": 19,
   "id": "7e39d981-6bb2-4ef3-b48a-663a0a984486",
   "metadata": {},
   "outputs": [],
   "source": [
    "# Load two sheets for usd and eur into dataframe\n",
    "usd_df = pd.read_excel(xls, sheet_name=\"USD conversion\")\n",
    "eur_df = pd.read_excel(xls, sheet_name=\"EUR conversion\")"
   ]
  },
  {
   "cell_type": "code",
   "execution_count": 20,
   "id": "e21b63f3-e2fb-4103-bc44-cc6d08355869",
   "metadata": {},
   "outputs": [],
   "source": [
    "# Apply the function to both dataframes\n",
    "usd_long = melt_conversion_data(usd_df, 'USD')\n",
    "eur_long = melt_conversion_data(eur_df, 'EUR')"
   ]
  },
  {
   "cell_type": "code",
   "execution_count": 21,
   "id": "637c0dca-52d8-4e53-85f0-3204c7581dbe",
   "metadata": {},
   "outputs": [],
   "source": [
    "# Combine the two dataframes if you want them in one\n",
    "combined_df = pd.concat([usd_long, eur_long], ignore_index=True)"
   ]
  },
  {
   "cell_type": "code",
   "execution_count": 22,
   "id": "a91f774a-5720-422a-a7dc-afec7260744c",
   "metadata": {},
   "outputs": [],
   "source": [
    "# Replace 'country' column using the mapping\n",
    "combined_df[\"country\"] = combined_df[\"country\"].map(country_mapping).fillna(combined_df[\"country\"])  # Keep original if no match"
   ]
  },
  {
   "cell_type": "code",
   "execution_count": 23,
   "id": "732de8d0-b08b-49c2-97e9-6a3016d5ad0f",
   "metadata": {},
   "outputs": [],
   "source": [
    "# fill NA with 0\n",
    "combined_df.fillna(0, inplace=True)"
   ]
  },
  {
   "cell_type": "code",
   "execution_count": 24,
   "id": "d712ff43-e969-481d-a1a7-ea46d6645180",
   "metadata": {},
   "outputs": [
    {
     "name": "stdout",
     "output_type": "stream",
     "text": [
      "404 EUR\n",
      "404 EUR\n",
      "404 EUR\n",
      "404 EUR\n",
      "404 EUR\n"
     ]
    }
   ],
   "source": [
    "combined_df['country_id'] = combined_df[\"country\"].apply(find_country)"
   ]
  },
  {
   "cell_type": "code",
   "execution_count": 25,
   "id": "064b74a3-3e4b-45df-acd3-18ac97b8b004",
   "metadata": {},
   "outputs": [],
   "source": [
    "# sort add id and so on\n",
    "combined_df = combined_df.sort_values(by=['country', 'year'], ascending=[True, True])\n",
    "combined_df['id'] = combined_df.reset_index().index + 1\n",
    "combined_df = combined_df.reindex(columns=['id', 'country', 'country_id', 'year', 'value', 'currency'])"
   ]
  },
  {
   "cell_type": "code",
   "execution_count": 26,
   "id": "911ee018-6825-4b2a-95ea-3c0242e768a9",
   "metadata": {},
   "outputs": [
    {
     "data": {
      "text/html": [
       "<div>\n",
       "<style scoped>\n",
       "    .dataframe tbody tr th:only-of-type {\n",
       "        vertical-align: middle;\n",
       "    }\n",
       "\n",
       "    .dataframe tbody tr th {\n",
       "        vertical-align: top;\n",
       "    }\n",
       "\n",
       "    .dataframe thead th {\n",
       "        text-align: right;\n",
       "    }\n",
       "</style>\n",
       "<table border=\"1\" class=\"dataframe\">\n",
       "  <thead>\n",
       "    <tr style=\"text-align: right;\">\n",
       "      <th></th>\n",
       "      <th>id</th>\n",
       "      <th>country</th>\n",
       "      <th>country_id</th>\n",
       "      <th>year</th>\n",
       "      <th>value</th>\n",
       "      <th>currency</th>\n",
       "    </tr>\n",
       "  </thead>\n",
       "  <tbody>\n",
       "    <tr>\n",
       "      <th>0</th>\n",
       "      <td>1</td>\n",
       "      <td>Angola</td>\n",
       "      <td>5</td>\n",
       "      <td>2020</td>\n",
       "      <td>364.825805</td>\n",
       "      <td>USD</td>\n",
       "    </tr>\n",
       "    <tr>\n",
       "      <th>290</th>\n",
       "      <td>2</td>\n",
       "      <td>Angola</td>\n",
       "      <td>5</td>\n",
       "      <td>2020</td>\n",
       "      <td>408.413189</td>\n",
       "      <td>EUR</td>\n",
       "    </tr>\n",
       "    <tr>\n",
       "      <th>58</th>\n",
       "      <td>3</td>\n",
       "      <td>Angola</td>\n",
       "      <td>5</td>\n",
       "      <td>2021</td>\n",
       "      <td>578.258780</td>\n",
       "      <td>USD</td>\n",
       "    </tr>\n",
       "    <tr>\n",
       "      <th>347</th>\n",
       "      <td>4</td>\n",
       "      <td>Angola</td>\n",
       "      <td>5</td>\n",
       "      <td>2021</td>\n",
       "      <td>660.484929</td>\n",
       "      <td>EUR</td>\n",
       "    </tr>\n",
       "    <tr>\n",
       "      <th>116</th>\n",
       "      <td>5</td>\n",
       "      <td>Angola</td>\n",
       "      <td>5</td>\n",
       "      <td>2022</td>\n",
       "      <td>631.441956</td>\n",
       "      <td>USD</td>\n",
       "    </tr>\n",
       "    <tr>\n",
       "      <th>...</th>\n",
       "      <td>...</td>\n",
       "      <td>...</td>\n",
       "      <td>...</td>\n",
       "      <td>...</td>\n",
       "      <td>...</td>\n",
       "      <td>...</td>\n",
       "    </tr>\n",
       "    <tr>\n",
       "      <th>460</th>\n",
       "      <td>571</td>\n",
       "      <td>Zimbabwe</td>\n",
       "      <td>203</td>\n",
       "      <td>2022</td>\n",
       "      <td>104.734549</td>\n",
       "      <td>EUR</td>\n",
       "    </tr>\n",
       "    <tr>\n",
       "      <th>231</th>\n",
       "      <td>572</td>\n",
       "      <td>Zimbabwe</td>\n",
       "      <td>203</td>\n",
       "      <td>2023</td>\n",
       "      <td>374.954363</td>\n",
       "      <td>USD</td>\n",
       "    </tr>\n",
       "    <tr>\n",
       "      <th>517</th>\n",
       "      <td>573</td>\n",
       "      <td>Zimbabwe</td>\n",
       "      <td>203</td>\n",
       "      <td>2023</td>\n",
       "      <td>394.845181</td>\n",
       "      <td>EUR</td>\n",
       "    </tr>\n",
       "    <tr>\n",
       "      <th>289</th>\n",
       "      <td>574</td>\n",
       "      <td>Zimbabwe</td>\n",
       "      <td>203</td>\n",
       "      <td>2024</td>\n",
       "      <td>3509.172220</td>\n",
       "      <td>USD</td>\n",
       "    </tr>\n",
       "    <tr>\n",
       "      <th>574</th>\n",
       "      <td>575</td>\n",
       "      <td>Zimbabwe</td>\n",
       "      <td>203</td>\n",
       "      <td>2024</td>\n",
       "      <td>3794.357830</td>\n",
       "      <td>EUR</td>\n",
       "    </tr>\n",
       "  </tbody>\n",
       "</table>\n",
       "<p>575 rows × 6 columns</p>\n",
       "</div>"
      ],
      "text/plain": [
       "      id   country country_id  year        value currency\n",
       "0      1    Angola          5  2020   364.825805      USD\n",
       "290    2    Angola          5  2020   408.413189      EUR\n",
       "58     3    Angola          5  2021   578.258780      USD\n",
       "347    4    Angola          5  2021   660.484929      EUR\n",
       "116    5    Angola          5  2022   631.441956      USD\n",
       "..   ...       ...        ...   ...          ...      ...\n",
       "460  571  Zimbabwe        203  2022   104.734549      EUR\n",
       "231  572  Zimbabwe        203  2023   374.954363      USD\n",
       "517  573  Zimbabwe        203  2023   394.845181      EUR\n",
       "289  574  Zimbabwe        203  2024  3509.172220      USD\n",
       "574  575  Zimbabwe        203  2024  3794.357830      EUR\n",
       "\n",
       "[575 rows x 6 columns]"
      ]
     },
     "execution_count": 26,
     "metadata": {},
     "output_type": "execute_result"
    }
   ],
   "source": [
    "combined_df"
   ]
  },
  {
   "cell_type": "code",
   "execution_count": 27,
   "id": "dfe14545-a46c-4616-9b9d-103d760ce4f6",
   "metadata": {},
   "outputs": [],
   "source": [
    "conversion_rate = combined_df"
   ]
  },
  {
   "cell_type": "code",
   "execution_count": 28,
   "id": "287d10de-9277-4e71-bd53-98b0de7351f8",
   "metadata": {},
   "outputs": [],
   "source": [
    "conversion_rate.to_csv('./conversion_rate.csv', index=False)"
   ]
  },
  {
   "cell_type": "markdown",
   "id": "fe26bc83-efac-4e44-b345-7b28a02f3e9e",
   "metadata": {},
   "source": [
    "# Regions V4 - Living Income Benchmark V6 - CPI V6"
   ]
  },
  {
   "cell_type": "markdown",
   "id": "696d44d3-4624-4f6b-bd39-8eae4505513b",
   "metadata": {},
   "source": [
    "Here we will map the li_benchmark_data.csv and cpi_data.csv only"
   ]
  },
  {
   "cell_type": "markdown",
   "id": "9a0a0aec-366e-4e97-9f51-cda7efe04177",
   "metadata": {},
   "source": [
    "## Load files"
   ]
  },
  {
   "cell_type": "code",
   "execution_count": 29,
   "id": "7539e501-7fb4-4433-bd5d-9d42f9b08c07",
   "metadata": {},
   "outputs": [],
   "source": [
    "lib = pd.read_csv(f\"./{benchmark_filename}\")"
   ]
  },
  {
   "cell_type": "code",
   "execution_count": 30,
   "id": "75c6fd1e-31c3-48a3-aa22-90945ade793a",
   "metadata": {},
   "outputs": [
    {
     "data": {
      "text/html": [
       "<div>\n",
       "<style scoped>\n",
       "    .dataframe tbody tr th:only-of-type {\n",
       "        vertical-align: middle;\n",
       "    }\n",
       "\n",
       "    .dataframe tbody tr th {\n",
       "        vertical-align: top;\n",
       "    }\n",
       "\n",
       "    .dataframe thead th {\n",
       "        text-align: right;\n",
       "    }\n",
       "</style>\n",
       "<table border=\"1\" class=\"dataframe\">\n",
       "  <thead>\n",
       "    <tr style=\"text-align: right;\">\n",
       "      <th></th>\n",
       "      <th>country</th>\n",
       "      <th>region</th>\n",
       "      <th>source</th>\n",
       "      <th>household_size</th>\n",
       "      <th>nr_adults</th>\n",
       "      <th>year</th>\n",
       "      <th>LCU</th>\n",
       "      <th>household_equiv</th>\n",
       "      <th>links</th>\n",
       "      <th>USD</th>\n",
       "      <th>EUR</th>\n",
       "    </tr>\n",
       "  </thead>\n",
       "  <tbody>\n",
       "    <tr>\n",
       "      <th>293</th>\n",
       "      <td>Vietnam</td>\n",
       "      <td>Rural / Economic Zone 4</td>\n",
       "      <td>Calculated from  Global Living Wage Coalition</td>\n",
       "      <td>4.0</td>\n",
       "      <td>2.0</td>\n",
       "      <td>2020.0</td>\n",
       "      <td>7729194.00</td>\n",
       "      <td>2.1</td>\n",
       "      <td>https://www.globallivingwage.org/living-wage-b...</td>\n",
       "      <td>333.034787</td>\n",
       "      <td>291.574086</td>\n",
       "    </tr>\n",
       "    <tr>\n",
       "      <th>294</th>\n",
       "      <td>Vietnam</td>\n",
       "      <td>Urban / Ho Chi Minh City</td>\n",
       "      <td>Calculated from  Global Living Wage Coalition</td>\n",
       "      <td>4.0</td>\n",
       "      <td>2.0</td>\n",
       "      <td>2020.0</td>\n",
       "      <td>11862692.00</td>\n",
       "      <td>2.1</td>\n",
       "      <td>https://www.globallivingwage.org/living-wage-b...</td>\n",
       "      <td>511.138561</td>\n",
       "      <td>447.505080</td>\n",
       "    </tr>\n",
       "    <tr>\n",
       "      <th>295</th>\n",
       "      <td>Zambia</td>\n",
       "      <td>Rural / All</td>\n",
       "      <td>Calculated from  Global Living Wage Coalition</td>\n",
       "      <td>6.0</td>\n",
       "      <td>2.0</td>\n",
       "      <td>2022.0</td>\n",
       "      <td>4107.84</td>\n",
       "      <td>2.7</td>\n",
       "      <td>https://globallivingwage.org/reference-value/l...</td>\n",
       "      <td>242.527948</td>\n",
       "      <td>230.310300</td>\n",
       "    </tr>\n",
       "    <tr>\n",
       "      <th>296</th>\n",
       "      <td>Zimbabwe</td>\n",
       "      <td>Rural / All</td>\n",
       "      <td>Calculated from  Global Living Wage Coalition</td>\n",
       "      <td>5.0</td>\n",
       "      <td>2.0</td>\n",
       "      <td>2022.0</td>\n",
       "      <td>364.00</td>\n",
       "      <td>2.4</td>\n",
       "      <td>https://globallivingwage.org/reference-value/l...</td>\n",
       "      <td>364.000000</td>\n",
       "      <td>345.663046</td>\n",
       "    </tr>\n",
       "    <tr>\n",
       "      <th>297</th>\n",
       "      <td>NaN</td>\n",
       "      <td>NaN</td>\n",
       "      <td>NaN</td>\n",
       "      <td>NaN</td>\n",
       "      <td>NaN</td>\n",
       "      <td>NaN</td>\n",
       "      <td>NaN</td>\n",
       "      <td>NaN</td>\n",
       "      <td>NaN</td>\n",
       "      <td>NaN</td>\n",
       "      <td>NaN</td>\n",
       "    </tr>\n",
       "  </tbody>\n",
       "</table>\n",
       "</div>"
      ],
      "text/plain": [
       "      country                    region  \\\n",
       "293   Vietnam   Rural / Economic Zone 4   \n",
       "294   Vietnam  Urban / Ho Chi Minh City   \n",
       "295    Zambia               Rural / All   \n",
       "296  Zimbabwe               Rural / All   \n",
       "297       NaN                       NaN   \n",
       "\n",
       "                                            source  household_size  nr_adults  \\\n",
       "293  Calculated from  Global Living Wage Coalition             4.0        2.0   \n",
       "294  Calculated from  Global Living Wage Coalition             4.0        2.0   \n",
       "295  Calculated from  Global Living Wage Coalition             6.0        2.0   \n",
       "296  Calculated from  Global Living Wage Coalition             5.0        2.0   \n",
       "297                                            NaN             NaN        NaN   \n",
       "\n",
       "       year          LCU  household_equiv  \\\n",
       "293  2020.0   7729194.00              2.1   \n",
       "294  2020.0  11862692.00              2.1   \n",
       "295  2022.0      4107.84              2.7   \n",
       "296  2022.0       364.00              2.4   \n",
       "297     NaN          NaN              NaN   \n",
       "\n",
       "                                                 links         USD         EUR  \n",
       "293  https://www.globallivingwage.org/living-wage-b...  333.034787  291.574086  \n",
       "294  https://www.globallivingwage.org/living-wage-b...  511.138561  447.505080  \n",
       "295  https://globallivingwage.org/reference-value/l...  242.527948  230.310300  \n",
       "296  https://globallivingwage.org/reference-value/l...  364.000000  345.663046  \n",
       "297                                                NaN         NaN         NaN  "
      ]
     },
     "execution_count": 30,
     "metadata": {},
     "output_type": "execute_result"
    }
   ],
   "source": [
    "lib.tail()"
   ]
  },
  {
   "cell_type": "code",
   "execution_count": 31,
   "id": "75c24e2e-bb1f-4349-bba2-2284efd77595",
   "metadata": {},
   "outputs": [],
   "source": [
    "lib = lib.dropna(how=\"all\")"
   ]
  },
  {
   "cell_type": "code",
   "execution_count": 32,
   "id": "8538e2bc-2057-47c3-82bc-dc167fa3e868",
   "metadata": {},
   "outputs": [],
   "source": [
    "lib[\"id\"] = lib.reset_index().index + 1"
   ]
  },
  {
   "cell_type": "code",
   "execution_count": 33,
   "id": "c365ccd6-2857-4ec4-b9ab-14b7a4abece8",
   "metadata": {},
   "outputs": [
    {
     "data": {
      "text/plain": [
       "Index(['country', 'region', 'source', 'household_size', 'nr_adults', 'year',\n",
       "       'LCU', 'household_equiv', 'links', 'USD', 'EUR', 'id'],\n",
       "      dtype='object')"
      ]
     },
     "execution_count": 33,
     "metadata": {},
     "output_type": "execute_result"
    }
   ],
   "source": [
    "lib.columns"
   ]
  },
  {
   "cell_type": "code",
   "execution_count": 34,
   "id": "8011aae9-4ea7-400c-afd1-4a4f77c231b6",
   "metadata": {},
   "outputs": [
    {
     "data": {
      "text/html": [
       "<div>\n",
       "<style scoped>\n",
       "    .dataframe tbody tr th:only-of-type {\n",
       "        vertical-align: middle;\n",
       "    }\n",
       "\n",
       "    .dataframe tbody tr th {\n",
       "        vertical-align: top;\n",
       "    }\n",
       "\n",
       "    .dataframe thead th {\n",
       "        text-align: right;\n",
       "    }\n",
       "</style>\n",
       "<table border=\"1\" class=\"dataframe\">\n",
       "  <thead>\n",
       "    <tr style=\"text-align: right;\">\n",
       "      <th></th>\n",
       "      <th>country</th>\n",
       "      <th>region</th>\n",
       "      <th>source</th>\n",
       "      <th>household_size</th>\n",
       "      <th>nr_adults</th>\n",
       "      <th>year</th>\n",
       "      <th>LCU</th>\n",
       "      <th>household_equiv</th>\n",
       "      <th>links</th>\n",
       "      <th>USD</th>\n",
       "      <th>EUR</th>\n",
       "      <th>id</th>\n",
       "    </tr>\n",
       "  </thead>\n",
       "  <tbody>\n",
       "    <tr>\n",
       "      <th>61</th>\n",
       "      <td>Mexico</td>\n",
       "      <td>Yucatán /  Rural Areas and Small Towns in Yucatan</td>\n",
       "      <td>Calculated from  Global Living Wage Coalition</td>\n",
       "      <td>4.0</td>\n",
       "      <td>2.0</td>\n",
       "      <td>2024.0</td>\n",
       "      <td>227208.0</td>\n",
       "      <td>2.1</td>\n",
       "      <td>https://globallivingwage.org/living-wage-bench...</td>\n",
       "      <td>NaN</td>\n",
       "      <td>NaN</td>\n",
       "      <td>62</td>\n",
       "    </tr>\n",
       "    <tr>\n",
       "      <th>62</th>\n",
       "      <td>Mexico</td>\n",
       "      <td>Rural Areas and Small Towns /  Rural Areas and...</td>\n",
       "      <td>Calculated from  Global Living Wage Coalition</td>\n",
       "      <td>4.0</td>\n",
       "      <td>2.0</td>\n",
       "      <td>2024.0</td>\n",
       "      <td>238032.0</td>\n",
       "      <td>2.1</td>\n",
       "      <td>https://globallivingwage.org/living-wage-bench...</td>\n",
       "      <td>NaN</td>\n",
       "      <td>NaN</td>\n",
       "      <td>63</td>\n",
       "    </tr>\n",
       "    <tr>\n",
       "      <th>63</th>\n",
       "      <td>Mexico</td>\n",
       "      <td>Non-metropolitan Urban &amp; Rural /  Michoacán, n...</td>\n",
       "      <td>Calculated from  Global Living Wage Coalition</td>\n",
       "      <td>4.0</td>\n",
       "      <td>2.0</td>\n",
       "      <td>2024.0</td>\n",
       "      <td>247440.0</td>\n",
       "      <td>2.1</td>\n",
       "      <td>https://www.globallivingwage.org/living-wage-b...</td>\n",
       "      <td>NaN</td>\n",
       "      <td>NaN</td>\n",
       "      <td>64</td>\n",
       "    </tr>\n",
       "    <tr>\n",
       "      <th>64</th>\n",
       "      <td>Mexico</td>\n",
       "      <td>Municipality of San Quintín /  Baja California</td>\n",
       "      <td>Calculated from Global Living Wage Coalition</td>\n",
       "      <td>4.0</td>\n",
       "      <td>2.0</td>\n",
       "      <td>2024.0</td>\n",
       "      <td>317892.0</td>\n",
       "      <td>2.1</td>\n",
       "      <td>https://www.globallivingwage.org/living-wage-b...</td>\n",
       "      <td>NaN</td>\n",
       "      <td>NaN</td>\n",
       "      <td>65</td>\n",
       "    </tr>\n",
       "    <tr>\n",
       "      <th>65</th>\n",
       "      <td>Mexico</td>\n",
       "      <td>Municipality of Ensenada /  Baja California</td>\n",
       "      <td>Calculated from Global Living Wage Coalition</td>\n",
       "      <td>4.0</td>\n",
       "      <td>2.0</td>\n",
       "      <td>2024.0</td>\n",
       "      <td>339288.0</td>\n",
       "      <td>2.1</td>\n",
       "      <td>https://www.globallivingwage.org/living-wage-b...</td>\n",
       "      <td>NaN</td>\n",
       "      <td>NaN</td>\n",
       "      <td>66</td>\n",
       "    </tr>\n",
       "    <tr>\n",
       "      <th>158</th>\n",
       "      <td>Mexico</td>\n",
       "      <td>Yucatán /  Rural Areas and Small Towns in Yucatan</td>\n",
       "      <td>Calculated from  Global Living Wage Coalition</td>\n",
       "      <td>4.0</td>\n",
       "      <td>2.0</td>\n",
       "      <td>2023.0</td>\n",
       "      <td>216444.0</td>\n",
       "      <td>2.1</td>\n",
       "      <td>https://www.globallivingwage.org/living-wage-b...</td>\n",
       "      <td>NaN</td>\n",
       "      <td>NaN</td>\n",
       "      <td>159</td>\n",
       "    </tr>\n",
       "    <tr>\n",
       "      <th>159</th>\n",
       "      <td>Mexico</td>\n",
       "      <td>Rural Areas and Small Towns /  Rural Areas and...</td>\n",
       "      <td>Calculated from  Global Living Wage Coalition</td>\n",
       "      <td>4.0</td>\n",
       "      <td>2.0</td>\n",
       "      <td>2023.0</td>\n",
       "      <td>226752.0</td>\n",
       "      <td>2.1</td>\n",
       "      <td>https://www.globallivingwage.org/living-wage-r...</td>\n",
       "      <td>NaN</td>\n",
       "      <td>NaN</td>\n",
       "      <td>160</td>\n",
       "    </tr>\n",
       "    <tr>\n",
       "      <th>160</th>\n",
       "      <td>Mexico</td>\n",
       "      <td>Non-metropolitan Urban &amp; Rural /  Michoacán, n...</td>\n",
       "      <td>Calculated from  Global Living Wage Coalition</td>\n",
       "      <td>4.0</td>\n",
       "      <td>2.0</td>\n",
       "      <td>2023.0</td>\n",
       "      <td>235704.0</td>\n",
       "      <td>2.1</td>\n",
       "      <td>https://globallivingwage.org/living-income-ref...</td>\n",
       "      <td>NaN</td>\n",
       "      <td>NaN</td>\n",
       "      <td>161</td>\n",
       "    </tr>\n",
       "    <tr>\n",
       "      <th>161</th>\n",
       "      <td>Mexico</td>\n",
       "      <td>Municipality of San Quintín /  Baja California</td>\n",
       "      <td>Calculated from Global Living Wage Coalition</td>\n",
       "      <td>4.0</td>\n",
       "      <td>2.0</td>\n",
       "      <td>2023.0</td>\n",
       "      <td>302832.0</td>\n",
       "      <td>2.1</td>\n",
       "      <td>https://globallivingwage.org/living-wage-bench...</td>\n",
       "      <td>NaN</td>\n",
       "      <td>NaN</td>\n",
       "      <td>162</td>\n",
       "    </tr>\n",
       "    <tr>\n",
       "      <th>162</th>\n",
       "      <td>Mexico</td>\n",
       "      <td>Municipality of Ensenada /  Baja California</td>\n",
       "      <td>Calculated from Global Living Wage Coalition</td>\n",
       "      <td>4.0</td>\n",
       "      <td>2.0</td>\n",
       "      <td>2023.0</td>\n",
       "      <td>323208.0</td>\n",
       "      <td>2.1</td>\n",
       "      <td>https://www.globallivingwage.org/living-wage-b...</td>\n",
       "      <td>NaN</td>\n",
       "      <td>NaN</td>\n",
       "      <td>163</td>\n",
       "    </tr>\n",
       "    <tr>\n",
       "      <th>260</th>\n",
       "      <td>Mexico</td>\n",
       "      <td>Yucatán / Rural Areas and Small Towns in Yucatan</td>\n",
       "      <td>Calculated from  Global Living Wage Coalition</td>\n",
       "      <td>4.0</td>\n",
       "      <td>2.0</td>\n",
       "      <td>2022.0</td>\n",
       "      <td>17296.0</td>\n",
       "      <td>2.1</td>\n",
       "      <td>https://globallivingwage.org/living-wage-bench...</td>\n",
       "      <td>859.328228</td>\n",
       "      <td>816.038497</td>\n",
       "      <td>261</td>\n",
       "    </tr>\n",
       "    <tr>\n",
       "      <th>261</th>\n",
       "      <td>Mexico</td>\n",
       "      <td>Rural Areas and Small Towns / Rural Areas and ...</td>\n",
       "      <td>Calculated from  Global Living Wage Coalition</td>\n",
       "      <td>4.0</td>\n",
       "      <td>2.0</td>\n",
       "      <td>2022.0</td>\n",
       "      <td>17535.0</td>\n",
       "      <td>2.1</td>\n",
       "      <td>https://globallivingwage.org/living-wage-bench...</td>\n",
       "      <td>871.202617</td>\n",
       "      <td>827.314699</td>\n",
       "      <td>262</td>\n",
       "    </tr>\n",
       "    <tr>\n",
       "      <th>262</th>\n",
       "      <td>Mexico</td>\n",
       "      <td>Non-metropolitan Urban &amp; Rural / Michoacán, no...</td>\n",
       "      <td>Calculated from  Global Living Wage Coalition</td>\n",
       "      <td>4.0</td>\n",
       "      <td>2.0</td>\n",
       "      <td>2022.0</td>\n",
       "      <td>18571.0</td>\n",
       "      <td>2.1</td>\n",
       "      <td>https://www.globallivingwage.org/living-wage-b...</td>\n",
       "      <td>922.674868</td>\n",
       "      <td>876.193971</td>\n",
       "      <td>263</td>\n",
       "    </tr>\n",
       "    <tr>\n",
       "      <th>263</th>\n",
       "      <td>Mexico</td>\n",
       "      <td>Municipality of San Quintín / Baja California</td>\n",
       "      <td>Calculated from Global Living Wage Coalition</td>\n",
       "      <td>4.0</td>\n",
       "      <td>2.0</td>\n",
       "      <td>2022.0</td>\n",
       "      <td>25638.0</td>\n",
       "      <td>2.1</td>\n",
       "      <td>https://www.globallivingwage.org/living-wage-b...</td>\n",
       "      <td>1273.789148</td>\n",
       "      <td>1209.620431</td>\n",
       "      <td>264</td>\n",
       "    </tr>\n",
       "    <tr>\n",
       "      <th>264</th>\n",
       "      <td>Mexico</td>\n",
       "      <td>Municipality of Ensenada / Baja California</td>\n",
       "      <td>Calculated from Global Living Wage Coalition</td>\n",
       "      <td>4.0</td>\n",
       "      <td>2.0</td>\n",
       "      <td>2022.0</td>\n",
       "      <td>24021.0</td>\n",
       "      <td>2.1</td>\n",
       "      <td>https://www.globallivingwage.org/living-wage-b...</td>\n",
       "      <td>1193.450703</td>\n",
       "      <td>1133.329135</td>\n",
       "      <td>265</td>\n",
       "    </tr>\n",
       "  </tbody>\n",
       "</table>\n",
       "</div>"
      ],
      "text/plain": [
       "    country                                             region  \\\n",
       "61   Mexico  Yucatán /  Rural Areas and Small Towns in Yucatan   \n",
       "62   Mexico  Rural Areas and Small Towns /  Rural Areas and...   \n",
       "63   Mexico  Non-metropolitan Urban & Rural /  Michoacán, n...   \n",
       "64   Mexico     Municipality of San Quintín /  Baja California   \n",
       "65   Mexico        Municipality of Ensenada /  Baja California   \n",
       "158  Mexico  Yucatán /  Rural Areas and Small Towns in Yucatan   \n",
       "159  Mexico  Rural Areas and Small Towns /  Rural Areas and...   \n",
       "160  Mexico  Non-metropolitan Urban & Rural /  Michoacán, n...   \n",
       "161  Mexico     Municipality of San Quintín /  Baja California   \n",
       "162  Mexico        Municipality of Ensenada /  Baja California   \n",
       "260  Mexico   Yucatán / Rural Areas and Small Towns in Yucatan   \n",
       "261  Mexico  Rural Areas and Small Towns / Rural Areas and ...   \n",
       "262  Mexico  Non-metropolitan Urban & Rural / Michoacán, no...   \n",
       "263  Mexico      Municipality of San Quintín / Baja California   \n",
       "264  Mexico         Municipality of Ensenada / Baja California   \n",
       "\n",
       "                                            source  household_size  nr_adults  \\\n",
       "61   Calculated from  Global Living Wage Coalition             4.0        2.0   \n",
       "62   Calculated from  Global Living Wage Coalition             4.0        2.0   \n",
       "63   Calculated from  Global Living Wage Coalition             4.0        2.0   \n",
       "64    Calculated from Global Living Wage Coalition             4.0        2.0   \n",
       "65    Calculated from Global Living Wage Coalition             4.0        2.0   \n",
       "158  Calculated from  Global Living Wage Coalition             4.0        2.0   \n",
       "159  Calculated from  Global Living Wage Coalition             4.0        2.0   \n",
       "160  Calculated from  Global Living Wage Coalition             4.0        2.0   \n",
       "161   Calculated from Global Living Wage Coalition             4.0        2.0   \n",
       "162   Calculated from Global Living Wage Coalition             4.0        2.0   \n",
       "260  Calculated from  Global Living Wage Coalition             4.0        2.0   \n",
       "261  Calculated from  Global Living Wage Coalition             4.0        2.0   \n",
       "262  Calculated from  Global Living Wage Coalition             4.0        2.0   \n",
       "263   Calculated from Global Living Wage Coalition             4.0        2.0   \n",
       "264   Calculated from Global Living Wage Coalition             4.0        2.0   \n",
       "\n",
       "       year       LCU  household_equiv  \\\n",
       "61   2024.0  227208.0              2.1   \n",
       "62   2024.0  238032.0              2.1   \n",
       "63   2024.0  247440.0              2.1   \n",
       "64   2024.0  317892.0              2.1   \n",
       "65   2024.0  339288.0              2.1   \n",
       "158  2023.0  216444.0              2.1   \n",
       "159  2023.0  226752.0              2.1   \n",
       "160  2023.0  235704.0              2.1   \n",
       "161  2023.0  302832.0              2.1   \n",
       "162  2023.0  323208.0              2.1   \n",
       "260  2022.0   17296.0              2.1   \n",
       "261  2022.0   17535.0              2.1   \n",
       "262  2022.0   18571.0              2.1   \n",
       "263  2022.0   25638.0              2.1   \n",
       "264  2022.0   24021.0              2.1   \n",
       "\n",
       "                                                 links          USD  \\\n",
       "61   https://globallivingwage.org/living-wage-bench...          NaN   \n",
       "62   https://globallivingwage.org/living-wage-bench...          NaN   \n",
       "63   https://www.globallivingwage.org/living-wage-b...          NaN   \n",
       "64   https://www.globallivingwage.org/living-wage-b...          NaN   \n",
       "65   https://www.globallivingwage.org/living-wage-b...          NaN   \n",
       "158  https://www.globallivingwage.org/living-wage-b...          NaN   \n",
       "159  https://www.globallivingwage.org/living-wage-r...          NaN   \n",
       "160  https://globallivingwage.org/living-income-ref...          NaN   \n",
       "161  https://globallivingwage.org/living-wage-bench...          NaN   \n",
       "162  https://www.globallivingwage.org/living-wage-b...          NaN   \n",
       "260  https://globallivingwage.org/living-wage-bench...   859.328228   \n",
       "261  https://globallivingwage.org/living-wage-bench...   871.202617   \n",
       "262  https://www.globallivingwage.org/living-wage-b...   922.674868   \n",
       "263  https://www.globallivingwage.org/living-wage-b...  1273.789148   \n",
       "264  https://www.globallivingwage.org/living-wage-b...  1193.450703   \n",
       "\n",
       "             EUR   id  \n",
       "61           NaN   62  \n",
       "62           NaN   63  \n",
       "63           NaN   64  \n",
       "64           NaN   65  \n",
       "65           NaN   66  \n",
       "158          NaN  159  \n",
       "159          NaN  160  \n",
       "160          NaN  161  \n",
       "161          NaN  162  \n",
       "162          NaN  163  \n",
       "260   816.038497  261  \n",
       "261   827.314699  262  \n",
       "262   876.193971  263  \n",
       "263  1209.620431  264  \n",
       "264  1133.329135  265  "
      ]
     },
     "execution_count": 34,
     "metadata": {},
     "output_type": "execute_result"
    }
   ],
   "source": [
    "lib[lib['country'] == \"Mexico\"]"
   ]
  },
  {
   "cell_type": "code",
   "execution_count": 35,
   "id": "fb9ba467-eb67-4cbf-a034-540c335746c2",
   "metadata": {},
   "outputs": [
    {
     "ename": "FileNotFoundError",
     "evalue": "[Errno 2] No such file or directory: './li_benchmark_data.csv'",
     "output_type": "error",
     "traceback": [
      "\u001b[0;31m---------------------------------------------------------------------------\u001b[0m",
      "\u001b[0;31mFileNotFoundError\u001b[0m                         Traceback (most recent call last)",
      "Cell \u001b[0;32mIn[35], line 1\u001b[0m\n\u001b[0;32m----> 1\u001b[0m df \u001b[38;5;241m=\u001b[39m \u001b[43mpd\u001b[49m\u001b[38;5;241;43m.\u001b[39;49m\u001b[43mread_csv\u001b[49m\u001b[43m(\u001b[49m\u001b[38;5;124;43m\"\u001b[39;49m\u001b[38;5;124;43m./li_benchmark_data.csv\u001b[39;49m\u001b[38;5;124;43m\"\u001b[39;49m\u001b[43m)\u001b[49m\n",
      "File \u001b[0;32m/opt/homebrew/Cellar/jupyterlab/4.2.3/libexec/lib/python3.12/site-packages/pandas/io/parsers/readers.py:1026\u001b[0m, in \u001b[0;36mread_csv\u001b[0;34m(filepath_or_buffer, sep, delimiter, header, names, index_col, usecols, dtype, engine, converters, true_values, false_values, skipinitialspace, skiprows, skipfooter, nrows, na_values, keep_default_na, na_filter, verbose, skip_blank_lines, parse_dates, infer_datetime_format, keep_date_col, date_parser, date_format, dayfirst, cache_dates, iterator, chunksize, compression, thousands, decimal, lineterminator, quotechar, quoting, doublequote, escapechar, comment, encoding, encoding_errors, dialect, on_bad_lines, delim_whitespace, low_memory, memory_map, float_precision, storage_options, dtype_backend)\u001b[0m\n\u001b[1;32m   1013\u001b[0m kwds_defaults \u001b[38;5;241m=\u001b[39m _refine_defaults_read(\n\u001b[1;32m   1014\u001b[0m     dialect,\n\u001b[1;32m   1015\u001b[0m     delimiter,\n\u001b[0;32m   (...)\u001b[0m\n\u001b[1;32m   1022\u001b[0m     dtype_backend\u001b[38;5;241m=\u001b[39mdtype_backend,\n\u001b[1;32m   1023\u001b[0m )\n\u001b[1;32m   1024\u001b[0m kwds\u001b[38;5;241m.\u001b[39mupdate(kwds_defaults)\n\u001b[0;32m-> 1026\u001b[0m \u001b[38;5;28;01mreturn\u001b[39;00m \u001b[43m_read\u001b[49m\u001b[43m(\u001b[49m\u001b[43mfilepath_or_buffer\u001b[49m\u001b[43m,\u001b[49m\u001b[43m \u001b[49m\u001b[43mkwds\u001b[49m\u001b[43m)\u001b[49m\n",
      "File \u001b[0;32m/opt/homebrew/Cellar/jupyterlab/4.2.3/libexec/lib/python3.12/site-packages/pandas/io/parsers/readers.py:620\u001b[0m, in \u001b[0;36m_read\u001b[0;34m(filepath_or_buffer, kwds)\u001b[0m\n\u001b[1;32m    617\u001b[0m _validate_names(kwds\u001b[38;5;241m.\u001b[39mget(\u001b[38;5;124m\"\u001b[39m\u001b[38;5;124mnames\u001b[39m\u001b[38;5;124m\"\u001b[39m, \u001b[38;5;28;01mNone\u001b[39;00m))\n\u001b[1;32m    619\u001b[0m \u001b[38;5;66;03m# Create the parser.\u001b[39;00m\n\u001b[0;32m--> 620\u001b[0m parser \u001b[38;5;241m=\u001b[39m \u001b[43mTextFileReader\u001b[49m\u001b[43m(\u001b[49m\u001b[43mfilepath_or_buffer\u001b[49m\u001b[43m,\u001b[49m\u001b[43m \u001b[49m\u001b[38;5;241;43m*\u001b[39;49m\u001b[38;5;241;43m*\u001b[39;49m\u001b[43mkwds\u001b[49m\u001b[43m)\u001b[49m\n\u001b[1;32m    622\u001b[0m \u001b[38;5;28;01mif\u001b[39;00m chunksize \u001b[38;5;129;01mor\u001b[39;00m iterator:\n\u001b[1;32m    623\u001b[0m     \u001b[38;5;28;01mreturn\u001b[39;00m parser\n",
      "File \u001b[0;32m/opt/homebrew/Cellar/jupyterlab/4.2.3/libexec/lib/python3.12/site-packages/pandas/io/parsers/readers.py:1620\u001b[0m, in \u001b[0;36mTextFileReader.__init__\u001b[0;34m(self, f, engine, **kwds)\u001b[0m\n\u001b[1;32m   1617\u001b[0m     \u001b[38;5;28mself\u001b[39m\u001b[38;5;241m.\u001b[39moptions[\u001b[38;5;124m\"\u001b[39m\u001b[38;5;124mhas_index_names\u001b[39m\u001b[38;5;124m\"\u001b[39m] \u001b[38;5;241m=\u001b[39m kwds[\u001b[38;5;124m\"\u001b[39m\u001b[38;5;124mhas_index_names\u001b[39m\u001b[38;5;124m\"\u001b[39m]\n\u001b[1;32m   1619\u001b[0m \u001b[38;5;28mself\u001b[39m\u001b[38;5;241m.\u001b[39mhandles: IOHandles \u001b[38;5;241m|\u001b[39m \u001b[38;5;28;01mNone\u001b[39;00m \u001b[38;5;241m=\u001b[39m \u001b[38;5;28;01mNone\u001b[39;00m\n\u001b[0;32m-> 1620\u001b[0m \u001b[38;5;28mself\u001b[39m\u001b[38;5;241m.\u001b[39m_engine \u001b[38;5;241m=\u001b[39m \u001b[38;5;28;43mself\u001b[39;49m\u001b[38;5;241;43m.\u001b[39;49m\u001b[43m_make_engine\u001b[49m\u001b[43m(\u001b[49m\u001b[43mf\u001b[49m\u001b[43m,\u001b[49m\u001b[43m \u001b[49m\u001b[38;5;28;43mself\u001b[39;49m\u001b[38;5;241;43m.\u001b[39;49m\u001b[43mengine\u001b[49m\u001b[43m)\u001b[49m\n",
      "File \u001b[0;32m/opt/homebrew/Cellar/jupyterlab/4.2.3/libexec/lib/python3.12/site-packages/pandas/io/parsers/readers.py:1880\u001b[0m, in \u001b[0;36mTextFileReader._make_engine\u001b[0;34m(self, f, engine)\u001b[0m\n\u001b[1;32m   1878\u001b[0m     \u001b[38;5;28;01mif\u001b[39;00m \u001b[38;5;124m\"\u001b[39m\u001b[38;5;124mb\u001b[39m\u001b[38;5;124m\"\u001b[39m \u001b[38;5;129;01mnot\u001b[39;00m \u001b[38;5;129;01min\u001b[39;00m mode:\n\u001b[1;32m   1879\u001b[0m         mode \u001b[38;5;241m+\u001b[39m\u001b[38;5;241m=\u001b[39m \u001b[38;5;124m\"\u001b[39m\u001b[38;5;124mb\u001b[39m\u001b[38;5;124m\"\u001b[39m\n\u001b[0;32m-> 1880\u001b[0m \u001b[38;5;28mself\u001b[39m\u001b[38;5;241m.\u001b[39mhandles \u001b[38;5;241m=\u001b[39m \u001b[43mget_handle\u001b[49m\u001b[43m(\u001b[49m\n\u001b[1;32m   1881\u001b[0m \u001b[43m    \u001b[49m\u001b[43mf\u001b[49m\u001b[43m,\u001b[49m\n\u001b[1;32m   1882\u001b[0m \u001b[43m    \u001b[49m\u001b[43mmode\u001b[49m\u001b[43m,\u001b[49m\n\u001b[1;32m   1883\u001b[0m \u001b[43m    \u001b[49m\u001b[43mencoding\u001b[49m\u001b[38;5;241;43m=\u001b[39;49m\u001b[38;5;28;43mself\u001b[39;49m\u001b[38;5;241;43m.\u001b[39;49m\u001b[43moptions\u001b[49m\u001b[38;5;241;43m.\u001b[39;49m\u001b[43mget\u001b[49m\u001b[43m(\u001b[49m\u001b[38;5;124;43m\"\u001b[39;49m\u001b[38;5;124;43mencoding\u001b[39;49m\u001b[38;5;124;43m\"\u001b[39;49m\u001b[43m,\u001b[49m\u001b[43m \u001b[49m\u001b[38;5;28;43;01mNone\u001b[39;49;00m\u001b[43m)\u001b[49m\u001b[43m,\u001b[49m\n\u001b[1;32m   1884\u001b[0m \u001b[43m    \u001b[49m\u001b[43mcompression\u001b[49m\u001b[38;5;241;43m=\u001b[39;49m\u001b[38;5;28;43mself\u001b[39;49m\u001b[38;5;241;43m.\u001b[39;49m\u001b[43moptions\u001b[49m\u001b[38;5;241;43m.\u001b[39;49m\u001b[43mget\u001b[49m\u001b[43m(\u001b[49m\u001b[38;5;124;43m\"\u001b[39;49m\u001b[38;5;124;43mcompression\u001b[39;49m\u001b[38;5;124;43m\"\u001b[39;49m\u001b[43m,\u001b[49m\u001b[43m \u001b[49m\u001b[38;5;28;43;01mNone\u001b[39;49;00m\u001b[43m)\u001b[49m\u001b[43m,\u001b[49m\n\u001b[1;32m   1885\u001b[0m \u001b[43m    \u001b[49m\u001b[43mmemory_map\u001b[49m\u001b[38;5;241;43m=\u001b[39;49m\u001b[38;5;28;43mself\u001b[39;49m\u001b[38;5;241;43m.\u001b[39;49m\u001b[43moptions\u001b[49m\u001b[38;5;241;43m.\u001b[39;49m\u001b[43mget\u001b[49m\u001b[43m(\u001b[49m\u001b[38;5;124;43m\"\u001b[39;49m\u001b[38;5;124;43mmemory_map\u001b[39;49m\u001b[38;5;124;43m\"\u001b[39;49m\u001b[43m,\u001b[49m\u001b[43m \u001b[49m\u001b[38;5;28;43;01mFalse\u001b[39;49;00m\u001b[43m)\u001b[49m\u001b[43m,\u001b[49m\n\u001b[1;32m   1886\u001b[0m \u001b[43m    \u001b[49m\u001b[43mis_text\u001b[49m\u001b[38;5;241;43m=\u001b[39;49m\u001b[43mis_text\u001b[49m\u001b[43m,\u001b[49m\n\u001b[1;32m   1887\u001b[0m \u001b[43m    \u001b[49m\u001b[43merrors\u001b[49m\u001b[38;5;241;43m=\u001b[39;49m\u001b[38;5;28;43mself\u001b[39;49m\u001b[38;5;241;43m.\u001b[39;49m\u001b[43moptions\u001b[49m\u001b[38;5;241;43m.\u001b[39;49m\u001b[43mget\u001b[49m\u001b[43m(\u001b[49m\u001b[38;5;124;43m\"\u001b[39;49m\u001b[38;5;124;43mencoding_errors\u001b[39;49m\u001b[38;5;124;43m\"\u001b[39;49m\u001b[43m,\u001b[49m\u001b[43m \u001b[49m\u001b[38;5;124;43m\"\u001b[39;49m\u001b[38;5;124;43mstrict\u001b[39;49m\u001b[38;5;124;43m\"\u001b[39;49m\u001b[43m)\u001b[49m\u001b[43m,\u001b[49m\n\u001b[1;32m   1888\u001b[0m \u001b[43m    \u001b[49m\u001b[43mstorage_options\u001b[49m\u001b[38;5;241;43m=\u001b[39;49m\u001b[38;5;28;43mself\u001b[39;49m\u001b[38;5;241;43m.\u001b[39;49m\u001b[43moptions\u001b[49m\u001b[38;5;241;43m.\u001b[39;49m\u001b[43mget\u001b[49m\u001b[43m(\u001b[49m\u001b[38;5;124;43m\"\u001b[39;49m\u001b[38;5;124;43mstorage_options\u001b[39;49m\u001b[38;5;124;43m\"\u001b[39;49m\u001b[43m,\u001b[49m\u001b[43m \u001b[49m\u001b[38;5;28;43;01mNone\u001b[39;49;00m\u001b[43m)\u001b[49m\u001b[43m,\u001b[49m\n\u001b[1;32m   1889\u001b[0m \u001b[43m\u001b[49m\u001b[43m)\u001b[49m\n\u001b[1;32m   1890\u001b[0m \u001b[38;5;28;01massert\u001b[39;00m \u001b[38;5;28mself\u001b[39m\u001b[38;5;241m.\u001b[39mhandles \u001b[38;5;129;01mis\u001b[39;00m \u001b[38;5;129;01mnot\u001b[39;00m \u001b[38;5;28;01mNone\u001b[39;00m\n\u001b[1;32m   1891\u001b[0m f \u001b[38;5;241m=\u001b[39m \u001b[38;5;28mself\u001b[39m\u001b[38;5;241m.\u001b[39mhandles\u001b[38;5;241m.\u001b[39mhandle\n",
      "File \u001b[0;32m/opt/homebrew/Cellar/jupyterlab/4.2.3/libexec/lib/python3.12/site-packages/pandas/io/common.py:873\u001b[0m, in \u001b[0;36mget_handle\u001b[0;34m(path_or_buf, mode, encoding, compression, memory_map, is_text, errors, storage_options)\u001b[0m\n\u001b[1;32m    868\u001b[0m \u001b[38;5;28;01melif\u001b[39;00m \u001b[38;5;28misinstance\u001b[39m(handle, \u001b[38;5;28mstr\u001b[39m):\n\u001b[1;32m    869\u001b[0m     \u001b[38;5;66;03m# Check whether the filename is to be opened in binary mode.\u001b[39;00m\n\u001b[1;32m    870\u001b[0m     \u001b[38;5;66;03m# Binary mode does not support 'encoding' and 'newline'.\u001b[39;00m\n\u001b[1;32m    871\u001b[0m     \u001b[38;5;28;01mif\u001b[39;00m ioargs\u001b[38;5;241m.\u001b[39mencoding \u001b[38;5;129;01mand\u001b[39;00m \u001b[38;5;124m\"\u001b[39m\u001b[38;5;124mb\u001b[39m\u001b[38;5;124m\"\u001b[39m \u001b[38;5;129;01mnot\u001b[39;00m \u001b[38;5;129;01min\u001b[39;00m ioargs\u001b[38;5;241m.\u001b[39mmode:\n\u001b[1;32m    872\u001b[0m         \u001b[38;5;66;03m# Encoding\u001b[39;00m\n\u001b[0;32m--> 873\u001b[0m         handle \u001b[38;5;241m=\u001b[39m \u001b[38;5;28;43mopen\u001b[39;49m\u001b[43m(\u001b[49m\n\u001b[1;32m    874\u001b[0m \u001b[43m            \u001b[49m\u001b[43mhandle\u001b[49m\u001b[43m,\u001b[49m\n\u001b[1;32m    875\u001b[0m \u001b[43m            \u001b[49m\u001b[43mioargs\u001b[49m\u001b[38;5;241;43m.\u001b[39;49m\u001b[43mmode\u001b[49m\u001b[43m,\u001b[49m\n\u001b[1;32m    876\u001b[0m \u001b[43m            \u001b[49m\u001b[43mencoding\u001b[49m\u001b[38;5;241;43m=\u001b[39;49m\u001b[43mioargs\u001b[49m\u001b[38;5;241;43m.\u001b[39;49m\u001b[43mencoding\u001b[49m\u001b[43m,\u001b[49m\n\u001b[1;32m    877\u001b[0m \u001b[43m            \u001b[49m\u001b[43merrors\u001b[49m\u001b[38;5;241;43m=\u001b[39;49m\u001b[43merrors\u001b[49m\u001b[43m,\u001b[49m\n\u001b[1;32m    878\u001b[0m \u001b[43m            \u001b[49m\u001b[43mnewline\u001b[49m\u001b[38;5;241;43m=\u001b[39;49m\u001b[38;5;124;43m\"\u001b[39;49m\u001b[38;5;124;43m\"\u001b[39;49m\u001b[43m,\u001b[49m\n\u001b[1;32m    879\u001b[0m \u001b[43m        \u001b[49m\u001b[43m)\u001b[49m\n\u001b[1;32m    880\u001b[0m     \u001b[38;5;28;01melse\u001b[39;00m:\n\u001b[1;32m    881\u001b[0m         \u001b[38;5;66;03m# Binary mode\u001b[39;00m\n\u001b[1;32m    882\u001b[0m         handle \u001b[38;5;241m=\u001b[39m \u001b[38;5;28mopen\u001b[39m(handle, ioargs\u001b[38;5;241m.\u001b[39mmode)\n",
      "\u001b[0;31mFileNotFoundError\u001b[0m: [Errno 2] No such file or directory: './li_benchmark_data.csv'"
     ]
    }
   ],
   "source": [
    "df = pd.read_csv(\"./li_benchmark_data.csv\")"
   ]
  },
  {
   "cell_type": "code",
   "execution_count": null,
   "id": "5e8d05d4-b864-42f1-9ff2-5b4b796cb5c6",
   "metadata": {},
   "outputs": [],
   "source": [
    "df.columns"
   ]
  },
  {
   "cell_type": "markdown",
   "id": "8b10328e-6a54-4a85-94e0-887b550a2bd9",
   "metadata": {},
   "source": [
    "## Recreate region"
   ]
  },
  {
   "cell_type": "code",
   "execution_count": null,
   "id": "c1354df5-dfa1-4508-82a2-d0c88c590253",
   "metadata": {},
   "outputs": [],
   "source": [
    "region_source = df[[\"country\", \"region\"]]"
   ]
  },
  {
   "cell_type": "code",
   "execution_count": null,
   "id": "147217f3-ce8a-48ee-b0b0-8cf95439c847",
   "metadata": {},
   "outputs": [],
   "source": [
    "region_temp = region_source"
   ]
  },
  {
   "cell_type": "code",
   "execution_count": null,
   "id": "0c971c93-451a-4300-ac27-4730ef0b3d91",
   "metadata": {},
   "outputs": [],
   "source": [
    "region_temp = region_temp[region_temp[\"region\"].notna()]"
   ]
  },
  {
   "cell_type": "code",
   "execution_count": null,
   "id": "77f3067b-573e-44ff-b4b9-9c8945832c4f",
   "metadata": {},
   "outputs": [],
   "source": [
    "region_temp['country'] = region_temp['country'].str.replace('\\n', ' ').str.strip()\n",
    "region_temp['region'] = region_temp['region'].str.replace('\\n', ' ').str.strip()\n",
    "region_temp['region'] = region_temp['region'].str.replace('\\r', ' ').str.strip()\n",
    "region_temp['region'] = region_temp['region'].str.replace(r'^\\s+|\\s+?$', '', regex=True)\n",
    "region_temp['region'] = region_temp['region'].apply(remove_extra_whitespace)"
   ]
  },
  {
   "cell_type": "code",
   "execution_count": null,
   "id": "d3bbfb9c-5c45-4807-9b5a-48162f73fa8c",
   "metadata": {},
   "outputs": [],
   "source": [
    "region_temp.tail(10)"
   ]
  },
  {
   "cell_type": "markdown",
   "id": "d8096ae0-c9d4-42c5-9e2f-ff915a183163",
   "metadata": {},
   "source": [
    "### Map regions with countries"
   ]
  },
  {
   "cell_type": "code",
   "execution_count": null,
   "id": "d5f279b4-2fe1-4850-aad2-6da7de49f3f1",
   "metadata": {},
   "outputs": [],
   "source": [
    "# Replace 'country' column using the mapping\n",
    "region_temp[\"country\"] = region_temp[\"country\"].map(country_mapping).fillna(region_temp[\"country\"])  # Keep original if no match"
   ]
  },
  {
   "cell_type": "code",
   "execution_count": null,
   "id": "d06dadd4-14ac-4023-a02b-8cbcf5cf5a14",
   "metadata": {},
   "outputs": [],
   "source": [
    "region_temp[\"country_id\"] = region_temp[\"country\"].apply(find_country)"
   ]
  },
  {
   "cell_type": "code",
   "execution_count": null,
   "id": "6891798f-37a9-41a7-a573-4b592098e26c",
   "metadata": {},
   "outputs": [],
   "source": [
    "region_temp.tail(10)"
   ]
  },
  {
   "cell_type": "markdown",
   "id": "0d7c748f-30f3-428e-bad3-1f0452f69bc6",
   "metadata": {},
   "source": [
    "### Group region with same name"
   ]
  },
  {
   "cell_type": "code",
   "execution_count": null,
   "id": "50fb0d4d-ef26-4cef-98a8-793adfbd9890",
   "metadata": {},
   "outputs": [],
   "source": [
    "group_df = region_temp.groupby('region').agg({\n",
    "    'country': lambda x: list(set(x)),\n",
    "    'country_id': lambda x: list(set(x))\n",
    "}).reset_index()"
   ]
  },
  {
   "cell_type": "code",
   "execution_count": null,
   "id": "f0ce7fdd-bcbc-4594-aada-25e2f15fb39a",
   "metadata": {},
   "outputs": [],
   "source": [
    "group_df = group_df[group_df['region'].str.strip() != '']"
   ]
  },
  {
   "cell_type": "code",
   "execution_count": null,
   "id": "65f244cb-aab8-4609-8d1f-f5c716de9675",
   "metadata": {},
   "outputs": [],
   "source": [
    "group_df['region'] = group_df['region'].str.replace(r'^\\s+|\\s+?$', '', regex=True)"
   ]
  },
  {
   "cell_type": "code",
   "execution_count": null,
   "id": "2ce5b895-5dd2-4229-9bc5-292113b704cf",
   "metadata": {},
   "outputs": [],
   "source": [
    "group_df['country_id'] = group_df['country_id'].apply(list)\n",
    "group_df['country'] = group_df['country'].apply(list)"
   ]
  },
  {
   "cell_type": "code",
   "execution_count": null,
   "id": "a40a67e3-1a67-45f8-8873-4def2ebf74ef",
   "metadata": {},
   "outputs": [],
   "source": [
    "group_df[\"id\"] = group_df.reset_index().index + 1"
   ]
  },
  {
   "cell_type": "code",
   "execution_count": null,
   "id": "2b9e9e5c-201c-4936-9e3c-1007add69243",
   "metadata": {},
   "outputs": [],
   "source": [
    "new_column_order = [\"id\", \"region\", \"country_id\", \"country\"]"
   ]
  },
  {
   "cell_type": "code",
   "execution_count": null,
   "id": "dd267e3b-4c92-41ce-84cd-20c017ce0313",
   "metadata": {},
   "outputs": [],
   "source": [
    "regions = group_df[new_column_order]"
   ]
  },
  {
   "cell_type": "markdown",
   "id": "21fe4041-d113-4011-9b88-5af6b8f75aa5",
   "metadata": {},
   "source": [
    "### Reorder regions to follow prev regions order"
   ]
  },
  {
   "cell_type": "code",
   "execution_count": null,
   "id": "0eea5fb0-efcf-41d4-ba6d-d73668571325",
   "metadata": {},
   "outputs": [],
   "source": [
    "prev_regions = pd.read_csv('../benchmark_v5/regions.csv')"
   ]
  },
  {
   "cell_type": "code",
   "execution_count": null,
   "id": "2626b998-d5ff-4dd3-bc98-2bc0e9bf6a04",
   "metadata": {},
   "outputs": [],
   "source": [
    "# Step 2: Split group_df into matching and new (extra) regions\n",
    "existing_regions = prev_regions['region'].unique()\n",
    "matching_df = regions[regions['region'].isin(existing_regions)]"
   ]
  },
  {
   "cell_type": "code",
   "execution_count": null,
   "id": "3ed4cb65-de33-4140-8a21-dccb91da1956",
   "metadata": {},
   "outputs": [],
   "source": [
    "# Preserve original region order from region_temp\n",
    "matching_df['region'] = pd.Categorical(matching_df['region'], categories=prev_regions['region'], ordered=True)\n",
    "matching_df = matching_df.sort_values('region')"
   ]
  },
  {
   "cell_type": "code",
   "execution_count": null,
   "id": "db88a512-2d3b-4c5f-b399-51c429d70adb",
   "metadata": {},
   "outputs": [],
   "source": [
    "# Step 3: Find new regions not in the original df and put them at the bottom\n",
    "extra_df = regions[~regions['region'].isin(existing_regions)]"
   ]
  },
  {
   "cell_type": "code",
   "execution_count": null,
   "id": "87a06d1d-352c-4668-999c-6f283d89e6c2",
   "metadata": {},
   "outputs": [],
   "source": [
    "extra_df"
   ]
  },
  {
   "cell_type": "code",
   "execution_count": null,
   "id": "409fd454-b543-4688-a771-889a0a05d705",
   "metadata": {},
   "outputs": [],
   "source": [
    "# Step 4: Concatenate to form final DataFrame\n",
    "final_df = pd.concat([matching_df, extra_df], ignore_index=True)"
   ]
  },
  {
   "cell_type": "code",
   "execution_count": null,
   "id": "78ad96dd-3a49-4403-9e33-a9235bbf11d8",
   "metadata": {},
   "outputs": [],
   "source": [
    "final_df[\"id\"] = final_df.reset_index().index + 1"
   ]
  },
  {
   "cell_type": "code",
   "execution_count": null,
   "id": "25886740-6504-47dd-b671-c790097b8f1f",
   "metadata": {},
   "outputs": [],
   "source": [
    "final_df.head()"
   ]
  },
  {
   "cell_type": "code",
   "execution_count": null,
   "id": "f80e401c-291b-4f8f-84d5-b95962b6e825",
   "metadata": {},
   "outputs": [],
   "source": [
    "regions = final_df"
   ]
  },
  {
   "cell_type": "markdown",
   "id": "d0af7c0e-b438-437e-86f3-4f2282cad929",
   "metadata": {},
   "source": [
    "### Export Region to CSV"
   ]
  },
  {
   "cell_type": "code",
   "execution_count": null,
   "id": "8ba4de83-abca-4d5a-aa55-da16593ca53d",
   "metadata": {},
   "outputs": [],
   "source": [
    "regions[regions['region'].str.contains(\"coffee-producing households in Cuanza Sul province\")]"
   ]
  },
  {
   "cell_type": "code",
   "execution_count": null,
   "id": "c7150746-9027-4904-ae97-9864c85010a9",
   "metadata": {},
   "outputs": [],
   "source": [
    "regions.tail(5)"
   ]
  },
  {
   "cell_type": "code",
   "execution_count": null,
   "id": "4f1a2a8f-b601-4f19-a4fc-0ce5c6bd3d5b",
   "metadata": {},
   "outputs": [],
   "source": [
    "regions.to_csv('./regions.csv', index=False)"
   ]
  },
  {
   "cell_type": "markdown",
   "id": "bfd59960-251a-457c-9faf-31c044dc41eb",
   "metadata": {},
   "source": [
    "## Living Income Benchmark V6"
   ]
  },
  {
   "cell_type": "markdown",
   "id": "ee27ab73-17ea-455c-9bac-97d390cb49fa",
   "metadata": {},
   "source": [
    "### Get country id"
   ]
  },
  {
   "cell_type": "code",
   "execution_count": null,
   "id": "f1dc9d79-542d-4368-92f0-19086333e6fe",
   "metadata": {},
   "outputs": [],
   "source": [
    "countries.columns"
   ]
  },
  {
   "cell_type": "code",
   "execution_count": null,
   "id": "9fc46d52-fc57-4116-a11e-f78baf2b0275",
   "metadata": {},
   "outputs": [],
   "source": [
    "def find_new_country(val):\n",
    "    if val == \"Turkey\":\n",
    "        val = \"Turkiye\"\n",
    "    country = countries[countries[\"country\"].str.lower() == str(val).lower()]\n",
    "    if country.empty:\n",
    "        print(\"404\", val)\n",
    "        return None\n",
    "    return country[\"id\"].to_list()[0]"
   ]
  },
  {
   "cell_type": "code",
   "execution_count": null,
   "id": "e5ca42dc-76d7-4354-a827-7554d6a61145",
   "metadata": {},
   "outputs": [],
   "source": [
    "lib[\"country_id\"] = lib[\"country\"].apply(find_new_country)"
   ]
  },
  {
   "cell_type": "code",
   "execution_count": null,
   "id": "170f6849-b49f-4a61-9abe-a1e9fc2a98f1",
   "metadata": {},
   "outputs": [],
   "source": [
    "lib.tail()"
   ]
  },
  {
   "cell_type": "markdown",
   "id": "005b3d53-241a-4d1d-bc5d-13ca9dc584dd",
   "metadata": {},
   "source": [
    "### Get region id"
   ]
  },
  {
   "cell_type": "code",
   "execution_count": null,
   "id": "5e3c8629-fcf5-4a66-a2ef-5f41dd9e1584",
   "metadata": {},
   "outputs": [],
   "source": [
    "regions.tail()"
   ]
  },
  {
   "cell_type": "code",
   "execution_count": null,
   "id": "e8800fdb-8466-4aa1-afdb-7bd04c6cd85a",
   "metadata": {},
   "outputs": [],
   "source": [
    "regions.columns"
   ]
  },
  {
   "cell_type": "code",
   "execution_count": null,
   "id": "95105e00-d5ea-42f6-b623-7e916973c167",
   "metadata": {},
   "outputs": [],
   "source": [
    "lib['country'] = lib['country'].str.replace('\\n', ' ').str.strip()\n",
    "lib['region'] = lib['region'].str.replace('\\n', ' ').str.strip()\n",
    "lib['region'] = lib['region'].str.replace('\\r', ' ').str.strip()\n",
    "lib['region'] = lib['region'].str.replace(r'^\\s+|\\s+?$', '', regex=True)\n",
    "lib['region'] = lib['region'].apply(remove_extra_whitespace)"
   ]
  },
  {
   "cell_type": "code",
   "execution_count": null,
   "id": "0e8cc6d8-5d81-48ba-b4d0-d65d991ecdc9",
   "metadata": {},
   "outputs": [],
   "source": [
    "lib.tail()"
   ]
  },
  {
   "cell_type": "code",
   "execution_count": null,
   "id": "471b4940-d65e-4f37-922b-7f8519f98f4a",
   "metadata": {},
   "outputs": [],
   "source": [
    "def find_region(val):\n",
    "    region = regions[regions[\"region\"].str.lower() == str(val).lower()]\n",
    "    if region.empty:\n",
    "        print(\"404\", val)\n",
    "        return None\n",
    "    return region[\"id\"].to_list()[0]"
   ]
  },
  {
   "cell_type": "code",
   "execution_count": null,
   "id": "43ecd574-e6a9-4fce-aa5b-49939a81c728",
   "metadata": {},
   "outputs": [],
   "source": [
    "lib[\"region_id\"] = lib[\"region\"].apply(find_region)"
   ]
  },
  {
   "cell_type": "markdown",
   "id": "78d7d412-e813-40f5-8293-3ab9dc4cc8ec",
   "metadata": {},
   "source": [
    "### Export Benchmark to CSV"
   ]
  },
  {
   "cell_type": "code",
   "execution_count": null,
   "id": "d8e2a23b-a30c-4606-9b3d-fbb52cbf9c99",
   "metadata": {},
   "outputs": [],
   "source": [
    "lib = lib.dropna(subset=['region_id']) # remove row when region_id column is None"
   ]
  },
  {
   "cell_type": "code",
   "execution_count": null,
   "id": "7e3e130f-841d-4471-905e-551c46e987da",
   "metadata": {},
   "outputs": [],
   "source": [
    "lib = lib.sort_values(by=['country', 'region', 'year'], ascending=[True, True, True])\n",
    "lib[\"id\"] = lib.reset_index().index + 1"
   ]
  },
  {
   "cell_type": "code",
   "execution_count": null,
   "id": "393dcf92-759b-4fd4-9c0c-79f1d37daf66",
   "metadata": {},
   "outputs": [],
   "source": [
    "lib.columns"
   ]
  },
  {
   "cell_type": "markdown",
   "id": "13778c0a-59d8-48c8-a56f-ce2392490e72",
   "metadata": {},
   "source": [
    "#### Calculate USD and EUR if this columns doesn't exist in df lib data columns\n",
    "- Calculation using the conversion rate data"
   ]
  },
  {
   "cell_type": "code",
   "execution_count": null,
   "id": "6a4fdafa-7328-4aeb-a90b-2092ad6578ad",
   "metadata": {},
   "outputs": [],
   "source": [
    "lib.head(3)"
   ]
  },
  {
   "cell_type": "code",
   "execution_count": null,
   "id": "2e130522-c0ed-45df-9b99-995801099393",
   "metadata": {},
   "outputs": [],
   "source": [
    "# find conversion rate and calculate the conversion into USD/EUR\n",
    "def find_conversion_rate(row, currency):\n",
    "    country_id = row['country_id']\n",
    "    country_id = int(country_id) if not pd.isna(country_id) else 0\n",
    "    year = row['year']\n",
    "    year = int(year) if not pd.isna(year) else 0\n",
    "    \n",
    "    rate = conversion_rate.loc[\n",
    "        (conversion_rate[\"year\"] == year) & \n",
    "        (conversion_rate[\"country_id\"] == country_id) & \n",
    "        (conversion_rate[\"currency\"] == currency),\n",
    "        \"value\"\n",
    "    ]\n",
    "    # Extract scalar value if needed\n",
    "    rate = rate.iloc[0] if not rate.empty else None\n",
    "    if not rate:\n",
    "        return 0\n",
    "    lcu = row['LCU']\n",
    "    target_value = lcu / rate\n",
    "    return target_value\n",
    "    \n",
    "\n",
    "new_lib = lib.copy()\n",
    "if \"USD\" not in lib.columns or \"EUR\" not in lib.columns:\n",
    "    new_lib[\"USD\"] = new_lib.apply(lambda row: find_conversion_rate(row, currency=\"USD\"), axis=1)\n",
    "    new_lib[\"EUR\"] = new_lib.apply(lambda row: find_conversion_rate(row, currency=\"EUR\"), axis=1)\n",
    "\n",
    "\n",
    "# Make USD and EUR 0 then use conversion rate in endpoint\n",
    "if \"USD\" in lib.columns:\n",
    "    new_lib[\"USD\"] = 0\n",
    "\n",
    "if \"EUR\" in lib.columns:\n",
    "    new_lib[\"EUR\"] = 0"
   ]
  },
  {
   "cell_type": "code",
   "execution_count": null,
   "id": "858cd308-7c2c-4233-84c9-c287c381d05f",
   "metadata": {},
   "outputs": [],
   "source": [
    "new_lib = new_lib[['id', 'country_id',\n",
    "       'region_id', 'country', 'region', 'source', 'household_size', 'nr_adults', 'year',\n",
    "       'LCU', 'USD', 'EUR', 'household_equiv', 'links']]"
   ]
  },
  {
   "cell_type": "code",
   "execution_count": null,
   "id": "1f224213-f555-44a9-abb2-201be7d4e241",
   "metadata": {},
   "outputs": [],
   "source": [
    "# dropna by column country_id is none\n",
    "new_lib = new_lib.dropna(subset=[\"country_id\"])"
   ]
  },
  {
   "cell_type": "code",
   "execution_count": null,
   "id": "e3d49abd-104b-433c-9e84-82ff6c7e2fe1",
   "metadata": {},
   "outputs": [],
   "source": [
    "new_lib.tail(5)"
   ]
  },
  {
   "cell_type": "code",
   "execution_count": null,
   "id": "9c07e0a4-a086-4c32-8235-55e7222b2b7c",
   "metadata": {},
   "outputs": [],
   "source": [
    "new_lib.to_csv(\"./li_benchmark.csv\", index=False)"
   ]
  },
  {
   "cell_type": "markdown",
   "id": "6e3b4bc7-3997-43e1-9451-fef3d59e46bd",
   "metadata": {},
   "source": [
    "## CPI V6"
   ]
  },
  {
   "cell_type": "code",
   "execution_count": null,
   "id": "deaff3b6-9ff9-4c5a-861a-e0763d86080d",
   "metadata": {},
   "outputs": [],
   "source": [
    "cpi_df = pd.read_csv(\"./cpi_data.csv\")"
   ]
  },
  {
   "cell_type": "code",
   "execution_count": null,
   "id": "7e4e9b6d-7ddc-4006-b5a5-9b9023f70bce",
   "metadata": {},
   "outputs": [],
   "source": [
    "cpi_df = cpi_df.rename(columns={\"Country Name\": \"country\"})"
   ]
  },
  {
   "cell_type": "code",
   "execution_count": null,
   "id": "0a1ed950-3fe7-4159-ae4a-9d0d99e703e6",
   "metadata": {},
   "outputs": [],
   "source": [
    "cpi_df = cpi_df.dropna(how=\"all\")"
   ]
  },
  {
   "cell_type": "code",
   "execution_count": null,
   "id": "d9aa36a2-9d95-423e-93d2-4fc361efc970",
   "metadata": {},
   "outputs": [],
   "source": [
    "cpi_df.columns"
   ]
  },
  {
   "cell_type": "code",
   "execution_count": null,
   "id": "cf7de4fe-d6d5-4587-9eb5-45c7659dafc3",
   "metadata": {},
   "outputs": [],
   "source": [
    "if \"links\" in cpi_df.columns:\n",
    "    cpi_df = cpi_df.copy()\n",
    "    cpi_df.drop(columns=\"links\", inplace=True)"
   ]
  },
  {
   "cell_type": "code",
   "execution_count": null,
   "id": "38ecebca-a790-48b0-8b2f-ff393fb2e863",
   "metadata": {
    "scrolled": true
   },
   "outputs": [],
   "source": [
    "cpi_df.head(5)"
   ]
  },
  {
   "cell_type": "markdown",
   "id": "d72f8e03-aa55-4770-8042-1d7d30d2dfd3",
   "metadata": {},
   "source": [
    "### Map with Countries"
   ]
  },
  {
   "cell_type": "code",
   "execution_count": null,
   "id": "34163cae-0994-4b1d-af08-e872468ce8aa",
   "metadata": {},
   "outputs": [],
   "source": [
    "# Replace 'country' column using the mapping\n",
    "cpi_df[\"country\"] = cpi_df[\"country\"].map(country_mapping).fillna(cpi_df[\"country\"])  # Keep original if no match"
   ]
  },
  {
   "cell_type": "code",
   "execution_count": null,
   "id": "be3060a0-4a89-42ea-b20b-055a45869922",
   "metadata": {},
   "outputs": [],
   "source": [
    "cpi_df[\"country_id\"] = cpi_df[\"country\"].apply(find_country)"
   ]
  },
  {
   "cell_type": "markdown",
   "id": "01b7ec3e-86b4-4c30-b276-f396186108f9",
   "metadata": {},
   "source": [
    "### Transform CPI table"
   ]
  },
  {
   "cell_type": "code",
   "execution_count": null,
   "id": "c20c523e-cac0-462e-ac46-1148ce504420",
   "metadata": {},
   "outputs": [],
   "source": [
    "# transform int country, country_id, year, value format\n",
    "melted_df = pd.melt(cpi_df, id_vars=['country', 'country_id'], var_name='year', value_name='value')\n",
    "melted_df['value'] = melted_df['value'].fillna(0)"
   ]
  },
  {
   "cell_type": "code",
   "execution_count": null,
   "id": "c078d9c5-658f-4fbf-acd7-47e04492560a",
   "metadata": {},
   "outputs": [],
   "source": [
    "# only for year >= 2020\n",
    "melted_df['year'] = melted_df['year'].astype(str).astype(int)\n",
    "melted_df = melted_df[melted_df['year'] >= 2020]"
   ]
  },
  {
   "cell_type": "code",
   "execution_count": null,
   "id": "5fd80988-ad6f-4e20-bc59-9e6ba50744ac",
   "metadata": {},
   "outputs": [],
   "source": [
    "melted_df.reset_index(drop=True, inplace=True)\n",
    "melted_df[\"id\"] = melted_df.reset_index().index + 1"
   ]
  },
  {
   "cell_type": "code",
   "execution_count": null,
   "id": "8407ee98-1fc5-40e1-89ce-e8517792e69d",
   "metadata": {},
   "outputs": [],
   "source": [
    "new_column_order = [\"id\", \"country\", \"country_id\", \"year\", \"value\"]"
   ]
  },
  {
   "cell_type": "code",
   "execution_count": null,
   "id": "5426b663-1467-46cc-b912-72dc49eb4def",
   "metadata": {},
   "outputs": [],
   "source": [
    "cpi_df = melted_df[new_column_order]"
   ]
  },
  {
   "cell_type": "code",
   "execution_count": null,
   "id": "c34e1818-4a4b-4abc-8141-22ad8dd64aee",
   "metadata": {
    "scrolled": true
   },
   "outputs": [],
   "source": [
    "cpi_df['value'] = cpi_df['value'].apply(convert_to_float)"
   ]
  },
  {
   "cell_type": "markdown",
   "id": "3fa681be-524d-4247-95a8-38a6daa9ee02",
   "metadata": {},
   "source": [
    "### Export CPI to CSV"
   ]
  },
  {
   "cell_type": "code",
   "execution_count": null,
   "id": "3c443982-d34c-42fb-bac2-6134c7370738",
   "metadata": {},
   "outputs": [],
   "source": [
    "cpi = cpi_df.dropna()"
   ]
  },
  {
   "cell_type": "code",
   "execution_count": null,
   "id": "ef740d9b-4344-4191-9cbe-e2d7735c2fb0",
   "metadata": {},
   "outputs": [],
   "source": [
    "cpi = cpi.drop_duplicates(subset=[\"country_id\", \"year\"])"
   ]
  },
  {
   "cell_type": "code",
   "execution_count": null,
   "id": "c033c67d-8f8a-4ed6-9d5b-a0bfec4178c9",
   "metadata": {},
   "outputs": [],
   "source": [
    "cpi.head()"
   ]
  },
  {
   "cell_type": "code",
   "execution_count": null,
   "id": "30816e73-aa63-4548-9e0c-ad01c7b14844",
   "metadata": {},
   "outputs": [],
   "source": [
    "cpi.to_csv('cpi.csv', index=False)"
   ]
  },
  {
   "cell_type": "code",
   "execution_count": null,
   "id": "3c703583-e203-4d11-b889-c22cbdedb961",
   "metadata": {},
   "outputs": [],
   "source": []
  }
 ],
 "metadata": {
  "kernelspec": {
   "display_name": "Python 3 (ipykernel)",
   "language": "python",
   "name": "python3"
  },
  "language_info": {
   "codemirror_mode": {
    "name": "ipython",
    "version": 3
   },
   "file_extension": ".py",
   "mimetype": "text/x-python",
   "name": "python",
   "nbconvert_exporter": "python",
   "pygments_lexer": "ipython3",
   "version": "3.12.5"
  }
 },
 "nbformat": 4,
 "nbformat_minor": 5
}
