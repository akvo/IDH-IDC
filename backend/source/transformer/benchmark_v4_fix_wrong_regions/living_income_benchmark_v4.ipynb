{
 "cells": [
  {
   "cell_type": "markdown",
   "id": "fe26bc83-efac-4e44-b345-7b28a02f3e9e",
   "metadata": {},
   "source": [
    "# Regions V3 (Fix wrong regions) - Living Income Benchmark V4 - CPI V4"
   ]
  },
  {
   "cell_type": "markdown",
   "id": "696d44d3-4624-4f6b-bd39-8eae4505513b",
   "metadata": {},
   "source": [
    "Here we will map the li_benchmark_data.csv and cpi_data.csv only"
   ]
  },
  {
   "cell_type": "code",
   "execution_count": 1,
   "id": "6a57ae9b-0320-470c-b79c-0abcbeaafef6",
   "metadata": {},
   "outputs": [],
   "source": [
    "import pandas as pd\n",
    "import re"
   ]
  },
  {
   "cell_type": "code",
   "execution_count": 2,
   "id": "34c3bc65-509f-4a98-9fb0-f8b7d985abce",
   "metadata": {},
   "outputs": [],
   "source": [
    "def remove_extra_whitespace(val):\n",
    "    temp = val.split()\n",
    "    return ' '.join(temp)"
   ]
  },
  {
   "cell_type": "markdown",
   "id": "9a0a0aec-366e-4e97-9f51-cda7efe04177",
   "metadata": {},
   "source": [
    "## Load files"
   ]
  },
  {
   "cell_type": "code",
   "execution_count": 3,
   "id": "6ca561c2-f374-4a0e-b255-9372f7c1f8ed",
   "metadata": {},
   "outputs": [],
   "source": [
    "countries = pd.read_csv(\"./countries.csv\")"
   ]
  },
  {
   "cell_type": "code",
   "execution_count": 4,
   "id": "3bcafa21-8cc8-4d43-ba0b-55482c08d66b",
   "metadata": {},
   "outputs": [
    {
     "data": {
      "text/html": [
       "<div>\n",
       "<style scoped>\n",
       "    .dataframe tbody tr th:only-of-type {\n",
       "        vertical-align: middle;\n",
       "    }\n",
       "\n",
       "    .dataframe tbody tr th {\n",
       "        vertical-align: top;\n",
       "    }\n",
       "\n",
       "    .dataframe thead th {\n",
       "        text-align: right;\n",
       "    }\n",
       "</style>\n",
       "<table border=\"1\" class=\"dataframe\">\n",
       "  <thead>\n",
       "    <tr style=\"text-align: right;\">\n",
       "      <th></th>\n",
       "      <th>id</th>\n",
       "      <th>country</th>\n",
       "      <th>currency</th>\n",
       "      <th>abbreviation</th>\n",
       "    </tr>\n",
       "  </thead>\n",
       "  <tbody>\n",
       "    <tr>\n",
       "      <th>205</th>\n",
       "      <td>206</td>\n",
       "      <td>Martinique</td>\n",
       "      <td>Euro</td>\n",
       "      <td>EUR</td>\n",
       "    </tr>\n",
       "    <tr>\n",
       "      <th>206</th>\n",
       "      <td>207</td>\n",
       "      <td>Montserrat</td>\n",
       "      <td>East Caribbean Dollar</td>\n",
       "      <td>XCD</td>\n",
       "    </tr>\n",
       "    <tr>\n",
       "      <th>207</th>\n",
       "      <td>208</td>\n",
       "      <td>San Marino, Rep. Of</td>\n",
       "      <td>Euro</td>\n",
       "      <td>EUR</td>\n",
       "    </tr>\n",
       "    <tr>\n",
       "      <th>208</th>\n",
       "      <td>209</td>\n",
       "      <td>São Tomé and Príncipe, Dem. Rep. of</td>\n",
       "      <td>Dobra</td>\n",
       "      <td>STN</td>\n",
       "    </tr>\n",
       "    <tr>\n",
       "      <th>209</th>\n",
       "      <td>210</td>\n",
       "      <td>Syrian Arab Rep.</td>\n",
       "      <td>Syrian Pound</td>\n",
       "      <td>SYP</td>\n",
       "    </tr>\n",
       "  </tbody>\n",
       "</table>\n",
       "</div>"
      ],
      "text/plain": [
       "      id                              country               currency  \\\n",
       "205  206                           Martinique                   Euro   \n",
       "206  207                           Montserrat  East Caribbean Dollar   \n",
       "207  208                  San Marino, Rep. Of                   Euro   \n",
       "208  209  São Tomé and Príncipe, Dem. Rep. of                  Dobra   \n",
       "209  210                     Syrian Arab Rep.           Syrian Pound   \n",
       "\n",
       "    abbreviation  \n",
       "205          EUR  \n",
       "206          XCD  \n",
       "207          EUR  \n",
       "208          STN  \n",
       "209          SYP  "
      ]
     },
     "execution_count": 4,
     "metadata": {},
     "output_type": "execute_result"
    }
   ],
   "source": [
    "countries.tail()"
   ]
  },
  {
   "cell_type": "code",
   "execution_count": 5,
   "id": "7539e501-7fb4-4433-bd5d-9d42f9b08c07",
   "metadata": {},
   "outputs": [],
   "source": [
    "lib = pd.read_csv(\"./li_benchmark_data.csv\")"
   ]
  },
  {
   "cell_type": "code",
   "execution_count": 6,
   "id": "75c6fd1e-31c3-48a3-aa22-90945ade793a",
   "metadata": {},
   "outputs": [
    {
     "data": {
      "text/html": [
       "<div>\n",
       "<style scoped>\n",
       "    .dataframe tbody tr th:only-of-type {\n",
       "        vertical-align: middle;\n",
       "    }\n",
       "\n",
       "    .dataframe tbody tr th {\n",
       "        vertical-align: top;\n",
       "    }\n",
       "\n",
       "    .dataframe thead th {\n",
       "        text-align: right;\n",
       "    }\n",
       "</style>\n",
       "<table border=\"1\" class=\"dataframe\">\n",
       "  <thead>\n",
       "    <tr style=\"text-align: right;\">\n",
       "      <th></th>\n",
       "      <th>country</th>\n",
       "      <th>region</th>\n",
       "      <th>source</th>\n",
       "      <th>household_size</th>\n",
       "      <th>nr_adults</th>\n",
       "      <th>year</th>\n",
       "      <th>LCU</th>\n",
       "      <th>USD</th>\n",
       "      <th>EUR</th>\n",
       "      <th>household_equiv</th>\n",
       "      <th>links</th>\n",
       "    </tr>\n",
       "  </thead>\n",
       "  <tbody>\n",
       "    <tr>\n",
       "      <th>279</th>\n",
       "      <td>NaN</td>\n",
       "      <td>NaN</td>\n",
       "      <td>NaN</td>\n",
       "      <td>NaN</td>\n",
       "      <td>NaN</td>\n",
       "      <td>NaN</td>\n",
       "      <td>NaN</td>\n",
       "      <td>NaN</td>\n",
       "      <td>NaN</td>\n",
       "      <td>NaN</td>\n",
       "      <td>NaN</td>\n",
       "    </tr>\n",
       "    <tr>\n",
       "      <th>280</th>\n",
       "      <td>NaN</td>\n",
       "      <td>NaN</td>\n",
       "      <td>NaN</td>\n",
       "      <td>NaN</td>\n",
       "      <td>NaN</td>\n",
       "      <td>NaN</td>\n",
       "      <td>NaN</td>\n",
       "      <td>NaN</td>\n",
       "      <td>NaN</td>\n",
       "      <td>NaN</td>\n",
       "      <td>NaN</td>\n",
       "    </tr>\n",
       "    <tr>\n",
       "      <th>281</th>\n",
       "      <td>NaN</td>\n",
       "      <td>NaN</td>\n",
       "      <td>NaN</td>\n",
       "      <td>NaN</td>\n",
       "      <td>NaN</td>\n",
       "      <td>NaN</td>\n",
       "      <td>NaN</td>\n",
       "      <td>NaN</td>\n",
       "      <td>NaN</td>\n",
       "      <td>NaN</td>\n",
       "      <td>NaN</td>\n",
       "    </tr>\n",
       "    <tr>\n",
       "      <th>282</th>\n",
       "      <td>NaN</td>\n",
       "      <td>NaN</td>\n",
       "      <td>NaN</td>\n",
       "      <td>NaN</td>\n",
       "      <td>NaN</td>\n",
       "      <td>NaN</td>\n",
       "      <td>NaN</td>\n",
       "      <td>NaN</td>\n",
       "      <td>NaN</td>\n",
       "      <td>NaN</td>\n",
       "      <td>NaN</td>\n",
       "    </tr>\n",
       "    <tr>\n",
       "      <th>283</th>\n",
       "      <td>NaN</td>\n",
       "      <td>NaN</td>\n",
       "      <td>NaN</td>\n",
       "      <td>NaN</td>\n",
       "      <td>NaN</td>\n",
       "      <td>NaN</td>\n",
       "      <td>NaN</td>\n",
       "      <td>NaN</td>\n",
       "      <td>NaN</td>\n",
       "      <td>NaN</td>\n",
       "      <td>NaN</td>\n",
       "    </tr>\n",
       "  </tbody>\n",
       "</table>\n",
       "</div>"
      ],
      "text/plain": [
       "    country region source  household_size  nr_adults  year  LCU  USD  EUR  \\\n",
       "279     NaN    NaN    NaN             NaN        NaN   NaN  NaN  NaN  NaN   \n",
       "280     NaN    NaN    NaN             NaN        NaN   NaN  NaN  NaN  NaN   \n",
       "281     NaN    NaN    NaN             NaN        NaN   NaN  NaN  NaN  NaN   \n",
       "282     NaN    NaN    NaN             NaN        NaN   NaN  NaN  NaN  NaN   \n",
       "283     NaN    NaN    NaN             NaN        NaN   NaN  NaN  NaN  NaN   \n",
       "\n",
       "     household_equiv links  \n",
       "279              NaN   NaN  \n",
       "280              NaN   NaN  \n",
       "281              NaN   NaN  \n",
       "282              NaN   NaN  \n",
       "283              NaN   NaN  "
      ]
     },
     "execution_count": 6,
     "metadata": {},
     "output_type": "execute_result"
    }
   ],
   "source": [
    "lib.tail()"
   ]
  },
  {
   "cell_type": "code",
   "execution_count": 7,
   "id": "75c24e2e-bb1f-4349-bba2-2284efd77595",
   "metadata": {},
   "outputs": [],
   "source": [
    "lib = lib.dropna(how=\"all\")"
   ]
  },
  {
   "cell_type": "code",
   "execution_count": 8,
   "id": "8538e2bc-2057-47c3-82bc-dc167fa3e868",
   "metadata": {},
   "outputs": [],
   "source": [
    "lib[\"id\"] = lib.reset_index().index + 1"
   ]
  },
  {
   "cell_type": "code",
   "execution_count": 9,
   "id": "c365ccd6-2857-4ec4-b9ab-14b7a4abece8",
   "metadata": {},
   "outputs": [
    {
     "data": {
      "text/plain": [
       "Index(['country', 'region', 'source', 'household_size', 'nr_adults', 'year',\n",
       "       'LCU', 'USD', 'EUR', 'household_equiv', 'links', 'id'],\n",
       "      dtype='object')"
      ]
     },
     "execution_count": 9,
     "metadata": {},
     "output_type": "execute_result"
    }
   ],
   "source": [
    "lib.columns"
   ]
  },
  {
   "cell_type": "code",
   "execution_count": 10,
   "id": "8011aae9-4ea7-400c-afd1-4a4f77c231b6",
   "metadata": {},
   "outputs": [
    {
     "data": {
      "text/html": [
       "<div>\n",
       "<style scoped>\n",
       "    .dataframe tbody tr th:only-of-type {\n",
       "        vertical-align: middle;\n",
       "    }\n",
       "\n",
       "    .dataframe tbody tr th {\n",
       "        vertical-align: top;\n",
       "    }\n",
       "\n",
       "    .dataframe thead th {\n",
       "        text-align: right;\n",
       "    }\n",
       "</style>\n",
       "<table border=\"1\" class=\"dataframe\">\n",
       "  <thead>\n",
       "    <tr style=\"text-align: right;\">\n",
       "      <th></th>\n",
       "      <th>country</th>\n",
       "      <th>region</th>\n",
       "      <th>source</th>\n",
       "      <th>household_size</th>\n",
       "      <th>nr_adults</th>\n",
       "      <th>year</th>\n",
       "      <th>LCU</th>\n",
       "      <th>USD</th>\n",
       "      <th>EUR</th>\n",
       "      <th>household_equiv</th>\n",
       "      <th>links</th>\n",
       "      <th>id</th>\n",
       "    </tr>\n",
       "  </thead>\n",
       "  <tbody>\n",
       "    <tr>\n",
       "      <th>59</th>\n",
       "      <td>Kenya</td>\n",
       "      <td>Rural /  Kericho</td>\n",
       "      <td>Calculated from  Global Living Wage Coalition</td>\n",
       "      <td>5.0</td>\n",
       "      <td>2.0</td>\n",
       "      <td>2023.0</td>\n",
       "      <td>570492.0</td>\n",
       "      <td>NaN</td>\n",
       "      <td>NaN</td>\n",
       "      <td>2.4</td>\n",
       "      <td>https://globallivingwage.org/living-wage-bench...</td>\n",
       "      <td>60</td>\n",
       "    </tr>\n",
       "    <tr>\n",
       "      <th>60</th>\n",
       "      <td>Kenya</td>\n",
       "      <td>Non-metropolitan Urban /  Lake Naivasha</td>\n",
       "      <td>Calculated from  Global Living Wage Coalition</td>\n",
       "      <td>5.0</td>\n",
       "      <td>2.0</td>\n",
       "      <td>2023.0</td>\n",
       "      <td>627012.0</td>\n",
       "      <td>NaN</td>\n",
       "      <td>NaN</td>\n",
       "      <td>2.4</td>\n",
       "      <td>https://globallivingwage.org/living-wage-bench...</td>\n",
       "      <td>61</td>\n",
       "    </tr>\n",
       "  </tbody>\n",
       "</table>\n",
       "</div>"
      ],
      "text/plain": [
       "   country                                   region  \\\n",
       "59   Kenya                         Rural /  Kericho   \n",
       "60   Kenya  Non-metropolitan Urban /  Lake Naivasha   \n",
       "\n",
       "                                           source  household_size  nr_adults  \\\n",
       "59  Calculated from  Global Living Wage Coalition             5.0        2.0   \n",
       "60  Calculated from  Global Living Wage Coalition             5.0        2.0   \n",
       "\n",
       "      year       LCU  USD  EUR  household_equiv  \\\n",
       "59  2023.0  570492.0  NaN  NaN              2.4   \n",
       "60  2023.0  627012.0  NaN  NaN              2.4   \n",
       "\n",
       "                                                links  id  \n",
       "59  https://globallivingwage.org/living-wage-bench...  60  \n",
       "60  https://globallivingwage.org/living-wage-bench...  61  "
      ]
     },
     "execution_count": 10,
     "metadata": {},
     "output_type": "execute_result"
    }
   ],
   "source": [
    "lib[lib['country'] == \"Kenya\"]"
   ]
  },
  {
   "cell_type": "markdown",
   "id": "80aa4535-08a3-4b73-9f98-26e9399efc60",
   "metadata": {},
   "source": [
    "## Regions V4\n",
    "- https://app.asana.com/0/1205513346619877/1207662929082480/f\n",
    "---\n",
    "Issue:\n",
    "- The region must not split by their \"/\"\n",
    "- The name of region e.g. \"Rural / All\" that will be the exact region name\n",
    "- And for Vietnam, there's still a region call Hong Min City that must not be there on the regions\n",
    "\n",
    "\n",
    "Solutions:\n",
    "- check the region data and make adjusment on the seeder, including\n",
    "- check the benchmark data seeder (try if we can do truncate)\n",
    "- make sure we doesn't truncate the region data, because the region linked into segment"
   ]
  },
  {
   "cell_type": "code",
   "execution_count": 11,
   "id": "8fd703d7-f648-461b-b74e-1ca705f00d1a",
   "metadata": {},
   "outputs": [],
   "source": [
    "def find_country(val):\n",
    "    # manual match\n",
    "    if val == \"Turkey\":\n",
    "        val = \"Turkiye\"\n",
    "    # if val == \"Anguilla\":\n",
    "    #     print(\"404\", val)\n",
    "    #     return None\n",
    "    if val == \"Central African Rep.\":\n",
    "        val = \"Central African Republic\"\n",
    "    if val == \"Congo, Dem. Rep. of the\":\n",
    "        val = \"Congo, Dem. Rep.\"\n",
    "    if val == \"Congo, Rep. of\":\n",
    "        val = \"Congo, Rep.\"\n",
    "    if val == \"Côte d'Ivoire\":\n",
    "        val = \"Cote d'Ivoire\"\n",
    "    if val == \"Curaçao, Kingdom of the Netherlands\":\n",
    "        val = \"Curacao\"\n",
    "    if val == \"Czech Rep.\":\n",
    "        val = \"Czech Republic\"\n",
    "    if val == \"Dominican Rep.\":\n",
    "        val = \"Dominican Republic\"\n",
    "    if val == \"Egypt, Arab Rep. of\":\n",
    "        val = \"Egypt, Arab Rep.\"\n",
    "    # if val == \"Guadeloupe\":\n",
    "    #     print(\"404\", val)\n",
    "    #     return None\n",
    "    if val == \"Iran, Islamic Rep. of\":\n",
    "        val = \"Iran, Islamic Rep.\"\n",
    "    if val == \"Korea, Rep. of\":\n",
    "        val = \"Korea, Rep.\"\n",
    "    if val == \"Kyrgyz Rep.\":\n",
    "        val = \"Kyrgyz Republic\"\n",
    "    if val == \"Lao People's Dem. Rep.\":\n",
    "        val = \"Lao PDR\"\n",
    "    # if val == \"Martinique\":\n",
    "    #     print(\"404\", val)\n",
    "    #     return None\n",
    "    if val == \"Micronesia, Federated States of\":\n",
    "        val = \"Micronesia, Fed. Sts.\"\n",
    "    # if val == \"Montserrat\":\n",
    "    #     print(\"404\", val)\n",
    "    #     return None\n",
    "    # if val == \"San Marino, Rep. of\":\n",
    "    #     print(\"404\", val)\n",
    "    #     return None\n",
    "    # if val == \"São Tomé and Príncipe, Dem. Rep. of\":\n",
    "    #     print(\"404\", val)\n",
    "    #     return None\n",
    "    if val == \"Sint Maarten, Kingdom of the Netherlands\":\n",
    "        val = \"Sint Maarten (Dutch part)\"\n",
    "    if val == \"Slovak Rep.\":\n",
    "        val = \"Slovak Republic\"\n",
    "    # if val == \"Syrian Arab Rep.\":\n",
    "    #     print(\"404\", val)\n",
    "    #     return None\n",
    "    if val == \"Venezuela, Rep. Bolivariana de\":\n",
    "        val = \"Venezuela, RB\"\n",
    "    if val == \"Yemen, Rep. of\":\n",
    "        val = \"Yemen, Rep.\"\n",
    "    # EOL manual match\n",
    "    \n",
    "    find_country = countries[countries[\"country\"].str.lower() == str(val).lower()]\n",
    "    if find_country.empty:\n",
    "        # Another custom way\n",
    "        val_lower = str(val).lower()\n",
    "        val_tmp = val_lower.lower().split(',')\n",
    "        for index, row in countries.iterrows():\n",
    "            # Convert the country name in the DataFrame to lowercase\n",
    "            country_name = row['country'].lower()\n",
    "            if val_lower == 'nan':\n",
    "                return None\n",
    "            if country_name not in val_tmp:\n",
    "                continue\n",
    "            return row[\"id\"]\n",
    "        # EOL Another custom way\n",
    "        print(\"404\", val)\n",
    "        return val\n",
    "    return find_country[\"id\"].to_list()[0]"
   ]
  },
  {
   "cell_type": "code",
   "execution_count": 12,
   "id": "fb9ba467-eb67-4cbf-a034-540c335746c2",
   "metadata": {},
   "outputs": [],
   "source": [
    "df = pd.read_csv(\"./li_benchmark_data.csv\")"
   ]
  },
  {
   "cell_type": "code",
   "execution_count": 13,
   "id": "5e8d05d4-b864-42f1-9ff2-5b4b796cb5c6",
   "metadata": {},
   "outputs": [
    {
     "data": {
      "text/plain": [
       "Index(['country', 'region', 'source', 'household_size', 'nr_adults', 'year',\n",
       "       'LCU', 'USD', 'EUR', 'household_equiv', 'links'],\n",
       "      dtype='object')"
      ]
     },
     "execution_count": 13,
     "metadata": {},
     "output_type": "execute_result"
    }
   ],
   "source": [
    "df.columns"
   ]
  },
  {
   "cell_type": "code",
   "execution_count": 14,
   "id": "c1354df5-dfa1-4508-82a2-d0c88c590253",
   "metadata": {},
   "outputs": [],
   "source": [
    "region_source = df[[\"country\", \"region\"]]"
   ]
  },
  {
   "cell_type": "code",
   "execution_count": 15,
   "id": "147217f3-ce8a-48ee-b0b0-8cf95439c847",
   "metadata": {},
   "outputs": [],
   "source": [
    "region_temp = region_source"
   ]
  },
  {
   "cell_type": "code",
   "execution_count": 16,
   "id": "0c971c93-451a-4300-ac27-4730ef0b3d91",
   "metadata": {},
   "outputs": [],
   "source": [
    "region_temp = region_temp[region_temp[\"region\"].notna()]"
   ]
  },
  {
   "cell_type": "code",
   "execution_count": 17,
   "id": "77f3067b-573e-44ff-b4b9-9c8945832c4f",
   "metadata": {},
   "outputs": [
    {
     "name": "stderr",
     "output_type": "stream",
     "text": [
      "/var/folders/00/btls1cns2d544mn2rkm3v4v40000gn/T/ipykernel_20467/1365577662.py:1: SettingWithCopyWarning: \n",
      "A value is trying to be set on a copy of a slice from a DataFrame.\n",
      "Try using .loc[row_indexer,col_indexer] = value instead\n",
      "\n",
      "See the caveats in the documentation: https://pandas.pydata.org/pandas-docs/stable/user_guide/indexing.html#returning-a-view-versus-a-copy\n",
      "  region_temp['country'] = region_temp['country'].str.replace('\\n', ' ').str.strip()\n",
      "/var/folders/00/btls1cns2d544mn2rkm3v4v40000gn/T/ipykernel_20467/1365577662.py:2: SettingWithCopyWarning: \n",
      "A value is trying to be set on a copy of a slice from a DataFrame.\n",
      "Try using .loc[row_indexer,col_indexer] = value instead\n",
      "\n",
      "See the caveats in the documentation: https://pandas.pydata.org/pandas-docs/stable/user_guide/indexing.html#returning-a-view-versus-a-copy\n",
      "  region_temp['region'] = region_temp['region'].str.replace('\\n', ' ').str.strip()\n",
      "/var/folders/00/btls1cns2d544mn2rkm3v4v40000gn/T/ipykernel_20467/1365577662.py:3: SettingWithCopyWarning: \n",
      "A value is trying to be set on a copy of a slice from a DataFrame.\n",
      "Try using .loc[row_indexer,col_indexer] = value instead\n",
      "\n",
      "See the caveats in the documentation: https://pandas.pydata.org/pandas-docs/stable/user_guide/indexing.html#returning-a-view-versus-a-copy\n",
      "  region_temp['region'] = region_temp['region'].str.replace('\\r', ' ').str.strip()\n",
      "/var/folders/00/btls1cns2d544mn2rkm3v4v40000gn/T/ipykernel_20467/1365577662.py:4: SettingWithCopyWarning: \n",
      "A value is trying to be set on a copy of a slice from a DataFrame.\n",
      "Try using .loc[row_indexer,col_indexer] = value instead\n",
      "\n",
      "See the caveats in the documentation: https://pandas.pydata.org/pandas-docs/stable/user_guide/indexing.html#returning-a-view-versus-a-copy\n",
      "  region_temp['region'] = region_temp['region'].str.replace(r'^\\s+|\\s+?$', '', regex=True)\n",
      "/var/folders/00/btls1cns2d544mn2rkm3v4v40000gn/T/ipykernel_20467/1365577662.py:5: SettingWithCopyWarning: \n",
      "A value is trying to be set on a copy of a slice from a DataFrame.\n",
      "Try using .loc[row_indexer,col_indexer] = value instead\n",
      "\n",
      "See the caveats in the documentation: https://pandas.pydata.org/pandas-docs/stable/user_guide/indexing.html#returning-a-view-versus-a-copy\n",
      "  region_temp['region'] = region_temp['region'].apply(remove_extra_whitespace)\n"
     ]
    }
   ],
   "source": [
    "region_temp['country'] = region_temp['country'].str.replace('\\n', ' ').str.strip()\n",
    "region_temp['region'] = region_temp['region'].str.replace('\\n', ' ').str.strip()\n",
    "region_temp['region'] = region_temp['region'].str.replace('\\r', ' ').str.strip()\n",
    "region_temp['region'] = region_temp['region'].str.replace(r'^\\s+|\\s+?$', '', regex=True)\n",
    "region_temp['region'] = region_temp['region'].apply(remove_extra_whitespace)"
   ]
  },
  {
   "cell_type": "code",
   "execution_count": 18,
   "id": "d3bbfb9c-5c45-4807-9b5a-48162f73fa8c",
   "metadata": {},
   "outputs": [
    {
     "data": {
      "text/html": [
       "<div>\n",
       "<style scoped>\n",
       "    .dataframe tbody tr th:only-of-type {\n",
       "        vertical-align: middle;\n",
       "    }\n",
       "\n",
       "    .dataframe tbody tr th {\n",
       "        vertical-align: top;\n",
       "    }\n",
       "\n",
       "    .dataframe thead th {\n",
       "        text-align: right;\n",
       "    }\n",
       "</style>\n",
       "<table border=\"1\" class=\"dataframe\">\n",
       "  <thead>\n",
       "    <tr style=\"text-align: right;\">\n",
       "      <th></th>\n",
       "      <th>country</th>\n",
       "      <th>region</th>\n",
       "    </tr>\n",
       "  </thead>\n",
       "  <tbody>\n",
       "    <tr>\n",
       "      <th>96</th>\n",
       "      <td>Tunisia</td>\n",
       "      <td>Rural / All</td>\n",
       "    </tr>\n",
       "    <tr>\n",
       "      <th>97</th>\n",
       "      <td>Turkey</td>\n",
       "      <td>Rural / All</td>\n",
       "    </tr>\n",
       "    <tr>\n",
       "      <th>98</th>\n",
       "      <td>Turkey</td>\n",
       "      <td>Urban / All</td>\n",
       "    </tr>\n",
       "    <tr>\n",
       "      <th>99</th>\n",
       "      <td>Uganda</td>\n",
       "      <td>Rural / Lake Victoria Basin</td>\n",
       "    </tr>\n",
       "    <tr>\n",
       "      <th>100</th>\n",
       "      <td>Vietnam</td>\n",
       "      <td>Urban / Minimum Wage Region 1</td>\n",
       "    </tr>\n",
       "    <tr>\n",
       "      <th>101</th>\n",
       "      <td>Vietnam</td>\n",
       "      <td>Urban / Minimum Wage Region 2</td>\n",
       "    </tr>\n",
       "    <tr>\n",
       "      <th>102</th>\n",
       "      <td>Vietnam</td>\n",
       "      <td>Urban / Minimum Wage Region 3</td>\n",
       "    </tr>\n",
       "    <tr>\n",
       "      <th>103</th>\n",
       "      <td>Vietnam</td>\n",
       "      <td>Rural / Minimum Wage Region 4</td>\n",
       "    </tr>\n",
       "    <tr>\n",
       "      <th>104</th>\n",
       "      <td>Zambia</td>\n",
       "      <td>Rural / All</td>\n",
       "    </tr>\n",
       "    <tr>\n",
       "      <th>105</th>\n",
       "      <td>Zimbabwe</td>\n",
       "      <td>Rural / All</td>\n",
       "    </tr>\n",
       "  </tbody>\n",
       "</table>\n",
       "</div>"
      ],
      "text/plain": [
       "      country                         region\n",
       "96    Tunisia                    Rural / All\n",
       "97     Turkey                    Rural / All\n",
       "98     Turkey                    Urban / All\n",
       "99     Uganda    Rural / Lake Victoria Basin\n",
       "100   Vietnam  Urban / Minimum Wage Region 1\n",
       "101   Vietnam  Urban / Minimum Wage Region 2\n",
       "102   Vietnam  Urban / Minimum Wage Region 3\n",
       "103   Vietnam  Rural / Minimum Wage Region 4\n",
       "104    Zambia                    Rural / All\n",
       "105  Zimbabwe                    Rural / All"
      ]
     },
     "execution_count": 18,
     "metadata": {},
     "output_type": "execute_result"
    }
   ],
   "source": [
    "region_temp.tail(10)"
   ]
  },
  {
   "cell_type": "markdown",
   "id": "d8096ae0-c9d4-42c5-9e2f-ff915a183163",
   "metadata": {},
   "source": [
    "### Map regions with countries"
   ]
  },
  {
   "cell_type": "code",
   "execution_count": 19,
   "id": "d06dadd4-14ac-4023-a02b-8cbcf5cf5a14",
   "metadata": {},
   "outputs": [
    {
     "name": "stderr",
     "output_type": "stream",
     "text": [
      "/var/folders/00/btls1cns2d544mn2rkm3v4v40000gn/T/ipykernel_20467/2572481390.py:1: SettingWithCopyWarning: \n",
      "A value is trying to be set on a copy of a slice from a DataFrame.\n",
      "Try using .loc[row_indexer,col_indexer] = value instead\n",
      "\n",
      "See the caveats in the documentation: https://pandas.pydata.org/pandas-docs/stable/user_guide/indexing.html#returning-a-view-versus-a-copy\n",
      "  region_temp[\"country_id\"] = region_temp[\"country\"].apply(find_country)\n"
     ]
    }
   ],
   "source": [
    "region_temp[\"country_id\"] = region_temp[\"country\"].apply(find_country)"
   ]
  },
  {
   "cell_type": "code",
   "execution_count": 20,
   "id": "6891798f-37a9-41a7-a573-4b592098e26c",
   "metadata": {},
   "outputs": [
    {
     "data": {
      "text/html": [
       "<div>\n",
       "<style scoped>\n",
       "    .dataframe tbody tr th:only-of-type {\n",
       "        vertical-align: middle;\n",
       "    }\n",
       "\n",
       "    .dataframe tbody tr th {\n",
       "        vertical-align: top;\n",
       "    }\n",
       "\n",
       "    .dataframe thead th {\n",
       "        text-align: right;\n",
       "    }\n",
       "</style>\n",
       "<table border=\"1\" class=\"dataframe\">\n",
       "  <thead>\n",
       "    <tr style=\"text-align: right;\">\n",
       "      <th></th>\n",
       "      <th>country</th>\n",
       "      <th>region</th>\n",
       "      <th>country_id</th>\n",
       "    </tr>\n",
       "  </thead>\n",
       "  <tbody>\n",
       "    <tr>\n",
       "      <th>96</th>\n",
       "      <td>Tunisia</td>\n",
       "      <td>Rural / All</td>\n",
       "      <td>185</td>\n",
       "    </tr>\n",
       "    <tr>\n",
       "      <th>97</th>\n",
       "      <td>Turkey</td>\n",
       "      <td>Rural / All</td>\n",
       "      <td>186</td>\n",
       "    </tr>\n",
       "    <tr>\n",
       "      <th>98</th>\n",
       "      <td>Turkey</td>\n",
       "      <td>Urban / All</td>\n",
       "      <td>186</td>\n",
       "    </tr>\n",
       "    <tr>\n",
       "      <th>99</th>\n",
       "      <td>Uganda</td>\n",
       "      <td>Rural / Lake Victoria Basin</td>\n",
       "      <td>190</td>\n",
       "    </tr>\n",
       "    <tr>\n",
       "      <th>100</th>\n",
       "      <td>Vietnam</td>\n",
       "      <td>Urban / Minimum Wage Region 1</td>\n",
       "      <td>199</td>\n",
       "    </tr>\n",
       "    <tr>\n",
       "      <th>101</th>\n",
       "      <td>Vietnam</td>\n",
       "      <td>Urban / Minimum Wage Region 2</td>\n",
       "      <td>199</td>\n",
       "    </tr>\n",
       "    <tr>\n",
       "      <th>102</th>\n",
       "      <td>Vietnam</td>\n",
       "      <td>Urban / Minimum Wage Region 3</td>\n",
       "      <td>199</td>\n",
       "    </tr>\n",
       "    <tr>\n",
       "      <th>103</th>\n",
       "      <td>Vietnam</td>\n",
       "      <td>Rural / Minimum Wage Region 4</td>\n",
       "      <td>199</td>\n",
       "    </tr>\n",
       "    <tr>\n",
       "      <th>104</th>\n",
       "      <td>Zambia</td>\n",
       "      <td>Rural / All</td>\n",
       "      <td>202</td>\n",
       "    </tr>\n",
       "    <tr>\n",
       "      <th>105</th>\n",
       "      <td>Zimbabwe</td>\n",
       "      <td>Rural / All</td>\n",
       "      <td>203</td>\n",
       "    </tr>\n",
       "  </tbody>\n",
       "</table>\n",
       "</div>"
      ],
      "text/plain": [
       "      country                         region  country_id\n",
       "96    Tunisia                    Rural / All         185\n",
       "97     Turkey                    Rural / All         186\n",
       "98     Turkey                    Urban / All         186\n",
       "99     Uganda    Rural / Lake Victoria Basin         190\n",
       "100   Vietnam  Urban / Minimum Wage Region 1         199\n",
       "101   Vietnam  Urban / Minimum Wage Region 2         199\n",
       "102   Vietnam  Urban / Minimum Wage Region 3         199\n",
       "103   Vietnam  Rural / Minimum Wage Region 4         199\n",
       "104    Zambia                    Rural / All         202\n",
       "105  Zimbabwe                    Rural / All         203"
      ]
     },
     "execution_count": 20,
     "metadata": {},
     "output_type": "execute_result"
    }
   ],
   "source": [
    "region_temp.tail(10)"
   ]
  },
  {
   "cell_type": "markdown",
   "id": "0d7c748f-30f3-428e-bad3-1f0452f69bc6",
   "metadata": {},
   "source": [
    "### Group region with same name"
   ]
  },
  {
   "cell_type": "code",
   "execution_count": 21,
   "id": "50fb0d4d-ef26-4cef-98a8-793adfbd9890",
   "metadata": {},
   "outputs": [],
   "source": [
    "group_df = region_temp.groupby('region').agg({\n",
    "    'country': lambda x: list(x),\n",
    "    'country_id': lambda x: list(x)\n",
    "}).reset_index()"
   ]
  },
  {
   "cell_type": "code",
   "execution_count": 22,
   "id": "f0ce7fdd-bcbc-4594-aada-25e2f15fb39a",
   "metadata": {},
   "outputs": [],
   "source": [
    "group_df = group_df[group_df['region'].str.strip() != '']"
   ]
  },
  {
   "cell_type": "code",
   "execution_count": 23,
   "id": "65f244cb-aab8-4609-8d1f-f5c716de9675",
   "metadata": {},
   "outputs": [],
   "source": [
    "group_df['region'] = group_df['region'].str.replace(r'^\\s+|\\s+?$', '', regex=True)"
   ]
  },
  {
   "cell_type": "code",
   "execution_count": 24,
   "id": "2ce5b895-5dd2-4229-9bc5-292113b704cf",
   "metadata": {},
   "outputs": [],
   "source": [
    "group_df['country_id'] = group_df['country_id'].apply(list)\n",
    "group_df['country'] = group_df['country'].apply(list)"
   ]
  },
  {
   "cell_type": "code",
   "execution_count": 25,
   "id": "a40a67e3-1a67-45f8-8873-4def2ebf74ef",
   "metadata": {},
   "outputs": [],
   "source": [
    "group_df[\"id\"] = group_df.reset_index().index + 1"
   ]
  },
  {
   "cell_type": "code",
   "execution_count": 26,
   "id": "2b9e9e5c-201c-4936-9e3c-1007add69243",
   "metadata": {},
   "outputs": [],
   "source": [
    "new_column_order = [\"id\", \"region\", \"country_id\", \"country\"]"
   ]
  },
  {
   "cell_type": "code",
   "execution_count": 27,
   "id": "dd267e3b-4c92-41ce-84cd-20c017ce0313",
   "metadata": {},
   "outputs": [],
   "source": [
    "regions = group_df[new_column_order]"
   ]
  },
  {
   "cell_type": "markdown",
   "id": "d0af7c0e-b438-437e-86f3-4f2282cad929",
   "metadata": {},
   "source": [
    "### Export Region to CSV"
   ]
  },
  {
   "cell_type": "code",
   "execution_count": 28,
   "id": "8ba4de83-abca-4d5a-aa55-da16593ca53d",
   "metadata": {},
   "outputs": [
    {
     "data": {
      "text/html": [
       "<div>\n",
       "<style scoped>\n",
       "    .dataframe tbody tr th:only-of-type {\n",
       "        vertical-align: middle;\n",
       "    }\n",
       "\n",
       "    .dataframe tbody tr th {\n",
       "        vertical-align: top;\n",
       "    }\n",
       "\n",
       "    .dataframe thead th {\n",
       "        text-align: right;\n",
       "    }\n",
       "</style>\n",
       "<table border=\"1\" class=\"dataframe\">\n",
       "  <thead>\n",
       "    <tr style=\"text-align: right;\">\n",
       "      <th></th>\n",
       "      <th>id</th>\n",
       "      <th>region</th>\n",
       "      <th>country_id</th>\n",
       "      <th>country</th>\n",
       "    </tr>\n",
       "  </thead>\n",
       "  <tbody>\n",
       "    <tr>\n",
       "      <th>40</th>\n",
       "      <td>41</td>\n",
       "      <td>Rural / coffee-producing households in Cuanza ...</td>\n",
       "      <td>[5]</td>\n",
       "      <td>[Angola]</td>\n",
       "    </tr>\n",
       "  </tbody>\n",
       "</table>\n",
       "</div>"
      ],
      "text/plain": [
       "    id                                             region country_id   country\n",
       "40  41  Rural / coffee-producing households in Cuanza ...        [5]  [Angola]"
      ]
     },
     "execution_count": 28,
     "metadata": {},
     "output_type": "execute_result"
    }
   ],
   "source": [
    "regions[regions['region'].str.contains(\"coffee-producing households in Cuanza Sul province\")]"
   ]
  },
  {
   "cell_type": "code",
   "execution_count": 29,
   "id": "c7150746-9027-4904-ae97-9864c85010a9",
   "metadata": {},
   "outputs": [
    {
     "data": {
      "text/html": [
       "<div>\n",
       "<style scoped>\n",
       "    .dataframe tbody tr th:only-of-type {\n",
       "        vertical-align: middle;\n",
       "    }\n",
       "\n",
       "    .dataframe tbody tr th {\n",
       "        vertical-align: top;\n",
       "    }\n",
       "\n",
       "    .dataframe thead th {\n",
       "        text-align: right;\n",
       "    }\n",
       "</style>\n",
       "<table border=\"1\" class=\"dataframe\">\n",
       "  <thead>\n",
       "    <tr style=\"text-align: right;\">\n",
       "      <th></th>\n",
       "      <th>id</th>\n",
       "      <th>region</th>\n",
       "      <th>country_id</th>\n",
       "      <th>country</th>\n",
       "    </tr>\n",
       "  </thead>\n",
       "  <tbody>\n",
       "    <tr>\n",
       "      <th>67</th>\n",
       "      <td>68</td>\n",
       "      <td>Urban / Tiruppur, Tamil Nadu</td>\n",
       "      <td>[84]</td>\n",
       "      <td>[India]</td>\n",
       "    </tr>\n",
       "    <tr>\n",
       "      <th>68</th>\n",
       "      <td>69</td>\n",
       "      <td>Urban / Urban Guatemala</td>\n",
       "      <td>[75]</td>\n",
       "      <td>[Guatemala]</td>\n",
       "    </tr>\n",
       "    <tr>\n",
       "      <th>69</th>\n",
       "      <td>70</td>\n",
       "      <td>Urban / Zhengzhou</td>\n",
       "      <td>[40]</td>\n",
       "      <td>[China]</td>\n",
       "    </tr>\n",
       "    <tr>\n",
       "      <th>70</th>\n",
       "      <td>71</td>\n",
       "      <td>Urban-Rural / Caribbean coast</td>\n",
       "      <td>[41]</td>\n",
       "      <td>[Colombia]</td>\n",
       "    </tr>\n",
       "    <tr>\n",
       "      <th>71</th>\n",
       "      <td>72</td>\n",
       "      <td>Yucatán / Rural Areas and Small Towns in Yucatan</td>\n",
       "      <td>[119]</td>\n",
       "      <td>[Mexico]</td>\n",
       "    </tr>\n",
       "  </tbody>\n",
       "</table>\n",
       "</div>"
      ],
      "text/plain": [
       "    id                                            region country_id  \\\n",
       "67  68                      Urban / Tiruppur, Tamil Nadu       [84]   \n",
       "68  69                           Urban / Urban Guatemala       [75]   \n",
       "69  70                                 Urban / Zhengzhou       [40]   \n",
       "70  71                     Urban-Rural / Caribbean coast       [41]   \n",
       "71  72  Yucatán / Rural Areas and Small Towns in Yucatan      [119]   \n",
       "\n",
       "        country  \n",
       "67      [India]  \n",
       "68  [Guatemala]  \n",
       "69      [China]  \n",
       "70   [Colombia]  \n",
       "71     [Mexico]  "
      ]
     },
     "execution_count": 29,
     "metadata": {},
     "output_type": "execute_result"
    }
   ],
   "source": [
    "regions.tail(5)"
   ]
  },
  {
   "cell_type": "code",
   "execution_count": 30,
   "id": "4f1a2a8f-b601-4f19-a4fc-0ce5c6bd3d5b",
   "metadata": {},
   "outputs": [],
   "source": [
    "regions.to_csv('./regions.csv', index=False)"
   ]
  },
  {
   "cell_type": "markdown",
   "id": "bfd59960-251a-457c-9faf-31c044dc41eb",
   "metadata": {},
   "source": [
    "## Living Income Benchmark V4"
   ]
  },
  {
   "cell_type": "markdown",
   "id": "ee27ab73-17ea-455c-9bac-97d390cb49fa",
   "metadata": {},
   "source": [
    "### Get country id"
   ]
  },
  {
   "cell_type": "code",
   "execution_count": 31,
   "id": "f1dc9d79-542d-4368-92f0-19086333e6fe",
   "metadata": {},
   "outputs": [
    {
     "data": {
      "text/plain": [
       "Index(['id', 'country', 'currency', 'abbreviation'], dtype='object')"
      ]
     },
     "execution_count": 31,
     "metadata": {},
     "output_type": "execute_result"
    }
   ],
   "source": [
    "countries.columns"
   ]
  },
  {
   "cell_type": "code",
   "execution_count": 32,
   "id": "9fc46d52-fc57-4116-a11e-f78baf2b0275",
   "metadata": {},
   "outputs": [],
   "source": [
    "def find_new_country(val):\n",
    "    if val == \"Turkey\":\n",
    "        val = \"Turkiye\"\n",
    "    country = countries[countries[\"country\"].str.lower() == str(val).lower()]\n",
    "    if country.empty:\n",
    "        print(\"404\", val)\n",
    "        return None\n",
    "    return country[\"id\"].to_list()[0]"
   ]
  },
  {
   "cell_type": "code",
   "execution_count": 33,
   "id": "e5ca42dc-76d7-4354-a827-7554d6a61145",
   "metadata": {},
   "outputs": [],
   "source": [
    "lib[\"country_id\"] = lib[\"country\"].apply(find_new_country)"
   ]
  },
  {
   "cell_type": "code",
   "execution_count": 34,
   "id": "170f6849-b49f-4a61-9abe-a1e9fc2a98f1",
   "metadata": {},
   "outputs": [
    {
     "data": {
      "text/html": [
       "<div>\n",
       "<style scoped>\n",
       "    .dataframe tbody tr th:only-of-type {\n",
       "        vertical-align: middle;\n",
       "    }\n",
       "\n",
       "    .dataframe tbody tr th {\n",
       "        vertical-align: top;\n",
       "    }\n",
       "\n",
       "    .dataframe thead th {\n",
       "        text-align: right;\n",
       "    }\n",
       "</style>\n",
       "<table border=\"1\" class=\"dataframe\">\n",
       "  <thead>\n",
       "    <tr style=\"text-align: right;\">\n",
       "      <th></th>\n",
       "      <th>country</th>\n",
       "      <th>region</th>\n",
       "      <th>source</th>\n",
       "      <th>household_size</th>\n",
       "      <th>nr_adults</th>\n",
       "      <th>year</th>\n",
       "      <th>LCU</th>\n",
       "      <th>USD</th>\n",
       "      <th>EUR</th>\n",
       "      <th>household_equiv</th>\n",
       "      <th>links</th>\n",
       "      <th>id</th>\n",
       "      <th>country_id</th>\n",
       "    </tr>\n",
       "  </thead>\n",
       "  <tbody>\n",
       "    <tr>\n",
       "      <th>101</th>\n",
       "      <td>Vietnam</td>\n",
       "      <td>Urban /  Minimum Wage Region 2</td>\n",
       "      <td>Calculated from Global Living Wage Coalition</td>\n",
       "      <td>4.0</td>\n",
       "      <td>2.0</td>\n",
       "      <td>2023.0</td>\n",
       "      <td>1.473626e+08</td>\n",
       "      <td>NaN</td>\n",
       "      <td>NaN</td>\n",
       "      <td>2.1</td>\n",
       "      <td>NaN</td>\n",
       "      <td>102</td>\n",
       "      <td>199</td>\n",
       "    </tr>\n",
       "    <tr>\n",
       "      <th>102</th>\n",
       "      <td>Vietnam</td>\n",
       "      <td>Urban /  Minimum Wage Region 3</td>\n",
       "      <td>Calculated from Global Living Wage Coalition</td>\n",
       "      <td>4.0</td>\n",
       "      <td>2.0</td>\n",
       "      <td>2023.0</td>\n",
       "      <td>1.431112e+08</td>\n",
       "      <td>NaN</td>\n",
       "      <td>NaN</td>\n",
       "      <td>2.1</td>\n",
       "      <td>NaN</td>\n",
       "      <td>103</td>\n",
       "      <td>199</td>\n",
       "    </tr>\n",
       "    <tr>\n",
       "      <th>103</th>\n",
       "      <td>Vietnam</td>\n",
       "      <td>Rural /  Minimum Wage Region 4</td>\n",
       "      <td>Calculated from Global Living Wage Coalition</td>\n",
       "      <td>4.0</td>\n",
       "      <td>2.0</td>\n",
       "      <td>2023.0</td>\n",
       "      <td>1.218759e+08</td>\n",
       "      <td>NaN</td>\n",
       "      <td>NaN</td>\n",
       "      <td>2.1</td>\n",
       "      <td>NaN</td>\n",
       "      <td>104</td>\n",
       "      <td>199</td>\n",
       "    </tr>\n",
       "    <tr>\n",
       "      <th>104</th>\n",
       "      <td>Zambia</td>\n",
       "      <td>Rural /  All</td>\n",
       "      <td>Calculated from  Global Living Wage Coalition</td>\n",
       "      <td>6.0</td>\n",
       "      <td>2.0</td>\n",
       "      <td>2023.0</td>\n",
       "      <td>5.410944e+04</td>\n",
       "      <td>NaN</td>\n",
       "      <td>NaN</td>\n",
       "      <td>2.7</td>\n",
       "      <td>NaN</td>\n",
       "      <td>105</td>\n",
       "      <td>202</td>\n",
       "    </tr>\n",
       "    <tr>\n",
       "      <th>105</th>\n",
       "      <td>Zimbabwe</td>\n",
       "      <td>Rural /  All</td>\n",
       "      <td>Calculated from  Global Living Wage Coalition</td>\n",
       "      <td>5.0</td>\n",
       "      <td>2.0</td>\n",
       "      <td>2023.0</td>\n",
       "      <td>4.368000e+03</td>\n",
       "      <td>NaN</td>\n",
       "      <td>NaN</td>\n",
       "      <td>2.4</td>\n",
       "      <td>NaN</td>\n",
       "      <td>106</td>\n",
       "      <td>203</td>\n",
       "    </tr>\n",
       "  </tbody>\n",
       "</table>\n",
       "</div>"
      ],
      "text/plain": [
       "      country                          region  \\\n",
       "101   Vietnam  Urban /  Minimum Wage Region 2   \n",
       "102   Vietnam  Urban /  Minimum Wage Region 3   \n",
       "103   Vietnam  Rural /  Minimum Wage Region 4   \n",
       "104    Zambia                    Rural /  All   \n",
       "105  Zimbabwe                    Rural /  All   \n",
       "\n",
       "                                            source  household_size  nr_adults  \\\n",
       "101   Calculated from Global Living Wage Coalition             4.0        2.0   \n",
       "102   Calculated from Global Living Wage Coalition             4.0        2.0   \n",
       "103   Calculated from Global Living Wage Coalition             4.0        2.0   \n",
       "104  Calculated from  Global Living Wage Coalition             6.0        2.0   \n",
       "105  Calculated from  Global Living Wage Coalition             5.0        2.0   \n",
       "\n",
       "       year           LCU  USD  EUR  household_equiv links   id  country_id  \n",
       "101  2023.0  1.473626e+08  NaN  NaN              2.1   NaN  102         199  \n",
       "102  2023.0  1.431112e+08  NaN  NaN              2.1   NaN  103         199  \n",
       "103  2023.0  1.218759e+08  NaN  NaN              2.1   NaN  104         199  \n",
       "104  2023.0  5.410944e+04  NaN  NaN              2.7   NaN  105         202  \n",
       "105  2023.0  4.368000e+03  NaN  NaN              2.4   NaN  106         203  "
      ]
     },
     "execution_count": 34,
     "metadata": {},
     "output_type": "execute_result"
    }
   ],
   "source": [
    "lib.tail()"
   ]
  },
  {
   "cell_type": "markdown",
   "id": "005b3d53-241a-4d1d-bc5d-13ca9dc584dd",
   "metadata": {},
   "source": [
    "### Get region id"
   ]
  },
  {
   "cell_type": "code",
   "execution_count": 35,
   "id": "5e3c8629-fcf5-4a66-a2ef-5f41dd9e1584",
   "metadata": {},
   "outputs": [
    {
     "data": {
      "text/html": [
       "<div>\n",
       "<style scoped>\n",
       "    .dataframe tbody tr th:only-of-type {\n",
       "        vertical-align: middle;\n",
       "    }\n",
       "\n",
       "    .dataframe tbody tr th {\n",
       "        vertical-align: top;\n",
       "    }\n",
       "\n",
       "    .dataframe thead th {\n",
       "        text-align: right;\n",
       "    }\n",
       "</style>\n",
       "<table border=\"1\" class=\"dataframe\">\n",
       "  <thead>\n",
       "    <tr style=\"text-align: right;\">\n",
       "      <th></th>\n",
       "      <th>id</th>\n",
       "      <th>region</th>\n",
       "      <th>country_id</th>\n",
       "      <th>country</th>\n",
       "    </tr>\n",
       "  </thead>\n",
       "  <tbody>\n",
       "    <tr>\n",
       "      <th>67</th>\n",
       "      <td>68</td>\n",
       "      <td>Urban / Tiruppur, Tamil Nadu</td>\n",
       "      <td>[84]</td>\n",
       "      <td>[India]</td>\n",
       "    </tr>\n",
       "    <tr>\n",
       "      <th>68</th>\n",
       "      <td>69</td>\n",
       "      <td>Urban / Urban Guatemala</td>\n",
       "      <td>[75]</td>\n",
       "      <td>[Guatemala]</td>\n",
       "    </tr>\n",
       "    <tr>\n",
       "      <th>69</th>\n",
       "      <td>70</td>\n",
       "      <td>Urban / Zhengzhou</td>\n",
       "      <td>[40]</td>\n",
       "      <td>[China]</td>\n",
       "    </tr>\n",
       "    <tr>\n",
       "      <th>70</th>\n",
       "      <td>71</td>\n",
       "      <td>Urban-Rural / Caribbean coast</td>\n",
       "      <td>[41]</td>\n",
       "      <td>[Colombia]</td>\n",
       "    </tr>\n",
       "    <tr>\n",
       "      <th>71</th>\n",
       "      <td>72</td>\n",
       "      <td>Yucatán / Rural Areas and Small Towns in Yucatan</td>\n",
       "      <td>[119]</td>\n",
       "      <td>[Mexico]</td>\n",
       "    </tr>\n",
       "  </tbody>\n",
       "</table>\n",
       "</div>"
      ],
      "text/plain": [
       "    id                                            region country_id  \\\n",
       "67  68                      Urban / Tiruppur, Tamil Nadu       [84]   \n",
       "68  69                           Urban / Urban Guatemala       [75]   \n",
       "69  70                                 Urban / Zhengzhou       [40]   \n",
       "70  71                     Urban-Rural / Caribbean coast       [41]   \n",
       "71  72  Yucatán / Rural Areas and Small Towns in Yucatan      [119]   \n",
       "\n",
       "        country  \n",
       "67      [India]  \n",
       "68  [Guatemala]  \n",
       "69      [China]  \n",
       "70   [Colombia]  \n",
       "71     [Mexico]  "
      ]
     },
     "execution_count": 35,
     "metadata": {},
     "output_type": "execute_result"
    }
   ],
   "source": [
    "regions.tail()"
   ]
  },
  {
   "cell_type": "code",
   "execution_count": 36,
   "id": "e8800fdb-8466-4aa1-afdb-7bd04c6cd85a",
   "metadata": {},
   "outputs": [
    {
     "data": {
      "text/plain": [
       "Index(['id', 'region', 'country_id', 'country'], dtype='object')"
      ]
     },
     "execution_count": 36,
     "metadata": {},
     "output_type": "execute_result"
    }
   ],
   "source": [
    "regions.columns"
   ]
  },
  {
   "cell_type": "code",
   "execution_count": 37,
   "id": "95105e00-d5ea-42f6-b623-7e916973c167",
   "metadata": {},
   "outputs": [],
   "source": [
    "lib['country'] = lib['country'].str.replace('\\n', ' ').str.strip()\n",
    "lib['region'] = lib['region'].str.replace('\\n', ' ').str.strip()\n",
    "lib['region'] = lib['region'].str.replace('\\r', ' ').str.strip()\n",
    "lib['region'] = lib['region'].str.replace(r'^\\s+|\\s+?$', '', regex=True)\n",
    "lib['region'] = lib['region'].apply(remove_extra_whitespace)"
   ]
  },
  {
   "cell_type": "code",
   "execution_count": 38,
   "id": "0e8cc6d8-5d81-48ba-b4d0-d65d991ecdc9",
   "metadata": {},
   "outputs": [
    {
     "data": {
      "text/html": [
       "<div>\n",
       "<style scoped>\n",
       "    .dataframe tbody tr th:only-of-type {\n",
       "        vertical-align: middle;\n",
       "    }\n",
       "\n",
       "    .dataframe tbody tr th {\n",
       "        vertical-align: top;\n",
       "    }\n",
       "\n",
       "    .dataframe thead th {\n",
       "        text-align: right;\n",
       "    }\n",
       "</style>\n",
       "<table border=\"1\" class=\"dataframe\">\n",
       "  <thead>\n",
       "    <tr style=\"text-align: right;\">\n",
       "      <th></th>\n",
       "      <th>country</th>\n",
       "      <th>region</th>\n",
       "      <th>source</th>\n",
       "      <th>household_size</th>\n",
       "      <th>nr_adults</th>\n",
       "      <th>year</th>\n",
       "      <th>LCU</th>\n",
       "      <th>USD</th>\n",
       "      <th>EUR</th>\n",
       "      <th>household_equiv</th>\n",
       "      <th>links</th>\n",
       "      <th>id</th>\n",
       "      <th>country_id</th>\n",
       "    </tr>\n",
       "  </thead>\n",
       "  <tbody>\n",
       "    <tr>\n",
       "      <th>101</th>\n",
       "      <td>Vietnam</td>\n",
       "      <td>Urban / Minimum Wage Region 2</td>\n",
       "      <td>Calculated from Global Living Wage Coalition</td>\n",
       "      <td>4.0</td>\n",
       "      <td>2.0</td>\n",
       "      <td>2023.0</td>\n",
       "      <td>1.473626e+08</td>\n",
       "      <td>NaN</td>\n",
       "      <td>NaN</td>\n",
       "      <td>2.1</td>\n",
       "      <td>NaN</td>\n",
       "      <td>102</td>\n",
       "      <td>199</td>\n",
       "    </tr>\n",
       "    <tr>\n",
       "      <th>102</th>\n",
       "      <td>Vietnam</td>\n",
       "      <td>Urban / Minimum Wage Region 3</td>\n",
       "      <td>Calculated from Global Living Wage Coalition</td>\n",
       "      <td>4.0</td>\n",
       "      <td>2.0</td>\n",
       "      <td>2023.0</td>\n",
       "      <td>1.431112e+08</td>\n",
       "      <td>NaN</td>\n",
       "      <td>NaN</td>\n",
       "      <td>2.1</td>\n",
       "      <td>NaN</td>\n",
       "      <td>103</td>\n",
       "      <td>199</td>\n",
       "    </tr>\n",
       "    <tr>\n",
       "      <th>103</th>\n",
       "      <td>Vietnam</td>\n",
       "      <td>Rural / Minimum Wage Region 4</td>\n",
       "      <td>Calculated from Global Living Wage Coalition</td>\n",
       "      <td>4.0</td>\n",
       "      <td>2.0</td>\n",
       "      <td>2023.0</td>\n",
       "      <td>1.218759e+08</td>\n",
       "      <td>NaN</td>\n",
       "      <td>NaN</td>\n",
       "      <td>2.1</td>\n",
       "      <td>NaN</td>\n",
       "      <td>104</td>\n",
       "      <td>199</td>\n",
       "    </tr>\n",
       "    <tr>\n",
       "      <th>104</th>\n",
       "      <td>Zambia</td>\n",
       "      <td>Rural / All</td>\n",
       "      <td>Calculated from  Global Living Wage Coalition</td>\n",
       "      <td>6.0</td>\n",
       "      <td>2.0</td>\n",
       "      <td>2023.0</td>\n",
       "      <td>5.410944e+04</td>\n",
       "      <td>NaN</td>\n",
       "      <td>NaN</td>\n",
       "      <td>2.7</td>\n",
       "      <td>NaN</td>\n",
       "      <td>105</td>\n",
       "      <td>202</td>\n",
       "    </tr>\n",
       "    <tr>\n",
       "      <th>105</th>\n",
       "      <td>Zimbabwe</td>\n",
       "      <td>Rural / All</td>\n",
       "      <td>Calculated from  Global Living Wage Coalition</td>\n",
       "      <td>5.0</td>\n",
       "      <td>2.0</td>\n",
       "      <td>2023.0</td>\n",
       "      <td>4.368000e+03</td>\n",
       "      <td>NaN</td>\n",
       "      <td>NaN</td>\n",
       "      <td>2.4</td>\n",
       "      <td>NaN</td>\n",
       "      <td>106</td>\n",
       "      <td>203</td>\n",
       "    </tr>\n",
       "  </tbody>\n",
       "</table>\n",
       "</div>"
      ],
      "text/plain": [
       "      country                         region  \\\n",
       "101   Vietnam  Urban / Minimum Wage Region 2   \n",
       "102   Vietnam  Urban / Minimum Wage Region 3   \n",
       "103   Vietnam  Rural / Minimum Wage Region 4   \n",
       "104    Zambia                    Rural / All   \n",
       "105  Zimbabwe                    Rural / All   \n",
       "\n",
       "                                            source  household_size  nr_adults  \\\n",
       "101   Calculated from Global Living Wage Coalition             4.0        2.0   \n",
       "102   Calculated from Global Living Wage Coalition             4.0        2.0   \n",
       "103   Calculated from Global Living Wage Coalition             4.0        2.0   \n",
       "104  Calculated from  Global Living Wage Coalition             6.0        2.0   \n",
       "105  Calculated from  Global Living Wage Coalition             5.0        2.0   \n",
       "\n",
       "       year           LCU  USD  EUR  household_equiv links   id  country_id  \n",
       "101  2023.0  1.473626e+08  NaN  NaN              2.1   NaN  102         199  \n",
       "102  2023.0  1.431112e+08  NaN  NaN              2.1   NaN  103         199  \n",
       "103  2023.0  1.218759e+08  NaN  NaN              2.1   NaN  104         199  \n",
       "104  2023.0  5.410944e+04  NaN  NaN              2.7   NaN  105         202  \n",
       "105  2023.0  4.368000e+03  NaN  NaN              2.4   NaN  106         203  "
      ]
     },
     "execution_count": 38,
     "metadata": {},
     "output_type": "execute_result"
    }
   ],
   "source": [
    "lib.tail()"
   ]
  },
  {
   "cell_type": "code",
   "execution_count": 39,
   "id": "471b4940-d65e-4f37-922b-7f8519f98f4a",
   "metadata": {},
   "outputs": [],
   "source": [
    "def find_region(val):\n",
    "    region = regions[regions[\"region\"].str.lower() == str(val).lower()]\n",
    "    if region.empty:\n",
    "        print(\"404\", val)\n",
    "        return None\n",
    "    return region[\"id\"].to_list()[0]"
   ]
  },
  {
   "cell_type": "code",
   "execution_count": 40,
   "id": "43ecd574-e6a9-4fce-aa5b-49939a81c728",
   "metadata": {},
   "outputs": [],
   "source": [
    "lib[\"region_id\"] = lib[\"region\"].apply(find_region)"
   ]
  },
  {
   "cell_type": "markdown",
   "id": "78d7d412-e813-40f5-8293-3ab9dc4cc8ec",
   "metadata": {},
   "source": [
    "### Export Benchmark to CSV"
   ]
  },
  {
   "cell_type": "code",
   "execution_count": 41,
   "id": "d8e2a23b-a30c-4606-9b3d-fbb52cbf9c99",
   "metadata": {},
   "outputs": [],
   "source": [
    "lib = lib.dropna(subset=['region_id']) # remove row when region_id column is None"
   ]
  },
  {
   "cell_type": "code",
   "execution_count": 42,
   "id": "7e3e130f-841d-4471-905e-551c46e987da",
   "metadata": {},
   "outputs": [],
   "source": [
    "lib[\"id\"] = lib.reset_index().index + 1"
   ]
  },
  {
   "cell_type": "code",
   "execution_count": 43,
   "id": "393dcf92-759b-4fd4-9c0c-79f1d37daf66",
   "metadata": {},
   "outputs": [
    {
     "data": {
      "text/plain": [
       "Index(['country', 'region', 'source', 'household_size', 'nr_adults', 'year',\n",
       "       'LCU', 'USD', 'EUR', 'household_equiv', 'links', 'id', 'country_id',\n",
       "       'region_id'],\n",
       "      dtype='object')"
      ]
     },
     "execution_count": 43,
     "metadata": {},
     "output_type": "execute_result"
    }
   ],
   "source": [
    "lib.columns"
   ]
  },
  {
   "cell_type": "code",
   "execution_count": 44,
   "id": "858cd308-7c2c-4233-84c9-c287c381d05f",
   "metadata": {},
   "outputs": [],
   "source": [
    "lib = lib[['id', 'country_id',\n",
    "       'region_id', 'country', 'region', 'source', 'household_size', 'nr_adults', 'year',\n",
    "       'LCU', 'USD', 'EUR', 'household_equiv', 'links']]"
   ]
  },
  {
   "cell_type": "code",
   "execution_count": 45,
   "id": "e3d49abd-104b-433c-9e84-82ff6c7e2fe1",
   "metadata": {},
   "outputs": [
    {
     "data": {
      "text/html": [
       "<div>\n",
       "<style scoped>\n",
       "    .dataframe tbody tr th:only-of-type {\n",
       "        vertical-align: middle;\n",
       "    }\n",
       "\n",
       "    .dataframe tbody tr th {\n",
       "        vertical-align: top;\n",
       "    }\n",
       "\n",
       "    .dataframe thead th {\n",
       "        text-align: right;\n",
       "    }\n",
       "</style>\n",
       "<table border=\"1\" class=\"dataframe\">\n",
       "  <thead>\n",
       "    <tr style=\"text-align: right;\">\n",
       "      <th></th>\n",
       "      <th>id</th>\n",
       "      <th>country_id</th>\n",
       "      <th>region_id</th>\n",
       "      <th>country</th>\n",
       "      <th>region</th>\n",
       "      <th>source</th>\n",
       "      <th>household_size</th>\n",
       "      <th>nr_adults</th>\n",
       "      <th>year</th>\n",
       "      <th>LCU</th>\n",
       "      <th>USD</th>\n",
       "      <th>EUR</th>\n",
       "      <th>household_equiv</th>\n",
       "      <th>links</th>\n",
       "    </tr>\n",
       "  </thead>\n",
       "  <tbody>\n",
       "    <tr>\n",
       "      <th>101</th>\n",
       "      <td>102</td>\n",
       "      <td>199</td>\n",
       "      <td>60</td>\n",
       "      <td>Vietnam</td>\n",
       "      <td>Urban / Minimum Wage Region 2</td>\n",
       "      <td>Calculated from Global Living Wage Coalition</td>\n",
       "      <td>4.0</td>\n",
       "      <td>2.0</td>\n",
       "      <td>2023.0</td>\n",
       "      <td>1.473626e+08</td>\n",
       "      <td>NaN</td>\n",
       "      <td>NaN</td>\n",
       "      <td>2.1</td>\n",
       "      <td>NaN</td>\n",
       "    </tr>\n",
       "    <tr>\n",
       "      <th>102</th>\n",
       "      <td>103</td>\n",
       "      <td>199</td>\n",
       "      <td>61</td>\n",
       "      <td>Vietnam</td>\n",
       "      <td>Urban / Minimum Wage Region 3</td>\n",
       "      <td>Calculated from Global Living Wage Coalition</td>\n",
       "      <td>4.0</td>\n",
       "      <td>2.0</td>\n",
       "      <td>2023.0</td>\n",
       "      <td>1.431112e+08</td>\n",
       "      <td>NaN</td>\n",
       "      <td>NaN</td>\n",
       "      <td>2.1</td>\n",
       "      <td>NaN</td>\n",
       "    </tr>\n",
       "    <tr>\n",
       "      <th>103</th>\n",
       "      <td>104</td>\n",
       "      <td>199</td>\n",
       "      <td>33</td>\n",
       "      <td>Vietnam</td>\n",
       "      <td>Rural / Minimum Wage Region 4</td>\n",
       "      <td>Calculated from Global Living Wage Coalition</td>\n",
       "      <td>4.0</td>\n",
       "      <td>2.0</td>\n",
       "      <td>2023.0</td>\n",
       "      <td>1.218759e+08</td>\n",
       "      <td>NaN</td>\n",
       "      <td>NaN</td>\n",
       "      <td>2.1</td>\n",
       "      <td>NaN</td>\n",
       "    </tr>\n",
       "    <tr>\n",
       "      <th>104</th>\n",
       "      <td>105</td>\n",
       "      <td>202</td>\n",
       "      <td>17</td>\n",
       "      <td>Zambia</td>\n",
       "      <td>Rural / All</td>\n",
       "      <td>Calculated from  Global Living Wage Coalition</td>\n",
       "      <td>6.0</td>\n",
       "      <td>2.0</td>\n",
       "      <td>2023.0</td>\n",
       "      <td>5.410944e+04</td>\n",
       "      <td>NaN</td>\n",
       "      <td>NaN</td>\n",
       "      <td>2.7</td>\n",
       "      <td>NaN</td>\n",
       "    </tr>\n",
       "    <tr>\n",
       "      <th>105</th>\n",
       "      <td>106</td>\n",
       "      <td>203</td>\n",
       "      <td>17</td>\n",
       "      <td>Zimbabwe</td>\n",
       "      <td>Rural / All</td>\n",
       "      <td>Calculated from  Global Living Wage Coalition</td>\n",
       "      <td>5.0</td>\n",
       "      <td>2.0</td>\n",
       "      <td>2023.0</td>\n",
       "      <td>4.368000e+03</td>\n",
       "      <td>NaN</td>\n",
       "      <td>NaN</td>\n",
       "      <td>2.4</td>\n",
       "      <td>NaN</td>\n",
       "    </tr>\n",
       "  </tbody>\n",
       "</table>\n",
       "</div>"
      ],
      "text/plain": [
       "      id  country_id  region_id   country                         region  \\\n",
       "101  102         199         60   Vietnam  Urban / Minimum Wage Region 2   \n",
       "102  103         199         61   Vietnam  Urban / Minimum Wage Region 3   \n",
       "103  104         199         33   Vietnam  Rural / Minimum Wage Region 4   \n",
       "104  105         202         17    Zambia                    Rural / All   \n",
       "105  106         203         17  Zimbabwe                    Rural / All   \n",
       "\n",
       "                                            source  household_size  nr_adults  \\\n",
       "101   Calculated from Global Living Wage Coalition             4.0        2.0   \n",
       "102   Calculated from Global Living Wage Coalition             4.0        2.0   \n",
       "103   Calculated from Global Living Wage Coalition             4.0        2.0   \n",
       "104  Calculated from  Global Living Wage Coalition             6.0        2.0   \n",
       "105  Calculated from  Global Living Wage Coalition             5.0        2.0   \n",
       "\n",
       "       year           LCU  USD  EUR  household_equiv links  \n",
       "101  2023.0  1.473626e+08  NaN  NaN              2.1   NaN  \n",
       "102  2023.0  1.431112e+08  NaN  NaN              2.1   NaN  \n",
       "103  2023.0  1.218759e+08  NaN  NaN              2.1   NaN  \n",
       "104  2023.0  5.410944e+04  NaN  NaN              2.7   NaN  \n",
       "105  2023.0  4.368000e+03  NaN  NaN              2.4   NaN  "
      ]
     },
     "execution_count": 45,
     "metadata": {},
     "output_type": "execute_result"
    }
   ],
   "source": [
    "lib.tail(5)"
   ]
  },
  {
   "cell_type": "code",
   "execution_count": 46,
   "id": "9c07e0a4-a086-4c32-8235-55e7222b2b7c",
   "metadata": {},
   "outputs": [],
   "source": [
    "lib.to_csv(\"./li_benchmark.csv\", index=False)"
   ]
  },
  {
   "cell_type": "markdown",
   "id": "6e3b4bc7-3997-43e1-9451-fef3d59e46bd",
   "metadata": {},
   "source": [
    "## CPI V4"
   ]
  },
  {
   "cell_type": "code",
   "execution_count": 47,
   "id": "deaff3b6-9ff9-4c5a-861a-e0763d86080d",
   "metadata": {},
   "outputs": [],
   "source": [
    "cpi_df = pd.read_csv(\"./cpi_data.csv\")"
   ]
  },
  {
   "cell_type": "code",
   "execution_count": 48,
   "id": "7e4e9b6d-7ddc-4006-b5a5-9b9023f70bce",
   "metadata": {},
   "outputs": [],
   "source": [
    "cpi_df = cpi_df.rename(columns={\"Country Name\": \"country\"})"
   ]
  },
  {
   "cell_type": "code",
   "execution_count": 49,
   "id": "0a1ed950-3fe7-4159-ae4a-9d0d99e703e6",
   "metadata": {},
   "outputs": [],
   "source": [
    "cpi_df = cpi_df.dropna(how=\"all\")"
   ]
  },
  {
   "cell_type": "code",
   "execution_count": 50,
   "id": "38ecebca-a790-48b0-8b2f-ff393fb2e863",
   "metadata": {
    "scrolled": true
   },
   "outputs": [
    {
     "data": {
      "text/html": [
       "<div>\n",
       "<style scoped>\n",
       "    .dataframe tbody tr th:only-of-type {\n",
       "        vertical-align: middle;\n",
       "    }\n",
       "\n",
       "    .dataframe tbody tr th {\n",
       "        vertical-align: top;\n",
       "    }\n",
       "\n",
       "    .dataframe thead th {\n",
       "        text-align: right;\n",
       "    }\n",
       "</style>\n",
       "<table border=\"1\" class=\"dataframe\">\n",
       "  <thead>\n",
       "    <tr style=\"text-align: right;\">\n",
       "      <th></th>\n",
       "      <th>country</th>\n",
       "      <th>2013</th>\n",
       "      <th>2014</th>\n",
       "      <th>2015</th>\n",
       "      <th>2016</th>\n",
       "      <th>2017</th>\n",
       "      <th>2018</th>\n",
       "      <th>2019</th>\n",
       "      <th>2020</th>\n",
       "      <th>2021</th>\n",
       "      <th>2022</th>\n",
       "      <th>2023</th>\n",
       "    </tr>\n",
       "  </thead>\n",
       "  <tbody>\n",
       "    <tr>\n",
       "      <th>0</th>\n",
       "      <td>Afghanistan, Islamic Rep. of</td>\n",
       "      <td>97.417222</td>\n",
       "      <td>101.970499</td>\n",
       "      <td>101.295751</td>\n",
       "      <td>105.736448</td>\n",
       "      <td>110.997842</td>\n",
       "      <td>111.692854</td>\n",
       "      <td>114.264439</td>\n",
       "      <td>NaN</td>\n",
       "      <td>NaN</td>\n",
       "      <td>NaN</td>\n",
       "      <td>NaN</td>\n",
       "    </tr>\n",
       "    <tr>\n",
       "      <th>1</th>\n",
       "      <td>Albania</td>\n",
       "      <td>89.264316</td>\n",
       "      <td>90.715633</td>\n",
       "      <td>92.435759</td>\n",
       "      <td>93.614714</td>\n",
       "      <td>95.474522</td>\n",
       "      <td>97.410802</td>\n",
       "      <td>98.785357</td>\n",
       "      <td>100.386555</td>\n",
       "      <td>102.435919</td>\n",
       "      <td>109.324942</td>\n",
       "      <td>NaN</td>\n",
       "    </tr>\n",
       "    <tr>\n",
       "      <th>2</th>\n",
       "      <td>Algeria</td>\n",
       "      <td>160.100000</td>\n",
       "      <td>164.770000</td>\n",
       "      <td>172.653333</td>\n",
       "      <td>183.699167</td>\n",
       "      <td>193.970000</td>\n",
       "      <td>202.252500</td>\n",
       "      <td>206.200000</td>\n",
       "      <td>211.180000</td>\n",
       "      <td>226.440000</td>\n",
       "      <td>247.420833</td>\n",
       "      <td>270.485833</td>\n",
       "    </tr>\n",
       "    <tr>\n",
       "      <th>3</th>\n",
       "      <td>Angola</td>\n",
       "      <td>26.514746</td>\n",
       "      <td>28.445122</td>\n",
       "      <td>31.106440</td>\n",
       "      <td>40.654380</td>\n",
       "      <td>52.787468</td>\n",
       "      <td>63.149087</td>\n",
       "      <td>73.935554</td>\n",
       "      <td>90.402140</td>\n",
       "      <td>113.684573</td>\n",
       "      <td>137.962244</td>\n",
       "      <td>156.785953</td>\n",
       "    </tr>\n",
       "    <tr>\n",
       "      <th>4</th>\n",
       "      <td>Anguilla</td>\n",
       "      <td>107.442500</td>\n",
       "      <td>107.170000</td>\n",
       "      <td>106.127500</td>\n",
       "      <td>105.573687</td>\n",
       "      <td>106.940000</td>\n",
       "      <td>107.342500</td>\n",
       "      <td>108.217500</td>\n",
       "      <td>107.705000</td>\n",
       "      <td>109.640000</td>\n",
       "      <td>115.730000</td>\n",
       "      <td>119.672500</td>\n",
       "    </tr>\n",
       "  </tbody>\n",
       "</table>\n",
       "</div>"
      ],
      "text/plain": [
       "                        country        2013        2014        2015  \\\n",
       "0  Afghanistan, Islamic Rep. of   97.417222  101.970499  101.295751   \n",
       "1                       Albania   89.264316   90.715633   92.435759   \n",
       "2                       Algeria  160.100000  164.770000  172.653333   \n",
       "3                        Angola   26.514746   28.445122   31.106440   \n",
       "4                      Anguilla  107.442500  107.170000  106.127500   \n",
       "\n",
       "         2016        2017        2018        2019        2020        2021  \\\n",
       "0  105.736448  110.997842  111.692854  114.264439         NaN         NaN   \n",
       "1   93.614714   95.474522   97.410802   98.785357  100.386555  102.435919   \n",
       "2  183.699167  193.970000  202.252500  206.200000  211.180000  226.440000   \n",
       "3   40.654380   52.787468   63.149087   73.935554   90.402140  113.684573   \n",
       "4  105.573687  106.940000  107.342500  108.217500  107.705000  109.640000   \n",
       "\n",
       "         2022        2023  \n",
       "0         NaN         NaN  \n",
       "1  109.324942         NaN  \n",
       "2  247.420833  270.485833  \n",
       "3  137.962244  156.785953  \n",
       "4  115.730000  119.672500  "
      ]
     },
     "execution_count": 50,
     "metadata": {},
     "output_type": "execute_result"
    }
   ],
   "source": [
    "cpi_df.head()"
   ]
  },
  {
   "cell_type": "markdown",
   "id": "d72f8e03-aa55-4770-8042-1d7d30d2dfd3",
   "metadata": {},
   "source": [
    "### Map with Countries"
   ]
  },
  {
   "cell_type": "code",
   "execution_count": 51,
   "id": "be3060a0-4a89-42ea-b20b-055a45869922",
   "metadata": {},
   "outputs": [],
   "source": [
    "cpi_df[\"country_id\"] = cpi_df[\"country\"].apply(find_country)"
   ]
  },
  {
   "cell_type": "markdown",
   "id": "01b7ec3e-86b4-4c30-b276-f396186108f9",
   "metadata": {},
   "source": [
    "### Transform CPI table"
   ]
  },
  {
   "cell_type": "code",
   "execution_count": 52,
   "id": "c20c523e-cac0-462e-ac46-1148ce504420",
   "metadata": {},
   "outputs": [],
   "source": [
    "# transform int country, country_id, year, value format\n",
    "melted_df = pd.melt(cpi_df, id_vars=['country', 'country_id'], var_name='year', value_name='value')\n",
    "melted_df['value'] = melted_df['value'].fillna(0)"
   ]
  },
  {
   "cell_type": "code",
   "execution_count": 53,
   "id": "5a9c6615-43f5-41e0-a372-1f450ec3960c",
   "metadata": {},
   "outputs": [],
   "source": [
    "melted_df.reset_index(drop=True, inplace=True)\n",
    "melted_df[\"id\"] = melted_df.reset_index().index + 1"
   ]
  },
  {
   "cell_type": "code",
   "execution_count": 54,
   "id": "8407ee98-1fc5-40e1-89ce-e8517792e69d",
   "metadata": {},
   "outputs": [],
   "source": [
    "new_column_order = [\"id\", \"country\", \"country_id\", \"year\", \"value\"]"
   ]
  },
  {
   "cell_type": "code",
   "execution_count": 55,
   "id": "5426b663-1467-46cc-b912-72dc49eb4def",
   "metadata": {},
   "outputs": [],
   "source": [
    "cpi_df = melted_df[new_column_order]"
   ]
  },
  {
   "cell_type": "markdown",
   "id": "3fa681be-524d-4247-95a8-38a6daa9ee02",
   "metadata": {},
   "source": [
    "### Export CPI to CSV"
   ]
  },
  {
   "cell_type": "code",
   "execution_count": 56,
   "id": "3c443982-d34c-42fb-bac2-6134c7370738",
   "metadata": {},
   "outputs": [],
   "source": [
    "cpi = cpi_df.dropna()"
   ]
  },
  {
   "cell_type": "code",
   "execution_count": 57,
   "id": "ef740d9b-4344-4191-9cbe-e2d7735c2fb0",
   "metadata": {},
   "outputs": [],
   "source": [
    "cpi = cpi.drop_duplicates(subset=[\"country_id\", \"year\"])"
   ]
  },
  {
   "cell_type": "code",
   "execution_count": 58,
   "id": "c033c67d-8f8a-4ed6-9d5b-a0bfec4178c9",
   "metadata": {},
   "outputs": [
    {
     "data": {
      "text/html": [
       "<div>\n",
       "<style scoped>\n",
       "    .dataframe tbody tr th:only-of-type {\n",
       "        vertical-align: middle;\n",
       "    }\n",
       "\n",
       "    .dataframe tbody tr th {\n",
       "        vertical-align: top;\n",
       "    }\n",
       "\n",
       "    .dataframe thead th {\n",
       "        text-align: right;\n",
       "    }\n",
       "</style>\n",
       "<table border=\"1\" class=\"dataframe\">\n",
       "  <thead>\n",
       "    <tr style=\"text-align: right;\">\n",
       "      <th></th>\n",
       "      <th>id</th>\n",
       "      <th>country</th>\n",
       "      <th>country_id</th>\n",
       "      <th>year</th>\n",
       "      <th>value</th>\n",
       "    </tr>\n",
       "  </thead>\n",
       "  <tbody>\n",
       "    <tr>\n",
       "      <th>0</th>\n",
       "      <td>1</td>\n",
       "      <td>Afghanistan, Islamic Rep. of</td>\n",
       "      <td>1</td>\n",
       "      <td>2013</td>\n",
       "      <td>97.417222</td>\n",
       "    </tr>\n",
       "    <tr>\n",
       "      <th>1</th>\n",
       "      <td>2</td>\n",
       "      <td>Albania</td>\n",
       "      <td>2</td>\n",
       "      <td>2013</td>\n",
       "      <td>89.264316</td>\n",
       "    </tr>\n",
       "    <tr>\n",
       "      <th>2</th>\n",
       "      <td>3</td>\n",
       "      <td>Algeria</td>\n",
       "      <td>3</td>\n",
       "      <td>2013</td>\n",
       "      <td>160.100000</td>\n",
       "    </tr>\n",
       "    <tr>\n",
       "      <th>3</th>\n",
       "      <td>4</td>\n",
       "      <td>Angola</td>\n",
       "      <td>5</td>\n",
       "      <td>2013</td>\n",
       "      <td>26.514746</td>\n",
       "    </tr>\n",
       "    <tr>\n",
       "      <th>4</th>\n",
       "      <td>5</td>\n",
       "      <td>Anguilla</td>\n",
       "      <td>204</td>\n",
       "      <td>2013</td>\n",
       "      <td>107.442500</td>\n",
       "    </tr>\n",
       "  </tbody>\n",
       "</table>\n",
       "</div>"
      ],
      "text/plain": [
       "   id                       country  country_id  year       value\n",
       "0   1  Afghanistan, Islamic Rep. of           1  2013   97.417222\n",
       "1   2                       Albania           2  2013   89.264316\n",
       "2   3                       Algeria           3  2013  160.100000\n",
       "3   4                        Angola           5  2013   26.514746\n",
       "4   5                      Anguilla         204  2013  107.442500"
      ]
     },
     "execution_count": 58,
     "metadata": {},
     "output_type": "execute_result"
    }
   ],
   "source": [
    "cpi.head()"
   ]
  },
  {
   "cell_type": "code",
   "execution_count": 59,
   "id": "30816e73-aa63-4548-9e0c-ad01c7b14844",
   "metadata": {},
   "outputs": [],
   "source": [
    "cpi.to_csv('cpi.csv', index=False)"
   ]
  },
  {
   "cell_type": "code",
   "execution_count": null,
   "id": "1d6ee81a-3bcb-49cc-9f3f-1008829b9501",
   "metadata": {},
   "outputs": [],
   "source": []
  }
 ],
 "metadata": {
  "kernelspec": {
   "display_name": "Python 3 (ipykernel)",
   "language": "python",
   "name": "python3"
  },
  "language_info": {
   "codemirror_mode": {
    "name": "ipython",
    "version": 3
   },
   "file_extension": ".py",
   "mimetype": "text/x-python",
   "name": "python",
   "nbconvert_exporter": "python",
   "pygments_lexer": "ipython3",
   "version": "3.12.3"
  }
 },
 "nbformat": 4,
 "nbformat_minor": 5
}
