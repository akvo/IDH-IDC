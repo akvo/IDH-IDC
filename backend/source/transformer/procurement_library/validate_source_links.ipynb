{
 "cells": [
  {
   "cell_type": "code",
   "execution_count": 54,
   "id": "b7495d52-4be3-467e-95be-758c0152ca40",
   "metadata": {},
   "outputs": [],
   "source": [
    "import pandas as pd\n",
    "import requests\n",
    "import re"
   ]
  },
  {
   "cell_type": "code",
   "execution_count": 55,
   "id": "2c7f23f5-36ff-4349-af1e-c054c0910e9b",
   "metadata": {},
   "outputs": [],
   "source": [
    "practices_path = \"../../master/procurement_practices.csv\"\n",
    "df_practices = pd.read_csv(practices_path)"
   ]
  },
  {
   "cell_type": "code",
   "execution_count": 56,
   "id": "a991e6f1",
   "metadata": {},
   "outputs": [],
   "source": [
    "def get_status_code(url):\n",
    "  try:\n",
    "    response = requests.head(url, allow_redirects=True)\n",
    "    return int(response.status_code)\n",
    "  except:\n",
    "    return None"
   ]
  },
  {
   "cell_type": "code",
   "execution_count": 57,
   "id": "c67b796c",
   "metadata": {},
   "outputs": [],
   "source": [
    "df_practices[\"source_url\"] = df_practices['source_or_evidence'].apply(lambda x: re.findall(r'(https?://\\S+|www\\.\\S+|\\S+\\.(com|org|net))', x) if pd.notna(x) else x)\n",
    "df_practices[\"source_url\"] = df_practices[\"source_url\"].apply(\n",
    "    lambda x: [url[0].replace('href=', '')\n",
    "               .replace('\"', '')\n",
    "               .replace(\"'\", '')\n",
    "               .replace('(', '')\n",
    "               .replace(')', '')\n",
    "               .replace('</strong>', '')\n",
    "               .split('>')[0] if '>' in url[0] else url[0]\n",
    "            for url in x] if isinstance(x, list) else x\n",
    ")\n",
    "df_practices[\"source_url\"] = df_practices[\"source_url\"].apply(\n",
    "    lambda x: [url.replace('(', '').replace(')', '') for url in x] if isinstance(x, list) else x\n",
    ")\n",
    "\n",
    "# Create a new dataframe with the cleaned URLs\n",
    "extracted_links = df_practices.explode('source_url')[['Practice', 'source_url']].dropna().reset_index(drop=True)"
   ]
  },
  {
   "cell_type": "code",
   "execution_count": 58,
   "id": "213fb0d6",
   "metadata": {},
   "outputs": [],
   "source": [
    "extracted_links['validate_url'] = extracted_links['source_url'].apply(get_status_code)\n",
    "extracted_links.to_csv(\"../../master/procurement_source_urls.csv\", index=False)"
   ]
  }
 ],
 "metadata": {
  "kernelspec": {
   "display_name": ".myenv",
   "language": "python",
   "name": ".myenv"
  },
  "language_info": {
   "codemirror_mode": {
    "name": "ipython",
    "version": 3
   },
   "file_extension": ".py",
   "mimetype": "text/x-python",
   "name": "python",
   "nbconvert_exporter": "python",
   "pygments_lexer": "ipython3",
   "version": "3.12.4"
  }
 },
 "nbformat": 4,
 "nbformat_minor": 5
}
