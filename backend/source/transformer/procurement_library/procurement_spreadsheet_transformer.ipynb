{
 "cells": [
  {
   "cell_type": "code",
   "execution_count": 61,
   "metadata": {},
   "outputs": [
    {
     "name": "stdout",
     "output_type": "stream",
     "text": [
      "Requirement already satisfied: pandas in /home/iwan/.myenv/lib/python3.12/site-packages (2.2.3)\n",
      "Requirement already satisfied: openpyxl in /home/iwan/.myenv/lib/python3.12/site-packages (3.1.5)\n",
      "Requirement already satisfied: numpy>=1.26.0 in /home/iwan/.myenv/lib/python3.12/site-packages (from pandas) (2.0.0)\n",
      "Requirement already satisfied: python-dateutil>=2.8.2 in /home/iwan/.myenv/lib/python3.12/site-packages (from pandas) (2.9.0.post0)\n",
      "Requirement already satisfied: pytz>=2020.1 in /home/iwan/.myenv/lib/python3.12/site-packages (from pandas) (2024.2)\n",
      "Requirement already satisfied: tzdata>=2022.7 in /home/iwan/.myenv/lib/python3.12/site-packages (from pandas) (2024.2)\n",
      "Requirement already satisfied: et-xmlfile in /home/iwan/.myenv/lib/python3.12/site-packages (from openpyxl) (2.0.0)\n",
      "Requirement already satisfied: six>=1.5 in /home/iwan/.myenv/lib/python3.12/site-packages (from python-dateutil>=2.8.2->pandas) (1.16.0)\n",
      "\n",
      "\u001b[1m[\u001b[0m\u001b[34;49mnotice\u001b[0m\u001b[1;39;49m]\u001b[0m\u001b[39;49m A new release of pip is available: \u001b[0m\u001b[31;49m24.3.1\u001b[0m\u001b[39;49m -> \u001b[0m\u001b[32;49m25.0.1\u001b[0m\n",
      "\u001b[1m[\u001b[0m\u001b[34;49mnotice\u001b[0m\u001b[1;39;49m]\u001b[0m\u001b[39;49m To update, run: \u001b[0m\u001b[32;49mpip install --upgrade pip\u001b[0m\n",
      "Note: you may need to restart the kernel to use updated packages.\n"
     ]
    }
   ],
   "source": [
    "pip install pandas openpyxl"
   ]
  },
  {
   "cell_type": "code",
   "execution_count": 62,
   "metadata": {
    "id": "Vc11HaCYlD6h"
   },
   "outputs": [],
   "source": [
    "import pandas as pd\n",
    "import re\n",
    "import warnings"
   ]
  },
  {
   "cell_type": "code",
   "execution_count": 63,
   "metadata": {
    "id": "WzXFiEZElLxF"
   },
   "outputs": [],
   "source": [
    "\n",
    "# Step 1: Reading the Excel File\n",
    "file_path = \"./IDH Sustainable Procurement Practices_Updated 5th Mar'25.xlsx\"\n",
    "xls = pd.ExcelFile(file_path)\n",
    "sheet_name = \"Procurement practices\"\n",
    "df = pd.read_excel(xls, sheet_name=sheet_name)\n",
    "\n",
    "# Cleaning up headers\n",
    "df.columns = df.iloc[1].astype(str).str.split(\"\\n\").str[0]  # Keep only the first line of headers\n",
    "df = df[2:].reset_index(drop=True)\n",
    "\n",
    "# Rename first three columns\n",
    "df.columns.values[1:4] = [\"Area\", \"Procurement Processes\", \"Practice\"]\n",
    "\n",
    "# Exclude columns AJ to AO if they exist\n",
    "columns_to_exclude = df.loc[:, 'AJ':'AO'].columns.tolist() if 'AJ' in df.columns and 'AO' in df.columns else []\n",
    "df = df.drop(columns=columns_to_exclude, errors='ignore')\n",
    "\n",
    "# Remove empty columns and rows\n",
    "df = df.dropna(axis=1, how='all').dropna(axis=0, how='all')\n",
    "\n",
    "# Remove second row if it contains specific keywords\n",
    "if any(df.iloc[0].astype(str).str.contains(\"1 = High // 5 = Low|Implementation Cost / Effort\", na=False)):\n",
    "    df = df.iloc[1:].reset_index(drop=True)\n",
    "\n",
    "# Define columns to convert with snake_case renaming\n",
    "columns_to_convert = {\n",
    "    \"Intervention Definition\": \"intervention_definition\",\n",
    "    \"Enabling Conditions\": \"enabling_conditions\",\n",
    "    \"Business Rationale\": \"business_rationale\",\n",
    "    \"Farmer Rationale\": \"farmer_rationale\",\n",
    "    \"Risks & Trade Offs\": \"risks_n_trade_offs\",\n",
    "    \"Intervention Impact Income\": \"intervention_impact_income\",\n",
    "    \"Intervention Impact Environment\": \"intervention_impact_env\",\n",
    "    \"Source / Evidence\": \"source_or_evidence\"\n",
    "}"
   ]
  },
  {
   "cell_type": "code",
   "execution_count": 64,
   "metadata": {
    "id": "Kxxipwg6lpeH"
   },
   "outputs": [],
   "source": [
    "def text_to_html(text):\n",
    "    if pd.isna(text) or text.strip() == \"\":\n",
    "        return \"\"\n",
    "    \n",
    "    lines = text.split(\"\\n\")\n",
    "    formatted_lines = []\n",
    "\n",
    "    for line in lines:\n",
    "        line = line.strip()\n",
    "        \n",
    "        # Handle numbered/bullet lists within a paragraph\n",
    "        if re.match(r\"^\\d+\\.\\s\", line):\n",
    "            if \"http\" in line:\n",
    "                formatted_lines.append(f'<a href=\"{line[3:]}\" target=\"_blank\">{line}</a><br/>')\n",
    "            else:\n",
    "                formatted_lines.append(f\"<strong>{line}</strong>\")\n",
    "        \n",
    "        # Convert titles to headings\n",
    "        elif any(keyword in line for keyword in [\"Definition:\", \"Enabling conditions\", \"Business Rationale\", \"Farmer Rationale\", \"Risks:\"]):\n",
    "            formatted_lines.append(f\"<h3>{line.replace(':', '')}</h3>\")\n",
    "        \n",
    "        # Convert URLs\n",
    "        elif re.search(r\"https?://\\S+\", line):\n",
    "            line = re.sub(r\"(https?://\\S+)\", r'<a href=\"\\1\" target=\"_blank\">\\1</a>', line)\n",
    "            formatted_lines.append(f\"<p>{line}</p>\")\n",
    "        \n",
    "        # Bold 'Additional Details:'\n",
    "        elif \"Additional Details:\" in line:\n",
    "            formatted_lines.append(f\"<b>{line}</b>\")\n",
    "        else:\n",
    "            formatted_lines.append(f\"<p>{line}</p>\")\n",
    "    \n",
    "    return \"\\n\".join(formatted_lines)"
   ]
  },
  {
   "cell_type": "code",
   "execution_count": 65,
   "metadata": {
    "id": "BjeydoM_lsTc"
   },
   "outputs": [],
   "source": [
    "# Apply conversion to selected columns that exist in dataframe\n",
    "df_selected = df[[col for col in columns_to_convert.keys() if col in df.columns]].copy()\n",
    "for col in df_selected.columns:\n",
    "    df_selected[col] = df_selected[col].apply(text_to_html)\n",
    "\n",
    "# Rename selected columns\n",
    "df_selected.rename(columns=columns_to_convert, inplace=True)\n",
    "df.rename(columns=columns_to_convert, inplace=True)\n",
    "\n",
    "# Merge back with original dataframe\n",
    "for formatted_col in columns_to_convert.values():\n",
    "    if formatted_col in df_selected.columns:\n",
    "        df[formatted_col] = df_selected[formatted_col]\n",
    "\n",
    "# Step 3: Export as CSV\n",
    "output_csv_path = \"../../master/procurement_practices.csv\"\n",
    "df.to_csv(output_csv_path, index=False, encoding=\"utf-8\")"
   ]
  },
  {
   "cell_type": "code",
   "execution_count": 66,
   "metadata": {},
   "outputs": [],
   "source": [
    "### Assessment Questions\n",
    "\n",
    "# Suppress warnings related to Data Validation extension\n",
    "warnings.simplefilter(action='ignore', category=UserWarning)\n",
    "\n",
    "# Load the \"Dashboard\" sheet\n",
    "df_dashboard = pd.read_excel(xls, sheet_name=\"Dashboard\")\n",
    "\n",
    "# Extract relevant columns and rename them\n",
    "df_dashboard_cleaned = df_dashboard.iloc[2:, [1, 3, 5]]\n",
    "df_dashboard_cleaned.columns = [\"Question\", \"Select answer\", \"Definitions\"]\n",
    "\n",
    "# Remove empty rows\n",
    "df_dashboard_cleaned = df_dashboard_cleaned.dropna(how='all')\n",
    "\n",
    "# Identify the \"Top procurement practices\" row\n",
    "top_procurement_index = df_dashboard_cleaned[df_dashboard_cleaned[\"Question\"].str.contains(\n",
    "    \"Top procurement practices\", na=False, case=False)].index.min()\n",
    "\n",
    "# Filter out rows before \"Top procurement practices\"\n",
    "df_filtered = df_dashboard_cleaned.loc[:top_procurement_index - 1] if top_procurement_index else df_dashboard_cleaned\n",
    "\n",
    "# Split \"Definitions\" into multiple rows\n",
    "df_expanded = df_filtered.assign(Definitions=df_filtered[\"Definitions\"].str.split(\"; \")).explode(\"Definitions\")\n",
    "\n",
    "# Split \"Definitions\" into \"Select answer\" and \"Description\"\n",
    "df_expanded[['Select answer', 'Description']] = df_expanded['Definitions'].str.split(\":\", n=1, expand=True)\n",
    "\n",
    "# Remove the old \"Definitions\" column and strip spaces\n",
    "df_expanded = df_expanded.drop(columns=[\"Definitions\"]).apply(lambda x: x.str.strip() if x.dtype == \"object\" else x)\n",
    "\n",
    "# Save the final cleaned data\n",
    "df_expanded.to_csv(\"../../master/procurement_questions.csv\", index=False)"
   ]
  }
 ],
 "metadata": {
  "colab": {
   "provenance": []
  },
  "kernelspec": {
   "display_name": ".myenv",
   "language": "python",
   "name": ".myenv"
  },
  "language_info": {
   "codemirror_mode": {
    "name": "ipython",
    "version": 3
   },
   "file_extension": ".py",
   "mimetype": "text/x-python",
   "name": "python",
   "nbconvert_exporter": "python",
   "pygments_lexer": "ipython3",
   "version": "3.12.4"
  }
 },
 "nbformat": 4,
 "nbformat_minor": 4
}
